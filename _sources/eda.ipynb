{
 "cells": [
  {
   "cell_type": "markdown",
   "metadata": {},
   "source": [
    "# **ETL**"
   ]
  },
  {
   "cell_type": "markdown",
   "metadata": {},
   "source": [
    "## **Líbrerias y módulos necesarios**"
   ]
  },
  {
   "cell_type": "code",
   "execution_count": 55,
   "metadata": {},
   "outputs": [],
   "source": [
    "import warnings\n",
    "import pandas as pd\n",
    "import seaborn as sns\n",
    "import matplotlib.pyplot as plt\n",
    "warnings.filterwarnings('ignore')\n",
    "import plotly.express as px\n",
    "from plotly.offline import plot\n",
    "from plotly.subplots import make_subplots\n",
    "import plotly.graph_objects as go\n",
    "from scipy.stats import chi2_contingency\n",
    "import plotly.subplots as sp"
   ]
  },
  {
   "cell_type": "markdown",
   "metadata": {},
   "source": [
    "## **Conjunto de datos 1**"
   ]
  },
  {
   "cell_type": "markdown",
   "metadata": {},
   "source": [
    "```{note}\n",
    "La información utilizada para este estudio está basada en el Certificado de Defunción del Ministerio de Salud de Colombia ``{cite}`minsalud_defuncion` ``. En este caso, observaciones sobre casos de defunción relacionados con el cáncer de mama. \n",
    "\n",
    "```"
   ]
  },
  {
   "cell_type": "markdown",
   "metadata": {},
   "source": [
    "`` {cite}`minsalud_defuncion` ``"
   ]
  },
  {
   "cell_type": "markdown",
   "metadata": {},
   "source": [
    "Inicialmente, se importa el primer conjunto de datos que contiene información detallada sobre la defunción de pacientes debido al cáncer de mama."
   ]
  },
  {
   "cell_type": "code",
   "execution_count": 56,
   "metadata": {},
   "outputs": [],
   "source": [
    "url = \"https://raw.githubusercontent.com/sePerezAlbor/Data/refs/heads/main/datoscancermama.csv\"\n",
    "data = pd.read_csv(url, delimiter = \",\", na_values = [\" \"])"
   ]
  },
  {
   "cell_type": "markdown",
   "metadata": {},
   "source": [
    "Veamos las primeras cinco observaciones para realizar un análisis inicial del conjunto de datos."
   ]
  },
  {
   "cell_type": "code",
   "execution_count": 57,
   "metadata": {},
   "outputs": [
    {
     "data": {
      "text/html": [
       "<div>\n",
       "<style scoped>\n",
       "    .dataframe tbody tr th:only-of-type {\n",
       "        vertical-align: middle;\n",
       "    }\n",
       "\n",
       "    .dataframe tbody tr th {\n",
       "        vertical-align: top;\n",
       "    }\n",
       "\n",
       "    .dataframe thead th {\n",
       "        text-align: right;\n",
       "    }\n",
       "</style>\n",
       "<table border=\"1\" class=\"dataframe\">\n",
       "  <thead>\n",
       "    <tr style=\"text-align: right;\">\n",
       "      <th></th>\n",
       "      <th>COD_DPTO</th>\n",
       "      <th>cod_munic</th>\n",
       "      <th>a_defun</th>\n",
       "      <th>sit_defun</th>\n",
       "      <th>cod_inst</th>\n",
       "      <th>nom_inst</th>\n",
       "      <th>ano</th>\n",
       "      <th>mes</th>\n",
       "      <th>sexo</th>\n",
       "      <th>est_civil</th>\n",
       "      <th>...</th>\n",
       "      <th>causa_666</th>\n",
       "      <th>cau_homol</th>\n",
       "      <th>EDAD</th>\n",
       "      <th>llave</th>\n",
       "      <th>CODPTO</th>\n",
       "      <th>filter_$</th>\n",
       "      <th>AÑOL</th>\n",
       "      <th>MAMA</th>\n",
       "      <th>quinquenio</th>\n",
       "      <th>REGION</th>\n",
       "    </tr>\n",
       "  </thead>\n",
       "  <tbody>\n",
       "    <tr>\n",
       "      <th>0</th>\n",
       "      <td>05</td>\n",
       "      <td>1.0</td>\n",
       "      <td>1.0</td>\n",
       "      <td>1.0</td>\n",
       "      <td>5.001021e+10</td>\n",
       "      <td>HOSPITAL PABLO TOBON URIBE</td>\n",
       "      <td>2014.0</td>\n",
       "      <td>7.0</td>\n",
       "      <td>2.0</td>\n",
       "      <td>1.0</td>\n",
       "      <td>...</td>\n",
       "      <td>208.0</td>\n",
       "      <td>24.0</td>\n",
       "      <td>NaN</td>\n",
       "      <td>0500111201407  21103</td>\n",
       "      <td>5.0</td>\n",
       "      <td>1.0</td>\n",
       "      <td>a</td>\n",
       "      <td>mama</td>\n",
       "      <td>2010a201</td>\n",
       "      <td>1.0</td>\n",
       "    </tr>\n",
       "    <tr>\n",
       "      <th>1</th>\n",
       "      <td>05</td>\n",
       "      <td>45.0</td>\n",
       "      <td>1.0</td>\n",
       "      <td>1.0</td>\n",
       "      <td>NaN</td>\n",
       "      <td>NaN</td>\n",
       "      <td>1997.0</td>\n",
       "      <td>8.0</td>\n",
       "      <td>2.0</td>\n",
       "      <td>5.0</td>\n",
       "      <td>...</td>\n",
       "      <td>NaN</td>\n",
       "      <td>24.0</td>\n",
       "      <td>NaN</td>\n",
       "      <td>0504511199708  25109</td>\n",
       "      <td>5.0</td>\n",
       "      <td>0.0</td>\n",
       "      <td>a</td>\n",
       "      <td>mama</td>\n",
       "      <td>1995a199</td>\n",
       "      <td>1.0</td>\n",
       "    </tr>\n",
       "    <tr>\n",
       "      <th>2</th>\n",
       "      <td>05</td>\n",
       "      <td>266.0</td>\n",
       "      <td>1.0</td>\n",
       "      <td>2.0</td>\n",
       "      <td>NaN</td>\n",
       "      <td>NaN</td>\n",
       "      <td>1986.0</td>\n",
       "      <td>4.0</td>\n",
       "      <td>2.0</td>\n",
       "      <td>1.0</td>\n",
       "      <td>...</td>\n",
       "      <td>NaN</td>\n",
       "      <td>24.0</td>\n",
       "      <td>NaN</td>\n",
       "      <td>0526612198604  21109</td>\n",
       "      <td>5.0</td>\n",
       "      <td>0.0</td>\n",
       "      <td>a</td>\n",
       "      <td>mama</td>\n",
       "      <td>1985a198</td>\n",
       "      <td>1.0</td>\n",
       "    </tr>\n",
       "    <tr>\n",
       "      <th>3</th>\n",
       "      <td>08</td>\n",
       "      <td>1.0</td>\n",
       "      <td>1.0</td>\n",
       "      <td>1.0</td>\n",
       "      <td>NaN</td>\n",
       "      <td>NaN</td>\n",
       "      <td>1989.0</td>\n",
       "      <td>7.0</td>\n",
       "      <td>2.0</td>\n",
       "      <td>2.0</td>\n",
       "      <td>...</td>\n",
       "      <td>NaN</td>\n",
       "      <td>24.0</td>\n",
       "      <td>NaN</td>\n",
       "      <td>0800111198907  22109</td>\n",
       "      <td>8.0</td>\n",
       "      <td>0.0</td>\n",
       "      <td>a</td>\n",
       "      <td>mama</td>\n",
       "      <td>1985a198</td>\n",
       "      <td>2.0</td>\n",
       "    </tr>\n",
       "    <tr>\n",
       "      <th>4</th>\n",
       "      <td>08</td>\n",
       "      <td>1.0</td>\n",
       "      <td>1.0</td>\n",
       "      <td>1.0</td>\n",
       "      <td>NaN</td>\n",
       "      <td>NaN</td>\n",
       "      <td>1998.0</td>\n",
       "      <td>8.0</td>\n",
       "      <td>2.0</td>\n",
       "      <td>2.0</td>\n",
       "      <td>...</td>\n",
       "      <td>208.0</td>\n",
       "      <td>24.0</td>\n",
       "      <td>10.0</td>\n",
       "      <td>0800111199808  22103</td>\n",
       "      <td>8.0</td>\n",
       "      <td>1.0</td>\n",
       "      <td>a</td>\n",
       "      <td>mama</td>\n",
       "      <td>1995a199</td>\n",
       "      <td>2.0</td>\n",
       "    </tr>\n",
       "  </tbody>\n",
       "</table>\n",
       "<p>5 rows × 53 columns</p>\n",
       "</div>"
      ],
      "text/plain": [
       "  COD_DPTO  cod_munic  a_defun  sit_defun      cod_inst  \\\n",
       "0       05        1.0      1.0        1.0  5.001021e+10   \n",
       "1       05       45.0      1.0        1.0           NaN   \n",
       "2       05      266.0      1.0        2.0           NaN   \n",
       "3       08        1.0      1.0        1.0           NaN   \n",
       "4       08        1.0      1.0        1.0           NaN   \n",
       "\n",
       "                     nom_inst     ano  mes  sexo  est_civil  ...  causa_666  \\\n",
       "0  HOSPITAL PABLO TOBON URIBE  2014.0  7.0   2.0        1.0  ...      208.0   \n",
       "1                         NaN  1997.0  8.0   2.0        5.0  ...        NaN   \n",
       "2                         NaN  1986.0  4.0   2.0        1.0  ...        NaN   \n",
       "3                         NaN  1989.0  7.0   2.0        2.0  ...        NaN   \n",
       "4                         NaN  1998.0  8.0   2.0        2.0  ...      208.0   \n",
       "\n",
       "   cau_homol  EDAD                 llave CODPTO  filter_$  AÑOL  MAMA  \\\n",
       "0       24.0   NaN  0500111201407  21103    5.0       1.0     a  mama   \n",
       "1       24.0   NaN  0504511199708  25109    5.0       0.0     a  mama   \n",
       "2       24.0   NaN  0526612198604  21109    5.0       0.0     a  mama   \n",
       "3       24.0   NaN  0800111198907  22109    8.0       0.0     a  mama   \n",
       "4       24.0  10.0  0800111199808  22103    8.0       1.0     a  mama   \n",
       "\n",
       "   quinquenio  REGION  \n",
       "0    2010a201     1.0  \n",
       "1    1995a199     1.0  \n",
       "2    1985a198     1.0  \n",
       "3    1985a198     2.0  \n",
       "4    1995a199     2.0  \n",
       "\n",
       "[5 rows x 53 columns]"
      ]
     },
     "execution_count": 57,
     "metadata": {},
     "output_type": "execute_result"
    }
   ],
   "source": [
    "data.head()"
   ]
  },
  {
   "cell_type": "markdown",
   "metadata": {},
   "source": [
    "Las primeras cinco observaciones muestran datos con valores faltantes en varias columnas, diferencias en la codificación de variables y posibles inconsistencias en los identificadores de municipios e instituciones de salud. "
   ]
  },
  {
   "cell_type": "code",
   "execution_count": 58,
   "metadata": {},
   "outputs": [
    {
     "data": {
      "text/plain": [
       "(46869, 53)"
      ]
     },
     "execution_count": 58,
     "metadata": {},
     "output_type": "execute_result"
    }
   ],
   "source": [
    "data.shape"
   ]
  },
  {
   "cell_type": "markdown",
   "metadata": {},
   "source": [
    "El conjunto de datos inicial cuenta con **53** columnas (variables) y **46869** filas (observaciones)."
   ]
  },
  {
   "cell_type": "code",
   "execution_count": 59,
   "metadata": {},
   "outputs": [
    {
     "name": "stdout",
     "output_type": "stream",
     "text": [
      "<class 'pandas.core.frame.DataFrame'>\n",
      "RangeIndex: 46869 entries, 0 to 46868\n",
      "Data columns (total 53 columns):\n",
      " #   Column      Non-Null Count  Dtype  \n",
      "---  ------      --------------  -----  \n",
      " 0   COD_DPTO    46869 non-null  object \n",
      " 1   cod_munic   46833 non-null  float64\n",
      " 2   a_defun     46833 non-null  float64\n",
      " 3   sit_defun   46833 non-null  float64\n",
      " 4   cod_inst    19126 non-null  float64\n",
      " 5   nom_inst    19287 non-null  object \n",
      " 6   ano         46833 non-null  float64\n",
      " 7   mes         46833 non-null  float64\n",
      " 8   sexo        46833 non-null  float64\n",
      " 9   est_civil   46833 non-null  float64\n",
      " 10  gru_ed1     46833 non-null  float64\n",
      " 11  nivel_edu   46833 non-null  float64\n",
      " 12  MUERTEPORO  16839 non-null  float64\n",
      " 13  SIMUERTEPO  917 non-null    float64\n",
      " 14  OCUPACION   11317 non-null  object \n",
      " 15  IDPERTET    16839 non-null  float64\n",
      " 16  codpres     29332 non-null  float64\n",
      " 17  codptore    46833 non-null  float64\n",
      " 18  codmunre    46833 non-null  float64\n",
      " 19  area_res    33916 non-null  float64\n",
      " 20  seg_social  33934 non-null  float64\n",
      " 21  IDADMISALU  16156 non-null  float64\n",
      " 22  IDCLASADMI  16095 non-null  object \n",
      " 23  pman_muer   33934 non-null  float64\n",
      " 24  cons_exp    46833 non-null  float64\n",
      " 25  man_muer    3115 non-null   float64\n",
      " 26  codocur     0 non-null      float64\n",
      " 27  codmunoc    0 non-null      float64\n",
      " 28  c_muerte    33685 non-null  float64\n",
      " 29  asis_med    33934 non-null  float64\n",
      " 30  c_dir1      33841 non-null  object \n",
      " 31  C_DIR12     294 non-null    object \n",
      " 32  c_ant1      29033 non-null  object \n",
      " 33  C_ANT12     656 non-null    object \n",
      " 34  c_ant2      19715 non-null  object \n",
      " 35  C_ANT22     479 non-null    object \n",
      " 36  c_ant3      6692 non-null   object \n",
      " 37  C_ANT32     169 non-null    object \n",
      " 38  c_pat1      7104 non-null   object \n",
      " 39  C_PAT2      711 non-null    object \n",
      " 40  c_bas1      46833 non-null  object \n",
      " 41  c_mcm1      70 non-null     object \n",
      " 42  IDPROFCER   16839 non-null  float64\n",
      " 43  causa_666   33934 non-null  float64\n",
      " 44  cau_homol   46833 non-null  float64\n",
      " 45  EDAD        17095 non-null  float64\n",
      " 46  llave       46833 non-null  object \n",
      " 47  CODPTO      46833 non-null  float64\n",
      " 48  filter_$    46833 non-null  float64\n",
      " 49  AÑOL        46833 non-null  object \n",
      " 50  MAMA        46833 non-null  object \n",
      " 51  quinquenio  46833 non-null  object \n",
      " 52  REGION      46833 non-null  float64\n",
      "dtypes: float64(33), object(20)\n",
      "memory usage: 19.0+ MB\n"
     ]
    }
   ],
   "source": [
    "data.info()"
   ]
  },
  {
   "cell_type": "markdown",
   "metadata": {},
   "source": [
    "A primera vista, observamos que las variables tienen nombres poco descriptivos, lo que dificulta la comprensión de su significado. Además, muchas de ellas están representadas como valores numéricos de tipo *float64*, aunque en realidad corresponden a categorías. Por ello, procederemos a redefinir los tipos de datos en función del significado de cada variable. También identificamos una alta presencia de datos faltantes en algunas columnas (incluyendo dos columnas que en su totalidad son datos faltantes), lo que requerirá un tratamiento adecuado."
   ]
  },
  {
   "cell_type": "code",
   "execution_count": 60,
   "metadata": {},
   "outputs": [],
   "source": [
    "column_types = {\"COD_DPTO\": \"object\", \"cod_munic\": \"object\", \"a_defun\": \"object\", \"sit_defun\": \"object\", \"cod_inst\": \"Int64\", \"nom_inst\": \"object\", \n",
    "                \"ano\": \"Int64\", \"mes\": \"float64\", \"sexo\": \"object\", \"est_civil\": \"object\", \"gru_ed1\": \"object\", \"nivel_edu\": \"object\", \n",
    "                \"MUERTEPORO\": \"object\", \"SIMUERTEPO\": \"object\", \"OCUPACION\": \"object\", \"IDPERTET\": \"object\", \"codpres\": \"object\", \n",
    "                \"codptore\": \"object\", \"codmunre\": \"object\", \"area_res\": \"object\", \"seg_social\": \"object\", \"IDADMISALU\": \"object\", \n",
    "                \"IDCLASADMI\": \"object\", \"pman_muer\": \"object\", \"cons_exp\": \"object\", \"man_muer\": \"object\", \"c_muerte\": \"object\", \n",
    "                \"asis_med\": \"object\", \"IDPROFCER\": \"object\", \"causa_666\": \"object\", \"cau_homol\": \"object\", \"filter_$\": \"object\",\n",
    "                \"quinquenio\": \"object\", \"REGION\": \"object\"\n",
    "}\n"
   ]
  },
  {
   "cell_type": "code",
   "execution_count": 61,
   "metadata": {},
   "outputs": [
    {
     "name": "stdout",
     "output_type": "stream",
     "text": [
      "<class 'pandas.core.frame.DataFrame'>\n",
      "RangeIndex: 46869 entries, 0 to 46868\n",
      "Data columns (total 53 columns):\n",
      " #   Column      Non-Null Count  Dtype  \n",
      "---  ------      --------------  -----  \n",
      " 0   COD_DPTO    46869 non-null  object \n",
      " 1   cod_munic   46833 non-null  float64\n",
      " 2   a_defun     46833 non-null  float64\n",
      " 3   sit_defun   46833 non-null  float64\n",
      " 4   cod_inst    19126 non-null  float64\n",
      " 5   nom_inst    19287 non-null  object \n",
      " 6   ano         46833 non-null  float64\n",
      " 7   mes         46833 non-null  float64\n",
      " 8   sexo        46833 non-null  float64\n",
      " 9   est_civil   46833 non-null  float64\n",
      " 10  gru_ed1     46833 non-null  float64\n",
      " 11  nivel_edu   46833 non-null  float64\n",
      " 12  MUERTEPORO  16839 non-null  float64\n",
      " 13  SIMUERTEPO  917 non-null    float64\n",
      " 14  OCUPACION   11317 non-null  object \n",
      " 15  IDPERTET    16839 non-null  float64\n",
      " 16  codpres     29332 non-null  float64\n",
      " 17  codptore    46833 non-null  float64\n",
      " 18  codmunre    46833 non-null  float64\n",
      " 19  area_res    33916 non-null  float64\n",
      " 20  seg_social  33934 non-null  float64\n",
      " 21  IDADMISALU  16156 non-null  float64\n",
      " 22  IDCLASADMI  16095 non-null  object \n",
      " 23  pman_muer   33934 non-null  float64\n",
      " 24  cons_exp    46833 non-null  float64\n",
      " 25  man_muer    3115 non-null   float64\n",
      " 26  codocur     0 non-null      float64\n",
      " 27  codmunoc    0 non-null      float64\n",
      " 28  c_muerte    33685 non-null  float64\n",
      " 29  asis_med    33934 non-null  float64\n",
      " 30  c_dir1      33841 non-null  object \n",
      " 31  C_DIR12     294 non-null    object \n",
      " 32  c_ant1      29033 non-null  object \n",
      " 33  C_ANT12     656 non-null    object \n",
      " 34  c_ant2      19715 non-null  object \n",
      " 35  C_ANT22     479 non-null    object \n",
      " 36  c_ant3      6692 non-null   object \n",
      " 37  C_ANT32     169 non-null    object \n",
      " 38  c_pat1      7104 non-null   object \n",
      " 39  C_PAT2      711 non-null    object \n",
      " 40  c_bas1      46833 non-null  object \n",
      " 41  c_mcm1      70 non-null     object \n",
      " 42  IDPROFCER   16839 non-null  float64\n",
      " 43  causa_666   33934 non-null  float64\n",
      " 44  cau_homol   46833 non-null  float64\n",
      " 45  EDAD        17095 non-null  float64\n",
      " 46  llave       46833 non-null  object \n",
      " 47  CODPTO      46833 non-null  float64\n",
      " 48  filter_$    46833 non-null  float64\n",
      " 49  AÑOL        46833 non-null  object \n",
      " 50  MAMA        46833 non-null  object \n",
      " 51  quinquenio  46833 non-null  object \n",
      " 52  REGION      46833 non-null  float64\n",
      "dtypes: float64(33), object(20)\n",
      "memory usage: 19.0+ MB\n"
     ]
    }
   ],
   "source": [
    "data.info()"
   ]
  },
  {
   "cell_type": "markdown",
   "metadata": {},
   "source": [
    "Nótese que el cambio se ha realizado exitosamente."
   ]
  },
  {
   "cell_type": "markdown",
   "metadata": {},
   "source": [
    "### **Datos Faltantes**"
   ]
  },
  {
   "cell_type": "markdown",
   "metadata": {},
   "source": [
    "Observemos a detalle los datos faltantes en este conjunto de datos."
   ]
  },
  {
   "cell_type": "code",
   "execution_count": 62,
   "metadata": {},
   "outputs": [
    {
     "data": {
      "text/plain": [
       "codocur       100.000000\n",
       "codmunoc      100.000000\n",
       "c_mcm1         99.850648\n",
       "C_ANT32        99.639421\n",
       "C_DIR12        99.372720\n",
       "C_ANT22        98.978003\n",
       "C_ANT12        98.600354\n",
       "C_PAT2         98.483006\n",
       "SIMUERTEPO     98.043483\n",
       "man_muer       93.353816\n",
       "c_ant3         85.721906\n",
       "c_pat1         84.842860\n",
       "OCUPACION      75.853976\n",
       "IDCLASADMI     65.659604\n",
       "IDADMISALU     65.529454\n",
       "MUERTEPORO     64.072201\n",
       "IDPERTET       64.072201\n",
       "IDPROFCER      64.072201\n",
       "EDAD           63.525998\n",
       "cod_inst       59.192643\n",
       "nom_inst       58.849133\n",
       "c_ant2         57.935949\n",
       "c_ant1         38.055004\n",
       "codpres        37.417056\n",
       "c_muerte       28.129467\n",
       "c_dir1         27.796625\n",
       "area_res       27.636604\n",
       "asis_med       27.598199\n",
       "pman_muer      27.598199\n",
       "seg_social     27.598199\n",
       "causa_666      27.598199\n",
       "filter_$        0.076810\n",
       "c_bas1          0.076810\n",
       "cau_homol       0.076810\n",
       "AÑOL            0.076810\n",
       "llave           0.076810\n",
       "MAMA            0.076810\n",
       "quinquenio      0.076810\n",
       "CODPTO          0.076810\n",
       "REGION          0.076810\n",
       "cod_munic       0.076810\n",
       "cons_exp        0.076810\n",
       "codmunre        0.076810\n",
       "codptore        0.076810\n",
       "nivel_edu       0.076810\n",
       "gru_ed1         0.076810\n",
       "est_civil       0.076810\n",
       "sexo            0.076810\n",
       "mes             0.076810\n",
       "ano             0.076810\n",
       "sit_defun       0.076810\n",
       "a_defun         0.076810\n",
       "dtype: float64"
      ]
     },
     "execution_count": 62,
     "metadata": {},
     "output_type": "execute_result"
    }
   ],
   "source": [
    "missing_percent = (data.isnull().sum() / len(data)) * 100\n",
    "missing_percent = missing_percent.sort_values(ascending=False)\n",
    "missing_percent[missing_percent > 0]"
   ]
  },
  {
   "cell_type": "code",
   "execution_count": 63,
   "metadata": {},
   "outputs": [
    {
     "name": "stdout",
     "output_type": "stream",
     "text": [
      "La cantidad de variables con datos faltantes es de:  52\n",
      "La cantidad de variables sin datos faltantes es de:  1\n",
      "La cantidad de variables con más del 70% de datos faltantes es de:  13\n",
      "La cantidad de variables con menos del 70% de datos faltantes es de:  40\n"
     ]
    }
   ],
   "source": [
    "missing_count = missing_percent[missing_percent > 0].count()\n",
    "print(\"La cantidad de variables con datos faltantes es de: \", missing_count)\n",
    "without_missing = missing_percent[missing_percent == 0].count()\n",
    "print(\"La cantidad de variables sin datos faltantes es de: \", without_missing)\n",
    "missing_above_70 = missing_percent[missing_percent > 70]\n",
    "print(\"La cantidad de variables con más del 70% de datos faltantes es de: \", missing_above_70.count())\n",
    "missing_below_70 = missing_percent[missing_percent <= 70]\n",
    "print(\"La cantidad de variables con menos del 70% de datos faltantes es de: \", missing_below_70.count())\n"
   ]
  },
  {
   "cell_type": "code",
   "execution_count": 64,
   "metadata": {},
   "outputs": [
    {
     "data": {
      "application/vnd.plotly.v1+json": {
       "config": {
        "plotlyServerURL": "https://plot.ly"
       },
       "data": [
        {
         "alignmentgroup": "True",
         "hovertemplate": "index=%{x}<br>Porcentaje de datos Faltantes (%)=%{y}<br>text=%{text}<br>color=%{marker.color}<extra></extra>",
         "legendgroup": "",
         "marker": {
          "color": [
           100,
           100,
           99.850647549553,
           99.63942051249226,
           99.37271970812263,
           98.9780025176556,
           98.6003541786682,
           98.48300582474556,
           98.04348289914442,
           93.35381595510893,
           85.7219057372677,
           84.84285988606541,
           75.85397597559155,
           65.65960442936696,
           65.52945443683458,
           64.07220124175895,
           64.07220124175895,
           64.07220124175895,
           63.525997994409956,
           59.19264332501227,
           58.849132688984184,
           57.93594913482259,
           38.05500437389319,
           37.417056049841044,
           28.129467238473193,
           27.7966246346199,
           27.636604151998124,
           27.598199236168895,
           27.598199236168895,
           27.598199236168895,
           27.598199236168895,
           0.07680983165845229,
           0.07680983165845229,
           0.07680983165845229,
           0.07680983165845229,
           0.07680983165845229,
           0.07680983165845229,
           0.07680983165845229,
           0.07680983165845229,
           0.07680983165845229,
           0.07680983165845229,
           0.07680983165845229,
           0.07680983165845229,
           0.07680983165845229,
           0.07680983165845229,
           0.07680983165845229,
           0.07680983165845229,
           0.07680983165845229,
           0.07680983165845229,
           0.07680983165845229,
           0.07680983165845229,
           0.07680983165845229,
           0
          ],
          "coloraxis": "coloraxis",
          "pattern": {
           "shape": ""
          }
         },
         "name": "",
         "offsetgroup": "",
         "orientation": "v",
         "showlegend": false,
         "text": [
          100,
          100,
          99.85,
          99.64,
          99.37,
          98.98,
          98.6,
          98.48,
          98.04,
          93.35,
          85.72,
          84.84,
          75.85,
          65.66,
          65.53,
          64.07,
          64.07,
          64.07,
          63.53,
          59.19,
          58.85,
          57.94,
          38.06,
          37.42,
          28.13,
          27.8,
          27.64,
          27.6,
          27.6,
          27.6,
          27.6,
          0.08,
          0.08,
          0.08,
          0.08,
          0.08,
          0.08,
          0.08,
          0.08,
          0.08,
          0.08,
          0.08,
          0.08,
          0.08,
          0.08,
          0.08,
          0.08,
          0.08,
          0.08,
          0.08,
          0.08,
          0.08,
          0
         ],
         "textposition": "outside",
         "type": "bar",
         "x": [
          "codocur",
          "codmunoc",
          "c_mcm1",
          "C_ANT32",
          "C_DIR12",
          "C_ANT22",
          "C_ANT12",
          "C_PAT2",
          "SIMUERTEPO",
          "man_muer",
          "c_ant3",
          "c_pat1",
          "OCUPACION",
          "IDCLASADMI",
          "IDADMISALU",
          "MUERTEPORO",
          "IDPERTET",
          "IDPROFCER",
          "EDAD",
          "cod_inst",
          "nom_inst",
          "c_ant2",
          "c_ant1",
          "codpres",
          "c_muerte",
          "c_dir1",
          "area_res",
          "asis_med",
          "pman_muer",
          "seg_social",
          "causa_666",
          "filter_$",
          "c_bas1",
          "cau_homol",
          "AÑOL",
          "llave",
          "MAMA",
          "quinquenio",
          "CODPTO",
          "REGION",
          "cod_munic",
          "cons_exp",
          "codmunre",
          "codptore",
          "nivel_edu",
          "gru_ed1",
          "est_civil",
          "sexo",
          "mes",
          "ano",
          "sit_defun",
          "a_defun",
          "COD_DPTO"
         ],
         "xaxis": "x",
         "y": [
          100,
          100,
          99.850647549553,
          99.63942051249226,
          99.37271970812263,
          98.9780025176556,
          98.6003541786682,
          98.48300582474556,
          98.04348289914442,
          93.35381595510893,
          85.7219057372677,
          84.84285988606541,
          75.85397597559155,
          65.65960442936696,
          65.52945443683458,
          64.07220124175895,
          64.07220124175895,
          64.07220124175895,
          63.525997994409956,
          59.19264332501227,
          58.849132688984184,
          57.93594913482259,
          38.05500437389319,
          37.417056049841044,
          28.129467238473193,
          27.7966246346199,
          27.636604151998124,
          27.598199236168895,
          27.598199236168895,
          27.598199236168895,
          27.598199236168895,
          0.07680983165845229,
          0.07680983165845229,
          0.07680983165845229,
          0.07680983165845229,
          0.07680983165845229,
          0.07680983165845229,
          0.07680983165845229,
          0.07680983165845229,
          0.07680983165845229,
          0.07680983165845229,
          0.07680983165845229,
          0.07680983165845229,
          0.07680983165845229,
          0.07680983165845229,
          0.07680983165845229,
          0.07680983165845229,
          0.07680983165845229,
          0.07680983165845229,
          0.07680983165845229,
          0.07680983165845229,
          0.07680983165845229,
          0
         ],
         "yaxis": "y"
        }
       ],
       "layout": {
        "barmode": "relative",
        "coloraxis": {
         "colorbar": {
          "title": {
           "text": "color"
          }
         },
         "colorscale": [
          [
           0,
           "#F8BBD0"
          ],
          [
           0.25,
           "#F48FB1"
          ],
          [
           0.5,
           "#F06292"
          ],
          [
           0.75,
           "#EC407A"
          ],
          [
           1,
           "#D81B60"
          ]
         ]
        },
        "font": {
         "color": "black",
         "family": "Bahnschrift",
         "size": 14
        },
        "legend": {
         "tracegroupgap": 0
        },
        "paper_bgcolor": "white",
        "plot_bgcolor": "white",
        "template": {
         "data": {
          "bar": [
           {
            "error_x": {
             "color": "#2a3f5f"
            },
            "error_y": {
             "color": "#2a3f5f"
            },
            "marker": {
             "line": {
              "color": "#E5ECF6",
              "width": 0.5
             },
             "pattern": {
              "fillmode": "overlay",
              "size": 10,
              "solidity": 0.2
             }
            },
            "type": "bar"
           }
          ],
          "barpolar": [
           {
            "marker": {
             "line": {
              "color": "#E5ECF6",
              "width": 0.5
             },
             "pattern": {
              "fillmode": "overlay",
              "size": 10,
              "solidity": 0.2
             }
            },
            "type": "barpolar"
           }
          ],
          "carpet": [
           {
            "aaxis": {
             "endlinecolor": "#2a3f5f",
             "gridcolor": "white",
             "linecolor": "white",
             "minorgridcolor": "white",
             "startlinecolor": "#2a3f5f"
            },
            "baxis": {
             "endlinecolor": "#2a3f5f",
             "gridcolor": "white",
             "linecolor": "white",
             "minorgridcolor": "white",
             "startlinecolor": "#2a3f5f"
            },
            "type": "carpet"
           }
          ],
          "choropleth": [
           {
            "colorbar": {
             "outlinewidth": 0,
             "ticks": ""
            },
            "type": "choropleth"
           }
          ],
          "contour": [
           {
            "colorbar": {
             "outlinewidth": 0,
             "ticks": ""
            },
            "colorscale": [
             [
              0,
              "#0d0887"
             ],
             [
              0.1111111111111111,
              "#46039f"
             ],
             [
              0.2222222222222222,
              "#7201a8"
             ],
             [
              0.3333333333333333,
              "#9c179e"
             ],
             [
              0.4444444444444444,
              "#bd3786"
             ],
             [
              0.5555555555555556,
              "#d8576b"
             ],
             [
              0.6666666666666666,
              "#ed7953"
             ],
             [
              0.7777777777777778,
              "#fb9f3a"
             ],
             [
              0.8888888888888888,
              "#fdca26"
             ],
             [
              1,
              "#f0f921"
             ]
            ],
            "type": "contour"
           }
          ],
          "contourcarpet": [
           {
            "colorbar": {
             "outlinewidth": 0,
             "ticks": ""
            },
            "type": "contourcarpet"
           }
          ],
          "heatmap": [
           {
            "colorbar": {
             "outlinewidth": 0,
             "ticks": ""
            },
            "colorscale": [
             [
              0,
              "#0d0887"
             ],
             [
              0.1111111111111111,
              "#46039f"
             ],
             [
              0.2222222222222222,
              "#7201a8"
             ],
             [
              0.3333333333333333,
              "#9c179e"
             ],
             [
              0.4444444444444444,
              "#bd3786"
             ],
             [
              0.5555555555555556,
              "#d8576b"
             ],
             [
              0.6666666666666666,
              "#ed7953"
             ],
             [
              0.7777777777777778,
              "#fb9f3a"
             ],
             [
              0.8888888888888888,
              "#fdca26"
             ],
             [
              1,
              "#f0f921"
             ]
            ],
            "type": "heatmap"
           }
          ],
          "heatmapgl": [
           {
            "colorbar": {
             "outlinewidth": 0,
             "ticks": ""
            },
            "colorscale": [
             [
              0,
              "#0d0887"
             ],
             [
              0.1111111111111111,
              "#46039f"
             ],
             [
              0.2222222222222222,
              "#7201a8"
             ],
             [
              0.3333333333333333,
              "#9c179e"
             ],
             [
              0.4444444444444444,
              "#bd3786"
             ],
             [
              0.5555555555555556,
              "#d8576b"
             ],
             [
              0.6666666666666666,
              "#ed7953"
             ],
             [
              0.7777777777777778,
              "#fb9f3a"
             ],
             [
              0.8888888888888888,
              "#fdca26"
             ],
             [
              1,
              "#f0f921"
             ]
            ],
            "type": "heatmapgl"
           }
          ],
          "histogram": [
           {
            "marker": {
             "pattern": {
              "fillmode": "overlay",
              "size": 10,
              "solidity": 0.2
             }
            },
            "type": "histogram"
           }
          ],
          "histogram2d": [
           {
            "colorbar": {
             "outlinewidth": 0,
             "ticks": ""
            },
            "colorscale": [
             [
              0,
              "#0d0887"
             ],
             [
              0.1111111111111111,
              "#46039f"
             ],
             [
              0.2222222222222222,
              "#7201a8"
             ],
             [
              0.3333333333333333,
              "#9c179e"
             ],
             [
              0.4444444444444444,
              "#bd3786"
             ],
             [
              0.5555555555555556,
              "#d8576b"
             ],
             [
              0.6666666666666666,
              "#ed7953"
             ],
             [
              0.7777777777777778,
              "#fb9f3a"
             ],
             [
              0.8888888888888888,
              "#fdca26"
             ],
             [
              1,
              "#f0f921"
             ]
            ],
            "type": "histogram2d"
           }
          ],
          "histogram2dcontour": [
           {
            "colorbar": {
             "outlinewidth": 0,
             "ticks": ""
            },
            "colorscale": [
             [
              0,
              "#0d0887"
             ],
             [
              0.1111111111111111,
              "#46039f"
             ],
             [
              0.2222222222222222,
              "#7201a8"
             ],
             [
              0.3333333333333333,
              "#9c179e"
             ],
             [
              0.4444444444444444,
              "#bd3786"
             ],
             [
              0.5555555555555556,
              "#d8576b"
             ],
             [
              0.6666666666666666,
              "#ed7953"
             ],
             [
              0.7777777777777778,
              "#fb9f3a"
             ],
             [
              0.8888888888888888,
              "#fdca26"
             ],
             [
              1,
              "#f0f921"
             ]
            ],
            "type": "histogram2dcontour"
           }
          ],
          "mesh3d": [
           {
            "colorbar": {
             "outlinewidth": 0,
             "ticks": ""
            },
            "type": "mesh3d"
           }
          ],
          "parcoords": [
           {
            "line": {
             "colorbar": {
              "outlinewidth": 0,
              "ticks": ""
             }
            },
            "type": "parcoords"
           }
          ],
          "pie": [
           {
            "automargin": true,
            "type": "pie"
           }
          ],
          "scatter": [
           {
            "fillpattern": {
             "fillmode": "overlay",
             "size": 10,
             "solidity": 0.2
            },
            "type": "scatter"
           }
          ],
          "scatter3d": [
           {
            "line": {
             "colorbar": {
              "outlinewidth": 0,
              "ticks": ""
             }
            },
            "marker": {
             "colorbar": {
              "outlinewidth": 0,
              "ticks": ""
             }
            },
            "type": "scatter3d"
           }
          ],
          "scattercarpet": [
           {
            "marker": {
             "colorbar": {
              "outlinewidth": 0,
              "ticks": ""
             }
            },
            "type": "scattercarpet"
           }
          ],
          "scattergeo": [
           {
            "marker": {
             "colorbar": {
              "outlinewidth": 0,
              "ticks": ""
             }
            },
            "type": "scattergeo"
           }
          ],
          "scattergl": [
           {
            "marker": {
             "colorbar": {
              "outlinewidth": 0,
              "ticks": ""
             }
            },
            "type": "scattergl"
           }
          ],
          "scattermapbox": [
           {
            "marker": {
             "colorbar": {
              "outlinewidth": 0,
              "ticks": ""
             }
            },
            "type": "scattermapbox"
           }
          ],
          "scatterpolar": [
           {
            "marker": {
             "colorbar": {
              "outlinewidth": 0,
              "ticks": ""
             }
            },
            "type": "scatterpolar"
           }
          ],
          "scatterpolargl": [
           {
            "marker": {
             "colorbar": {
              "outlinewidth": 0,
              "ticks": ""
             }
            },
            "type": "scatterpolargl"
           }
          ],
          "scatterternary": [
           {
            "marker": {
             "colorbar": {
              "outlinewidth": 0,
              "ticks": ""
             }
            },
            "type": "scatterternary"
           }
          ],
          "surface": [
           {
            "colorbar": {
             "outlinewidth": 0,
             "ticks": ""
            },
            "colorscale": [
             [
              0,
              "#0d0887"
             ],
             [
              0.1111111111111111,
              "#46039f"
             ],
             [
              0.2222222222222222,
              "#7201a8"
             ],
             [
              0.3333333333333333,
              "#9c179e"
             ],
             [
              0.4444444444444444,
              "#bd3786"
             ],
             [
              0.5555555555555556,
              "#d8576b"
             ],
             [
              0.6666666666666666,
              "#ed7953"
             ],
             [
              0.7777777777777778,
              "#fb9f3a"
             ],
             [
              0.8888888888888888,
              "#fdca26"
             ],
             [
              1,
              "#f0f921"
             ]
            ],
            "type": "surface"
           }
          ],
          "table": [
           {
            "cells": {
             "fill": {
              "color": "#EBF0F8"
             },
             "line": {
              "color": "white"
             }
            },
            "header": {
             "fill": {
              "color": "#C8D4E3"
             },
             "line": {
              "color": "white"
             }
            },
            "type": "table"
           }
          ]
         },
         "layout": {
          "annotationdefaults": {
           "arrowcolor": "#2a3f5f",
           "arrowhead": 0,
           "arrowwidth": 1
          },
          "autotypenumbers": "strict",
          "coloraxis": {
           "colorbar": {
            "outlinewidth": 0,
            "ticks": ""
           }
          },
          "colorscale": {
           "diverging": [
            [
             0,
             "#8e0152"
            ],
            [
             0.1,
             "#c51b7d"
            ],
            [
             0.2,
             "#de77ae"
            ],
            [
             0.3,
             "#f1b6da"
            ],
            [
             0.4,
             "#fde0ef"
            ],
            [
             0.5,
             "#f7f7f7"
            ],
            [
             0.6,
             "#e6f5d0"
            ],
            [
             0.7,
             "#b8e186"
            ],
            [
             0.8,
             "#7fbc41"
            ],
            [
             0.9,
             "#4d9221"
            ],
            [
             1,
             "#276419"
            ]
           ],
           "sequential": [
            [
             0,
             "#0d0887"
            ],
            [
             0.1111111111111111,
             "#46039f"
            ],
            [
             0.2222222222222222,
             "#7201a8"
            ],
            [
             0.3333333333333333,
             "#9c179e"
            ],
            [
             0.4444444444444444,
             "#bd3786"
            ],
            [
             0.5555555555555556,
             "#d8576b"
            ],
            [
             0.6666666666666666,
             "#ed7953"
            ],
            [
             0.7777777777777778,
             "#fb9f3a"
            ],
            [
             0.8888888888888888,
             "#fdca26"
            ],
            [
             1,
             "#f0f921"
            ]
           ],
           "sequentialminus": [
            [
             0,
             "#0d0887"
            ],
            [
             0.1111111111111111,
             "#46039f"
            ],
            [
             0.2222222222222222,
             "#7201a8"
            ],
            [
             0.3333333333333333,
             "#9c179e"
            ],
            [
             0.4444444444444444,
             "#bd3786"
            ],
            [
             0.5555555555555556,
             "#d8576b"
            ],
            [
             0.6666666666666666,
             "#ed7953"
            ],
            [
             0.7777777777777778,
             "#fb9f3a"
            ],
            [
             0.8888888888888888,
             "#fdca26"
            ],
            [
             1,
             "#f0f921"
            ]
           ]
          },
          "colorway": [
           "#636efa",
           "#EF553B",
           "#00cc96",
           "#ab63fa",
           "#FFA15A",
           "#19d3f3",
           "#FF6692",
           "#B6E880",
           "#FF97FF",
           "#FECB52"
          ],
          "font": {
           "color": "#2a3f5f"
          },
          "geo": {
           "bgcolor": "white",
           "lakecolor": "white",
           "landcolor": "#E5ECF6",
           "showlakes": true,
           "showland": true,
           "subunitcolor": "white"
          },
          "hoverlabel": {
           "align": "left"
          },
          "hovermode": "closest",
          "mapbox": {
           "style": "light"
          },
          "paper_bgcolor": "white",
          "plot_bgcolor": "#E5ECF6",
          "polar": {
           "angularaxis": {
            "gridcolor": "white",
            "linecolor": "white",
            "ticks": ""
           },
           "bgcolor": "#E5ECF6",
           "radialaxis": {
            "gridcolor": "white",
            "linecolor": "white",
            "ticks": ""
           }
          },
          "scene": {
           "xaxis": {
            "backgroundcolor": "#E5ECF6",
            "gridcolor": "white",
            "gridwidth": 2,
            "linecolor": "white",
            "showbackground": true,
            "ticks": "",
            "zerolinecolor": "white"
           },
           "yaxis": {
            "backgroundcolor": "#E5ECF6",
            "gridcolor": "white",
            "gridwidth": 2,
            "linecolor": "white",
            "showbackground": true,
            "ticks": "",
            "zerolinecolor": "white"
           },
           "zaxis": {
            "backgroundcolor": "#E5ECF6",
            "gridcolor": "white",
            "gridwidth": 2,
            "linecolor": "white",
            "showbackground": true,
            "ticks": "",
            "zerolinecolor": "white"
           }
          },
          "shapedefaults": {
           "line": {
            "color": "#2a3f5f"
           }
          },
          "ternary": {
           "aaxis": {
            "gridcolor": "white",
            "linecolor": "white",
            "ticks": ""
           },
           "baxis": {
            "gridcolor": "white",
            "linecolor": "white",
            "ticks": ""
           },
           "bgcolor": "#E5ECF6",
           "caxis": {
            "gridcolor": "white",
            "linecolor": "white",
            "ticks": ""
           }
          },
          "title": {
           "x": 0.05
          },
          "xaxis": {
           "automargin": true,
           "gridcolor": "white",
           "linecolor": "white",
           "ticks": "",
           "title": {
            "standoff": 15
           },
           "zerolinecolor": "white",
           "zerolinewidth": 2
          },
          "yaxis": {
           "automargin": true,
           "gridcolor": "white",
           "linecolor": "white",
           "ticks": "",
           "title": {
            "standoff": 15
           },
           "zerolinecolor": "white",
           "zerolinewidth": 2
          }
         }
        },
        "title": {
         "font": {
          "color": "black",
          "family": "Bahnschrift",
          "size": 22
         },
         "text": "Porcentaje de datos faltantes por variable"
        },
        "xaxis": {
         "anchor": "y",
         "domain": [
          0,
          1
         ],
         "tickangle": -45,
         "title": {
          "text": "Variables"
         }
        },
        "yaxis": {
         "anchor": "x",
         "domain": [
          0,
          1
         ],
         "range": [
          0,
          110
         ],
         "title": {
          "text": "Porcentaje de datos Faltantes"
         }
        }
       }
      }
     },
     "metadata": {},
     "output_type": "display_data"
    }
   ],
   "source": [
    "color_scale = [\"#F8BBD0\", \"#F48FB1\", \"#F06292\", \"#EC407A\", \"#D81B60\"]\n",
    "\n",
    "fig = px.bar(\n",
    "    missing_percent, x = missing_percent.index, y = missing_percent.values,\n",
    "    labels = {'x': 'Variables', 'y': 'Porcentaje de datos Faltantes (%)'},\n",
    "    title = 'Porcentaje de datos faltantes por variable',\n",
    "    color = missing_percent.values, color_continuous_scale= color_scale, text = missing_percent.values.round(2))\n",
    "\n",
    "fig.update_layout(xaxis_title = 'Variables', yaxis_title = 'Porcentaje de datos Faltantes', title_font_size = 20, xaxis_tickangle = -45,\n",
    "    plot_bgcolor = 'white', paper_bgcolor = 'white',\n",
    "    font = dict(family = 'Bahnschrift', size = 14, color = 'black'),\n",
    "    title_font = dict(family = 'Bahnschrift', size = 22, color = 'black'),\n",
    "    yaxis = dict(range = [0, missing_percent.max() + 10]))\n",
    "\n",
    "fig.update_traces(textposition ='outside') # Para que el porcentaje se muestre fuera de la barra\n",
    "\n",
    "fig.show()"
   ]
  },
  {
   "cell_type": "markdown",
   "metadata": {},
   "source": [
    "COMENTAR"
   ]
  },
  {
   "cell_type": "markdown",
   "metadata": {},
   "source": [
    "### **Eliminación de variables**"
   ]
  },
  {
   "cell_type": "markdown",
   "metadata": {},
   "source": [
    "\n",
    "Para optimizar el análisis, eliminamos ciertas variables que no aportan valor significativo. La decisión se tomó con base en los siguientes criterios:  \n",
    "\n",
    "\n",
    "\n",
    "**1. Variables eliminadas por recomendación de expertos**  \n",
    "Los profesionales encargados del conjunto de datos recomendaron eliminar estas variables, ya que en este conjunto de datos NO son relevantes para el estudio y están representadas por otras variables:  \n",
    "(`cau_homol`, `EDAD`, `llave`, `filter_$`, `AÑOL`, `MAMA`)  \n",
    "\n",
    "\n",
    "\n",
    "**2. Variables eliminadas por más del 75% de datos faltantes**  \n",
    "Estas variables tienen un porcentaje muy alto de valores nulos, lo que dificulta su uso sin introducir sesgos en el análisis:  \n",
    "**Observación:** Debido al alto porcentaje de datos faltantes, estas variables no pueden ser imputadas de manera confiable. Además, su eliminación no afecta el análisis, ya que no aportan información relevante o pueden derivarse de otras variables presentes en el conjunto de datos.\n",
    "\n",
    "| Variable      | Porcentaje de Valores Nulos |\n",
    "|--------------|----------------------------|\n",
    "| `codocur`    | 100.00%                     |\n",
    "| `codmunoc`   | 100.00%                     |\n",
    "| `c_mcm1`     | 99.85%                      |\n",
    "| `C_ANT32`    | 99.64%                      |\n",
    "| `C_DIR12`    | 99.37%                      |\n",
    "| `C_ANT22`    | 98.98%                      |\n",
    "| `C_ANT12`    | 98.60%                      |\n",
    "| `C_PAT2`     | 98.48%                      |\n",
    "| `SIMUERTEPO` | 98.04%                      |\n",
    "| `man_muer`   | 93.35%                      |\n",
    "| `c_ant3`     | 85.72%                      |\n",
    "| `c_pat1`     | 84.84%                      |\n",
    "| `OCUPACION`  | 75.85%                      |\n",
    "\n",
    "\n",
    "**3. Variables que no son relevantes para el estudio**\n",
    "Estas variables NO serán utilizadas en el enfoque de este estudio y, además, presentan una cantidad significativa de valores nulos:\n",
    "\n",
    "| Variable     | Motivo de Eliminación                    | Porcentaje de Valores Nulos |\n",
    "|-------------|-----------------------------------------|----------------------------|\n",
    "| `a_defun`   | No aporta información relevante        | 0.08%                      |\n",
    "| `cod_inst`  | Código de institución poco útil. Alto porcentaje de datos faltantes. Quizás está información de las instituciones sea antigua debido a las fechas en las que fueron tomadas estas observaciones.       | 59.19%                     |\n",
    "| `nom_inst`  | Ocurre del mismo modo que el código de la institución. No se puede imputar porque no se podría garantizar la institución.        | 58.85%                     |\n",
    "| `MUERTEPORO`| Alto número de faltantes. Adicional a ello, anteriormente la OCUPACIÓN fue eliminada por alto número de faltantes, entonces no tendría sentido analizar la muerte por ocupación sin tener la ocupación.               | 64.07%                     |\n",
    "| `codpres`   | Código no relevante para el análisis   | 37.42%                     |\n",
    "| `codmunre`  | Código no relevante para el análisis | 0.08%                      |\n",
    "| `area_res`  | Información no necesaria               | 27.64%                     |\n",
    "| `IDCLASADMI`| No aporta valor significativo y alto pocentaje de datos faltantes     | 65.66%                     |\n",
    "| `cons_exp`  | Código sin valor significativo en el estudio          | 0.08%                      |\n",
    "| `IDPROFCER` | No aporta valor significativo          | 64.07%                     |\n",
    "| `quinquenio`| Puede calcularse a partir de la edad. Nos interesa más centrarnos en año y mes  | 0.08%                      |\n"
   ]
  },
  {
   "cell_type": "code",
   "execution_count": 65,
   "metadata": {},
   "outputs": [],
   "source": [
    "data = data.drop(columns=[\n",
    "    'a_defun','cod_inst', 'nom_inst', 'MUERTEPORO', 'SIMUERTEPO', 'OCUPACION', \n",
    "    'codpres','codmunre', 'area_res', 'IDCLASADMI', 'cons_exp', 'man_muer' ,'codocur', 'codmunoc','C_DIR12', \n",
    "    'C_ANT12', 'C_ANT22','c_ant3', 'C_ANT32', 'c_pat1', 'C_PAT2',\n",
    "    'c_mcm1', 'IDPROFCER',  'cau_homol', 'EDAD', 'llave', 'filter_$','AÑOL', 'MAMA', 'quinquenio'\n",
    "])\n"
   ]
  },
  {
   "cell_type": "code",
   "execution_count": 66,
   "metadata": {},
   "outputs": [
    {
     "data": {
      "text/plain": [
       "(46869, 23)"
      ]
     },
     "execution_count": 66,
     "metadata": {},
     "output_type": "execute_result"
    }
   ],
   "source": [
    "data.shape"
   ]
  },
  {
   "cell_type": "markdown",
   "metadata": {},
   "source": [
    "Nótese que la eliminación se realizó de forma exitosa y ahora el conjunto de datos cuenta con solo **23** variables."
   ]
  },
  {
   "cell_type": "markdown",
   "metadata": {},
   "source": [
    "### **Renombrado de variables**"
   ]
  },
  {
   "cell_type": "code",
   "execution_count": 67,
   "metadata": {},
   "outputs": [],
   "source": [
    "data = data.rename(columns={\n",
    "    'COD_DPTO': 'depto_ocurr',  # Departamento donde ocurrió la defunción (DIVIPOLA)\n",
    "    'cod_munic': 'munic_ocurr',  # Municipio donde ocurrió la defunción (DIVIPOLA)\n",
    "    'sit_defun': 'sitio_def',  # Sitio de la defunción\n",
    "    'ano': 'año_def',  # Año en que ocurrió la defunción\n",
    "    'mes': 'mes_def',  # Mes en que ocurrió la defunción\n",
    "    'sexo': 'sexo',  # Sexo del fallecido\n",
    "    'est_civil': 'estado_civil',  # Estado conyugal del fallecido\n",
    "    'gru_ed1': 'grupo_edad',  # Agrupación de edades del fallecido\n",
    "    'nivel_edu': 'nivel_edu',  # Nivel educativo del fallecido\n",
    "    'IDPERTET': 'grupo_etnico',  # Pertenencia étnica del fallecido\n",
    "    'codptore': 'depto_res',  # Departamento de residencia habitual del fallecido\n",
    "    'seg_social': 'seg_social',  # Régimen de seguridad social del fallecido\n",
    "    'IDADMISALU': 'ent_salud_cod',  # Código de la Entidad Administradora en Salud\n",
    "    'pman_muer': 'prob_muerte',  # Probable manera de muerte\n",
    "    'c_muerte': 'cert_medica',  # Cómo se determinó la causa de muerte\n",
    "    'asis_med': 'asistencia_med',  # Recibió asistencia médica antes de fallecer\n",
    "    'c_dir1': 'causa_directa',  # Causa directa de la defunción\n",
    "    'c_ant1': 'causa_ant_1',  # Primera causa antecedente\n",
    "    'c_ant2': 'causa_ant_2',  # Segunda causa antecedente\n",
    "    'c_bas1': 'causa_basica',  # Código de la causa básica de la defunción\n",
    "    'causa_666': 'causa_OPS',  # Causa agrupada según la lista OPS 6/67\n",
    "    'CODPTO': 'depto_res',  # Departamento de residencia habitual del fallecido\n",
    "    'REGION': 'region'  # Región del país donde ocurrió la defunción\n",
    "})\n"
   ]
  },
  {
   "cell_type": "code",
   "execution_count": 68,
   "metadata": {},
   "outputs": [
    {
     "data": {
      "text/html": [
       "<div>\n",
       "<style scoped>\n",
       "    .dataframe tbody tr th:only-of-type {\n",
       "        vertical-align: middle;\n",
       "    }\n",
       "\n",
       "    .dataframe tbody tr th {\n",
       "        vertical-align: top;\n",
       "    }\n",
       "\n",
       "    .dataframe thead th {\n",
       "        text-align: right;\n",
       "    }\n",
       "</style>\n",
       "<table border=\"1\" class=\"dataframe\">\n",
       "  <thead>\n",
       "    <tr style=\"text-align: right;\">\n",
       "      <th></th>\n",
       "      <th>depto_ocurr</th>\n",
       "      <th>munic_ocurr</th>\n",
       "      <th>sitio_def</th>\n",
       "      <th>año_def</th>\n",
       "      <th>mes_def</th>\n",
       "      <th>sexo</th>\n",
       "      <th>estado_civil</th>\n",
       "      <th>grupo_edad</th>\n",
       "      <th>nivel_edu</th>\n",
       "      <th>grupo_etnico</th>\n",
       "      <th>...</th>\n",
       "      <th>prob_muerte</th>\n",
       "      <th>cert_medica</th>\n",
       "      <th>asistencia_med</th>\n",
       "      <th>causa_directa</th>\n",
       "      <th>causa_ant_1</th>\n",
       "      <th>causa_ant_2</th>\n",
       "      <th>causa_basica</th>\n",
       "      <th>causa_OPS</th>\n",
       "      <th>depto_res</th>\n",
       "      <th>region</th>\n",
       "    </tr>\n",
       "  </thead>\n",
       "  <tbody>\n",
       "    <tr>\n",
       "      <th>0</th>\n",
       "      <td>05</td>\n",
       "      <td>1.0</td>\n",
       "      <td>1.0</td>\n",
       "      <td>2014.0</td>\n",
       "      <td>7.0</td>\n",
       "      <td>2.0</td>\n",
       "      <td>1.0</td>\n",
       "      <td>10.0</td>\n",
       "      <td>3.0</td>\n",
       "      <td>6.0</td>\n",
       "      <td>...</td>\n",
       "      <td>1.0</td>\n",
       "      <td>2.0</td>\n",
       "      <td>1.0</td>\n",
       "      <td>J969</td>\n",
       "      <td>C782</td>\n",
       "      <td>C509</td>\n",
       "      <td>C509</td>\n",
       "      <td>208.0</td>\n",
       "      <td>5.0</td>\n",
       "      <td>1.0</td>\n",
       "    </tr>\n",
       "    <tr>\n",
       "      <th>1</th>\n",
       "      <td>05</td>\n",
       "      <td>45.0</td>\n",
       "      <td>1.0</td>\n",
       "      <td>1997.0</td>\n",
       "      <td>8.0</td>\n",
       "      <td>2.0</td>\n",
       "      <td>5.0</td>\n",
       "      <td>10.0</td>\n",
       "      <td>9.0</td>\n",
       "      <td>NaN</td>\n",
       "      <td>...</td>\n",
       "      <td>NaN</td>\n",
       "      <td>NaN</td>\n",
       "      <td>NaN</td>\n",
       "      <td>NaN</td>\n",
       "      <td>NaN</td>\n",
       "      <td>NaN</td>\n",
       "      <td>C509</td>\n",
       "      <td>NaN</td>\n",
       "      <td>5.0</td>\n",
       "      <td>1.0</td>\n",
       "    </tr>\n",
       "    <tr>\n",
       "      <th>2</th>\n",
       "      <td>05</td>\n",
       "      <td>266.0</td>\n",
       "      <td>2.0</td>\n",
       "      <td>1986.0</td>\n",
       "      <td>4.0</td>\n",
       "      <td>2.0</td>\n",
       "      <td>1.0</td>\n",
       "      <td>10.0</td>\n",
       "      <td>9.0</td>\n",
       "      <td>NaN</td>\n",
       "      <td>...</td>\n",
       "      <td>NaN</td>\n",
       "      <td>NaN</td>\n",
       "      <td>NaN</td>\n",
       "      <td>NaN</td>\n",
       "      <td>NaN</td>\n",
       "      <td>NaN</td>\n",
       "      <td>1749</td>\n",
       "      <td>NaN</td>\n",
       "      <td>5.0</td>\n",
       "      <td>1.0</td>\n",
       "    </tr>\n",
       "    <tr>\n",
       "      <th>3</th>\n",
       "      <td>08</td>\n",
       "      <td>1.0</td>\n",
       "      <td>1.0</td>\n",
       "      <td>1989.0</td>\n",
       "      <td>7.0</td>\n",
       "      <td>2.0</td>\n",
       "      <td>2.0</td>\n",
       "      <td>10.0</td>\n",
       "      <td>9.0</td>\n",
       "      <td>NaN</td>\n",
       "      <td>...</td>\n",
       "      <td>NaN</td>\n",
       "      <td>NaN</td>\n",
       "      <td>NaN</td>\n",
       "      <td>NaN</td>\n",
       "      <td>NaN</td>\n",
       "      <td>NaN</td>\n",
       "      <td>1749</td>\n",
       "      <td>NaN</td>\n",
       "      <td>8.0</td>\n",
       "      <td>2.0</td>\n",
       "    </tr>\n",
       "    <tr>\n",
       "      <th>4</th>\n",
       "      <td>08</td>\n",
       "      <td>1.0</td>\n",
       "      <td>1.0</td>\n",
       "      <td>1998.0</td>\n",
       "      <td>8.0</td>\n",
       "      <td>2.0</td>\n",
       "      <td>2.0</td>\n",
       "      <td>10.0</td>\n",
       "      <td>3.0</td>\n",
       "      <td>NaN</td>\n",
       "      <td>...</td>\n",
       "      <td>1.0</td>\n",
       "      <td>2.0</td>\n",
       "      <td>1.0</td>\n",
       "      <td>J969</td>\n",
       "      <td>C780</td>\n",
       "      <td>C509</td>\n",
       "      <td>C509</td>\n",
       "      <td>208.0</td>\n",
       "      <td>8.0</td>\n",
       "      <td>2.0</td>\n",
       "    </tr>\n",
       "  </tbody>\n",
       "</table>\n",
       "<p>5 rows × 23 columns</p>\n",
       "</div>"
      ],
      "text/plain": [
       "  depto_ocurr  munic_ocurr  sitio_def  año_def  mes_def  sexo  estado_civil  \\\n",
       "0          05          1.0        1.0   2014.0      7.0   2.0           1.0   \n",
       "1          05         45.0        1.0   1997.0      8.0   2.0           5.0   \n",
       "2          05        266.0        2.0   1986.0      4.0   2.0           1.0   \n",
       "3          08          1.0        1.0   1989.0      7.0   2.0           2.0   \n",
       "4          08          1.0        1.0   1998.0      8.0   2.0           2.0   \n",
       "\n",
       "   grupo_edad  nivel_edu  grupo_etnico  ...  prob_muerte  cert_medica  \\\n",
       "0        10.0        3.0           6.0  ...          1.0          2.0   \n",
       "1        10.0        9.0           NaN  ...          NaN          NaN   \n",
       "2        10.0        9.0           NaN  ...          NaN          NaN   \n",
       "3        10.0        9.0           NaN  ...          NaN          NaN   \n",
       "4        10.0        3.0           NaN  ...          1.0          2.0   \n",
       "\n",
       "   asistencia_med  causa_directa  causa_ant_1  causa_ant_2 causa_basica  \\\n",
       "0             1.0           J969         C782         C509         C509   \n",
       "1             NaN            NaN          NaN          NaN         C509   \n",
       "2             NaN            NaN          NaN          NaN         1749   \n",
       "3             NaN            NaN          NaN          NaN         1749   \n",
       "4             1.0           J969         C780         C509         C509   \n",
       "\n",
       "  causa_OPS depto_res region  \n",
       "0     208.0       5.0    1.0  \n",
       "1       NaN       5.0    1.0  \n",
       "2       NaN       5.0    1.0  \n",
       "3       NaN       8.0    2.0  \n",
       "4     208.0       8.0    2.0  \n",
       "\n",
       "[5 rows x 23 columns]"
      ]
     },
     "execution_count": 68,
     "metadata": {},
     "output_type": "execute_result"
    }
   ],
   "source": [
    "data.head()"
   ]
  },
  {
   "cell_type": "code",
   "execution_count": 69,
   "metadata": {},
   "outputs": [
    {
     "name": "stdout",
     "output_type": "stream",
     "text": [
      "<class 'pandas.core.frame.DataFrame'>\n",
      "RangeIndex: 46869 entries, 0 to 46868\n",
      "Data columns (total 23 columns):\n",
      " #   Column          Non-Null Count  Dtype  \n",
      "---  ------          --------------  -----  \n",
      " 0   depto_ocurr     46869 non-null  object \n",
      " 1   munic_ocurr     46833 non-null  float64\n",
      " 2   sitio_def       46833 non-null  float64\n",
      " 3   año_def         46833 non-null  float64\n",
      " 4   mes_def         46833 non-null  float64\n",
      " 5   sexo            46833 non-null  float64\n",
      " 6   estado_civil    46833 non-null  float64\n",
      " 7   grupo_edad      46833 non-null  float64\n",
      " 8   nivel_edu       46833 non-null  float64\n",
      " 9   grupo_etnico    16839 non-null  float64\n",
      " 10  depto_res       46833 non-null  float64\n",
      " 11  seg_social      33934 non-null  float64\n",
      " 12  ent_salud_cod   16156 non-null  float64\n",
      " 13  prob_muerte     33934 non-null  float64\n",
      " 14  cert_medica     33685 non-null  float64\n",
      " 15  asistencia_med  33934 non-null  float64\n",
      " 16  causa_directa   33841 non-null  object \n",
      " 17  causa_ant_1     29033 non-null  object \n",
      " 18  causa_ant_2     19715 non-null  object \n",
      " 19  causa_basica    46833 non-null  object \n",
      " 20  causa_OPS       33934 non-null  float64\n",
      " 21  depto_res       46833 non-null  float64\n",
      " 22  region          46833 non-null  float64\n",
      "dtypes: float64(18), object(5)\n",
      "memory usage: 8.2+ MB\n"
     ]
    }
   ],
   "source": [
    "data.info()"
   ]
  },
  {
   "cell_type": "markdown",
   "metadata": {},
   "source": [
    "## **Conjunto de datos 2**"
   ]
  },
  {
   "cell_type": "code",
   "execution_count": 70,
   "metadata": {},
   "outputs": [
    {
     "data": {
      "text/html": [
       "<div>\n",
       "<style scoped>\n",
       "    .dataframe tbody tr th:only-of-type {\n",
       "        vertical-align: middle;\n",
       "    }\n",
       "\n",
       "    .dataframe tbody tr th {\n",
       "        vertical-align: top;\n",
       "    }\n",
       "\n",
       "    .dataframe thead th {\n",
       "        text-align: right;\n",
       "    }\n",
       "</style>\n",
       "<table border=\"1\" class=\"dataframe\">\n",
       "  <thead>\n",
       "    <tr style=\"text-align: right;\">\n",
       "      <th></th>\n",
       "      <th>Código Departamento</th>\n",
       "      <th>Código Municipio</th>\n",
       "      <th>Código Centro Poblado</th>\n",
       "      <th>Nombre Departamento</th>\n",
       "      <th>Nombre Municipio</th>\n",
       "      <th>Nombre Centro Poblado</th>\n",
       "      <th>Tipo</th>\n",
       "    </tr>\n",
       "  </thead>\n",
       "  <tbody>\n",
       "    <tr>\n",
       "      <th>0</th>\n",
       "      <td>05</td>\n",
       "      <td>05001</td>\n",
       "      <td>05001000</td>\n",
       "      <td>ANTIOQUIA</td>\n",
       "      <td>MEDELLÍN</td>\n",
       "      <td>MEDELLÍN</td>\n",
       "      <td>CM</td>\n",
       "    </tr>\n",
       "    <tr>\n",
       "      <th>1</th>\n",
       "      <td>05</td>\n",
       "      <td>05001</td>\n",
       "      <td>05001001</td>\n",
       "      <td>ANTIOQUIA</td>\n",
       "      <td>MEDELLÍN</td>\n",
       "      <td>PALMITAS</td>\n",
       "      <td>C</td>\n",
       "    </tr>\n",
       "    <tr>\n",
       "      <th>2</th>\n",
       "      <td>05</td>\n",
       "      <td>05001</td>\n",
       "      <td>05001004</td>\n",
       "      <td>ANTIOQUIA</td>\n",
       "      <td>MEDELLÍN</td>\n",
       "      <td>SANTA ELENA</td>\n",
       "      <td>C</td>\n",
       "    </tr>\n",
       "    <tr>\n",
       "      <th>3</th>\n",
       "      <td>05</td>\n",
       "      <td>05001</td>\n",
       "      <td>05001005</td>\n",
       "      <td>ANTIOQUIA</td>\n",
       "      <td>MEDELLÍN</td>\n",
       "      <td>PEDREGAL ALTO</td>\n",
       "      <td>IPM</td>\n",
       "    </tr>\n",
       "    <tr>\n",
       "      <th>4</th>\n",
       "      <td>05</td>\n",
       "      <td>05001</td>\n",
       "      <td>05001009</td>\n",
       "      <td>ANTIOQUIA</td>\n",
       "      <td>MEDELLÍN</td>\n",
       "      <td>ALTAVISTA</td>\n",
       "      <td>C</td>\n",
       "    </tr>\n",
       "    <tr>\n",
       "      <th>...</th>\n",
       "      <td>...</td>\n",
       "      <td>...</td>\n",
       "      <td>...</td>\n",
       "      <td>...</td>\n",
       "      <td>...</td>\n",
       "      <td>...</td>\n",
       "      <td>...</td>\n",
       "    </tr>\n",
       "    <tr>\n",
       "      <th>9200</th>\n",
       "      <td>99</td>\n",
       "      <td>99773</td>\n",
       "      <td>99773019</td>\n",
       "      <td>VICHADA</td>\n",
       "      <td>CUMARIBO</td>\n",
       "      <td>EL CAÑAVERAL</td>\n",
       "      <td>CAS</td>\n",
       "    </tr>\n",
       "    <tr>\n",
       "      <th>9201</th>\n",
       "      <td>99</td>\n",
       "      <td>99773</td>\n",
       "      <td>99773020</td>\n",
       "      <td>VICHADA</td>\n",
       "      <td>CUMARIBO</td>\n",
       "      <td>EL PROGRESO</td>\n",
       "      <td>CAS</td>\n",
       "    </tr>\n",
       "    <tr>\n",
       "      <th>9202</th>\n",
       "      <td>99</td>\n",
       "      <td>99773</td>\n",
       "      <td>99773021</td>\n",
       "      <td>VICHADA</td>\n",
       "      <td>CUMARIBO</td>\n",
       "      <td>EL TUPARRO</td>\n",
       "      <td>IP</td>\n",
       "    </tr>\n",
       "    <tr>\n",
       "      <th>9203</th>\n",
       "      <td>99</td>\n",
       "      <td>99773</td>\n",
       "      <td>99773022</td>\n",
       "      <td>VICHADA</td>\n",
       "      <td>CUMARIBO</td>\n",
       "      <td>LA 14</td>\n",
       "      <td>CAS</td>\n",
       "    </tr>\n",
       "    <tr>\n",
       "      <th>9204</th>\n",
       "      <td>99</td>\n",
       "      <td>99773</td>\n",
       "      <td>99773023</td>\n",
       "      <td>VICHADA</td>\n",
       "      <td>CUMARIBO</td>\n",
       "      <td>WERIMA</td>\n",
       "      <td>IP</td>\n",
       "    </tr>\n",
       "  </tbody>\n",
       "</table>\n",
       "<p>9205 rows × 7 columns</p>\n",
       "</div>"
      ],
      "text/plain": [
       "     Código Departamento Código Municipio Código Centro Poblado  \\\n",
       "0                     05            05001              05001000   \n",
       "1                     05            05001              05001001   \n",
       "2                     05            05001              05001004   \n",
       "3                     05            05001              05001005   \n",
       "4                     05            05001              05001009   \n",
       "...                  ...              ...                   ...   \n",
       "9200                  99            99773              99773019   \n",
       "9201                  99            99773              99773020   \n",
       "9202                  99            99773              99773021   \n",
       "9203                  99            99773              99773022   \n",
       "9204                  99            99773              99773023   \n",
       "\n",
       "     Nombre Departamento Nombre Municipio Nombre Centro Poblado Tipo  \n",
       "0              ANTIOQUIA         MEDELLÍN              MEDELLÍN   CM  \n",
       "1              ANTIOQUIA         MEDELLÍN              PALMITAS    C  \n",
       "2              ANTIOQUIA         MEDELLÍN           SANTA ELENA    C  \n",
       "3              ANTIOQUIA         MEDELLÍN         PEDREGAL ALTO  IPM  \n",
       "4              ANTIOQUIA         MEDELLÍN             ALTAVISTA    C  \n",
       "...                  ...              ...                   ...  ...  \n",
       "9200             VICHADA         CUMARIBO          EL CAÑAVERAL  CAS  \n",
       "9201             VICHADA         CUMARIBO           EL PROGRESO  CAS  \n",
       "9202             VICHADA         CUMARIBO            EL TUPARRO   IP  \n",
       "9203             VICHADA         CUMARIBO                 LA 14  CAS  \n",
       "9204             VICHADA         CUMARIBO                WERIMA   IP  \n",
       "\n",
       "[9205 rows x 7 columns]"
      ]
     },
     "metadata": {},
     "output_type": "display_data"
    }
   ],
   "source": [
    "column_types = {\n",
    "    \"Código Departamento\": \"object\",\n",
    "    \"Código Municipio\": \"object\",\n",
    "    \"Código Centro Poblado\": \"object\",\n",
    "    \"Nombre Departamento\": \"object\",\n",
    "    \"Nombre Municipio\": \"object\",\n",
    "    \"Nombre Centro Poblado\t\": \"object\",\n",
    "    \"Tipo\": \"object\"\n",
    "}\n",
    "url = \"https://raw.githubusercontent.com/sePerezAlbor/Data/refs/heads/main/Divipola.csv\"\n",
    "dfp = pd.read_csv(url, delimiter = \",\", na_values = [\" \"], dtype=column_types)\n",
    "display(dfp)\n"
   ]
  },
  {
   "cell_type": "code",
   "execution_count": 71,
   "metadata": {},
   "outputs": [
    {
     "name": "stdout",
     "output_type": "stream",
     "text": [
      "<class 'pandas.core.frame.DataFrame'>\n",
      "RangeIndex: 9205 entries, 0 to 9204\n",
      "Data columns (total 7 columns):\n",
      " #   Column                 Non-Null Count  Dtype \n",
      "---  ------                 --------------  ----- \n",
      " 0   Código Departamento    9205 non-null   object\n",
      " 1   Código Municipio       9205 non-null   object\n",
      " 2   Código Centro Poblado  9205 non-null   object\n",
      " 3   Nombre Departamento    9205 non-null   object\n",
      " 4   Nombre Municipio       9205 non-null   object\n",
      " 5   Nombre Centro Poblado  9205 non-null   object\n",
      " 6   Tipo                   9205 non-null   object\n",
      "dtypes: object(7)\n",
      "memory usage: 503.5+ KB\n"
     ]
    }
   ],
   "source": [
    "dfp.info()"
   ]
  },
  {
   "cell_type": "markdown",
   "metadata": {},
   "source": [
    "```{bibliography}\n",
    "```"
   ]
  }
 ],
 "metadata": {
  "kernelspec": {
   "display_name": "data_viz",
   "language": "python",
   "name": "python3"
  },
  "language_info": {
   "codemirror_mode": {
    "name": "ipython",
    "version": 3
   },
   "file_extension": ".py",
   "mimetype": "text/x-python",
   "name": "python",
   "nbconvert_exporter": "python",
   "pygments_lexer": "ipython3",
   "version": "3.9.19"
  }
 },
 "nbformat": 4,
 "nbformat_minor": 2
}
