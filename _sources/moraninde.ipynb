{
 "cells": [
  {
   "cell_type": "markdown",
   "id": "932f79a7",
   "metadata": {},
   "source": [
    "# **Índice de Moran**"
   ]
  },
  {
   "cell_type": "markdown",
   "id": "6dfa3838",
   "metadata": {},
   "source": [
    "## **Librerías y modulos necesarios**"
   ]
  },
  {
   "cell_type": "code",
   "execution_count": 1,
   "id": "93eadcaa",
   "metadata": {},
   "outputs": [],
   "source": [
    "import json\n",
    "import random\n",
    "import numpy as np\n",
    "import pandas as pd"
   ]
  },
  {
   "cell_type": "markdown",
   "id": "3073f5f5",
   "metadata": {},
   "source": [
    "## **Data**"
   ]
  },
  {
   "cell_type": "markdown",
   "id": "7670b743",
   "metadata": {},
   "source": [
    "Inicialmente, se hace el cargue de los conjuntos de datos a utilizar."
   ]
  },
  {
   "cell_type": "markdown",
   "id": "5635d61c",
   "metadata": {},
   "source": [
    "Para el cálculo de la tasa de mortalidad, es necesario tener los datos sobre que tantas mujeres fallecidas hubieron a lo largo del período por dicha enfermedad."
   ]
  },
  {
   "cell_type": "code",
   "execution_count": 2,
   "id": "b0fc910e",
   "metadata": {},
   "outputs": [
    {
     "data": {
      "text/html": [
       "<div>\n",
       "<style scoped>\n",
       "    .dataframe tbody tr th:only-of-type {\n",
       "        vertical-align: middle;\n",
       "    }\n",
       "\n",
       "    .dataframe tbody tr th {\n",
       "        vertical-align: top;\n",
       "    }\n",
       "\n",
       "    .dataframe thead th {\n",
       "        text-align: right;\n",
       "    }\n",
       "</style>\n",
       "<table border=\"1\" class=\"dataframe\">\n",
       "  <thead>\n",
       "    <tr style=\"text-align: right;\">\n",
       "      <th></th>\n",
       "      <th>DPMP</th>\n",
       "      <th>DPNOM</th>\n",
       "      <th>ANIO</th>\n",
       "      <th>FALLECIDAS</th>\n",
       "    </tr>\n",
       "  </thead>\n",
       "  <tbody>\n",
       "    <tr>\n",
       "      <th>0</th>\n",
       "      <td>EL ENCANTO</td>\n",
       "      <td>AMAZONAS</td>\n",
       "      <td>2009</td>\n",
       "      <td>0</td>\n",
       "    </tr>\n",
       "    <tr>\n",
       "      <th>1</th>\n",
       "      <td>EL ENCANTO</td>\n",
       "      <td>AMAZONAS</td>\n",
       "      <td>2010</td>\n",
       "      <td>0</td>\n",
       "    </tr>\n",
       "    <tr>\n",
       "      <th>2</th>\n",
       "      <td>EL ENCANTO</td>\n",
       "      <td>AMAZONAS</td>\n",
       "      <td>2011</td>\n",
       "      <td>0</td>\n",
       "    </tr>\n",
       "    <tr>\n",
       "      <th>3</th>\n",
       "      <td>EL ENCANTO</td>\n",
       "      <td>AMAZONAS</td>\n",
       "      <td>2012</td>\n",
       "      <td>0</td>\n",
       "    </tr>\n",
       "    <tr>\n",
       "      <th>4</th>\n",
       "      <td>EL ENCANTO</td>\n",
       "      <td>AMAZONAS</td>\n",
       "      <td>2013</td>\n",
       "      <td>0</td>\n",
       "    </tr>\n",
       "  </tbody>\n",
       "</table>\n",
       "</div>"
      ],
      "text/plain": [
       "         DPMP     DPNOM  ANIO  FALLECIDAS\n",
       "0  EL ENCANTO  AMAZONAS  2009           0\n",
       "1  EL ENCANTO  AMAZONAS  2010           0\n",
       "2  EL ENCANTO  AMAZONAS  2011           0\n",
       "3  EL ENCANTO  AMAZONAS  2012           0\n",
       "4  EL ENCANTO  AMAZONAS  2013           0"
      ]
     },
     "execution_count": 2,
     "metadata": {},
     "output_type": "execute_result"
    }
   ],
   "source": [
    "muertes = pd.read_excel('../data_tasas/MUERTES-CANMAMA-M40-MUN-COL.xlsx')\n",
    "muertes.head()"
   ]
  },
  {
   "cell_type": "markdown",
   "id": "769e6f29",
   "metadata": {},
   "source": [
    "También, se utilizará la población total de mujeres mayores de 40 años por municipio en ese período de años (2009 - 2023)."
   ]
  },
  {
   "cell_type": "code",
   "execution_count": 3,
   "id": "fa5f3215",
   "metadata": {},
   "outputs": [
    {
     "data": {
      "text/html": [
       "<div>\n",
       "<style scoped>\n",
       "    .dataframe tbody tr th:only-of-type {\n",
       "        vertical-align: middle;\n",
       "    }\n",
       "\n",
       "    .dataframe tbody tr th {\n",
       "        vertical-align: top;\n",
       "    }\n",
       "\n",
       "    .dataframe thead th {\n",
       "        text-align: right;\n",
       "    }\n",
       "</style>\n",
       "<table border=\"1\" class=\"dataframe\">\n",
       "  <thead>\n",
       "    <tr style=\"text-align: right;\">\n",
       "      <th></th>\n",
       "      <th>DPNOM</th>\n",
       "      <th>DPMP</th>\n",
       "      <th>MPIO</th>\n",
       "      <th>ANIO</th>\n",
       "      <th>TOTAL_MUJERES</th>\n",
       "    </tr>\n",
       "  </thead>\n",
       "  <tbody>\n",
       "    <tr>\n",
       "      <th>0</th>\n",
       "      <td>AMAZONAS</td>\n",
       "      <td>EL ENCANTO</td>\n",
       "      <td>91263</td>\n",
       "      <td>2009</td>\n",
       "      <td>205</td>\n",
       "    </tr>\n",
       "    <tr>\n",
       "      <th>1</th>\n",
       "      <td>AMAZONAS</td>\n",
       "      <td>EL ENCANTO</td>\n",
       "      <td>91263</td>\n",
       "      <td>2010</td>\n",
       "      <td>213</td>\n",
       "    </tr>\n",
       "    <tr>\n",
       "      <th>2</th>\n",
       "      <td>AMAZONAS</td>\n",
       "      <td>EL ENCANTO</td>\n",
       "      <td>91263</td>\n",
       "      <td>2011</td>\n",
       "      <td>224</td>\n",
       "    </tr>\n",
       "    <tr>\n",
       "      <th>3</th>\n",
       "      <td>AMAZONAS</td>\n",
       "      <td>EL ENCANTO</td>\n",
       "      <td>91263</td>\n",
       "      <td>2012</td>\n",
       "      <td>229</td>\n",
       "    </tr>\n",
       "    <tr>\n",
       "      <th>4</th>\n",
       "      <td>AMAZONAS</td>\n",
       "      <td>EL ENCANTO</td>\n",
       "      <td>91263</td>\n",
       "      <td>2013</td>\n",
       "      <td>233</td>\n",
       "    </tr>\n",
       "  </tbody>\n",
       "</table>\n",
       "</div>"
      ],
      "text/plain": [
       "      DPNOM        DPMP   MPIO  ANIO  TOTAL_MUJERES\n",
       "0  AMAZONAS  EL ENCANTO  91263  2009            205\n",
       "1  AMAZONAS  EL ENCANTO  91263  2010            213\n",
       "2  AMAZONAS  EL ENCANTO  91263  2011            224\n",
       "3  AMAZONAS  EL ENCANTO  91263  2012            229\n",
       "4  AMAZONAS  EL ENCANTO  91263  2013            233"
      ]
     },
     "execution_count": 3,
     "metadata": {},
     "output_type": "execute_result"
    }
   ],
   "source": [
    "poblacion = pd.read_excel('../data_tasas/POB-M40-MUNCOL-2009-2023.xlsx')\n",
    "poblacion_total = poblacion[['DPNOM', 'DPMP', 'MPIO', 'ANIO', 'TOTAL_MUJERES']]\n",
    "poblacion_total.head()"
   ]
  },
  {
   "cell_type": "markdown",
   "id": "2ef91ad6",
   "metadata": {},
   "source": [
    "Se lee el DataFrame del archivo de metadatos geográficos de cada municipio."
   ]
  },
  {
   "cell_type": "code",
   "execution_count": 4,
   "id": "64b1be73",
   "metadata": {},
   "outputs": [
    {
     "data": {
      "text/html": [
       "<div>\n",
       "<style scoped>\n",
       "    .dataframe tbody tr th:only-of-type {\n",
       "        vertical-align: middle;\n",
       "    }\n",
       "\n",
       "    .dataframe tbody tr th {\n",
       "        vertical-align: top;\n",
       "    }\n",
       "\n",
       "    .dataframe thead th {\n",
       "        text-align: right;\n",
       "    }\n",
       "</style>\n",
       "<table border=\"1\" class=\"dataframe\">\n",
       "  <thead>\n",
       "    <tr style=\"text-align: right;\">\n",
       "      <th></th>\n",
       "      <th>MPIO</th>\n",
       "      <th>DPMP</th>\n",
       "      <th>DPNOM</th>\n",
       "      <th>GEOMETRY</th>\n",
       "    </tr>\n",
       "  </thead>\n",
       "  <tbody>\n",
       "    <tr>\n",
       "      <th>0</th>\n",
       "      <td>91405</td>\n",
       "      <td>LA CHORRERA</td>\n",
       "      <td>AMAZONAS</td>\n",
       "      <td>POLYGON ((5000339.8632 1499049.6806000005, 501...</td>\n",
       "    </tr>\n",
       "    <tr>\n",
       "      <th>1</th>\n",
       "      <td>91669</td>\n",
       "      <td>SANTANDER</td>\n",
       "      <td>AMAZONAS</td>\n",
       "      <td>POLYGON ((5109398.9191 1528841.3461000007, 510...</td>\n",
       "    </tr>\n",
       "    <tr>\n",
       "      <th>2</th>\n",
       "      <td>91460</td>\n",
       "      <td>MIRITÍ-PARANÁ</td>\n",
       "      <td>AMAZONAS</td>\n",
       "      <td>POLYGON ((5161666.8311 1560407.6130999997, 516...</td>\n",
       "    </tr>\n",
       "    <tr>\n",
       "      <th>3</th>\n",
       "      <td>91430</td>\n",
       "      <td>LA VICTORIA</td>\n",
       "      <td>AMAZONAS</td>\n",
       "      <td>POLYGON ((5201993.3468 1568778.1232999992, 520...</td>\n",
       "    </tr>\n",
       "    <tr>\n",
       "      <th>4</th>\n",
       "      <td>52560</td>\n",
       "      <td>POTOSÍ</td>\n",
       "      <td>NARIÑO</td>\n",
       "      <td>POLYGON ((4492613.2148 1651194.4537000004, 449...</td>\n",
       "    </tr>\n",
       "  </tbody>\n",
       "</table>\n",
       "</div>"
      ],
      "text/plain": [
       "    MPIO           DPMP     DPNOM  \\\n",
       "0  91405    LA CHORRERA  AMAZONAS   \n",
       "1  91669      SANTANDER  AMAZONAS   \n",
       "2  91460  MIRITÍ-PARANÁ  AMAZONAS   \n",
       "3  91430    LA VICTORIA  AMAZONAS   \n",
       "4  52560         POTOSÍ    NARIÑO   \n",
       "\n",
       "                                            GEOMETRY  \n",
       "0  POLYGON ((5000339.8632 1499049.6806000005, 501...  \n",
       "1  POLYGON ((5109398.9191 1528841.3461000007, 510...  \n",
       "2  POLYGON ((5161666.8311 1560407.6130999997, 516...  \n",
       "3  POLYGON ((5201993.3468 1568778.1232999992, 520...  \n",
       "4  POLYGON ((4492613.2148 1651194.4537000004, 449...  "
      ]
     },
     "execution_count": 4,
     "metadata": {},
     "output_type": "execute_result"
    }
   ],
   "source": [
    "mdata_mun = pd.read_excel('../data_tasas/metadata_mun_col.xlsx')\n",
    "mdata_mun.head()"
   ]
  },
  {
   "cell_type": "markdown",
   "id": "c893ce12",
   "metadata": {},
   "source": [
    "Se carga el archivo que contiene los vecinos municipales de cada municipio."
   ]
  },
  {
   "cell_type": "code",
   "execution_count": 5,
   "id": "5a710a41",
   "metadata": {},
   "outputs": [],
   "source": [
    "with open('vecinos_municipales.json', 'r', encoding='utf-8') as f:\n",
    "    vecinos_mun = json.load(f)"
   ]
  },
  {
   "cell_type": "markdown",
   "id": "c4001d6e",
   "metadata": {},
   "source": [
    "## **Tasa de mortalidad cruda por municipio**"
   ]
  },
  {
   "cell_type": "markdown",
   "id": "ac3b2fa5",
   "metadata": {},
   "source": [
    "Inicialmente, para calcular la tasa de mortalidad, se agrupan la cantidad de fallecimientos por departamentos."
   ]
  },
  {
   "cell_type": "code",
   "execution_count": 6,
   "id": "a4b7d3d0",
   "metadata": {},
   "outputs": [
    {
     "data": {
      "text/plain": [
       "DPNOM\n",
       "AMAZONAS                                                       18\n",
       "ANTIOQUIA                                                    6102\n",
       "ARAUCA                                                        169\n",
       "ARCHIPIÉLAGO DE SAN ANDRÉS Y PROVIDENCIA Y SANTA CATALINA      56\n",
       "ATLÁNTICO                                                    2928\n",
       "BOLÍVAR                                                      1664\n",
       "BOYACÁ                                                        869\n",
       "CALDAS                                                       1065\n",
       "CAQUETÁ                                                       240\n",
       "CASANARE                                                      218\n",
       "CAUCA                                                         807\n",
       "CESAR                                                         757\n",
       "CHOCÓ                                                         132\n",
       "CUNDINAMARCA                                                 8956\n",
       "CÓRDOBA                                                      1006\n",
       "GUAINÍA                                                        11\n",
       "GUAVIARE                                                       33\n",
       "HUILA                                                         929\n",
       "LA GUAJIRA                                                    325\n",
       "MAGDALENA                                                     952\n",
       "META                                                          733\n",
       "NARIÑO                                                        877\n",
       "NORTE DE SANTANDER                                           1319\n",
       "PUTUMAYO                                                      135\n",
       "QUINDIO                                                       634\n",
       "RISARALDA                                                    1126\n",
       "SANTANDER                                                    2145\n",
       "SUCRE                                                         576\n",
       "TOLIMA                                                       1291\n",
       "VALLE DEL CAUCA                                              5523\n",
       "VAUPÉS                                                          1\n",
       "VICHADA                                                        13\n",
       "Name: FALLECIDAS, dtype: int64"
      ]
     },
     "execution_count": 6,
     "metadata": {},
     "output_type": "execute_result"
    }
   ],
   "source": [
    "muertes.groupby(['DPNOM'])['FALLECIDAS'].sum()"
   ]
  },
  {
   "cell_type": "markdown",
   "id": "4a16fddd",
   "metadata": {},
   "source": [
    "Se procede a realizar el cálculo de esta tasa con la siguiente función"
   ]
  },
  {
   "cell_type": "code",
   "execution_count": 7,
   "id": "76e642fe",
   "metadata": {},
   "outputs": [],
   "source": [
    "def calcular_tasa_mortalidad(muertes, poblacion, año_inicio=2009, año_fin=2023, k=100000):\n",
    "    \"\"\"\n",
    "    Calcula la tasa cruda de mortalidad por municipio y departamento para mujeres mayores de 40 años.\n",
    "\n",
    "    Parámetros:\n",
    "    - muertes: DataFrame con columnas ['DPNOM', 'DPMP', 'ANIO', 'FALLECIDAS']\n",
    "    - poblacion: DataFrame con columnas ['DPNOM', 'DPMP', 'MPIO', 'ANIO', 'TOTAL_MUJERES']\n",
    "    - año_inicio: Año inicial del periodo (int)\n",
    "    - año_fin: Año final del periodo (int)\n",
    "    - k: Factor de estandarización (int, default 100000)\n",
    "\n",
    "    Retorna:\n",
    "    - DataFrame con columnas ['MPIO', 'DPNOM', 'DPMP', 'FALLECIDAS', 'TOTAL_MUJERES', 'Tasa_Mortalidad']\n",
    "    \"\"\"\n",
    "    # Filtrado por años\n",
    "    muertes_filtrado = muertes[(muertes['ANIO'] >= año_inicio) & (muertes['ANIO'] <= año_fin)]\n",
    "    pob_filtrada = poblacion[(poblacion['ANIO'] >= año_inicio) & (poblacion['ANIO'] <= año_fin)]\n",
    "\n",
    "    # Agrupación de muertes por departamento y municipio\n",
    "    muertes_agg = muertes_filtrado.groupby(['DPNOM', 'DPMP'], as_index=False)['FALLECIDAS'].sum()\n",
    "\n",
    "    # Agrupación de población (incluyendo MPIO para conservarlo)\n",
    "    pob_agg = pob_filtrada.groupby(['DPNOM', 'DPMP', 'MPIO'], as_index=False)['TOTAL_MUJERES'].sum()\n",
    "\n",
    "    # Unión de muertes con población (se une por DPNOM y DPMP)\n",
    "    tasa = pd.merge(muertes_agg, pob_agg, on=['DPNOM', 'DPMP'])\n",
    "\n",
    "    # Cálculo de la tasa de mortalidad\n",
    "    tasa['Tasa_Mortalidad'] = (tasa['FALLECIDAS'] / tasa['TOTAL_MUJERES']) * k\n",
    "\n",
    "    # Reordenar columnas\n",
    "    columnas = ['MPIO', 'DPNOM', 'DPMP', 'FALLECIDAS', 'TOTAL_MUJERES', 'Tasa_Mortalidad']\n",
    "    tasa = tasa[columnas]\n",
    "\n",
    "    return tasa\n"
   ]
  },
  {
   "cell_type": "code",
   "execution_count": 8,
   "id": "4573e600",
   "metadata": {},
   "outputs": [
    {
     "data": {
      "text/html": [
       "<div>\n",
       "<style scoped>\n",
       "    .dataframe tbody tr th:only-of-type {\n",
       "        vertical-align: middle;\n",
       "    }\n",
       "\n",
       "    .dataframe tbody tr th {\n",
       "        vertical-align: top;\n",
       "    }\n",
       "\n",
       "    .dataframe thead th {\n",
       "        text-align: right;\n",
       "    }\n",
       "</style>\n",
       "<table border=\"1\" class=\"dataframe\">\n",
       "  <thead>\n",
       "    <tr style=\"text-align: right;\">\n",
       "      <th></th>\n",
       "      <th>MPIO</th>\n",
       "      <th>DPNOM</th>\n",
       "      <th>DPMP</th>\n",
       "      <th>FALLECIDAS</th>\n",
       "      <th>TOTAL_MUJERES</th>\n",
       "      <th>Tasa_Mortalidad</th>\n",
       "    </tr>\n",
       "  </thead>\n",
       "  <tbody>\n",
       "    <tr>\n",
       "      <th>0</th>\n",
       "      <td>91263</td>\n",
       "      <td>AMAZONAS</td>\n",
       "      <td>EL ENCANTO</td>\n",
       "      <td>0</td>\n",
       "      <td>3478</td>\n",
       "      <td>0.000000</td>\n",
       "    </tr>\n",
       "    <tr>\n",
       "      <th>1</th>\n",
       "      <td>91405</td>\n",
       "      <td>AMAZONAS</td>\n",
       "      <td>LA CHORRERA</td>\n",
       "      <td>0</td>\n",
       "      <td>3907</td>\n",
       "      <td>0.000000</td>\n",
       "    </tr>\n",
       "    <tr>\n",
       "      <th>2</th>\n",
       "      <td>91407</td>\n",
       "      <td>AMAZONAS</td>\n",
       "      <td>LA PEDRERA</td>\n",
       "      <td>1</td>\n",
       "      <td>5283</td>\n",
       "      <td>18.928639</td>\n",
       "    </tr>\n",
       "    <tr>\n",
       "      <th>3</th>\n",
       "      <td>91430</td>\n",
       "      <td>AMAZONAS</td>\n",
       "      <td>LA VICTORIA</td>\n",
       "      <td>0</td>\n",
       "      <td>1378</td>\n",
       "      <td>0.000000</td>\n",
       "    </tr>\n",
       "    <tr>\n",
       "      <th>4</th>\n",
       "      <td>91001</td>\n",
       "      <td>AMAZONAS</td>\n",
       "      <td>LETICIA</td>\n",
       "      <td>17</td>\n",
       "      <td>80655</td>\n",
       "      <td>21.077429</td>\n",
       "    </tr>\n",
       "  </tbody>\n",
       "</table>\n",
       "</div>"
      ],
      "text/plain": [
       "    MPIO     DPNOM         DPMP  FALLECIDAS  TOTAL_MUJERES  Tasa_Mortalidad\n",
       "0  91263  AMAZONAS   EL ENCANTO           0           3478         0.000000\n",
       "1  91405  AMAZONAS  LA CHORRERA           0           3907         0.000000\n",
       "2  91407  AMAZONAS   LA PEDRERA           1           5283        18.928639\n",
       "3  91430  AMAZONAS  LA VICTORIA           0           1378         0.000000\n",
       "4  91001  AMAZONAS      LETICIA          17          80655        21.077429"
      ]
     },
     "execution_count": 8,
     "metadata": {},
     "output_type": "execute_result"
    }
   ],
   "source": [
    "tasa_mortalidad  = calcular_tasa_mortalidad(muertes, poblacion_total, año_inicio = 2009, año_fin = 2023, k = 100000)\n",
    "tasa_mortalidad.head()"
   ]
  },
  {
   "cell_type": "markdown",
   "id": "721724b3",
   "metadata": {},
   "source": [
    "Evidentemente, hay varios municipios que tienen una tasa de mortalidad igual a 0, dado que no tienen casos de fallecimientos."
   ]
  },
  {
   "cell_type": "markdown",
   "id": "3dd74310",
   "metadata": {},
   "source": [
    "Veamos cuales municipios no tienen tasa de mortalidad igual a 0"
   ]
  },
  {
   "cell_type": "code",
   "execution_count": 9,
   "id": "5c3d285d",
   "metadata": {},
   "outputs": [
    {
     "data": {
      "text/html": [
       "<div>\n",
       "<style scoped>\n",
       "    .dataframe tbody tr th:only-of-type {\n",
       "        vertical-align: middle;\n",
       "    }\n",
       "\n",
       "    .dataframe tbody tr th {\n",
       "        vertical-align: top;\n",
       "    }\n",
       "\n",
       "    .dataframe thead th {\n",
       "        text-align: right;\n",
       "    }\n",
       "</style>\n",
       "<table border=\"1\" class=\"dataframe\">\n",
       "  <thead>\n",
       "    <tr style=\"text-align: right;\">\n",
       "      <th></th>\n",
       "      <th>MPIO</th>\n",
       "      <th>DPNOM</th>\n",
       "      <th>DPMP</th>\n",
       "      <th>FALLECIDAS</th>\n",
       "      <th>TOTAL_MUJERES</th>\n",
       "      <th>Tasa_Mortalidad</th>\n",
       "    </tr>\n",
       "  </thead>\n",
       "  <tbody>\n",
       "    <tr>\n",
       "      <th>2</th>\n",
       "      <td>91407</td>\n",
       "      <td>AMAZONAS</td>\n",
       "      <td>LA PEDRERA</td>\n",
       "      <td>1</td>\n",
       "      <td>5283</td>\n",
       "      <td>18.928639</td>\n",
       "    </tr>\n",
       "    <tr>\n",
       "      <th>4</th>\n",
       "      <td>91001</td>\n",
       "      <td>AMAZONAS</td>\n",
       "      <td>LETICIA</td>\n",
       "      <td>17</td>\n",
       "      <td>80655</td>\n",
       "      <td>21.077429</td>\n",
       "    </tr>\n",
       "    <tr>\n",
       "      <th>11</th>\n",
       "      <td>5002</td>\n",
       "      <td>ANTIOQUIA</td>\n",
       "      <td>ABEJORRAL</td>\n",
       "      <td>13</td>\n",
       "      <td>64951</td>\n",
       "      <td>20.015088</td>\n",
       "    </tr>\n",
       "    <tr>\n",
       "      <th>12</th>\n",
       "      <td>5004</td>\n",
       "      <td>ANTIOQUIA</td>\n",
       "      <td>ABRIAQUÍ</td>\n",
       "      <td>3</td>\n",
       "      <td>7347</td>\n",
       "      <td>40.832993</td>\n",
       "    </tr>\n",
       "    <tr>\n",
       "      <th>14</th>\n",
       "      <td>5030</td>\n",
       "      <td>ANTIOQUIA</td>\n",
       "      <td>AMAGÁ</td>\n",
       "      <td>19</td>\n",
       "      <td>91959</td>\n",
       "      <td>20.661382</td>\n",
       "    </tr>\n",
       "    <tr>\n",
       "      <th>...</th>\n",
       "      <td>...</td>\n",
       "      <td>...</td>\n",
       "      <td>...</td>\n",
       "      <td>...</td>\n",
       "      <td>...</td>\n",
       "      <td>...</td>\n",
       "    </tr>\n",
       "    <tr>\n",
       "      <th>1111</th>\n",
       "      <td>76895</td>\n",
       "      <td>VALLE DEL CAUCA</td>\n",
       "      <td>ZARZAL</td>\n",
       "      <td>32</td>\n",
       "      <td>130564</td>\n",
       "      <td>24.509053</td>\n",
       "    </tr>\n",
       "    <tr>\n",
       "      <th>1114</th>\n",
       "      <td>97511</td>\n",
       "      <td>VAUPÉS</td>\n",
       "      <td>PACOA</td>\n",
       "      <td>1</td>\n",
       "      <td>3894</td>\n",
       "      <td>25.680534</td>\n",
       "    </tr>\n",
       "    <tr>\n",
       "      <th>1118</th>\n",
       "      <td>99773</td>\n",
       "      <td>VICHADA</td>\n",
       "      <td>CUMARIBO</td>\n",
       "      <td>2</td>\n",
       "      <td>84025</td>\n",
       "      <td>2.380244</td>\n",
       "    </tr>\n",
       "    <tr>\n",
       "      <th>1120</th>\n",
       "      <td>99001</td>\n",
       "      <td>VICHADA</td>\n",
       "      <td>PUERTO CARREÑO</td>\n",
       "      <td>10</td>\n",
       "      <td>36190</td>\n",
       "      <td>27.631943</td>\n",
       "    </tr>\n",
       "    <tr>\n",
       "      <th>1121</th>\n",
       "      <td>99624</td>\n",
       "      <td>VICHADA</td>\n",
       "      <td>SANTA ROSALÍA</td>\n",
       "      <td>1</td>\n",
       "      <td>6847</td>\n",
       "      <td>14.604936</td>\n",
       "    </tr>\n",
       "  </tbody>\n",
       "</table>\n",
       "<p>1017 rows × 6 columns</p>\n",
       "</div>"
      ],
      "text/plain": [
       "       MPIO            DPNOM            DPMP  FALLECIDAS  TOTAL_MUJERES  \\\n",
       "2     91407         AMAZONAS      LA PEDRERA           1           5283   \n",
       "4     91001         AMAZONAS         LETICIA          17          80655   \n",
       "11     5002        ANTIOQUIA       ABEJORRAL          13          64951   \n",
       "12     5004        ANTIOQUIA        ABRIAQUÍ           3           7347   \n",
       "14     5030        ANTIOQUIA           AMAGÁ          19          91959   \n",
       "...     ...              ...             ...         ...            ...   \n",
       "1111  76895  VALLE DEL CAUCA          ZARZAL          32         130564   \n",
       "1114  97511           VAUPÉS           PACOA           1           3894   \n",
       "1118  99773          VICHADA        CUMARIBO           2          84025   \n",
       "1120  99001          VICHADA  PUERTO CARREÑO          10          36190   \n",
       "1121  99624          VICHADA   SANTA ROSALÍA           1           6847   \n",
       "\n",
       "      Tasa_Mortalidad  \n",
       "2           18.928639  \n",
       "4           21.077429  \n",
       "11          20.015088  \n",
       "12          40.832993  \n",
       "14          20.661382  \n",
       "...               ...  \n",
       "1111        24.509053  \n",
       "1114        25.680534  \n",
       "1118         2.380244  \n",
       "1120        27.631943  \n",
       "1121        14.604936  \n",
       "\n",
       "[1017 rows x 6 columns]"
      ]
     },
     "execution_count": 9,
     "metadata": {},
     "output_type": "execute_result"
    }
   ],
   "source": [
    "tasa_mortalidad.query(\" Tasa_Mortalidad > 0\")"
   ]
  },
  {
   "cell_type": "markdown",
   "id": "51908d79",
   "metadata": {},
   "source": [
    "Ahora, veamos el panorama general de la tasa de mortalidad municipal en Colombia por cáncer de mama en mujeres mayores de 40 años en el rango de años de 2009 a 2023"
   ]
  },
  {
   "cell_type": "code",
   "execution_count": 10,
   "id": "12012c94",
   "metadata": {},
   "outputs": [
    {
     "name": "stdout",
     "output_type": "stream",
     "text": [
      "\n",
      "Mayor tasa municipal: SANTANDER - BUCARAMANGA 67.22\n",
      "Menor tasa municipal: AMAZONAS - EL ENCANTO 0.00\n",
      "Tasa promedio municipal: 15.40\n"
     ]
    }
   ],
   "source": [
    "# Resultados: mayor, menor y promedio\n",
    "mayor = tasa_mortalidad.loc[tasa_mortalidad['Tasa_Mortalidad'].idxmax()]\n",
    "menor = tasa_mortalidad.loc[tasa_mortalidad['Tasa_Mortalidad'].idxmin()]\n",
    "promedio = tasa_mortalidad['Tasa_Mortalidad'].mean()\n",
    "\n",
    "print(\"\\nMayor tasa municipal:\", f\"{mayor['DPNOM']} - {mayor['DPMP']}\", f\"{mayor['Tasa_Mortalidad']:.2f}\")\n",
    "print(\"Menor tasa municipal:\", f\"{menor['DPNOM']} - {menor['DPMP']}\", f\"{menor['Tasa_Mortalidad']:.2f}\")\n",
    "print(\"Tasa promedio municipal:\", f\"{promedio:.2f}\")"
   ]
  },
  {
   "cell_type": "markdown",
   "id": "bc8e3eeb",
   "metadata": {},
   "source": [
    "## **Análisis de Autocorrelación Espacial con el Índice de Moran**"
   ]
  },
  {
   "cell_type": "markdown",
   "id": "154bb748",
   "metadata": {},
   "source": [
    "Para poder realizar el cálculo del índice de moran, inicialmente concatenamos los dataframe que contienen la tasa de mortalidad junto con los datos espaciales de cada municipio"
   ]
  },
  {
   "cell_type": "code",
   "execution_count": 11,
   "id": "525ca9eb",
   "metadata": {},
   "outputs": [
    {
     "data": {
      "text/html": [
       "<div>\n",
       "<style scoped>\n",
       "    .dataframe tbody tr th:only-of-type {\n",
       "        vertical-align: middle;\n",
       "    }\n",
       "\n",
       "    .dataframe tbody tr th {\n",
       "        vertical-align: top;\n",
       "    }\n",
       "\n",
       "    .dataframe thead th {\n",
       "        text-align: right;\n",
       "    }\n",
       "</style>\n",
       "<table border=\"1\" class=\"dataframe\">\n",
       "  <thead>\n",
       "    <tr style=\"text-align: right;\">\n",
       "      <th></th>\n",
       "      <th>MPIO</th>\n",
       "      <th>DPNOM</th>\n",
       "      <th>DPMP</th>\n",
       "      <th>FALLECIDAS</th>\n",
       "      <th>TOTAL_MUJERES</th>\n",
       "      <th>Tasa_Mortalidad</th>\n",
       "      <th>GEOMETRY</th>\n",
       "    </tr>\n",
       "  </thead>\n",
       "  <tbody>\n",
       "    <tr>\n",
       "      <th>0</th>\n",
       "      <td>91263</td>\n",
       "      <td>AMAZONAS</td>\n",
       "      <td>EL ENCANTO</td>\n",
       "      <td>0</td>\n",
       "      <td>3478</td>\n",
       "      <td>0.000000</td>\n",
       "      <td>POLYGON ((5000382.5009 1391996.4739999995, 503...</td>\n",
       "    </tr>\n",
       "    <tr>\n",
       "      <th>1</th>\n",
       "      <td>91405</td>\n",
       "      <td>AMAZONAS</td>\n",
       "      <td>LA CHORRERA</td>\n",
       "      <td>0</td>\n",
       "      <td>3907</td>\n",
       "      <td>0.000000</td>\n",
       "      <td>POLYGON ((5000339.8632 1499049.6806000005, 501...</td>\n",
       "    </tr>\n",
       "    <tr>\n",
       "      <th>2</th>\n",
       "      <td>91407</td>\n",
       "      <td>AMAZONAS</td>\n",
       "      <td>LA PEDRERA</td>\n",
       "      <td>1</td>\n",
       "      <td>5283</td>\n",
       "      <td>18.928639</td>\n",
       "      <td>POLYGON ((5305430.1299 1510105.1340999994, 530...</td>\n",
       "    </tr>\n",
       "    <tr>\n",
       "      <th>3</th>\n",
       "      <td>91430</td>\n",
       "      <td>AMAZONAS</td>\n",
       "      <td>LA VICTORIA</td>\n",
       "      <td>0</td>\n",
       "      <td>1378</td>\n",
       "      <td>0.000000</td>\n",
       "      <td>POLYGON ((5201993.3468 1568778.1232999992, 520...</td>\n",
       "    </tr>\n",
       "    <tr>\n",
       "      <th>4</th>\n",
       "      <td>91001</td>\n",
       "      <td>AMAZONAS</td>\n",
       "      <td>LETICIA</td>\n",
       "      <td>17</td>\n",
       "      <td>80655</td>\n",
       "      <td>21.077429</td>\n",
       "      <td>POLYGON ((5365098.4831 1225751.6786000002, 536...</td>\n",
       "    </tr>\n",
       "  </tbody>\n",
       "</table>\n",
       "</div>"
      ],
      "text/plain": [
       "    MPIO     DPNOM         DPMP  FALLECIDAS  TOTAL_MUJERES  Tasa_Mortalidad  \\\n",
       "0  91263  AMAZONAS   EL ENCANTO           0           3478         0.000000   \n",
       "1  91405  AMAZONAS  LA CHORRERA           0           3907         0.000000   \n",
       "2  91407  AMAZONAS   LA PEDRERA           1           5283        18.928639   \n",
       "3  91430  AMAZONAS  LA VICTORIA           0           1378         0.000000   \n",
       "4  91001  AMAZONAS      LETICIA          17          80655        21.077429   \n",
       "\n",
       "                                            GEOMETRY  \n",
       "0  POLYGON ((5000382.5009 1391996.4739999995, 503...  \n",
       "1  POLYGON ((5000339.8632 1499049.6806000005, 501...  \n",
       "2  POLYGON ((5305430.1299 1510105.1340999994, 530...  \n",
       "3  POLYGON ((5201993.3468 1568778.1232999992, 520...  \n",
       "4  POLYGON ((5365098.4831 1225751.6786000002, 536...  "
      ]
     },
     "execution_count": 11,
     "metadata": {},
     "output_type": "execute_result"
    }
   ],
   "source": [
    "tasa_mortalidad_geo = pd.merge(tasa_mortalidad, mdata_mun[['MPIO', 'GEOMETRY']], on='MPIO', how='left')\n",
    "tasa_mortalidad_geo.head()"
   ]
  },
  {
   "cell_type": "markdown",
   "id": "61c6fd9b",
   "metadata": {},
   "source": [
    "\n",
    "Para evaluar la existencia de autocorrelación espacial en las tasas crudas de los municipios, se utilizará el **índice de Moran (I)**, definido como:\n",
    "\n",
    "$$\n",
    "I = \\frac{n \\sum_{i=1}^{n} \\sum_{j=1}^{n} w_{ij}(z_i - \\bar{z})(z_j - \\bar{z})}{S_0 \\sum_{i=1}^{n} (z_i - \\bar{z})^2}\n",
    "$$\n",
    "\n",
    "donde:\n",
    "\n",
    "- $z_i$: Tasa cruda del municipio $i$  \n",
    "- $\\bar{z}$: Media de las tasas crudas  \n",
    "- $w_{ij}$: Elemento de la matriz de pesos espaciales, definido como:\n",
    "\n",
    "$$\n",
    "w_{ij} =\n",
    "\\begin{cases}\n",
    "1 & \\text{si los municipios } i \\text{ y } j \\text{ comparten frontera} \\\\\n",
    "0 & \\text{en cualquier otro caso}\n",
    "\\end{cases}\n",
    "$$\n",
    "\n",
    "- $S_0 = \\sum_{i=1}^{n} \\sum_{j=1}^{n} w_{ij}$: Suma total de los pesos espaciales\n",
    "\n",
    "\n"
   ]
  },
  {
   "cell_type": "code",
   "execution_count": 12,
   "id": "525932a4",
   "metadata": {},
   "outputs": [],
   "source": [
    "tasa_mortalidad['MPIO'] = tasa_mortalidad['MPIO'].astype(str)\n",
    "# Diccionario de tasas: {mpio: tasa}\n",
    "tasas = dict(zip(tasa_mortalidad['MPIO'], tasa_mortalidad['Tasa_Mortalidad']))\n",
    "# Media de la tasa\n",
    "z_bar = np.mean(list(tasas.values()))\n"
   ]
  },
  {
   "cell_type": "code",
   "execution_count": 13,
   "id": "5b46c125",
   "metadata": {},
   "outputs": [],
   "source": [
    "numerador = 0\n",
    "for i in tasas:\n",
    "    for j in vecinos_mun.get(i, []):\n",
    "        if j in tasas:\n",
    "            numerador += (tasas[i] - z_bar) * (tasas[j] - z_bar)\n"
   ]
  },
  {
   "cell_type": "code",
   "execution_count": 14,
   "id": "a336fe18",
   "metadata": {},
   "outputs": [],
   "source": [
    "denominador = sum((zi - z_bar)**2 for zi in tasas.values())"
   ]
  },
  {
   "cell_type": "code",
   "execution_count": 15,
   "id": "838313a9",
   "metadata": {},
   "outputs": [],
   "source": [
    "S0 = sum(len([j for j in vecinos_mun.get(i, []) if j in tasas]) for i in tasas)"
   ]
  },
  {
   "cell_type": "code",
   "execution_count": 16,
   "id": "ac9e898c",
   "metadata": {},
   "outputs": [
    {
     "name": "stdout",
     "output_type": "stream",
     "text": [
      "Índice de Moran I: 0.14309674177856324\n"
     ]
    }
   ],
   "source": [
    "n = len(tasas)\n",
    "I = (n / S0) * (numerador / denominador)\n",
    "print(\"Índice de Moran I:\", I)"
   ]
  },
  {
   "cell_type": "markdown",
   "id": "f030aafb",
   "metadata": {},
   "source": [
    "El valor del índice de Moran obtenido fue **I = 0.143**, lo que indica una **autocorrelación espacial positiva moderada** en las tasas de cáncer de mama en mujeres mayores de 40 años en los municipios de Colombia entre los años 2009 y 2023. Este resultado sugiere que **los municipios con tasas similares (ya sean altas o bajas) tienden a agruparse geográficamente**, es decir, no están distribuidos de manera aleatoria en el territorio. En términos prácticos, podría haber **zonas específicas del país donde se concentra una mayor carga de la enfermedad**, lo cual es relevante para orientar estrategias de prevención, diagnóstico temprano y asignación de recursos en salud pública. La identificación de estos patrones espaciales permite una **planificación más focalizada y efectiva** en los territorios que presentan mayor riesgo o vulnerabilidad frente al cáncer de mama.\n"
   ]
  },
  {
   "cell_type": "markdown",
   "id": "974c32b1",
   "metadata": {},
   "source": [
    "### **P-valor índice de Moran**"
   ]
  },
  {
   "cell_type": "markdown",
   "id": "b8189221",
   "metadata": {},
   "source": [
    "#### **Hipótesis**\n",
    "- $H_0$: No hay correlación espacial (autocorrelación espacial nula)  \n",
    "- $H_1$: Hay correlación espacial positiva\n"
   ]
  },
  {
   "cell_type": "code",
   "execution_count": 17,
   "id": "0f124e1b",
   "metadata": {},
   "outputs": [],
   "source": [
    "def calcular_moran_con_pvalor(muertes, poblacion_total, año_inicio, año_fin, k=100000, permutaciones=999, semilla=42):\n",
    "    # Calcular tasa de mortalidad\n",
    "    tasa_mortalidad = calcular_tasa_mortalidad(muertes, poblacion_total, año_inicio=año_inicio, año_fin=año_fin, k=k)\n",
    "    tasa_mortalidad['MPIO'] = tasa_mortalidad['MPIO'].astype(str)\n",
    "\n",
    "    # Diccionario de tasas\n",
    "    tasas = dict(zip(tasa_mortalidad['MPIO'], tasa_mortalidad['Tasa_Mortalidad']))\n",
    "\n",
    "    # Leer vecinos\n",
    "    with open('vecinos_municipales.json', 'r', encoding='utf-8') as f:\n",
    "        vecinos_mun = json.load(f)\n",
    "\n",
    "    # Tasa media\n",
    "    z_bar = np.mean(list(tasas.values()))\n",
    "\n",
    "    # Índice de Moran observado\n",
    "    def calcular_I(tasas_dict):\n",
    "        z_bar_local = np.mean(list(tasas_dict.values()))\n",
    "        numerador = 0\n",
    "        for i in tasas_dict:\n",
    "            for j in vecinos_mun.get(i, []):\n",
    "                if j in tasas_dict:\n",
    "                    numerador += (tasas_dict[i] - z_bar_local) * (tasas_dict[j] - z_bar_local)\n",
    "        denominador = sum((zi - z_bar_local) ** 2 for zi in tasas_dict.values())\n",
    "        S0 = sum(len([j for j in vecinos_mun.get(i, []) if j in tasas_dict]) for i in tasas_dict)\n",
    "        n = len(tasas_dict)\n",
    "        return (n / S0) * (numerador / denominador)\n",
    "\n",
    "    I_observado = calcular_I(tasas)\n",
    "\n",
    "    # Permutaciones\n",
    "    random.seed(semilla)\n",
    "    valores_I = []\n",
    "    tasas_lista = list(tasas.values())\n",
    "    llaves = list(tasas.keys())\n",
    "    for _ in range(permutaciones):\n",
    "        tasas_perm = dict(zip(llaves, random.sample(tasas_lista, len(tasas_lista))))\n",
    "        I_perm = calcular_I(tasas_perm)\n",
    "        valores_I.append(I_perm)\n",
    "\n",
    "    # p-valor empírico\n",
    "    extremos = sum(1 for val in valores_I if abs(val) >= abs(I_observado))\n",
    "    p_valor = (extremos + 1) / (permutaciones + 1)  # corrección por \"1 más\"\n",
    "\n",
    "    print(f\"Índice de Moran I ({año_inicio}-{año_fin}): {I_observado:.4f}\")\n",
    "    print(f\"p-valor (permutaciones={permutaciones}): {p_valor:.4f}\")\n",
    "\n",
    "    return I_observado, p_valor\n"
   ]
  },
  {
   "cell_type": "code",
   "execution_count": 18,
   "id": "15db28a3",
   "metadata": {},
   "outputs": [
    {
     "name": "stdout",
     "output_type": "stream",
     "text": [
      "Índice de Moran I (2009-2023): 0.1431\n",
      "p-valor (permutaciones=999): 0.0010\n",
      "Índice de Moran I (2009-2013): 0.0754\n",
      "p-valor (permutaciones=999): 0.0010\n",
      "Índice de Moran I (2014-2018): 0.1050\n",
      "p-valor (permutaciones=999): 0.0010\n",
      "Índice de Moran I (2019-2023): -0.0128\n",
      "p-valor (permutaciones=999): 0.5000\n"
     ]
    },
    {
     "data": {
      "text/plain": [
       "(-0.012795026981602843, 0.5)"
      ]
     },
     "execution_count": 18,
     "metadata": {},
     "output_type": "execute_result"
    }
   ],
   "source": [
    "calcular_moran_con_pvalor(muertes, poblacion_total, 2009, 2023)\n",
    "calcular_moran_con_pvalor(muertes, poblacion_total, 2009, 2013)\n",
    "calcular_moran_con_pvalor(muertes, poblacion_total, 2014, 2018)\n",
    "calcular_moran_con_pvalor(muertes, poblacion_total, 2019, 2023)\n"
   ]
  }
 ],
 "metadata": {
  "kernelspec": {
   "display_name": "data_viz",
   "language": "python",
   "name": "python3"
  },
  "language_info": {
   "codemirror_mode": {
    "name": "ipython",
    "version": 3
   },
   "file_extension": ".py",
   "mimetype": "text/x-python",
   "name": "python",
   "nbconvert_exporter": "python",
   "pygments_lexer": "ipython3",
   "version": "3.9.19"
  }
 },
 "nbformat": 4,
 "nbformat_minor": 5
}
