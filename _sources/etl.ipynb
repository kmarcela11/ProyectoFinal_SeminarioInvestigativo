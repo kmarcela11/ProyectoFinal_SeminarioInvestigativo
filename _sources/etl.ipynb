{
 "cells": [
  {
   "cell_type": "markdown",
   "metadata": {},
   "source": [
    "# **ETL: Limpieza del conjunto de datos**"
   ]
  },
  {
   "cell_type": "markdown",
   "metadata": {},
   "source": [
    "## **Líbrerias y módulos necesarios**"
   ]
  },
  {
   "cell_type": "code",
   "execution_count": 616,
   "metadata": {},
   "outputs": [],
   "source": [
    "import warnings\n",
    "import numpy as np\n",
    "import pandas as pd\n",
    "import plotly.express as px\n",
    "warnings.filterwarnings('ignore')"
   ]
  },
  {
   "cell_type": "markdown",
   "metadata": {},
   "source": [
    "## **Conjunto de datos 1: Cáncer de mama**"
   ]
  },
  {
   "cell_type": "markdown",
   "metadata": {},
   "source": [
    "```{note}\n",
    "La información utilizada para este estudio está basada en el Certificado de Defunción del Ministerio de Salud de Colombia \n",
    "{cite}`minsalud_defuncion` . En este caso, observaciones sobre casos de defunción relacionados con el cáncer de mama. \n",
    "\n",
    "```"
   ]
  },
  {
   "cell_type": "markdown",
   "metadata": {},
   "source": [
    "Este es un ejemplo de cómo citar una referencia en el texto {cite}`autor2025`."
   ]
  },
  {
   "cell_type": "markdown",
   "metadata": {},
   "source": [
    "Inicialmente, se importa el primer conjunto de datos que contiene información detallada sobre la defunción de pacientes debido al cáncer de mama."
   ]
  },
  {
   "cell_type": "code",
   "execution_count": 617,
   "metadata": {},
   "outputs": [],
   "source": [
    "url = r\"C:\\Users\\kamac\\OneDrive - Universidad del Norte\\UNINORTE\\SEMESTRE VII. 2025 - 10\\U - Seminario investigativo\\Proyecto Final\\Datos\\data.xlsx\"\n",
    "data = pd.read_excel(url, na_values = [\" \"])"
   ]
  },
  {
   "cell_type": "markdown",
   "metadata": {},
   "source": [
    "Veamos las primeras cinco observaciones para realizar un análisis inicial del conjunto de datos."
   ]
  },
  {
   "cell_type": "code",
   "execution_count": 618,
   "metadata": {},
   "outputs": [
    {
     "data": {
      "text/html": [
       "<div>\n",
       "<style scoped>\n",
       "    .dataframe tbody tr th:only-of-type {\n",
       "        vertical-align: middle;\n",
       "    }\n",
       "\n",
       "    .dataframe tbody tr th {\n",
       "        vertical-align: top;\n",
       "    }\n",
       "\n",
       "    .dataframe thead th {\n",
       "        text-align: right;\n",
       "    }\n",
       "</style>\n",
       "<table border=\"1\" class=\"dataframe\">\n",
       "  <thead>\n",
       "    <tr style=\"text-align: right;\">\n",
       "      <th></th>\n",
       "      <th>COD_DPTO</th>\n",
       "      <th>cod_munic</th>\n",
       "      <th>a_defun</th>\n",
       "      <th>sit_defun</th>\n",
       "      <th>cod_inst</th>\n",
       "      <th>nom_inst</th>\n",
       "      <th>ano</th>\n",
       "      <th>mes</th>\n",
       "      <th>sexo</th>\n",
       "      <th>est_civil</th>\n",
       "      <th>...</th>\n",
       "      <th>causa_666</th>\n",
       "      <th>cau_homol</th>\n",
       "      <th>EDAD</th>\n",
       "      <th>llave</th>\n",
       "      <th>CODPTO</th>\n",
       "      <th>filter_$</th>\n",
       "      <th>AÑOL</th>\n",
       "      <th>MAMA</th>\n",
       "      <th>quinquenio</th>\n",
       "      <th>REGION</th>\n",
       "    </tr>\n",
       "  </thead>\n",
       "  <tbody>\n",
       "    <tr>\n",
       "      <th>0</th>\n",
       "      <td>5</td>\n",
       "      <td>1</td>\n",
       "      <td>1</td>\n",
       "      <td>1</td>\n",
       "      <td>5.001021e+10</td>\n",
       "      <td>HOSPITAL PABLO TOBON URIBE</td>\n",
       "      <td>2014</td>\n",
       "      <td>7</td>\n",
       "      <td>2</td>\n",
       "      <td>1</td>\n",
       "      <td>...</td>\n",
       "      <td>208.0</td>\n",
       "      <td>24</td>\n",
       "      <td>NaN</td>\n",
       "      <td>0500111201407  21103</td>\n",
       "      <td>5</td>\n",
       "      <td>1</td>\n",
       "      <td>a</td>\n",
       "      <td>mama</td>\n",
       "      <td>2010a201</td>\n",
       "      <td>1</td>\n",
       "    </tr>\n",
       "    <tr>\n",
       "      <th>1</th>\n",
       "      <td>5</td>\n",
       "      <td>45</td>\n",
       "      <td>1</td>\n",
       "      <td>1</td>\n",
       "      <td>NaN</td>\n",
       "      <td>NaN</td>\n",
       "      <td>1997</td>\n",
       "      <td>8</td>\n",
       "      <td>2</td>\n",
       "      <td>5</td>\n",
       "      <td>...</td>\n",
       "      <td>NaN</td>\n",
       "      <td>24</td>\n",
       "      <td>NaN</td>\n",
       "      <td>0504511199708  25109</td>\n",
       "      <td>5</td>\n",
       "      <td>0</td>\n",
       "      <td>a</td>\n",
       "      <td>mama</td>\n",
       "      <td>1995a199</td>\n",
       "      <td>1</td>\n",
       "    </tr>\n",
       "    <tr>\n",
       "      <th>2</th>\n",
       "      <td>5</td>\n",
       "      <td>266</td>\n",
       "      <td>1</td>\n",
       "      <td>2</td>\n",
       "      <td>NaN</td>\n",
       "      <td>NaN</td>\n",
       "      <td>1986</td>\n",
       "      <td>4</td>\n",
       "      <td>2</td>\n",
       "      <td>1</td>\n",
       "      <td>...</td>\n",
       "      <td>NaN</td>\n",
       "      <td>24</td>\n",
       "      <td>NaN</td>\n",
       "      <td>0526612198604  21109</td>\n",
       "      <td>5</td>\n",
       "      <td>0</td>\n",
       "      <td>a</td>\n",
       "      <td>mama</td>\n",
       "      <td>1985a198</td>\n",
       "      <td>1</td>\n",
       "    </tr>\n",
       "    <tr>\n",
       "      <th>3</th>\n",
       "      <td>8</td>\n",
       "      <td>1</td>\n",
       "      <td>1</td>\n",
       "      <td>1</td>\n",
       "      <td>NaN</td>\n",
       "      <td>NaN</td>\n",
       "      <td>1989</td>\n",
       "      <td>7</td>\n",
       "      <td>2</td>\n",
       "      <td>2</td>\n",
       "      <td>...</td>\n",
       "      <td>NaN</td>\n",
       "      <td>24</td>\n",
       "      <td>NaN</td>\n",
       "      <td>0800111198907  22109</td>\n",
       "      <td>8</td>\n",
       "      <td>0</td>\n",
       "      <td>a</td>\n",
       "      <td>mama</td>\n",
       "      <td>1985a198</td>\n",
       "      <td>2</td>\n",
       "    </tr>\n",
       "    <tr>\n",
       "      <th>4</th>\n",
       "      <td>8</td>\n",
       "      <td>1</td>\n",
       "      <td>1</td>\n",
       "      <td>1</td>\n",
       "      <td>NaN</td>\n",
       "      <td>NaN</td>\n",
       "      <td>1998</td>\n",
       "      <td>8</td>\n",
       "      <td>2</td>\n",
       "      <td>2</td>\n",
       "      <td>...</td>\n",
       "      <td>208.0</td>\n",
       "      <td>24</td>\n",
       "      <td>10.0</td>\n",
       "      <td>0800111199808  22103</td>\n",
       "      <td>8</td>\n",
       "      <td>1</td>\n",
       "      <td>a</td>\n",
       "      <td>mama</td>\n",
       "      <td>1995a199</td>\n",
       "      <td>2</td>\n",
       "    </tr>\n",
       "  </tbody>\n",
       "</table>\n",
       "<p>5 rows × 53 columns</p>\n",
       "</div>"
      ],
      "text/plain": [
       "   COD_DPTO  cod_munic  a_defun  sit_defun      cod_inst  \\\n",
       "0         5          1        1          1  5.001021e+10   \n",
       "1         5         45        1          1           NaN   \n",
       "2         5        266        1          2           NaN   \n",
       "3         8          1        1          1           NaN   \n",
       "4         8          1        1          1           NaN   \n",
       "\n",
       "                     nom_inst   ano  mes  sexo  est_civil  ...  causa_666  \\\n",
       "0  HOSPITAL PABLO TOBON URIBE  2014    7     2          1  ...      208.0   \n",
       "1                         NaN  1997    8     2          5  ...        NaN   \n",
       "2                         NaN  1986    4     2          1  ...        NaN   \n",
       "3                         NaN  1989    7     2          2  ...        NaN   \n",
       "4                         NaN  1998    8     2          2  ...      208.0   \n",
       "\n",
       "   cau_homol  EDAD                 llave CODPTO  filter_$  AÑOL  MAMA  \\\n",
       "0         24   NaN  0500111201407  21103      5         1     a  mama   \n",
       "1         24   NaN  0504511199708  25109      5         0     a  mama   \n",
       "2         24   NaN  0526612198604  21109      5         0     a  mama   \n",
       "3         24   NaN  0800111198907  22109      8         0     a  mama   \n",
       "4         24  10.0  0800111199808  22103      8         1     a  mama   \n",
       "\n",
       "   quinquenio  REGION  \n",
       "0    2010a201       1  \n",
       "1    1995a199       1  \n",
       "2    1985a198       1  \n",
       "3    1985a198       2  \n",
       "4    1995a199       2  \n",
       "\n",
       "[5 rows x 53 columns]"
      ]
     },
     "execution_count": 618,
     "metadata": {},
     "output_type": "execute_result"
    }
   ],
   "source": [
    "data.head()"
   ]
  },
  {
   "cell_type": "markdown",
   "metadata": {},
   "source": [
    "Las primeras cinco observaciones muestran datos con valores faltantes en varias columnas, diferencias en la codificación de variables y posibles inconsistencias en los identificadores de municipios e instituciones de salud. "
   ]
  },
  {
   "cell_type": "code",
   "execution_count": 619,
   "metadata": {},
   "outputs": [
    {
     "data": {
      "text/plain": [
       "(46869, 53)"
      ]
     },
     "execution_count": 619,
     "metadata": {},
     "output_type": "execute_result"
    }
   ],
   "source": [
    "data.shape"
   ]
  },
  {
   "cell_type": "markdown",
   "metadata": {},
   "source": [
    "El conjunto de datos inicial cuenta con **53** columnas (variables) y **46869** filas (observaciones)."
   ]
  },
  {
   "cell_type": "code",
   "execution_count": 620,
   "metadata": {},
   "outputs": [
    {
     "name": "stdout",
     "output_type": "stream",
     "text": [
      "<class 'pandas.core.frame.DataFrame'>\n",
      "RangeIndex: 46869 entries, 0 to 46868\n",
      "Data columns (total 53 columns):\n",
      " #   Column      Non-Null Count  Dtype  \n",
      "---  ------      --------------  -----  \n",
      " 0   COD_DPTO    46869 non-null  int64  \n",
      " 1   cod_munic   46869 non-null  int64  \n",
      " 2   a_defun     46869 non-null  int64  \n",
      " 3   sit_defun   46869 non-null  int64  \n",
      " 4   cod_inst    19155 non-null  float64\n",
      " 5   nom_inst    19316 non-null  object \n",
      " 6   ano         46869 non-null  int64  \n",
      " 7   mes         46869 non-null  int64  \n",
      " 8   sexo        46869 non-null  int64  \n",
      " 9   est_civil   46869 non-null  int64  \n",
      " 10  gru_ed1     46869 non-null  int64  \n",
      " 11  nivel_edu   46869 non-null  int64  \n",
      " 12  MUERTEPORO  16875 non-null  float64\n",
      " 13  SIMUERTEPO  917 non-null    float64\n",
      " 14  OCUPACION   11341 non-null  object \n",
      " 15  IDPERTET    16875 non-null  float64\n",
      " 16  codpres     29361 non-null  float64\n",
      " 17  codptore    46869 non-null  int64  \n",
      " 18  codmunre    46869 non-null  int64  \n",
      " 19  area_res    33952 non-null  float64\n",
      " 20  seg_social  33970 non-null  float64\n",
      " 21  IDADMISALU  16192 non-null  float64\n",
      " 22  IDCLASADMI  16131 non-null  object \n",
      " 23  pman_muer   33970 non-null  float64\n",
      " 24  cons_exp    46869 non-null  int64  \n",
      " 25  man_muer    3115 non-null   float64\n",
      " 26  codocur     0 non-null      float64\n",
      " 27  codmunoc    0 non-null      float64\n",
      " 28  c_muerte    33721 non-null  float64\n",
      " 29  asis_med    33970 non-null  float64\n",
      " 30  c_dir1      33877 non-null  object \n",
      " 31  C_DIR12     294 non-null    object \n",
      " 32  c_ant1      29066 non-null  object \n",
      " 33  C_ANT12     657 non-null    object \n",
      " 34  c_ant2      19737 non-null  object \n",
      " 35  C_ANT22     480 non-null    object \n",
      " 36  c_ant3      6700 non-null   object \n",
      " 37  C_ANT32     169 non-null    object \n",
      " 38  c_pat1      7115 non-null   object \n",
      " 39  C_PAT2      712 non-null    object \n",
      " 40  c_bas1      46869 non-null  object \n",
      " 41  c_mcm1      70 non-null     object \n",
      " 42  IDPROFCER   16875 non-null  float64\n",
      " 43  causa_666   33970 non-null  float64\n",
      " 44  cau_homol   46869 non-null  int64  \n",
      " 45  EDAD        17095 non-null  float64\n",
      " 46  llave       46869 non-null  object \n",
      " 47  CODPTO      46869 non-null  int64  \n",
      " 48  filter_$    46869 non-null  int64  \n",
      " 49  AÑOL        46869 non-null  object \n",
      " 50  MAMA        46869 non-null  object \n",
      " 51  quinquenio  46869 non-null  object \n",
      " 52  REGION      46869 non-null  int64  \n",
      "dtypes: float64(17), int64(17), object(19)\n",
      "memory usage: 19.0+ MB\n"
     ]
    }
   ],
   "source": [
    "data.info()"
   ]
  },
  {
   "cell_type": "markdown",
   "metadata": {},
   "source": [
    "A primera vista, observamos que las variables tienen nombres poco descriptivos, lo que dificulta la comprensión de su significado. Además, muchas de ellas están representadas como valores numéricos de tipo *float64*, aunque en realidad corresponden a categorías. Por ello, procederemos a redefinir los tipos de datos en función del significado de cada variable. También identificamos una alta presencia de datos faltantes en algunas columnas (incluyendo dos columnas que en su totalidad son datos faltantes), lo que requerirá un tratamiento adecuado."
   ]
  },
  {
   "cell_type": "code",
   "execution_count": 621,
   "metadata": {},
   "outputs": [],
   "source": [
    "column_types = {\"COD_DPTO\": \"object\", \"cod_munic\": \"object\", \"a_defun\": \"object\", \"sit_defun\": \"object\", \"cod_inst\": \"Int64\", \"nom_inst\": \"object\", \n",
    "                \"ano\": \"Int64\", \"mes\": \"object\", \"sexo\": \"object\", \"est_civil\": \"object\", \"gru_ed1\": \"object\", \"nivel_edu\": \"object\", \n",
    "                \"MUERTEPORO\": \"object\", \"SIMUERTEPO\": \"object\", \"OCUPACION\": \"object\", \"IDPERTET\": \"object\", \"codpres\": \"object\", \n",
    "                \"codptore\": \"object\", \"codmunre\": \"object\", \"area_res\": \"object\", \"seg_social\": \"object\", \"IDADMISALU\": \"object\", \n",
    "                \"IDCLASADMI\": \"object\", \"pman_muer\": \"object\", \"cons_exp\": \"object\", \"man_muer\": \"object\", \"c_muerte\": \"object\", \n",
    "                \"asis_med\": \"object\", \"IDPROFCER\": \"object\", \"causa_666\": \"object\", \"cau_homol\": \"object\", \"filter_$\": \"object\",\n",
    "                \"quinquenio\": \"object\", \"REGION\": \"object\", 'CODPTO': 'object'}\n"
   ]
  },
  {
   "cell_type": "code",
   "execution_count": 622,
   "metadata": {},
   "outputs": [
    {
     "name": "stdout",
     "output_type": "stream",
     "text": [
      "<class 'pandas.core.frame.DataFrame'>\n",
      "RangeIndex: 46869 entries, 0 to 46868\n",
      "Data columns (total 53 columns):\n",
      " #   Column      Non-Null Count  Dtype  \n",
      "---  ------      --------------  -----  \n",
      " 0   COD_DPTO    46869 non-null  object \n",
      " 1   cod_munic   46869 non-null  object \n",
      " 2   a_defun     46869 non-null  object \n",
      " 3   sit_defun   46869 non-null  object \n",
      " 4   cod_inst    19155 non-null  Int64  \n",
      " 5   nom_inst    19316 non-null  object \n",
      " 6   ano         46869 non-null  Int64  \n",
      " 7   mes         46869 non-null  object \n",
      " 8   sexo        46869 non-null  object \n",
      " 9   est_civil   46869 non-null  object \n",
      " 10  gru_ed1     46869 non-null  object \n",
      " 11  nivel_edu   46869 non-null  object \n",
      " 12  MUERTEPORO  16875 non-null  object \n",
      " 13  SIMUERTEPO  917 non-null    object \n",
      " 14  OCUPACION   11341 non-null  object \n",
      " 15  IDPERTET    16875 non-null  object \n",
      " 16  codpres     29361 non-null  object \n",
      " 17  codptore    46869 non-null  object \n",
      " 18  codmunre    46869 non-null  object \n",
      " 19  area_res    33952 non-null  object \n",
      " 20  seg_social  33970 non-null  object \n",
      " 21  IDADMISALU  16192 non-null  object \n",
      " 22  IDCLASADMI  16131 non-null  object \n",
      " 23  pman_muer   33970 non-null  object \n",
      " 24  cons_exp    46869 non-null  object \n",
      " 25  man_muer    3115 non-null   object \n",
      " 26  codocur     0 non-null      float64\n",
      " 27  codmunoc    0 non-null      float64\n",
      " 28  c_muerte    33721 non-null  object \n",
      " 29  asis_med    33970 non-null  object \n",
      " 30  c_dir1      33877 non-null  object \n",
      " 31  C_DIR12     294 non-null    object \n",
      " 32  c_ant1      29066 non-null  object \n",
      " 33  C_ANT12     657 non-null    object \n",
      " 34  c_ant2      19737 non-null  object \n",
      " 35  C_ANT22     480 non-null    object \n",
      " 36  c_ant3      6700 non-null   object \n",
      " 37  C_ANT32     169 non-null    object \n",
      " 38  c_pat1      7115 non-null   object \n",
      " 39  C_PAT2      712 non-null    object \n",
      " 40  c_bas1      46869 non-null  object \n",
      " 41  c_mcm1      70 non-null     object \n",
      " 42  IDPROFCER   16875 non-null  object \n",
      " 43  causa_666   33970 non-null  object \n",
      " 44  cau_homol   46869 non-null  object \n",
      " 45  EDAD        17095 non-null  float64\n",
      " 46  llave       46869 non-null  object \n",
      " 47  CODPTO      46869 non-null  object \n",
      " 48  filter_$    46869 non-null  object \n",
      " 49  AÑOL        46869 non-null  object \n",
      " 50  MAMA        46869 non-null  object \n",
      " 51  quinquenio  46869 non-null  object \n",
      " 52  REGION      46869 non-null  object \n",
      "dtypes: Int64(2), float64(3), object(48)\n",
      "memory usage: 19.0+ MB\n"
     ]
    }
   ],
   "source": [
    "data = pd.read_excel(url, na_values = [\" \"], dtype = column_types)\n",
    "data.info()"
   ]
  },
  {
   "cell_type": "markdown",
   "metadata": {},
   "source": [
    "Nótese que el cambio se ha realizado exitosamente."
   ]
  },
  {
   "cell_type": "markdown",
   "metadata": {},
   "source": [
    "### **Datos Faltantes**"
   ]
  },
  {
   "cell_type": "markdown",
   "metadata": {},
   "source": [
    "Observemos a detalle los datos faltantes en este conjunto de datos."
   ]
  },
  {
   "cell_type": "code",
   "execution_count": 623,
   "metadata": {},
   "outputs": [
    {
     "data": {
      "text/plain": [
       "codocur       100.000000\n",
       "codmunoc      100.000000\n",
       "c_mcm1         99.850648\n",
       "C_ANT32        99.639421\n",
       "C_DIR12        99.372720\n",
       "C_ANT22        98.975869\n",
       "C_ANT12        98.598221\n",
       "C_PAT2         98.480872\n",
       "SIMUERTEPO     98.043483\n",
       "man_muer       93.353816\n",
       "c_ant3         85.704837\n",
       "c_pat1         84.819390\n",
       "OCUPACION      75.802769\n",
       "IDCLASADMI     65.582795\n",
       "IDADMISALU     65.452645\n",
       "MUERTEPORO     63.995391\n",
       "IDPERTET       63.995391\n",
       "IDPROFCER      63.995391\n",
       "EDAD           63.525998\n",
       "cod_inst       59.130769\n",
       "nom_inst       58.787258\n",
       "c_ant2         57.889010\n",
       "c_ant1         37.984595\n",
       "codpres        37.355181\n",
       "c_muerte       28.052657\n",
       "c_dir1         27.719815\n",
       "area_res       27.559794\n",
       "asis_med       27.521389\n",
       "pman_muer      27.521389\n",
       "seg_social     27.521389\n",
       "causa_666      27.521389\n",
       "dtype: float64"
      ]
     },
     "execution_count": 623,
     "metadata": {},
     "output_type": "execute_result"
    }
   ],
   "source": [
    "missing_percent = (data.isnull().sum() / len(data)) * 100\n",
    "missing_percent = missing_percent.sort_values(ascending=False)\n",
    "missing_percent[missing_percent > 0]"
   ]
  },
  {
   "cell_type": "code",
   "execution_count": 624,
   "metadata": {},
   "outputs": [
    {
     "name": "stdout",
     "output_type": "stream",
     "text": [
      "La cantidad de variables con datos faltantes es de:  31\n",
      "La cantidad de variables sin datos faltantes es de:  22\n",
      "La cantidad de variables con más del 70% de datos faltantes es de:  13\n",
      "La cantidad de variables con menos del 70% de datos faltantes es de:  40\n"
     ]
    }
   ],
   "source": [
    "missing_count = missing_percent[missing_percent > 0].count()\n",
    "print(\"La cantidad de variables con datos faltantes es de: \", missing_count)\n",
    "without_missing = missing_percent[missing_percent == 0].count()\n",
    "print(\"La cantidad de variables sin datos faltantes es de: \", without_missing)\n",
    "missing_above_70 = missing_percent[missing_percent > 70]\n",
    "print(\"La cantidad de variables con más del 70% de datos faltantes es de: \", missing_above_70.count())\n",
    "missing_below_70 = missing_percent[missing_percent <= 70]\n",
    "print(\"La cantidad de variables con menos del 70% de datos faltantes es de: \", missing_below_70.count())\n"
   ]
  },
  {
   "cell_type": "code",
   "execution_count": null,
   "metadata": {},
   "outputs": [],
   "source": [
    "import pandas as pd\n",
    "import plotly.express as px\n",
    "\n",
    "def PlotMissingValues(data):\n",
    "    # Porcentaje de valores faltantes\n",
    "    MissingPercentage = (data.isnull().sum() / len(data)) * 100\n",
    "    MissingPercentage = MissingPercentage[MissingPercentage > 0]\n",
    "    MissingPercentage = MissingPercentage.sort_values(ascending=False)\n",
    "\n",
    "    # Gráfico de barras interactivo\n",
    "    fig = px.bar(\n",
    "        MissingPercentage,\n",
    "        x=MissingPercentage.index,\n",
    "        y=MissingPercentage.values,\n",
    "        labels={'x': 'Variables', 'y': 'Porcentaje de Valores Faltantes (%)'},\n",
    "        title='Porcentaje de Valores Faltantes por Variable',\n",
    "        color=MissingPercentage.values,\n",
    "        color_continuous_scale= px.colors.sequential.Viridis,\n",
    "        text=MissingPercentage.values.round(2)\n",
    "    )\n",
    "\n",
    "    max_value = MissingPercentage.max()\n",
    "    y_axis_max = (max_value // 5 + 1) * 5\n",
    "    y_axis_max = max(y_axis_max, 10)\n",
    "    y_axis_max = y_axis_max + 10\n",
    "\n",
    "    # Personalización del gráfico\n",
    "    fig.update_layout(\n",
    "        xaxis_title='Variables',\n",
    "        yaxis_title='Porcentaje de Valores Faltantes',\n",
    "        title_font_size=24,\n",
    "        xaxis_tickangle=-45,\n",
    "        plot_bgcolor='white',\n",
    "        paper_bgcolor='white',\n",
    "        font=dict(\n",
    "            family=\"Georgia\",\n",
    "            size=14,\n",
    "            color=\"black\"\n",
    "        ),\n",
    "        title_font=dict(\n",
    "            family=\"Georgia\",\n",
    "            size=24,\n",
    "            color=\"black\"\n",
    "        ),\n",
    "        yaxis=dict(range=[0, y_axis_max])\n",
    "    )\n",
    "\n",
    "    fig.update_traces(textposition='outside')\n",
    "\n",
    "    fig.show()"
   ]
  },
  {
   "cell_type": "code",
   "execution_count": null,
   "metadata": {},
   "outputs": [],
   "source": [
    "PlotMissingValues(data)"
   ]
  },
  {
   "cell_type": "code",
   "execution_count": 625,
   "metadata": {},
   "outputs": [
    {
     "data": {
      "application/vnd.plotly.v1+json": {
       "config": {
        "plotlyServerURL": "https://plot.ly"
       },
       "data": [
        {
         "alignmentgroup": "True",
         "hovertemplate": "index=%{x}<br>Porcentaje de datos Faltantes (%)=%{y}<br>text=%{text}<br>color=%{marker.color}<extra></extra>",
         "legendgroup": "",
         "marker": {
          "color": [
           100,
           100,
           99.850647549553,
           99.63942051249226,
           99.37271970812263,
           98.97586891122063,
           98.59822057223325,
           98.48087221831061,
           98.04348289914442,
           93.35381595510893,
           85.70483688578805,
           84.81939021528089,
           75.80276942115258,
           65.5827945977085,
           65.45264460517612,
           63.99539141010049,
           63.99539141010049,
           63.99539141010049,
           63.525997994409956,
           59.13076873839852,
           58.78725810237043,
           57.889009793253535,
           37.98459536153961,
           37.3551814632273,
           28.052657406814742,
           27.719814802961444,
           27.55979432033967,
           27.521389404510444,
           27.521389404510444,
           27.521389404510444,
           27.521389404510444,
           0,
           0,
           0,
           0,
           0,
           0,
           0,
           0,
           0,
           0,
           0,
           0,
           0,
           0,
           0,
           0,
           0,
           0,
           0,
           0,
           0,
           0
          ],
          "coloraxis": "coloraxis",
          "pattern": {
           "shape": ""
          }
         },
         "name": "",
         "offsetgroup": "",
         "orientation": "v",
         "showlegend": false,
         "text": [
          100,
          100,
          99.85,
          99.64,
          99.37,
          98.98,
          98.6,
          98.48,
          98.04,
          93.35,
          85.7,
          84.82,
          75.8,
          65.58,
          65.45,
          64,
          64,
          64,
          63.53,
          59.13,
          58.79,
          57.89,
          37.98,
          37.36,
          28.05,
          27.72,
          27.56,
          27.52,
          27.52,
          27.52,
          27.52,
          0,
          0,
          0,
          0,
          0,
          0,
          0,
          0,
          0,
          0,
          0,
          0,
          0,
          0,
          0,
          0,
          0,
          0,
          0,
          0,
          0,
          0
         ],
         "textposition": "outside",
         "type": "bar",
         "x": [
          "codocur",
          "codmunoc",
          "c_mcm1",
          "C_ANT32",
          "C_DIR12",
          "C_ANT22",
          "C_ANT12",
          "C_PAT2",
          "SIMUERTEPO",
          "man_muer",
          "c_ant3",
          "c_pat1",
          "OCUPACION",
          "IDCLASADMI",
          "IDADMISALU",
          "MUERTEPORO",
          "IDPERTET",
          "IDPROFCER",
          "EDAD",
          "cod_inst",
          "nom_inst",
          "c_ant2",
          "c_ant1",
          "codpres",
          "c_muerte",
          "c_dir1",
          "area_res",
          "asis_med",
          "pman_muer",
          "seg_social",
          "causa_666",
          "filter_$",
          "c_bas1",
          "cau_homol",
          "AÑOL",
          "llave",
          "MAMA",
          "quinquenio",
          "CODPTO",
          "COD_DPTO",
          "cod_munic",
          "cons_exp",
          "codmunre",
          "codptore",
          "nivel_edu",
          "gru_ed1",
          "est_civil",
          "sexo",
          "mes",
          "ano",
          "sit_defun",
          "a_defun",
          "REGION"
         ],
         "xaxis": "x",
         "y": [
          100,
          100,
          99.850647549553,
          99.63942051249226,
          99.37271970812263,
          98.97586891122063,
          98.59822057223325,
          98.48087221831061,
          98.04348289914442,
          93.35381595510893,
          85.70483688578805,
          84.81939021528089,
          75.80276942115258,
          65.5827945977085,
          65.45264460517612,
          63.99539141010049,
          63.99539141010049,
          63.99539141010049,
          63.525997994409956,
          59.13076873839852,
          58.78725810237043,
          57.889009793253535,
          37.98459536153961,
          37.3551814632273,
          28.052657406814742,
          27.719814802961444,
          27.55979432033967,
          27.521389404510444,
          27.521389404510444,
          27.521389404510444,
          27.521389404510444,
          0,
          0,
          0,
          0,
          0,
          0,
          0,
          0,
          0,
          0,
          0,
          0,
          0,
          0,
          0,
          0,
          0,
          0,
          0,
          0,
          0,
          0
         ],
         "yaxis": "y"
        }
       ],
       "layout": {
        "barmode": "relative",
        "coloraxis": {
         "colorbar": {
          "title": {
           "text": "color"
          }
         },
         "colorscale": [
          [
           0,
           "#F8BBD0"
          ],
          [
           0.25,
           "#F48FB1"
          ],
          [
           0.5,
           "#F06292"
          ],
          [
           0.75,
           "#EC407A"
          ],
          [
           1,
           "#D81B60"
          ]
         ]
        },
        "font": {
         "color": "black",
         "family": "Bahnschrift",
         "size": 14
        },
        "legend": {
         "tracegroupgap": 0
        },
        "paper_bgcolor": "white",
        "plot_bgcolor": "white",
        "template": {
         "data": {
          "bar": [
           {
            "error_x": {
             "color": "#2a3f5f"
            },
            "error_y": {
             "color": "#2a3f5f"
            },
            "marker": {
             "line": {
              "color": "#E5ECF6",
              "width": 0.5
             },
             "pattern": {
              "fillmode": "overlay",
              "size": 10,
              "solidity": 0.2
             }
            },
            "type": "bar"
           }
          ],
          "barpolar": [
           {
            "marker": {
             "line": {
              "color": "#E5ECF6",
              "width": 0.5
             },
             "pattern": {
              "fillmode": "overlay",
              "size": 10,
              "solidity": 0.2
             }
            },
            "type": "barpolar"
           }
          ],
          "carpet": [
           {
            "aaxis": {
             "endlinecolor": "#2a3f5f",
             "gridcolor": "white",
             "linecolor": "white",
             "minorgridcolor": "white",
             "startlinecolor": "#2a3f5f"
            },
            "baxis": {
             "endlinecolor": "#2a3f5f",
             "gridcolor": "white",
             "linecolor": "white",
             "minorgridcolor": "white",
             "startlinecolor": "#2a3f5f"
            },
            "type": "carpet"
           }
          ],
          "choropleth": [
           {
            "colorbar": {
             "outlinewidth": 0,
             "ticks": ""
            },
            "type": "choropleth"
           }
          ],
          "contour": [
           {
            "colorbar": {
             "outlinewidth": 0,
             "ticks": ""
            },
            "colorscale": [
             [
              0,
              "#0d0887"
             ],
             [
              0.1111111111111111,
              "#46039f"
             ],
             [
              0.2222222222222222,
              "#7201a8"
             ],
             [
              0.3333333333333333,
              "#9c179e"
             ],
             [
              0.4444444444444444,
              "#bd3786"
             ],
             [
              0.5555555555555556,
              "#d8576b"
             ],
             [
              0.6666666666666666,
              "#ed7953"
             ],
             [
              0.7777777777777778,
              "#fb9f3a"
             ],
             [
              0.8888888888888888,
              "#fdca26"
             ],
             [
              1,
              "#f0f921"
             ]
            ],
            "type": "contour"
           }
          ],
          "contourcarpet": [
           {
            "colorbar": {
             "outlinewidth": 0,
             "ticks": ""
            },
            "type": "contourcarpet"
           }
          ],
          "heatmap": [
           {
            "colorbar": {
             "outlinewidth": 0,
             "ticks": ""
            },
            "colorscale": [
             [
              0,
              "#0d0887"
             ],
             [
              0.1111111111111111,
              "#46039f"
             ],
             [
              0.2222222222222222,
              "#7201a8"
             ],
             [
              0.3333333333333333,
              "#9c179e"
             ],
             [
              0.4444444444444444,
              "#bd3786"
             ],
             [
              0.5555555555555556,
              "#d8576b"
             ],
             [
              0.6666666666666666,
              "#ed7953"
             ],
             [
              0.7777777777777778,
              "#fb9f3a"
             ],
             [
              0.8888888888888888,
              "#fdca26"
             ],
             [
              1,
              "#f0f921"
             ]
            ],
            "type": "heatmap"
           }
          ],
          "heatmapgl": [
           {
            "colorbar": {
             "outlinewidth": 0,
             "ticks": ""
            },
            "colorscale": [
             [
              0,
              "#0d0887"
             ],
             [
              0.1111111111111111,
              "#46039f"
             ],
             [
              0.2222222222222222,
              "#7201a8"
             ],
             [
              0.3333333333333333,
              "#9c179e"
             ],
             [
              0.4444444444444444,
              "#bd3786"
             ],
             [
              0.5555555555555556,
              "#d8576b"
             ],
             [
              0.6666666666666666,
              "#ed7953"
             ],
             [
              0.7777777777777778,
              "#fb9f3a"
             ],
             [
              0.8888888888888888,
              "#fdca26"
             ],
             [
              1,
              "#f0f921"
             ]
            ],
            "type": "heatmapgl"
           }
          ],
          "histogram": [
           {
            "marker": {
             "pattern": {
              "fillmode": "overlay",
              "size": 10,
              "solidity": 0.2
             }
            },
            "type": "histogram"
           }
          ],
          "histogram2d": [
           {
            "colorbar": {
             "outlinewidth": 0,
             "ticks": ""
            },
            "colorscale": [
             [
              0,
              "#0d0887"
             ],
             [
              0.1111111111111111,
              "#46039f"
             ],
             [
              0.2222222222222222,
              "#7201a8"
             ],
             [
              0.3333333333333333,
              "#9c179e"
             ],
             [
              0.4444444444444444,
              "#bd3786"
             ],
             [
              0.5555555555555556,
              "#d8576b"
             ],
             [
              0.6666666666666666,
              "#ed7953"
             ],
             [
              0.7777777777777778,
              "#fb9f3a"
             ],
             [
              0.8888888888888888,
              "#fdca26"
             ],
             [
              1,
              "#f0f921"
             ]
            ],
            "type": "histogram2d"
           }
          ],
          "histogram2dcontour": [
           {
            "colorbar": {
             "outlinewidth": 0,
             "ticks": ""
            },
            "colorscale": [
             [
              0,
              "#0d0887"
             ],
             [
              0.1111111111111111,
              "#46039f"
             ],
             [
              0.2222222222222222,
              "#7201a8"
             ],
             [
              0.3333333333333333,
              "#9c179e"
             ],
             [
              0.4444444444444444,
              "#bd3786"
             ],
             [
              0.5555555555555556,
              "#d8576b"
             ],
             [
              0.6666666666666666,
              "#ed7953"
             ],
             [
              0.7777777777777778,
              "#fb9f3a"
             ],
             [
              0.8888888888888888,
              "#fdca26"
             ],
             [
              1,
              "#f0f921"
             ]
            ],
            "type": "histogram2dcontour"
           }
          ],
          "mesh3d": [
           {
            "colorbar": {
             "outlinewidth": 0,
             "ticks": ""
            },
            "type": "mesh3d"
           }
          ],
          "parcoords": [
           {
            "line": {
             "colorbar": {
              "outlinewidth": 0,
              "ticks": ""
             }
            },
            "type": "parcoords"
           }
          ],
          "pie": [
           {
            "automargin": true,
            "type": "pie"
           }
          ],
          "scatter": [
           {
            "fillpattern": {
             "fillmode": "overlay",
             "size": 10,
             "solidity": 0.2
            },
            "type": "scatter"
           }
          ],
          "scatter3d": [
           {
            "line": {
             "colorbar": {
              "outlinewidth": 0,
              "ticks": ""
             }
            },
            "marker": {
             "colorbar": {
              "outlinewidth": 0,
              "ticks": ""
             }
            },
            "type": "scatter3d"
           }
          ],
          "scattercarpet": [
           {
            "marker": {
             "colorbar": {
              "outlinewidth": 0,
              "ticks": ""
             }
            },
            "type": "scattercarpet"
           }
          ],
          "scattergeo": [
           {
            "marker": {
             "colorbar": {
              "outlinewidth": 0,
              "ticks": ""
             }
            },
            "type": "scattergeo"
           }
          ],
          "scattergl": [
           {
            "marker": {
             "colorbar": {
              "outlinewidth": 0,
              "ticks": ""
             }
            },
            "type": "scattergl"
           }
          ],
          "scattermapbox": [
           {
            "marker": {
             "colorbar": {
              "outlinewidth": 0,
              "ticks": ""
             }
            },
            "type": "scattermapbox"
           }
          ],
          "scatterpolar": [
           {
            "marker": {
             "colorbar": {
              "outlinewidth": 0,
              "ticks": ""
             }
            },
            "type": "scatterpolar"
           }
          ],
          "scatterpolargl": [
           {
            "marker": {
             "colorbar": {
              "outlinewidth": 0,
              "ticks": ""
             }
            },
            "type": "scatterpolargl"
           }
          ],
          "scatterternary": [
           {
            "marker": {
             "colorbar": {
              "outlinewidth": 0,
              "ticks": ""
             }
            },
            "type": "scatterternary"
           }
          ],
          "surface": [
           {
            "colorbar": {
             "outlinewidth": 0,
             "ticks": ""
            },
            "colorscale": [
             [
              0,
              "#0d0887"
             ],
             [
              0.1111111111111111,
              "#46039f"
             ],
             [
              0.2222222222222222,
              "#7201a8"
             ],
             [
              0.3333333333333333,
              "#9c179e"
             ],
             [
              0.4444444444444444,
              "#bd3786"
             ],
             [
              0.5555555555555556,
              "#d8576b"
             ],
             [
              0.6666666666666666,
              "#ed7953"
             ],
             [
              0.7777777777777778,
              "#fb9f3a"
             ],
             [
              0.8888888888888888,
              "#fdca26"
             ],
             [
              1,
              "#f0f921"
             ]
            ],
            "type": "surface"
           }
          ],
          "table": [
           {
            "cells": {
             "fill": {
              "color": "#EBF0F8"
             },
             "line": {
              "color": "white"
             }
            },
            "header": {
             "fill": {
              "color": "#C8D4E3"
             },
             "line": {
              "color": "white"
             }
            },
            "type": "table"
           }
          ]
         },
         "layout": {
          "annotationdefaults": {
           "arrowcolor": "#2a3f5f",
           "arrowhead": 0,
           "arrowwidth": 1
          },
          "autotypenumbers": "strict",
          "coloraxis": {
           "colorbar": {
            "outlinewidth": 0,
            "ticks": ""
           }
          },
          "colorscale": {
           "diverging": [
            [
             0,
             "#8e0152"
            ],
            [
             0.1,
             "#c51b7d"
            ],
            [
             0.2,
             "#de77ae"
            ],
            [
             0.3,
             "#f1b6da"
            ],
            [
             0.4,
             "#fde0ef"
            ],
            [
             0.5,
             "#f7f7f7"
            ],
            [
             0.6,
             "#e6f5d0"
            ],
            [
             0.7,
             "#b8e186"
            ],
            [
             0.8,
             "#7fbc41"
            ],
            [
             0.9,
             "#4d9221"
            ],
            [
             1,
             "#276419"
            ]
           ],
           "sequential": [
            [
             0,
             "#0d0887"
            ],
            [
             0.1111111111111111,
             "#46039f"
            ],
            [
             0.2222222222222222,
             "#7201a8"
            ],
            [
             0.3333333333333333,
             "#9c179e"
            ],
            [
             0.4444444444444444,
             "#bd3786"
            ],
            [
             0.5555555555555556,
             "#d8576b"
            ],
            [
             0.6666666666666666,
             "#ed7953"
            ],
            [
             0.7777777777777778,
             "#fb9f3a"
            ],
            [
             0.8888888888888888,
             "#fdca26"
            ],
            [
             1,
             "#f0f921"
            ]
           ],
           "sequentialminus": [
            [
             0,
             "#0d0887"
            ],
            [
             0.1111111111111111,
             "#46039f"
            ],
            [
             0.2222222222222222,
             "#7201a8"
            ],
            [
             0.3333333333333333,
             "#9c179e"
            ],
            [
             0.4444444444444444,
             "#bd3786"
            ],
            [
             0.5555555555555556,
             "#d8576b"
            ],
            [
             0.6666666666666666,
             "#ed7953"
            ],
            [
             0.7777777777777778,
             "#fb9f3a"
            ],
            [
             0.8888888888888888,
             "#fdca26"
            ],
            [
             1,
             "#f0f921"
            ]
           ]
          },
          "colorway": [
           "#636efa",
           "#EF553B",
           "#00cc96",
           "#ab63fa",
           "#FFA15A",
           "#19d3f3",
           "#FF6692",
           "#B6E880",
           "#FF97FF",
           "#FECB52"
          ],
          "font": {
           "color": "#2a3f5f"
          },
          "geo": {
           "bgcolor": "white",
           "lakecolor": "white",
           "landcolor": "#E5ECF6",
           "showlakes": true,
           "showland": true,
           "subunitcolor": "white"
          },
          "hoverlabel": {
           "align": "left"
          },
          "hovermode": "closest",
          "mapbox": {
           "style": "light"
          },
          "paper_bgcolor": "white",
          "plot_bgcolor": "#E5ECF6",
          "polar": {
           "angularaxis": {
            "gridcolor": "white",
            "linecolor": "white",
            "ticks": ""
           },
           "bgcolor": "#E5ECF6",
           "radialaxis": {
            "gridcolor": "white",
            "linecolor": "white",
            "ticks": ""
           }
          },
          "scene": {
           "xaxis": {
            "backgroundcolor": "#E5ECF6",
            "gridcolor": "white",
            "gridwidth": 2,
            "linecolor": "white",
            "showbackground": true,
            "ticks": "",
            "zerolinecolor": "white"
           },
           "yaxis": {
            "backgroundcolor": "#E5ECF6",
            "gridcolor": "white",
            "gridwidth": 2,
            "linecolor": "white",
            "showbackground": true,
            "ticks": "",
            "zerolinecolor": "white"
           },
           "zaxis": {
            "backgroundcolor": "#E5ECF6",
            "gridcolor": "white",
            "gridwidth": 2,
            "linecolor": "white",
            "showbackground": true,
            "ticks": "",
            "zerolinecolor": "white"
           }
          },
          "shapedefaults": {
           "line": {
            "color": "#2a3f5f"
           }
          },
          "ternary": {
           "aaxis": {
            "gridcolor": "white",
            "linecolor": "white",
            "ticks": ""
           },
           "baxis": {
            "gridcolor": "white",
            "linecolor": "white",
            "ticks": ""
           },
           "bgcolor": "#E5ECF6",
           "caxis": {
            "gridcolor": "white",
            "linecolor": "white",
            "ticks": ""
           }
          },
          "title": {
           "x": 0.05
          },
          "xaxis": {
           "automargin": true,
           "gridcolor": "white",
           "linecolor": "white",
           "ticks": "",
           "title": {
            "standoff": 15
           },
           "zerolinecolor": "white",
           "zerolinewidth": 2
          },
          "yaxis": {
           "automargin": true,
           "gridcolor": "white",
           "linecolor": "white",
           "ticks": "",
           "title": {
            "standoff": 15
           },
           "zerolinecolor": "white",
           "zerolinewidth": 2
          }
         }
        },
        "title": {
         "font": {
          "color": "black",
          "family": "Bahnschrift",
          "size": 22
         },
         "text": "Porcentaje de datos faltantes por variable"
        },
        "xaxis": {
         "anchor": "y",
         "domain": [
          0,
          1
         ],
         "tickangle": -45,
         "title": {
          "text": "Variables"
         }
        },
        "yaxis": {
         "anchor": "x",
         "domain": [
          0,
          1
         ],
         "range": [
          0,
          110
         ],
         "title": {
          "text": "Porcentaje de datos Faltantes"
         }
        }
       }
      }
     },
     "metadata": {},
     "output_type": "display_data"
    }
   ],
   "source": [
    "color_scale = [\"#F8BBD0\", \"#F48FB1\", \"#F06292\", \"#EC407A\", \"#D81B60\"]\n",
    "\n",
    "fig = px.bar(\n",
    "    missing_percent, x = missing_percent.index, y = missing_percent.values,\n",
    "    labels = {'x': 'Variables', 'y': 'Porcentaje de datos Faltantes (%)'},\n",
    "    title = 'Porcentaje de datos faltantes por variable',\n",
    "    color = missing_percent.values, color_continuous_scale= color_scale, text = missing_percent.values.round(2))\n",
    "\n",
    "fig.update_layout(xaxis_title = 'Variables', yaxis_title = 'Porcentaje de datos Faltantes', title_font_size = 20, xaxis_tickangle = -45,\n",
    "    plot_bgcolor = 'white', paper_bgcolor = 'white',\n",
    "    font = dict(family = 'Bahnschrift', size = 14, color = 'black'),\n",
    "    title_font = dict(family = 'Bahnschrift', size = 22, color = 'black'),\n",
    "    yaxis = dict(range = [0, missing_percent.max() + 10]))\n",
    "\n",
    "fig.update_traces(textposition ='outside') # Para que el porcentaje se muestre fuera de la barra\n"
   ]
  },
  {
   "cell_type": "code",
   "execution_count": 626,
   "metadata": {},
   "outputs": [
    {
     "data": {
      "application/vnd.plotly.v1+json": {
       "config": {
        "plotlyServerURL": "https://plot.ly"
       },
       "data": [
        {
         "alignmentgroup": "True",
         "hovertemplate": "index=%{x}<br>Porcentaje de datos Faltantes (%)=%{y}<br>text=%{text}<br>color=%{marker.color}<extra></extra>",
         "legendgroup": "",
         "marker": {
          "color": [
           100,
           100,
           99.850647549553,
           99.63942051249226,
           99.37271970812263,
           98.97586891122063,
           98.59822057223325,
           98.48087221831061,
           98.04348289914442,
           93.35381595510893,
           85.70483688578805,
           84.81939021528089,
           75.80276942115258,
           65.5827945977085,
           65.45264460517612,
           63.99539141010049,
           63.99539141010049,
           63.99539141010049,
           63.525997994409956,
           59.13076873839852,
           58.78725810237043,
           57.889009793253535,
           37.98459536153961,
           37.3551814632273,
           28.052657406814742,
           27.719814802961444,
           27.55979432033967,
           27.521389404510444,
           27.521389404510444,
           27.521389404510444,
           27.521389404510444,
           0,
           0,
           0,
           0,
           0,
           0,
           0,
           0,
           0,
           0,
           0,
           0,
           0,
           0,
           0,
           0,
           0,
           0,
           0,
           0,
           0,
           0
          ],
          "coloraxis": "coloraxis",
          "pattern": {
           "shape": ""
          }
         },
         "name": "",
         "offsetgroup": "",
         "orientation": "v",
         "showlegend": false,
         "text": [
          100,
          100,
          99.85,
          99.64,
          99.37,
          98.98,
          98.6,
          98.48,
          98.04,
          93.35,
          85.7,
          84.82,
          75.8,
          65.58,
          65.45,
          64,
          64,
          64,
          63.53,
          59.13,
          58.79,
          57.89,
          37.98,
          37.36,
          28.05,
          27.72,
          27.56,
          27.52,
          27.52,
          27.52,
          27.52,
          0,
          0,
          0,
          0,
          0,
          0,
          0,
          0,
          0,
          0,
          0,
          0,
          0,
          0,
          0,
          0,
          0,
          0,
          0,
          0,
          0,
          0
         ],
         "textposition": "outside",
         "type": "bar",
         "x": [
          "codocur",
          "codmunoc",
          "c_mcm1",
          "C_ANT32",
          "C_DIR12",
          "C_ANT22",
          "C_ANT12",
          "C_PAT2",
          "SIMUERTEPO",
          "man_muer",
          "c_ant3",
          "c_pat1",
          "OCUPACION",
          "IDCLASADMI",
          "IDADMISALU",
          "MUERTEPORO",
          "IDPERTET",
          "IDPROFCER",
          "EDAD",
          "cod_inst",
          "nom_inst",
          "c_ant2",
          "c_ant1",
          "codpres",
          "c_muerte",
          "c_dir1",
          "area_res",
          "asis_med",
          "pman_muer",
          "seg_social",
          "causa_666",
          "filter_$",
          "c_bas1",
          "cau_homol",
          "AÑOL",
          "llave",
          "MAMA",
          "quinquenio",
          "CODPTO",
          "COD_DPTO",
          "cod_munic",
          "cons_exp",
          "codmunre",
          "codptore",
          "nivel_edu",
          "gru_ed1",
          "est_civil",
          "sexo",
          "mes",
          "ano",
          "sit_defun",
          "a_defun",
          "REGION"
         ],
         "xaxis": "x",
         "y": [
          100,
          100,
          99.850647549553,
          99.63942051249226,
          99.37271970812263,
          98.97586891122063,
          98.59822057223325,
          98.48087221831061,
          98.04348289914442,
          93.35381595510893,
          85.70483688578805,
          84.81939021528089,
          75.80276942115258,
          65.5827945977085,
          65.45264460517612,
          63.99539141010049,
          63.99539141010049,
          63.99539141010049,
          63.525997994409956,
          59.13076873839852,
          58.78725810237043,
          57.889009793253535,
          37.98459536153961,
          37.3551814632273,
          28.052657406814742,
          27.719814802961444,
          27.55979432033967,
          27.521389404510444,
          27.521389404510444,
          27.521389404510444,
          27.521389404510444,
          0,
          0,
          0,
          0,
          0,
          0,
          0,
          0,
          0,
          0,
          0,
          0,
          0,
          0,
          0,
          0,
          0,
          0,
          0,
          0,
          0,
          0
         ],
         "yaxis": "y"
        }
       ],
       "layout": {
        "barmode": "relative",
        "coloraxis": {
         "colorbar": {
          "title": {
           "text": "color"
          }
         },
         "colorscale": [
          [
           0,
           "#F8BBD0"
          ],
          [
           0.25,
           "#F48FB1"
          ],
          [
           0.5,
           "#F06292"
          ],
          [
           0.75,
           "#EC407A"
          ],
          [
           1,
           "#D81B60"
          ]
         ]
        },
        "font": {
         "color": "black",
         "family": "Bahnschrift",
         "size": 14
        },
        "legend": {
         "tracegroupgap": 0
        },
        "paper_bgcolor": "white",
        "plot_bgcolor": "white",
        "template": {
         "data": {
          "bar": [
           {
            "error_x": {
             "color": "#2a3f5f"
            },
            "error_y": {
             "color": "#2a3f5f"
            },
            "marker": {
             "line": {
              "color": "#E5ECF6",
              "width": 0.5
             },
             "pattern": {
              "fillmode": "overlay",
              "size": 10,
              "solidity": 0.2
             }
            },
            "type": "bar"
           }
          ],
          "barpolar": [
           {
            "marker": {
             "line": {
              "color": "#E5ECF6",
              "width": 0.5
             },
             "pattern": {
              "fillmode": "overlay",
              "size": 10,
              "solidity": 0.2
             }
            },
            "type": "barpolar"
           }
          ],
          "carpet": [
           {
            "aaxis": {
             "endlinecolor": "#2a3f5f",
             "gridcolor": "white",
             "linecolor": "white",
             "minorgridcolor": "white",
             "startlinecolor": "#2a3f5f"
            },
            "baxis": {
             "endlinecolor": "#2a3f5f",
             "gridcolor": "white",
             "linecolor": "white",
             "minorgridcolor": "white",
             "startlinecolor": "#2a3f5f"
            },
            "type": "carpet"
           }
          ],
          "choropleth": [
           {
            "colorbar": {
             "outlinewidth": 0,
             "ticks": ""
            },
            "type": "choropleth"
           }
          ],
          "contour": [
           {
            "colorbar": {
             "outlinewidth": 0,
             "ticks": ""
            },
            "colorscale": [
             [
              0,
              "#0d0887"
             ],
             [
              0.1111111111111111,
              "#46039f"
             ],
             [
              0.2222222222222222,
              "#7201a8"
             ],
             [
              0.3333333333333333,
              "#9c179e"
             ],
             [
              0.4444444444444444,
              "#bd3786"
             ],
             [
              0.5555555555555556,
              "#d8576b"
             ],
             [
              0.6666666666666666,
              "#ed7953"
             ],
             [
              0.7777777777777778,
              "#fb9f3a"
             ],
             [
              0.8888888888888888,
              "#fdca26"
             ],
             [
              1,
              "#f0f921"
             ]
            ],
            "type": "contour"
           }
          ],
          "contourcarpet": [
           {
            "colorbar": {
             "outlinewidth": 0,
             "ticks": ""
            },
            "type": "contourcarpet"
           }
          ],
          "heatmap": [
           {
            "colorbar": {
             "outlinewidth": 0,
             "ticks": ""
            },
            "colorscale": [
             [
              0,
              "#0d0887"
             ],
             [
              0.1111111111111111,
              "#46039f"
             ],
             [
              0.2222222222222222,
              "#7201a8"
             ],
             [
              0.3333333333333333,
              "#9c179e"
             ],
             [
              0.4444444444444444,
              "#bd3786"
             ],
             [
              0.5555555555555556,
              "#d8576b"
             ],
             [
              0.6666666666666666,
              "#ed7953"
             ],
             [
              0.7777777777777778,
              "#fb9f3a"
             ],
             [
              0.8888888888888888,
              "#fdca26"
             ],
             [
              1,
              "#f0f921"
             ]
            ],
            "type": "heatmap"
           }
          ],
          "heatmapgl": [
           {
            "colorbar": {
             "outlinewidth": 0,
             "ticks": ""
            },
            "colorscale": [
             [
              0,
              "#0d0887"
             ],
             [
              0.1111111111111111,
              "#46039f"
             ],
             [
              0.2222222222222222,
              "#7201a8"
             ],
             [
              0.3333333333333333,
              "#9c179e"
             ],
             [
              0.4444444444444444,
              "#bd3786"
             ],
             [
              0.5555555555555556,
              "#d8576b"
             ],
             [
              0.6666666666666666,
              "#ed7953"
             ],
             [
              0.7777777777777778,
              "#fb9f3a"
             ],
             [
              0.8888888888888888,
              "#fdca26"
             ],
             [
              1,
              "#f0f921"
             ]
            ],
            "type": "heatmapgl"
           }
          ],
          "histogram": [
           {
            "marker": {
             "pattern": {
              "fillmode": "overlay",
              "size": 10,
              "solidity": 0.2
             }
            },
            "type": "histogram"
           }
          ],
          "histogram2d": [
           {
            "colorbar": {
             "outlinewidth": 0,
             "ticks": ""
            },
            "colorscale": [
             [
              0,
              "#0d0887"
             ],
             [
              0.1111111111111111,
              "#46039f"
             ],
             [
              0.2222222222222222,
              "#7201a8"
             ],
             [
              0.3333333333333333,
              "#9c179e"
             ],
             [
              0.4444444444444444,
              "#bd3786"
             ],
             [
              0.5555555555555556,
              "#d8576b"
             ],
             [
              0.6666666666666666,
              "#ed7953"
             ],
             [
              0.7777777777777778,
              "#fb9f3a"
             ],
             [
              0.8888888888888888,
              "#fdca26"
             ],
             [
              1,
              "#f0f921"
             ]
            ],
            "type": "histogram2d"
           }
          ],
          "histogram2dcontour": [
           {
            "colorbar": {
             "outlinewidth": 0,
             "ticks": ""
            },
            "colorscale": [
             [
              0,
              "#0d0887"
             ],
             [
              0.1111111111111111,
              "#46039f"
             ],
             [
              0.2222222222222222,
              "#7201a8"
             ],
             [
              0.3333333333333333,
              "#9c179e"
             ],
             [
              0.4444444444444444,
              "#bd3786"
             ],
             [
              0.5555555555555556,
              "#d8576b"
             ],
             [
              0.6666666666666666,
              "#ed7953"
             ],
             [
              0.7777777777777778,
              "#fb9f3a"
             ],
             [
              0.8888888888888888,
              "#fdca26"
             ],
             [
              1,
              "#f0f921"
             ]
            ],
            "type": "histogram2dcontour"
           }
          ],
          "mesh3d": [
           {
            "colorbar": {
             "outlinewidth": 0,
             "ticks": ""
            },
            "type": "mesh3d"
           }
          ],
          "parcoords": [
           {
            "line": {
             "colorbar": {
              "outlinewidth": 0,
              "ticks": ""
             }
            },
            "type": "parcoords"
           }
          ],
          "pie": [
           {
            "automargin": true,
            "type": "pie"
           }
          ],
          "scatter": [
           {
            "fillpattern": {
             "fillmode": "overlay",
             "size": 10,
             "solidity": 0.2
            },
            "type": "scatter"
           }
          ],
          "scatter3d": [
           {
            "line": {
             "colorbar": {
              "outlinewidth": 0,
              "ticks": ""
             }
            },
            "marker": {
             "colorbar": {
              "outlinewidth": 0,
              "ticks": ""
             }
            },
            "type": "scatter3d"
           }
          ],
          "scattercarpet": [
           {
            "marker": {
             "colorbar": {
              "outlinewidth": 0,
              "ticks": ""
             }
            },
            "type": "scattercarpet"
           }
          ],
          "scattergeo": [
           {
            "marker": {
             "colorbar": {
              "outlinewidth": 0,
              "ticks": ""
             }
            },
            "type": "scattergeo"
           }
          ],
          "scattergl": [
           {
            "marker": {
             "colorbar": {
              "outlinewidth": 0,
              "ticks": ""
             }
            },
            "type": "scattergl"
           }
          ],
          "scattermapbox": [
           {
            "marker": {
             "colorbar": {
              "outlinewidth": 0,
              "ticks": ""
             }
            },
            "type": "scattermapbox"
           }
          ],
          "scatterpolar": [
           {
            "marker": {
             "colorbar": {
              "outlinewidth": 0,
              "ticks": ""
             }
            },
            "type": "scatterpolar"
           }
          ],
          "scatterpolargl": [
           {
            "marker": {
             "colorbar": {
              "outlinewidth": 0,
              "ticks": ""
             }
            },
            "type": "scatterpolargl"
           }
          ],
          "scatterternary": [
           {
            "marker": {
             "colorbar": {
              "outlinewidth": 0,
              "ticks": ""
             }
            },
            "type": "scatterternary"
           }
          ],
          "surface": [
           {
            "colorbar": {
             "outlinewidth": 0,
             "ticks": ""
            },
            "colorscale": [
             [
              0,
              "#0d0887"
             ],
             [
              0.1111111111111111,
              "#46039f"
             ],
             [
              0.2222222222222222,
              "#7201a8"
             ],
             [
              0.3333333333333333,
              "#9c179e"
             ],
             [
              0.4444444444444444,
              "#bd3786"
             ],
             [
              0.5555555555555556,
              "#d8576b"
             ],
             [
              0.6666666666666666,
              "#ed7953"
             ],
             [
              0.7777777777777778,
              "#fb9f3a"
             ],
             [
              0.8888888888888888,
              "#fdca26"
             ],
             [
              1,
              "#f0f921"
             ]
            ],
            "type": "surface"
           }
          ],
          "table": [
           {
            "cells": {
             "fill": {
              "color": "#EBF0F8"
             },
             "line": {
              "color": "white"
             }
            },
            "header": {
             "fill": {
              "color": "#C8D4E3"
             },
             "line": {
              "color": "white"
             }
            },
            "type": "table"
           }
          ]
         },
         "layout": {
          "annotationdefaults": {
           "arrowcolor": "#2a3f5f",
           "arrowhead": 0,
           "arrowwidth": 1
          },
          "autotypenumbers": "strict",
          "coloraxis": {
           "colorbar": {
            "outlinewidth": 0,
            "ticks": ""
           }
          },
          "colorscale": {
           "diverging": [
            [
             0,
             "#8e0152"
            ],
            [
             0.1,
             "#c51b7d"
            ],
            [
             0.2,
             "#de77ae"
            ],
            [
             0.3,
             "#f1b6da"
            ],
            [
             0.4,
             "#fde0ef"
            ],
            [
             0.5,
             "#f7f7f7"
            ],
            [
             0.6,
             "#e6f5d0"
            ],
            [
             0.7,
             "#b8e186"
            ],
            [
             0.8,
             "#7fbc41"
            ],
            [
             0.9,
             "#4d9221"
            ],
            [
             1,
             "#276419"
            ]
           ],
           "sequential": [
            [
             0,
             "#0d0887"
            ],
            [
             0.1111111111111111,
             "#46039f"
            ],
            [
             0.2222222222222222,
             "#7201a8"
            ],
            [
             0.3333333333333333,
             "#9c179e"
            ],
            [
             0.4444444444444444,
             "#bd3786"
            ],
            [
             0.5555555555555556,
             "#d8576b"
            ],
            [
             0.6666666666666666,
             "#ed7953"
            ],
            [
             0.7777777777777778,
             "#fb9f3a"
            ],
            [
             0.8888888888888888,
             "#fdca26"
            ],
            [
             1,
             "#f0f921"
            ]
           ],
           "sequentialminus": [
            [
             0,
             "#0d0887"
            ],
            [
             0.1111111111111111,
             "#46039f"
            ],
            [
             0.2222222222222222,
             "#7201a8"
            ],
            [
             0.3333333333333333,
             "#9c179e"
            ],
            [
             0.4444444444444444,
             "#bd3786"
            ],
            [
             0.5555555555555556,
             "#d8576b"
            ],
            [
             0.6666666666666666,
             "#ed7953"
            ],
            [
             0.7777777777777778,
             "#fb9f3a"
            ],
            [
             0.8888888888888888,
             "#fdca26"
            ],
            [
             1,
             "#f0f921"
            ]
           ]
          },
          "colorway": [
           "#636efa",
           "#EF553B",
           "#00cc96",
           "#ab63fa",
           "#FFA15A",
           "#19d3f3",
           "#FF6692",
           "#B6E880",
           "#FF97FF",
           "#FECB52"
          ],
          "font": {
           "color": "#2a3f5f"
          },
          "geo": {
           "bgcolor": "white",
           "lakecolor": "white",
           "landcolor": "#E5ECF6",
           "showlakes": true,
           "showland": true,
           "subunitcolor": "white"
          },
          "hoverlabel": {
           "align": "left"
          },
          "hovermode": "closest",
          "mapbox": {
           "style": "light"
          },
          "paper_bgcolor": "white",
          "plot_bgcolor": "#E5ECF6",
          "polar": {
           "angularaxis": {
            "gridcolor": "white",
            "linecolor": "white",
            "ticks": ""
           },
           "bgcolor": "#E5ECF6",
           "radialaxis": {
            "gridcolor": "white",
            "linecolor": "white",
            "ticks": ""
           }
          },
          "scene": {
           "xaxis": {
            "backgroundcolor": "#E5ECF6",
            "gridcolor": "white",
            "gridwidth": 2,
            "linecolor": "white",
            "showbackground": true,
            "ticks": "",
            "zerolinecolor": "white"
           },
           "yaxis": {
            "backgroundcolor": "#E5ECF6",
            "gridcolor": "white",
            "gridwidth": 2,
            "linecolor": "white",
            "showbackground": true,
            "ticks": "",
            "zerolinecolor": "white"
           },
           "zaxis": {
            "backgroundcolor": "#E5ECF6",
            "gridcolor": "white",
            "gridwidth": 2,
            "linecolor": "white",
            "showbackground": true,
            "ticks": "",
            "zerolinecolor": "white"
           }
          },
          "shapedefaults": {
           "line": {
            "color": "#2a3f5f"
           }
          },
          "ternary": {
           "aaxis": {
            "gridcolor": "white",
            "linecolor": "white",
            "ticks": ""
           },
           "baxis": {
            "gridcolor": "white",
            "linecolor": "white",
            "ticks": ""
           },
           "bgcolor": "#E5ECF6",
           "caxis": {
            "gridcolor": "white",
            "linecolor": "white",
            "ticks": ""
           }
          },
          "title": {
           "x": 0.05
          },
          "xaxis": {
           "automargin": true,
           "gridcolor": "white",
           "linecolor": "white",
           "ticks": "",
           "title": {
            "standoff": 15
           },
           "zerolinecolor": "white",
           "zerolinewidth": 2
          },
          "yaxis": {
           "automargin": true,
           "gridcolor": "white",
           "linecolor": "white",
           "ticks": "",
           "title": {
            "standoff": 15
           },
           "zerolinecolor": "white",
           "zerolinewidth": 2
          }
         }
        },
        "title": {
         "font": {
          "color": "black",
          "family": "Bahnschrift",
          "size": 22
         },
         "text": "Porcentaje de datos faltantes por variable"
        },
        "xaxis": {
         "anchor": "y",
         "domain": [
          0,
          1
         ],
         "tickangle": -45,
         "title": {
          "text": "Variables"
         }
        },
        "yaxis": {
         "anchor": "x",
         "domain": [
          0,
          1
         ],
         "range": [
          0,
          110
         ],
         "title": {
          "text": "Porcentaje de datos Faltantes"
         }
        }
       }
      }
     },
     "metadata": {},
     "output_type": "display_data"
    }
   ],
   "source": [
    "\n",
    "fig.show()"
   ]
  },
  {
   "cell_type": "markdown",
   "metadata": {},
   "source": [
    "COMENTAR"
   ]
  },
  {
   "cell_type": "markdown",
   "metadata": {},
   "source": [
    "### **Eliminación de variables**"
   ]
  },
  {
   "cell_type": "markdown",
   "metadata": {},
   "source": [
    "\n",
    "Para optimizar el análisis, eliminamos ciertas variables que no aportan valor significativo. La decisión se tomó con base en los siguientes criterios:  \n",
    "\n",
    "\n",
    "\n",
    "**1. Variables eliminadas por recomendación de expertos**  \n",
    "Los profesionales encargados del conjunto de datos recomendaron eliminar estas variables, ya que en este conjunto de datos NO son relevantes para el estudio y están representadas por otras variables:  \n",
    "(`cau_homol`, `EDAD`, `llave`, `filter_$`, `AÑOL`, `MAMA`)  \n",
    "\n",
    "\n",
    "\n",
    "**2. Variables eliminadas por más del 75% de datos faltantes**  \n",
    "Estas variables tienen un porcentaje muy alto de valores nulos, lo que dificulta su uso sin introducir sesgos en el análisis:  \n",
    "**Observación:** Debido al alto porcentaje de datos faltantes, estas variables no pueden ser imputadas de manera confiable. Además, su eliminación no afecta el análisis, ya que no aportan información relevante o pueden derivarse de otras variables presentes en el conjunto de datos.\n",
    "\n",
    "| Variable      | Porcentaje de Valores Nulos |\n",
    "|--------------|----------------------------|\n",
    "| `codocur`    | 100.00%                     |\n",
    "| `codmunoc`   | 100.00%                     |\n",
    "| `c_mcm1`     | 99.85%                      |\n",
    "| `C_ANT32`    | 99.64%                      |\n",
    "| `C_DIR12`    | 99.37%                      |\n",
    "| `C_ANT22`    | 98.98%                      |\n",
    "| `C_ANT12`    | 98.60%                      |\n",
    "| `C_PAT2`     | 98.48%                      |\n",
    "| `SIMUERTEPO` | 98.04%                      |\n",
    "| `man_muer`   | 93.35%                      |\n",
    "| `c_ant3`     | 85.70%                      |\n",
    "| `c_pat1`     | 84.82%                      |\n",
    "| `OCUPACION`  | 75.80%                      |\n",
    "\n",
    "\n",
    "**3. Variables que no son relevantes para el estudio**\n",
    "Estas variables NO serán utilizadas en el enfoque de este estudio y, además, presentan una cantidad significativa de valores nulos:\n",
    "\n",
    "| Variable     | Motivo de Eliminación                    | Porcentaje de Valores Nulos |\n",
    "|-------------|-----------------------------------------|----------------------------|\n",
    "| `a_defun`   | No aporta información relevante        | 0%                         |\n",
    "| `cod_inst`  | Código de institución poco útil. Alto porcentaje de datos faltantes. Quizás esta información de las instituciones sea antigua debido a las fechas en las que fueron tomadas estas observaciones. | 59.13%                     |\n",
    "| `nom_inst`  | Ocurre del mismo modo que el código de la institución. No se puede imputar porque no se podría garantizar la institución. | 58.79%                     |\n",
    "| `MUERTEPORO`| Alto número de faltantes. Adicional a ello, anteriormente la OCUPACIÓN fue eliminada por alto número de faltantes, entonces no tendría sentido analizar la muerte por ocupación sin tener la ocupación. | 63.99%                     |\n",
    "| `codpres`   | Código no relevante para el análisis   | 37.36%                     |\n",
    "| `codmunre`  | Código no relevante para el análisis   | 0%                         |\n",
    "| `area_res`  | Información no necesaria               | 27.56%                     |\n",
    "| `IDCLASADMI`| No aporta valor significativo y alto porcentaje de datos faltantes | 65.58%                     |\n",
    "| `cons_exp`  | Código sin valor significativo en el estudio | 0%                         |\n",
    "| `IDPROFCER` | No aporta valor significativo          | 63.99%                     |\n",
    "| `quinquenio`| Puede calcularse a partir de la edad. Nos interesa más centrarnos en año y mes  | 0%                         |\n",
    "\n"
   ]
  },
  {
   "cell_type": "code",
   "execution_count": 627,
   "metadata": {},
   "outputs": [],
   "source": [
    "data = data.drop(columns=[\n",
    "    'a_defun','cod_inst', 'nom_inst', 'MUERTEPORO', 'SIMUERTEPO', 'OCUPACION', \n",
    "    'codpres','codmunre', 'area_res', 'IDCLASADMI', 'cons_exp', 'man_muer' ,'codocur', 'codmunoc','C_DIR12', \n",
    "    'C_ANT12', 'C_ANT22','c_ant3', 'C_ANT32', 'c_pat1', 'C_PAT2',\n",
    "    'c_mcm1', 'IDPROFCER',  'cau_homol', 'EDAD', 'llave', 'filter_$','AÑOL', 'MAMA', 'quinquenio'\n",
    "])\n"
   ]
  },
  {
   "cell_type": "code",
   "execution_count": 628,
   "metadata": {},
   "outputs": [
    {
     "data": {
      "text/plain": [
       "(46869, 23)"
      ]
     },
     "execution_count": 628,
     "metadata": {},
     "output_type": "execute_result"
    }
   ],
   "source": [
    "data.shape"
   ]
  },
  {
   "cell_type": "markdown",
   "metadata": {},
   "source": [
    "Nótese que la eliminación se realizó de forma exitosa y ahora el conjunto de datos cuenta con solo **23** variables."
   ]
  },
  {
   "cell_type": "markdown",
   "metadata": {},
   "source": [
    "### **Renombrado de variables**"
   ]
  },
  {
   "cell_type": "code",
   "execution_count": 629,
   "metadata": {},
   "outputs": [],
   "source": [
    "data = data.rename(columns={\n",
    "    'COD_DPTO': 'depto_ocurr',  # Departamento donde ocurrió la defunción (DIVIPOLA)\n",
    "    'cod_munic': 'munic_ocurr',  # Municipio donde ocurrió la defunción (DIVIPOLA)\n",
    "    'sit_defun': 'sitio_def',  # Sitio de la defunción\n",
    "    'ano': 'año_def',  # Año en que ocurrió la defunción\n",
    "    'mes': 'mes_def',  # Mes en que ocurrió la defunción\n",
    "    'sexo': 'sexo',  # Sexo del fallecido\n",
    "    'est_civil': 'estado_civil',  # Estado conyugal del fallecido\n",
    "    'gru_ed1': 'grupo_edad',  # Agrupación de edades del fallecido\n",
    "    'nivel_edu': 'nivel_edu',  # Nivel educativo del fallecido\n",
    "    'IDPERTET': 'grupo_etnico',  # Pertenencia étnica del fallecido\n",
    "    'codptore': 'rec_etnico' , #De acuerdo con la cultura, pueblo o rasgos físicos, el fallecido\n",
    "    'CODPTO': 'depto_res',  # Departamento de residencia habitual del fallecido\n",
    "    'seg_social': 'seg_social',  # Régimen de seguridad social del fallecido\n",
    "    'IDADMISALU': 'ent_salud_cod',  # Código de la Entidad Administradora en Salud\n",
    "    'pman_muer': 'prob_muerte',  # Probable manera de muerte\n",
    "    'c_muerte': 'cert_medica',  # Cómo se determinó la causa de muerte\n",
    "    'asis_med': 'asistencia_med',  # Recibió asistencia médica antes de fallecer\n",
    "    'c_dir1': 'causa_directa',  # Causa directa de la defunción\n",
    "    'c_ant1': 'causa_ant_1',  # Primera causa antecedente\n",
    "    'c_ant2': 'causa_ant_2',  # Segunda causa antecedente\n",
    "    'c_bas1': 'causa_basica',  # Código de la causa básica de la defunción\n",
    "    'causa_666': 'causa_OPS',  # Causa agrupada según la lista OPS 6/67\n",
    "    'REGION': 'region'  # Región del país donde ocurrió la defunción\n",
    "})\n"
   ]
  },
  {
   "cell_type": "code",
   "execution_count": 630,
   "metadata": {},
   "outputs": [
    {
     "data": {
      "text/html": [
       "<div>\n",
       "<style scoped>\n",
       "    .dataframe tbody tr th:only-of-type {\n",
       "        vertical-align: middle;\n",
       "    }\n",
       "\n",
       "    .dataframe tbody tr th {\n",
       "        vertical-align: top;\n",
       "    }\n",
       "\n",
       "    .dataframe thead th {\n",
       "        text-align: right;\n",
       "    }\n",
       "</style>\n",
       "<table border=\"1\" class=\"dataframe\">\n",
       "  <thead>\n",
       "    <tr style=\"text-align: right;\">\n",
       "      <th></th>\n",
       "      <th>depto_ocurr</th>\n",
       "      <th>munic_ocurr</th>\n",
       "      <th>sitio_def</th>\n",
       "      <th>año_def</th>\n",
       "      <th>mes_def</th>\n",
       "      <th>sexo</th>\n",
       "      <th>estado_civil</th>\n",
       "      <th>grupo_edad</th>\n",
       "      <th>nivel_edu</th>\n",
       "      <th>grupo_etnico</th>\n",
       "      <th>...</th>\n",
       "      <th>prob_muerte</th>\n",
       "      <th>cert_medica</th>\n",
       "      <th>asistencia_med</th>\n",
       "      <th>causa_directa</th>\n",
       "      <th>causa_ant_1</th>\n",
       "      <th>causa_ant_2</th>\n",
       "      <th>causa_basica</th>\n",
       "      <th>causa_OPS</th>\n",
       "      <th>depto_res</th>\n",
       "      <th>region</th>\n",
       "    </tr>\n",
       "  </thead>\n",
       "  <tbody>\n",
       "    <tr>\n",
       "      <th>0</th>\n",
       "      <td>05</td>\n",
       "      <td>001</td>\n",
       "      <td>1</td>\n",
       "      <td>2014</td>\n",
       "      <td>07</td>\n",
       "      <td>2</td>\n",
       "      <td>1</td>\n",
       "      <td>10</td>\n",
       "      <td>3</td>\n",
       "      <td>6</td>\n",
       "      <td>...</td>\n",
       "      <td>1</td>\n",
       "      <td>2</td>\n",
       "      <td>1</td>\n",
       "      <td>J969</td>\n",
       "      <td>C782</td>\n",
       "      <td>C509</td>\n",
       "      <td>C509</td>\n",
       "      <td>208</td>\n",
       "      <td>05</td>\n",
       "      <td>1</td>\n",
       "    </tr>\n",
       "    <tr>\n",
       "      <th>1</th>\n",
       "      <td>05</td>\n",
       "      <td>045</td>\n",
       "      <td>1</td>\n",
       "      <td>1997</td>\n",
       "      <td>08</td>\n",
       "      <td>2</td>\n",
       "      <td>5</td>\n",
       "      <td>10</td>\n",
       "      <td>9</td>\n",
       "      <td>NaN</td>\n",
       "      <td>...</td>\n",
       "      <td>NaN</td>\n",
       "      <td>NaN</td>\n",
       "      <td>NaN</td>\n",
       "      <td>NaN</td>\n",
       "      <td>NaN</td>\n",
       "      <td>NaN</td>\n",
       "      <td>C509</td>\n",
       "      <td>NaN</td>\n",
       "      <td>05</td>\n",
       "      <td>1</td>\n",
       "    </tr>\n",
       "    <tr>\n",
       "      <th>2</th>\n",
       "      <td>05</td>\n",
       "      <td>266</td>\n",
       "      <td>2</td>\n",
       "      <td>1986</td>\n",
       "      <td>04</td>\n",
       "      <td>2</td>\n",
       "      <td>1</td>\n",
       "      <td>10</td>\n",
       "      <td>9</td>\n",
       "      <td>NaN</td>\n",
       "      <td>...</td>\n",
       "      <td>NaN</td>\n",
       "      <td>NaN</td>\n",
       "      <td>NaN</td>\n",
       "      <td>NaN</td>\n",
       "      <td>NaN</td>\n",
       "      <td>NaN</td>\n",
       "      <td>1749</td>\n",
       "      <td>NaN</td>\n",
       "      <td>05</td>\n",
       "      <td>1</td>\n",
       "    </tr>\n",
       "    <tr>\n",
       "      <th>3</th>\n",
       "      <td>08</td>\n",
       "      <td>001</td>\n",
       "      <td>1</td>\n",
       "      <td>1989</td>\n",
       "      <td>07</td>\n",
       "      <td>2</td>\n",
       "      <td>2</td>\n",
       "      <td>10</td>\n",
       "      <td>9</td>\n",
       "      <td>NaN</td>\n",
       "      <td>...</td>\n",
       "      <td>NaN</td>\n",
       "      <td>NaN</td>\n",
       "      <td>NaN</td>\n",
       "      <td>NaN</td>\n",
       "      <td>NaN</td>\n",
       "      <td>NaN</td>\n",
       "      <td>1749</td>\n",
       "      <td>NaN</td>\n",
       "      <td>08</td>\n",
       "      <td>2</td>\n",
       "    </tr>\n",
       "    <tr>\n",
       "      <th>4</th>\n",
       "      <td>08</td>\n",
       "      <td>001</td>\n",
       "      <td>1</td>\n",
       "      <td>1998</td>\n",
       "      <td>08</td>\n",
       "      <td>2</td>\n",
       "      <td>2</td>\n",
       "      <td>10</td>\n",
       "      <td>3</td>\n",
       "      <td>NaN</td>\n",
       "      <td>...</td>\n",
       "      <td>1</td>\n",
       "      <td>2</td>\n",
       "      <td>1</td>\n",
       "      <td>J969</td>\n",
       "      <td>C780</td>\n",
       "      <td>C509</td>\n",
       "      <td>C509</td>\n",
       "      <td>208</td>\n",
       "      <td>08</td>\n",
       "      <td>2</td>\n",
       "    </tr>\n",
       "  </tbody>\n",
       "</table>\n",
       "<p>5 rows × 23 columns</p>\n",
       "</div>"
      ],
      "text/plain": [
       "  depto_ocurr munic_ocurr sitio_def  año_def mes_def sexo estado_civil  \\\n",
       "0          05         001         1     2014      07    2            1   \n",
       "1          05         045         1     1997      08    2            5   \n",
       "2          05         266         2     1986      04    2            1   \n",
       "3          08         001         1     1989      07    2            2   \n",
       "4          08         001         1     1998      08    2            2   \n",
       "\n",
       "  grupo_edad nivel_edu grupo_etnico  ... prob_muerte cert_medica  \\\n",
       "0         10         3            6  ...           1           2   \n",
       "1         10         9          NaN  ...         NaN         NaN   \n",
       "2         10         9          NaN  ...         NaN         NaN   \n",
       "3         10         9          NaN  ...         NaN         NaN   \n",
       "4         10         3          NaN  ...           1           2   \n",
       "\n",
       "  asistencia_med causa_directa causa_ant_1 causa_ant_2 causa_basica causa_OPS  \\\n",
       "0              1          J969        C782        C509         C509       208   \n",
       "1            NaN           NaN         NaN         NaN         C509       NaN   \n",
       "2            NaN           NaN         NaN         NaN         1749       NaN   \n",
       "3            NaN           NaN         NaN         NaN         1749       NaN   \n",
       "4              1          J969        C780        C509         C509       208   \n",
       "\n",
       "  depto_res region  \n",
       "0        05      1  \n",
       "1        05      1  \n",
       "2        05      1  \n",
       "3        08      2  \n",
       "4        08      2  \n",
       "\n",
       "[5 rows x 23 columns]"
      ]
     },
     "execution_count": 630,
     "metadata": {},
     "output_type": "execute_result"
    }
   ],
   "source": [
    "data.head()"
   ]
  },
  {
   "cell_type": "code",
   "execution_count": 631,
   "metadata": {},
   "outputs": [
    {
     "data": {
      "application/vnd.plotly.v1+json": {
       "config": {
        "plotlyServerURL": "https://plot.ly"
       },
       "data": [
        {
         "alignmentgroup": "True",
         "hovertemplate": "index=%{x}<br>Porcentaje de datos Faltantes (%)=%{y}<br>text=%{text}<br>color=%{marker.color}<extra></extra>",
         "legendgroup": "",
         "marker": {
          "color": [
           65.45264460517612,
           63.99539141010049,
           57.889009793253535,
           37.98459536153961,
           28.052657406814742,
           27.719814802961444,
           27.521389404510444,
           27.521389404510444,
           27.521389404510444,
           27.521389404510444,
           0,
           0,
           0,
           0,
           0,
           0,
           0,
           0,
           0,
           0,
           0,
           0,
           0
          ],
          "coloraxis": "coloraxis",
          "pattern": {
           "shape": ""
          }
         },
         "name": "",
         "offsetgroup": "",
         "orientation": "v",
         "showlegend": false,
         "text": [
          65.45,
          64,
          57.89,
          37.98,
          28.05,
          27.72,
          27.52,
          27.52,
          27.52,
          27.52,
          0,
          0,
          0,
          0,
          0,
          0,
          0,
          0,
          0,
          0,
          0,
          0,
          0
         ],
         "textposition": "outside",
         "type": "bar",
         "x": [
          "ent_salud_cod",
          "grupo_etnico",
          "causa_ant_2",
          "causa_ant_1",
          "cert_medica",
          "causa_directa",
          "seg_social",
          "causa_OPS",
          "asistencia_med",
          "prob_muerte",
          "depto_res",
          "causa_basica",
          "depto_ocurr",
          "munic_ocurr",
          "rec_etnico",
          "nivel_edu",
          "grupo_edad",
          "estado_civil",
          "sexo",
          "mes_def",
          "año_def",
          "sitio_def",
          "region"
         ],
         "xaxis": "x",
         "y": [
          65.45264460517612,
          63.99539141010049,
          57.889009793253535,
          37.98459536153961,
          28.052657406814742,
          27.719814802961444,
          27.521389404510444,
          27.521389404510444,
          27.521389404510444,
          27.521389404510444,
          0,
          0,
          0,
          0,
          0,
          0,
          0,
          0,
          0,
          0,
          0,
          0,
          0
         ],
         "yaxis": "y"
        }
       ],
       "layout": {
        "barmode": "relative",
        "coloraxis": {
         "colorbar": {
          "title": {
           "text": "color"
          }
         },
         "colorscale": [
          [
           0,
           "#F8BBD0"
          ],
          [
           0.25,
           "#F48FB1"
          ],
          [
           0.5,
           "#F06292"
          ],
          [
           0.75,
           "#EC407A"
          ],
          [
           1,
           "#D81B60"
          ]
         ]
        },
        "font": {
         "color": "black",
         "family": "Bahnschrift",
         "size": 14
        },
        "legend": {
         "tracegroupgap": 0
        },
        "paper_bgcolor": "white",
        "plot_bgcolor": "white",
        "template": {
         "data": {
          "bar": [
           {
            "error_x": {
             "color": "#2a3f5f"
            },
            "error_y": {
             "color": "#2a3f5f"
            },
            "marker": {
             "line": {
              "color": "#E5ECF6",
              "width": 0.5
             },
             "pattern": {
              "fillmode": "overlay",
              "size": 10,
              "solidity": 0.2
             }
            },
            "type": "bar"
           }
          ],
          "barpolar": [
           {
            "marker": {
             "line": {
              "color": "#E5ECF6",
              "width": 0.5
             },
             "pattern": {
              "fillmode": "overlay",
              "size": 10,
              "solidity": 0.2
             }
            },
            "type": "barpolar"
           }
          ],
          "carpet": [
           {
            "aaxis": {
             "endlinecolor": "#2a3f5f",
             "gridcolor": "white",
             "linecolor": "white",
             "minorgridcolor": "white",
             "startlinecolor": "#2a3f5f"
            },
            "baxis": {
             "endlinecolor": "#2a3f5f",
             "gridcolor": "white",
             "linecolor": "white",
             "minorgridcolor": "white",
             "startlinecolor": "#2a3f5f"
            },
            "type": "carpet"
           }
          ],
          "choropleth": [
           {
            "colorbar": {
             "outlinewidth": 0,
             "ticks": ""
            },
            "type": "choropleth"
           }
          ],
          "contour": [
           {
            "colorbar": {
             "outlinewidth": 0,
             "ticks": ""
            },
            "colorscale": [
             [
              0,
              "#0d0887"
             ],
             [
              0.1111111111111111,
              "#46039f"
             ],
             [
              0.2222222222222222,
              "#7201a8"
             ],
             [
              0.3333333333333333,
              "#9c179e"
             ],
             [
              0.4444444444444444,
              "#bd3786"
             ],
             [
              0.5555555555555556,
              "#d8576b"
             ],
             [
              0.6666666666666666,
              "#ed7953"
             ],
             [
              0.7777777777777778,
              "#fb9f3a"
             ],
             [
              0.8888888888888888,
              "#fdca26"
             ],
             [
              1,
              "#f0f921"
             ]
            ],
            "type": "contour"
           }
          ],
          "contourcarpet": [
           {
            "colorbar": {
             "outlinewidth": 0,
             "ticks": ""
            },
            "type": "contourcarpet"
           }
          ],
          "heatmap": [
           {
            "colorbar": {
             "outlinewidth": 0,
             "ticks": ""
            },
            "colorscale": [
             [
              0,
              "#0d0887"
             ],
             [
              0.1111111111111111,
              "#46039f"
             ],
             [
              0.2222222222222222,
              "#7201a8"
             ],
             [
              0.3333333333333333,
              "#9c179e"
             ],
             [
              0.4444444444444444,
              "#bd3786"
             ],
             [
              0.5555555555555556,
              "#d8576b"
             ],
             [
              0.6666666666666666,
              "#ed7953"
             ],
             [
              0.7777777777777778,
              "#fb9f3a"
             ],
             [
              0.8888888888888888,
              "#fdca26"
             ],
             [
              1,
              "#f0f921"
             ]
            ],
            "type": "heatmap"
           }
          ],
          "heatmapgl": [
           {
            "colorbar": {
             "outlinewidth": 0,
             "ticks": ""
            },
            "colorscale": [
             [
              0,
              "#0d0887"
             ],
             [
              0.1111111111111111,
              "#46039f"
             ],
             [
              0.2222222222222222,
              "#7201a8"
             ],
             [
              0.3333333333333333,
              "#9c179e"
             ],
             [
              0.4444444444444444,
              "#bd3786"
             ],
             [
              0.5555555555555556,
              "#d8576b"
             ],
             [
              0.6666666666666666,
              "#ed7953"
             ],
             [
              0.7777777777777778,
              "#fb9f3a"
             ],
             [
              0.8888888888888888,
              "#fdca26"
             ],
             [
              1,
              "#f0f921"
             ]
            ],
            "type": "heatmapgl"
           }
          ],
          "histogram": [
           {
            "marker": {
             "pattern": {
              "fillmode": "overlay",
              "size": 10,
              "solidity": 0.2
             }
            },
            "type": "histogram"
           }
          ],
          "histogram2d": [
           {
            "colorbar": {
             "outlinewidth": 0,
             "ticks": ""
            },
            "colorscale": [
             [
              0,
              "#0d0887"
             ],
             [
              0.1111111111111111,
              "#46039f"
             ],
             [
              0.2222222222222222,
              "#7201a8"
             ],
             [
              0.3333333333333333,
              "#9c179e"
             ],
             [
              0.4444444444444444,
              "#bd3786"
             ],
             [
              0.5555555555555556,
              "#d8576b"
             ],
             [
              0.6666666666666666,
              "#ed7953"
             ],
             [
              0.7777777777777778,
              "#fb9f3a"
             ],
             [
              0.8888888888888888,
              "#fdca26"
             ],
             [
              1,
              "#f0f921"
             ]
            ],
            "type": "histogram2d"
           }
          ],
          "histogram2dcontour": [
           {
            "colorbar": {
             "outlinewidth": 0,
             "ticks": ""
            },
            "colorscale": [
             [
              0,
              "#0d0887"
             ],
             [
              0.1111111111111111,
              "#46039f"
             ],
             [
              0.2222222222222222,
              "#7201a8"
             ],
             [
              0.3333333333333333,
              "#9c179e"
             ],
             [
              0.4444444444444444,
              "#bd3786"
             ],
             [
              0.5555555555555556,
              "#d8576b"
             ],
             [
              0.6666666666666666,
              "#ed7953"
             ],
             [
              0.7777777777777778,
              "#fb9f3a"
             ],
             [
              0.8888888888888888,
              "#fdca26"
             ],
             [
              1,
              "#f0f921"
             ]
            ],
            "type": "histogram2dcontour"
           }
          ],
          "mesh3d": [
           {
            "colorbar": {
             "outlinewidth": 0,
             "ticks": ""
            },
            "type": "mesh3d"
           }
          ],
          "parcoords": [
           {
            "line": {
             "colorbar": {
              "outlinewidth": 0,
              "ticks": ""
             }
            },
            "type": "parcoords"
           }
          ],
          "pie": [
           {
            "automargin": true,
            "type": "pie"
           }
          ],
          "scatter": [
           {
            "fillpattern": {
             "fillmode": "overlay",
             "size": 10,
             "solidity": 0.2
            },
            "type": "scatter"
           }
          ],
          "scatter3d": [
           {
            "line": {
             "colorbar": {
              "outlinewidth": 0,
              "ticks": ""
             }
            },
            "marker": {
             "colorbar": {
              "outlinewidth": 0,
              "ticks": ""
             }
            },
            "type": "scatter3d"
           }
          ],
          "scattercarpet": [
           {
            "marker": {
             "colorbar": {
              "outlinewidth": 0,
              "ticks": ""
             }
            },
            "type": "scattercarpet"
           }
          ],
          "scattergeo": [
           {
            "marker": {
             "colorbar": {
              "outlinewidth": 0,
              "ticks": ""
             }
            },
            "type": "scattergeo"
           }
          ],
          "scattergl": [
           {
            "marker": {
             "colorbar": {
              "outlinewidth": 0,
              "ticks": ""
             }
            },
            "type": "scattergl"
           }
          ],
          "scattermapbox": [
           {
            "marker": {
             "colorbar": {
              "outlinewidth": 0,
              "ticks": ""
             }
            },
            "type": "scattermapbox"
           }
          ],
          "scatterpolar": [
           {
            "marker": {
             "colorbar": {
              "outlinewidth": 0,
              "ticks": ""
             }
            },
            "type": "scatterpolar"
           }
          ],
          "scatterpolargl": [
           {
            "marker": {
             "colorbar": {
              "outlinewidth": 0,
              "ticks": ""
             }
            },
            "type": "scatterpolargl"
           }
          ],
          "scatterternary": [
           {
            "marker": {
             "colorbar": {
              "outlinewidth": 0,
              "ticks": ""
             }
            },
            "type": "scatterternary"
           }
          ],
          "surface": [
           {
            "colorbar": {
             "outlinewidth": 0,
             "ticks": ""
            },
            "colorscale": [
             [
              0,
              "#0d0887"
             ],
             [
              0.1111111111111111,
              "#46039f"
             ],
             [
              0.2222222222222222,
              "#7201a8"
             ],
             [
              0.3333333333333333,
              "#9c179e"
             ],
             [
              0.4444444444444444,
              "#bd3786"
             ],
             [
              0.5555555555555556,
              "#d8576b"
             ],
             [
              0.6666666666666666,
              "#ed7953"
             ],
             [
              0.7777777777777778,
              "#fb9f3a"
             ],
             [
              0.8888888888888888,
              "#fdca26"
             ],
             [
              1,
              "#f0f921"
             ]
            ],
            "type": "surface"
           }
          ],
          "table": [
           {
            "cells": {
             "fill": {
              "color": "#EBF0F8"
             },
             "line": {
              "color": "white"
             }
            },
            "header": {
             "fill": {
              "color": "#C8D4E3"
             },
             "line": {
              "color": "white"
             }
            },
            "type": "table"
           }
          ]
         },
         "layout": {
          "annotationdefaults": {
           "arrowcolor": "#2a3f5f",
           "arrowhead": 0,
           "arrowwidth": 1
          },
          "autotypenumbers": "strict",
          "coloraxis": {
           "colorbar": {
            "outlinewidth": 0,
            "ticks": ""
           }
          },
          "colorscale": {
           "diverging": [
            [
             0,
             "#8e0152"
            ],
            [
             0.1,
             "#c51b7d"
            ],
            [
             0.2,
             "#de77ae"
            ],
            [
             0.3,
             "#f1b6da"
            ],
            [
             0.4,
             "#fde0ef"
            ],
            [
             0.5,
             "#f7f7f7"
            ],
            [
             0.6,
             "#e6f5d0"
            ],
            [
             0.7,
             "#b8e186"
            ],
            [
             0.8,
             "#7fbc41"
            ],
            [
             0.9,
             "#4d9221"
            ],
            [
             1,
             "#276419"
            ]
           ],
           "sequential": [
            [
             0,
             "#0d0887"
            ],
            [
             0.1111111111111111,
             "#46039f"
            ],
            [
             0.2222222222222222,
             "#7201a8"
            ],
            [
             0.3333333333333333,
             "#9c179e"
            ],
            [
             0.4444444444444444,
             "#bd3786"
            ],
            [
             0.5555555555555556,
             "#d8576b"
            ],
            [
             0.6666666666666666,
             "#ed7953"
            ],
            [
             0.7777777777777778,
             "#fb9f3a"
            ],
            [
             0.8888888888888888,
             "#fdca26"
            ],
            [
             1,
             "#f0f921"
            ]
           ],
           "sequentialminus": [
            [
             0,
             "#0d0887"
            ],
            [
             0.1111111111111111,
             "#46039f"
            ],
            [
             0.2222222222222222,
             "#7201a8"
            ],
            [
             0.3333333333333333,
             "#9c179e"
            ],
            [
             0.4444444444444444,
             "#bd3786"
            ],
            [
             0.5555555555555556,
             "#d8576b"
            ],
            [
             0.6666666666666666,
             "#ed7953"
            ],
            [
             0.7777777777777778,
             "#fb9f3a"
            ],
            [
             0.8888888888888888,
             "#fdca26"
            ],
            [
             1,
             "#f0f921"
            ]
           ]
          },
          "colorway": [
           "#636efa",
           "#EF553B",
           "#00cc96",
           "#ab63fa",
           "#FFA15A",
           "#19d3f3",
           "#FF6692",
           "#B6E880",
           "#FF97FF",
           "#FECB52"
          ],
          "font": {
           "color": "#2a3f5f"
          },
          "geo": {
           "bgcolor": "white",
           "lakecolor": "white",
           "landcolor": "#E5ECF6",
           "showlakes": true,
           "showland": true,
           "subunitcolor": "white"
          },
          "hoverlabel": {
           "align": "left"
          },
          "hovermode": "closest",
          "mapbox": {
           "style": "light"
          },
          "paper_bgcolor": "white",
          "plot_bgcolor": "#E5ECF6",
          "polar": {
           "angularaxis": {
            "gridcolor": "white",
            "linecolor": "white",
            "ticks": ""
           },
           "bgcolor": "#E5ECF6",
           "radialaxis": {
            "gridcolor": "white",
            "linecolor": "white",
            "ticks": ""
           }
          },
          "scene": {
           "xaxis": {
            "backgroundcolor": "#E5ECF6",
            "gridcolor": "white",
            "gridwidth": 2,
            "linecolor": "white",
            "showbackground": true,
            "ticks": "",
            "zerolinecolor": "white"
           },
           "yaxis": {
            "backgroundcolor": "#E5ECF6",
            "gridcolor": "white",
            "gridwidth": 2,
            "linecolor": "white",
            "showbackground": true,
            "ticks": "",
            "zerolinecolor": "white"
           },
           "zaxis": {
            "backgroundcolor": "#E5ECF6",
            "gridcolor": "white",
            "gridwidth": 2,
            "linecolor": "white",
            "showbackground": true,
            "ticks": "",
            "zerolinecolor": "white"
           }
          },
          "shapedefaults": {
           "line": {
            "color": "#2a3f5f"
           }
          },
          "ternary": {
           "aaxis": {
            "gridcolor": "white",
            "linecolor": "white",
            "ticks": ""
           },
           "baxis": {
            "gridcolor": "white",
            "linecolor": "white",
            "ticks": ""
           },
           "bgcolor": "#E5ECF6",
           "caxis": {
            "gridcolor": "white",
            "linecolor": "white",
            "ticks": ""
           }
          },
          "title": {
           "x": 0.05
          },
          "xaxis": {
           "automargin": true,
           "gridcolor": "white",
           "linecolor": "white",
           "ticks": "",
           "title": {
            "standoff": 15
           },
           "zerolinecolor": "white",
           "zerolinewidth": 2
          },
          "yaxis": {
           "automargin": true,
           "gridcolor": "white",
           "linecolor": "white",
           "ticks": "",
           "title": {
            "standoff": 15
           },
           "zerolinecolor": "white",
           "zerolinewidth": 2
          }
         }
        },
        "title": {
         "font": {
          "color": "black",
          "family": "Bahnschrift",
          "size": 22
         },
         "text": "Porcentaje de datos faltantes por variable"
        },
        "xaxis": {
         "anchor": "y",
         "domain": [
          0,
          1
         ],
         "tickangle": -45,
         "title": {
          "text": "Variables"
         }
        },
        "yaxis": {
         "anchor": "x",
         "domain": [
          0,
          1
         ],
         "range": [
          0,
          75.45264460517612
         ],
         "title": {
          "text": "Porcentaje de datos Faltantes"
         }
        }
       }
      }
     },
     "metadata": {},
     "output_type": "display_data"
    }
   ],
   "source": [
    "missing_percent = (data.isnull().sum() / len(data)) * 100\n",
    "missing_percent = missing_percent.sort_values(ascending=False)\n",
    "color_scale = [\"#F8BBD0\", \"#F48FB1\", \"#F06292\", \"#EC407A\", \"#D81B60\"]\n",
    "\n",
    "fig = px.bar(\n",
    "    missing_percent, x = missing_percent.index, y = missing_percent.values,\n",
    "    labels = {'x': 'Variables', 'y': 'Porcentaje de datos Faltantes (%)'},\n",
    "    title = 'Porcentaje de datos faltantes por variable',\n",
    "    color = missing_percent.values, color_continuous_scale= color_scale, text = missing_percent.values.round(2))\n",
    "\n",
    "fig.update_layout(xaxis_title = 'Variables', yaxis_title = 'Porcentaje de datos Faltantes', title_font_size = 20, xaxis_tickangle = -45,\n",
    "    plot_bgcolor = 'white', paper_bgcolor = 'white',\n",
    "    font = dict(family = 'Bahnschrift', size = 14, color = 'black'),\n",
    "    title_font = dict(family = 'Bahnschrift', size = 22, color = 'black'),\n",
    "    yaxis = dict(range = [0, missing_percent.max() + 10]))\n",
    "\n",
    "fig.update_traces(textposition ='outside') # Para que el porcentaje se muestre fuera de la barra\n",
    "\n",
    "fig.show()"
   ]
  },
  {
   "cell_type": "markdown",
   "metadata": {},
   "source": [
    "### **Re-estructuración de categorías por variables**"
   ]
  },
  {
   "cell_type": "markdown",
   "metadata": {},
   "source": [
    "#### **Variable: sexo**"
   ]
  },
  {
   "cell_type": "code",
   "execution_count": 632,
   "metadata": {},
   "outputs": [],
   "source": [
    "data['sexo'].replace('2', 'Femenino', inplace = True)"
   ]
  },
  {
   "cell_type": "markdown",
   "metadata": {},
   "source": [
    "#### **Variable: Mes de defunción**"
   ]
  },
  {
   "cell_type": "code",
   "execution_count": 633,
   "metadata": {},
   "outputs": [],
   "source": [
    "mes_dict_str = {\n",
    "    \"01\": \"Enero\", \"02\": \"Febrero\", \"03\": \"Marzo\", \"04\": \"Abril\",\n",
    "    \"05\": \"Mayo\", \"06\": \"Junio\", \"07\": \"Julio\", \"08\": \"Agosto\",\n",
    "    \"09\": \"Septiembre\", \"10\": \"Octubre\", \"11\": \"Noviembre\", \"12\": \"Diciembre\"\n",
    "}\n",
    "data['mes_def'] = data['mes_def'].astype(str).str.zfill(2).replace(mes_dict_str)\n"
   ]
  },
  {
   "cell_type": "markdown",
   "metadata": {},
   "source": [
    "#### **Variable: Estado civil**"
   ]
  },
  {
   "cell_type": "code",
   "execution_count": 634,
   "metadata": {},
   "outputs": [],
   "source": [
    "estado_civil_dict = {\"1\": \"Soltero\", \"2\": \"Casado\", \"3\": \"Viudo\", \"4\": \"Unión Libre, Divorciado/Otro\", \"5\": \"Sin información\"}\n",
    "data['estado_civil'] = data['estado_civil'].replace(estado_civil_dict)\n"
   ]
  },
  {
   "cell_type": "markdown",
   "metadata": {},
   "source": [
    "#### **Variable: Sitio de defunción**"
   ]
  },
  {
   "cell_type": "code",
   "execution_count": 635,
   "metadata": {},
   "outputs": [],
   "source": [
    "sitio_def_dict = {\"1\": \"Hospital o Clínica\", \"2\": \"Casa\", \"3\": \"Otro Sitio\", \"4\": \"Sin información\"}\n",
    "data['sitio_def'] = data['sitio_def'].astype(str).replace(sitio_def_dict)"
   ]
  },
  {
   "cell_type": "markdown",
   "metadata": {},
   "source": [
    "#### **Variable: Nivel educativo**"
   ]
  },
  {
   "cell_type": "code",
   "execution_count": 636,
   "metadata": {},
   "outputs": [],
   "source": [
    "nivel_edu_dict = {\"1\": \"Preescolar\", \"2\": \"Primaria\", \"3\": \"Secundaria\", \"4\": \"Superior\", \"5\": \"Ninguno\", \"9\": \"Sin información\"}\n",
    "data['nivel_edu'] = data['nivel_edu'].astype(str).replace(nivel_edu_dict)\n"
   ]
  },
  {
   "cell_type": "markdown",
   "metadata": {},
   "source": [
    "#### **Variable: Región**"
   ]
  },
  {
   "cell_type": "code",
   "execution_count": 637,
   "metadata": {},
   "outputs": [
    {
     "data": {
      "text/plain": [
       "region\n",
       "1    29448\n",
       "3     8509\n",
       "2     7620\n",
       "4      939\n",
       "5      353\n",
       "Name: count, dtype: int64"
      ]
     },
     "execution_count": 637,
     "metadata": {},
     "output_type": "execute_result"
    }
   ],
   "source": [
    "data['region'].value_counts(dropna = False)"
   ]
  },
  {
   "cell_type": "code",
   "execution_count": 638,
   "metadata": {},
   "outputs": [],
   "source": [
    "region_dict = {\"1\": \"ANDINA\", \"2\": \"ATLANTICA\", \"3\": \"PACIFICA\", \"4\": \"ORINOQUIA\", \"5\": \"PACIFICA\"}\n",
    "data['region'] = data['region'].astype(str).replace(region_dict)\n"
   ]
  },
  {
   "cell_type": "markdown",
   "metadata": {},
   "source": [
    "#### **Variable: Causa agrupada con base en la Lista 6/67 de la OP**"
   ]
  },
  {
   "cell_type": "code",
   "execution_count": 639,
   "metadata": {},
   "outputs": [
    {
     "data": {
      "text/plain": [
       "causa_OPS\n",
       "208    33970\n",
       "NaN    12899\n",
       "Name: count, dtype: int64"
      ]
     },
     "execution_count": 639,
     "metadata": {},
     "output_type": "execute_result"
    }
   ],
   "source": [
    "data['causa_OPS'].value_counts(dropna = False)"
   ]
  },
  {
   "cell_type": "code",
   "execution_count": 640,
   "metadata": {},
   "outputs": [],
   "source": [
    "data['causa_OPS'].fillna('208', inplace = True) "
   ]
  },
  {
   "cell_type": "code",
   "execution_count": 641,
   "metadata": {},
   "outputs": [],
   "source": [
    "data['causa_OPS'].replace('208', 'Tumor Maligno', inplace = True)"
   ]
  },
  {
   "cell_type": "markdown",
   "metadata": {},
   "source": [
    "#### **Variable: Asistencia médica**"
   ]
  },
  {
   "cell_type": "code",
   "execution_count": 642,
   "metadata": {},
   "outputs": [],
   "source": [
    "data['asistencia_med'].fillna('4', inplace = True)\n",
    "asistencia_med_dict = {\"1\": \"SI\", \"2\": \"NO\", \"3\": \"Ignorado\", \"4\": \"Sin información\"}\n",
    "data['asistencia_med'] = data['asistencia_med'].astype(str).replace(asistencia_med_dict)\n"
   ]
  },
  {
   "cell_type": "markdown",
   "metadata": {},
   "source": [
    "#### **Variable: Probable manera de muerte**"
   ]
  },
  {
   "cell_type": "code",
   "execution_count": 643,
   "metadata": {},
   "outputs": [
    {
     "data": {
      "text/plain": [
       "prob_muerte\n",
       "1      33965\n",
       "NaN    12899\n",
       "3          5\n",
       "Name: count, dtype: int64"
      ]
     },
     "execution_count": 643,
     "metadata": {},
     "output_type": "execute_result"
    }
   ],
   "source": [
    "data['prob_muerte'].value_counts(dropna = False)"
   ]
  },
  {
   "cell_type": "code",
   "execution_count": 644,
   "metadata": {},
   "outputs": [],
   "source": [
    "data['prob_muerte'].replace('3', np.nan, inplace=True)"
   ]
  },
  {
   "cell_type": "code",
   "execution_count": 645,
   "metadata": {},
   "outputs": [],
   "source": [
    "data['prob_muerte'].value_counts(dropna = False)\n",
    "data['prob_muerte'].fillna('Sin información', inplace = True)"
   ]
  },
  {
   "cell_type": "code",
   "execution_count": 646,
   "metadata": {},
   "outputs": [],
   "source": [
    "prob_muerte_dict = {\"1\": \"Natural\", \"2\": \"Violenta\", \"3\": \"En estudio\"}\n",
    "data['prob_muerte'] = data['prob_muerte'].astype(str).replace(prob_muerte_dict)\n"
   ]
  },
  {
   "cell_type": "markdown",
   "metadata": {},
   "source": [
    "#### **Variable: Grupo de edad**"
   ]
  },
  {
   "cell_type": "code",
   "execution_count": 647,
   "metadata": {},
   "outputs": [
    {
     "data": {
      "text/plain": [
       "grupo_edad\n",
       "17    8052\n",
       "18    5938\n",
       "19    5260\n",
       "23    4910\n",
       "16    4702\n",
       "20    4486\n",
       "21    3922\n",
       "22    3238\n",
       "15    3200\n",
       "14    1881\n",
       "13     930\n",
       "12     267\n",
       "11      71\n",
       "10      12\n",
       "Name: count, dtype: int64"
      ]
     },
     "execution_count": 647,
     "metadata": {},
     "output_type": "execute_result"
    }
   ],
   "source": [
    "data['grupo_edad'].value_counts(dropna = False)\n"
   ]
  },
  {
   "cell_type": "code",
   "execution_count": 648,
   "metadata": {},
   "outputs": [],
   "source": [
    "data['grupo_edad'].fillna('25', inplace = True)"
   ]
  },
  {
   "cell_type": "code",
   "execution_count": 649,
   "metadata": {},
   "outputs": [],
   "source": [
    "grupo_edad_dict = {\n",
    "    \"10\": \"15-19 años\", \"11\": \"20-24 años\", \"12\": \"25-29 años\",\n",
    "    \"13\": \"30-34 años\", \"14\": \"35-39 años\", \"15\": \"40-44 años\",\n",
    "    \"16\": \"45-49 años\", \"17\": \"50-54 años\", \"18\": \"55-59 años\",\n",
    "    \"19\": \"60-64 años\", \"20\": \"65-69 años\", \"21\": \"70-74 años\",\n",
    "    \"22\": \"75-79 años\", \"23\": \"80-84 años\", \"24\": \"85+ años\",\n",
    "    \"25\": \"Edad desconocida\"\n",
    "}\n",
    "\n",
    "data['grupo_edad'] = data['grupo_edad'].astype(str).replace(grupo_edad_dict)\n"
   ]
  },
  {
   "cell_type": "code",
   "execution_count": 650,
   "metadata": {},
   "outputs": [
    {
     "data": {
      "text/plain": [
       "grupo_edad\n",
       "50-54 años    8052\n",
       "55-59 años    5938\n",
       "60-64 años    5260\n",
       "80-84 años    4910\n",
       "45-49 años    4702\n",
       "65-69 años    4486\n",
       "70-74 años    3922\n",
       "75-79 años    3238\n",
       "40-44 años    3200\n",
       "35-39 años    1881\n",
       "30-34 años     930\n",
       "25-29 años     267\n",
       "20-24 años      71\n",
       "15-19 años      12\n",
       "Name: count, dtype: int64"
      ]
     },
     "execution_count": 650,
     "metadata": {},
     "output_type": "execute_result"
    }
   ],
   "source": [
    "data['grupo_edad'].value_counts(dropna = False)"
   ]
  },
  {
   "cell_type": "markdown",
   "metadata": {},
   "source": [
    "#### **Variable: Seguridad social**"
   ]
  },
  {
   "cell_type": "code",
   "execution_count": 651,
   "metadata": {},
   "outputs": [
    {
     "data": {
      "text/plain": [
       "seg_social\n",
       "1      17658\n",
       "NaN    12899\n",
       "2      11095\n",
       "3       2706\n",
       "5        969\n",
       "4        854\n",
       "9        567\n",
       "6        121\n",
       "Name: count, dtype: int64"
      ]
     },
     "execution_count": 651,
     "metadata": {},
     "output_type": "execute_result"
    }
   ],
   "source": [
    "data['seg_social'].value_counts(dropna = False)"
   ]
  },
  {
   "cell_type": "code",
   "execution_count": 652,
   "metadata": {},
   "outputs": [],
   "source": [
    "data['seg_social'].fillna('9', inplace = True)"
   ]
  },
  {
   "cell_type": "code",
   "execution_count": 653,
   "metadata": {},
   "outputs": [],
   "source": [
    "seg_social_dict = {\n",
    "    \"1\": \"Contributivo\", \"2\": \"Subsidiado\", \"3\": \"Vinculado\",\n",
    "    \"4\": \"Particular\", \"5\": \"Otro\", \"6\": \"Ignorado\",\n",
    "    \"9\": \"Sin información\"\n",
    "}\n",
    "\n",
    "data['seg_social'] = data['seg_social'].astype(str).replace(seg_social_dict)\n"
   ]
  },
  {
   "cell_type": "markdown",
   "metadata": {},
   "source": [
    "#### **Variable: cert_medica - ¿Cómo se determino la muerte?**"
   ]
  },
  {
   "cell_type": "code",
   "execution_count": 654,
   "metadata": {},
   "outputs": [
    {
     "data": {
      "text/plain": [
       "cert_medica\n",
       "2      28059\n",
       "NaN    13148\n",
       "4       4715\n",
       "9        758\n",
       "1        122\n",
       "3         67\n",
       "Name: count, dtype: int64"
      ]
     },
     "execution_count": 654,
     "metadata": {},
     "output_type": "execute_result"
    }
   ],
   "source": [
    "data['cert_medica'].value_counts(dropna = False)"
   ]
  },
  {
   "cell_type": "code",
   "execution_count": 655,
   "metadata": {},
   "outputs": [],
   "source": [
    "data['cert_medica'].fillna('9', inplace = True)"
   ]
  },
  {
   "cell_type": "code",
   "execution_count": 656,
   "metadata": {},
   "outputs": [],
   "source": [
    "cert_medica_dict = {\n",
    "    \"1\": \"Necropsia\", \"2\": \"Historia clínica\", \"3\": \"Pruebas de laboratorio\",\n",
    "    \"4\": \"Interrogatorio a familiares o testigos\", \"9\": \"Sin información\"\n",
    "}\n",
    "data['cert_medica'] = data['cert_medica'].astype(str).replace(cert_medica_dict)"
   ]
  },
  {
   "cell_type": "markdown",
   "metadata": {},
   "source": [
    "#### **Variable: Código de la entidad administradora en salud a la que pertenecía el fallecido**"
   ]
  },
  {
   "cell_type": "code",
   "execution_count": 657,
   "metadata": {},
   "outputs": [
    {
     "data": {
      "text/plain": [
       "ent_salud_cod\n",
       "NaN    30677\n",
       "1       8497\n",
       "2       6375\n",
       "5        659\n",
       "9        507\n",
       "4        110\n",
       "3         44\n",
       "Name: count, dtype: int64"
      ]
     },
     "execution_count": 657,
     "metadata": {},
     "output_type": "execute_result"
    }
   ],
   "source": [
    "data['ent_salud_cod'].value_counts(dropna = False)\n"
   ]
  },
  {
   "cell_type": "code",
   "execution_count": 658,
   "metadata": {},
   "outputs": [],
   "source": [
    "data['ent_salud_cod'].fillna('9', inplace = True)"
   ]
  },
  {
   "cell_type": "code",
   "execution_count": 659,
   "metadata": {},
   "outputs": [],
   "source": [
    "ent_salud_dict = {\n",
    "    \"1\": \"EPS\", \"2\": \"EPS - Subsidiado\", \"3\": \"EAPB\",\n",
    "    \"4\": \"ESE\", \"5\": \"EESS\", \"9\": \"Sin información\"}\n",
    "data['ent_salud_cod'] = data['ent_salud_cod'].astype(str).replace(ent_salud_dict)"
   ]
  },
  {
   "cell_type": "markdown",
   "metadata": {},
   "source": [
    "#### **Variable: Grupo étnico**"
   ]
  },
  {
   "cell_type": "code",
   "execution_count": 660,
   "metadata": {},
   "outputs": [
    {
     "data": {
      "text/plain": [
       "grupo_etnico\n",
       "NaN    29994\n",
       "6      14549\n",
       "9       1285\n",
       "5        894\n",
       "1         87\n",
       "2         33\n",
       "3         21\n",
       "4          6\n",
       "Name: count, dtype: int64"
      ]
     },
     "execution_count": 660,
     "metadata": {},
     "output_type": "execute_result"
    }
   ],
   "source": [
    "data['grupo_etnico'].value_counts(dropna = False)"
   ]
  },
  {
   "cell_type": "code",
   "execution_count": 661,
   "metadata": {},
   "outputs": [],
   "source": [
    "data['grupo_etnico'].fillna('9', inplace = True)"
   ]
  },
  {
   "cell_type": "code",
   "execution_count": 662,
   "metadata": {},
   "outputs": [],
   "source": [
    "grupo_etnico_dict = {\n",
    "    \"1\": \"Indígena\", \"2\": \"Rom (Gitano)\", \n",
    "    \"3\": \"Raizal del archipiélago de San Andrés y Providencia\",\n",
    "    \"4\": \"Palenquero de San Basilio\", \n",
    "    \"5\": \"Negro(a), mulato(a), afrocolombiano(a) o afrodescendiente\",\n",
    "    \"6\": \"Ninguno de los anteriores\", \"9\": \"Sin información\"\n",
    "}\n",
    "\n",
    "data['grupo_etnico'] = data['grupo_etnico'].astype(str).replace(grupo_etnico_dict)\n"
   ]
  },
  {
   "cell_type": "markdown",
   "metadata": {},
   "source": [
    "#### **Variable: municipio de defunción**"
   ]
  },
  {
   "cell_type": "code",
   "execution_count": 663,
   "metadata": {},
   "outputs": [],
   "source": [
    "data[\"municipio\"] = data[\"depto_ocurr\"].astype(str) + data[\"munic_ocurr\"].astype(str).str.zfill(3)"
   ]
  },
  {
   "cell_type": "markdown",
   "metadata": {},
   "source": [
    "## **Conjunto de datos 2: DIVIPOLA**"
   ]
  },
  {
   "cell_type": "markdown",
   "metadata": {},
   "source": [
    "\n",
    "Este conjunto de datos proporciona los códigos oficiales utilizados para identificar departamentos, municipios y otras divisiones territoriales. Estos códigos sirven como referencia en el Conjunto de Datos 1 para estandarizar la información geográfica y facilitar su análisis."
   ]
  },
  {
   "cell_type": "code",
   "execution_count": 664,
   "metadata": {},
   "outputs": [
    {
     "data": {
      "text/html": [
       "<div>\n",
       "<style scoped>\n",
       "    .dataframe tbody tr th:only-of-type {\n",
       "        vertical-align: middle;\n",
       "    }\n",
       "\n",
       "    .dataframe tbody tr th {\n",
       "        vertical-align: top;\n",
       "    }\n",
       "\n",
       "    .dataframe thead th {\n",
       "        text-align: right;\n",
       "    }\n",
       "</style>\n",
       "<table border=\"1\" class=\"dataframe\">\n",
       "  <thead>\n",
       "    <tr style=\"text-align: right;\">\n",
       "      <th></th>\n",
       "      <th>Código Departamento</th>\n",
       "      <th>Código Municipio</th>\n",
       "      <th>Código Centro Poblado</th>\n",
       "      <th>Nombre Departamento</th>\n",
       "      <th>Nombre Municipio</th>\n",
       "      <th>Nombre Centro Poblado</th>\n",
       "      <th>Tipo</th>\n",
       "    </tr>\n",
       "  </thead>\n",
       "  <tbody>\n",
       "    <tr>\n",
       "      <th>0</th>\n",
       "      <td>05</td>\n",
       "      <td>05001</td>\n",
       "      <td>05001000</td>\n",
       "      <td>ANTIOQUIA</td>\n",
       "      <td>MEDELLÍN</td>\n",
       "      <td>MEDELLÍN</td>\n",
       "      <td>CM</td>\n",
       "    </tr>\n",
       "    <tr>\n",
       "      <th>1</th>\n",
       "      <td>05</td>\n",
       "      <td>05001</td>\n",
       "      <td>05001001</td>\n",
       "      <td>ANTIOQUIA</td>\n",
       "      <td>MEDELLÍN</td>\n",
       "      <td>PALMITAS</td>\n",
       "      <td>C</td>\n",
       "    </tr>\n",
       "    <tr>\n",
       "      <th>2</th>\n",
       "      <td>05</td>\n",
       "      <td>05001</td>\n",
       "      <td>05001004</td>\n",
       "      <td>ANTIOQUIA</td>\n",
       "      <td>MEDELLÍN</td>\n",
       "      <td>SANTA ELENA</td>\n",
       "      <td>C</td>\n",
       "    </tr>\n",
       "    <tr>\n",
       "      <th>3</th>\n",
       "      <td>05</td>\n",
       "      <td>05001</td>\n",
       "      <td>05001005</td>\n",
       "      <td>ANTIOQUIA</td>\n",
       "      <td>MEDELLÍN</td>\n",
       "      <td>PEDREGAL ALTO</td>\n",
       "      <td>IPM</td>\n",
       "    </tr>\n",
       "    <tr>\n",
       "      <th>4</th>\n",
       "      <td>05</td>\n",
       "      <td>05001</td>\n",
       "      <td>05001009</td>\n",
       "      <td>ANTIOQUIA</td>\n",
       "      <td>MEDELLÍN</td>\n",
       "      <td>ALTAVISTA</td>\n",
       "      <td>C</td>\n",
       "    </tr>\n",
       "    <tr>\n",
       "      <th>5</th>\n",
       "      <td>05</td>\n",
       "      <td>05001</td>\n",
       "      <td>05001010</td>\n",
       "      <td>ANTIOQUIA</td>\n",
       "      <td>MEDELLÍN</td>\n",
       "      <td>AGUAS FRÍAS</td>\n",
       "      <td>CP</td>\n",
       "    </tr>\n",
       "    <tr>\n",
       "      <th>6</th>\n",
       "      <td>05</td>\n",
       "      <td>05001</td>\n",
       "      <td>05001012</td>\n",
       "      <td>ANTIOQUIA</td>\n",
       "      <td>MEDELLÍN</td>\n",
       "      <td>LA LOMA</td>\n",
       "      <td>CP</td>\n",
       "    </tr>\n",
       "    <tr>\n",
       "      <th>7</th>\n",
       "      <td>05</td>\n",
       "      <td>05001</td>\n",
       "      <td>05001013</td>\n",
       "      <td>ANTIOQUIA</td>\n",
       "      <td>MEDELLÍN</td>\n",
       "      <td>SAN JOSÉ DEL MANZANILLO</td>\n",
       "      <td>CP</td>\n",
       "    </tr>\n",
       "    <tr>\n",
       "      <th>8</th>\n",
       "      <td>05</td>\n",
       "      <td>05001</td>\n",
       "      <td>05001014</td>\n",
       "      <td>ANTIOQUIA</td>\n",
       "      <td>MEDELLÍN</td>\n",
       "      <td>BARRO BLANCO</td>\n",
       "      <td>CP</td>\n",
       "    </tr>\n",
       "    <tr>\n",
       "      <th>9</th>\n",
       "      <td>05</td>\n",
       "      <td>05001</td>\n",
       "      <td>05001015</td>\n",
       "      <td>ANTIOQUIA</td>\n",
       "      <td>MEDELLÍN</td>\n",
       "      <td>EL CERRO</td>\n",
       "      <td>CP</td>\n",
       "    </tr>\n",
       "    <tr>\n",
       "      <th>10</th>\n",
       "      <td>05</td>\n",
       "      <td>05001</td>\n",
       "      <td>05001017</td>\n",
       "      <td>ANTIOQUIA</td>\n",
       "      <td>MEDELLÍN</td>\n",
       "      <td>EL PATIO</td>\n",
       "      <td>CP</td>\n",
       "    </tr>\n",
       "    <tr>\n",
       "      <th>11</th>\n",
       "      <td>05</td>\n",
       "      <td>05001</td>\n",
       "      <td>05001018</td>\n",
       "      <td>ANTIOQUIA</td>\n",
       "      <td>MEDELLÍN</td>\n",
       "      <td>EL PLACER</td>\n",
       "      <td>CP</td>\n",
       "    </tr>\n",
       "    <tr>\n",
       "      <th>12</th>\n",
       "      <td>05</td>\n",
       "      <td>05001</td>\n",
       "      <td>05001019</td>\n",
       "      <td>ANTIOQUIA</td>\n",
       "      <td>MEDELLÍN</td>\n",
       "      <td>EL PLAN</td>\n",
       "      <td>CP</td>\n",
       "    </tr>\n",
       "    <tr>\n",
       "      <th>13</th>\n",
       "      <td>05</td>\n",
       "      <td>05001</td>\n",
       "      <td>05001020</td>\n",
       "      <td>ANTIOQUIA</td>\n",
       "      <td>MEDELLÍN</td>\n",
       "      <td>EL TESORO</td>\n",
       "      <td>CP</td>\n",
       "    </tr>\n",
       "    <tr>\n",
       "      <th>14</th>\n",
       "      <td>05</td>\n",
       "      <td>05001</td>\n",
       "      <td>05001022</td>\n",
       "      <td>ANTIOQUIA</td>\n",
       "      <td>MEDELLÍN</td>\n",
       "      <td>LA ALDEA</td>\n",
       "      <td>CP</td>\n",
       "    </tr>\n",
       "  </tbody>\n",
       "</table>\n",
       "</div>"
      ],
      "text/plain": [
       "   Código Departamento Código Municipio Código Centro Poblado  \\\n",
       "0                   05            05001              05001000   \n",
       "1                   05            05001              05001001   \n",
       "2                   05            05001              05001004   \n",
       "3                   05            05001              05001005   \n",
       "4                   05            05001              05001009   \n",
       "5                   05            05001              05001010   \n",
       "6                   05            05001              05001012   \n",
       "7                   05            05001              05001013   \n",
       "8                   05            05001              05001014   \n",
       "9                   05            05001              05001015   \n",
       "10                  05            05001              05001017   \n",
       "11                  05            05001              05001018   \n",
       "12                  05            05001              05001019   \n",
       "13                  05            05001              05001020   \n",
       "14                  05            05001              05001022   \n",
       "\n",
       "   Nombre Departamento Nombre Municipio    Nombre Centro Poblado Tipo  \n",
       "0            ANTIOQUIA         MEDELLÍN                 MEDELLÍN   CM  \n",
       "1            ANTIOQUIA         MEDELLÍN                 PALMITAS    C  \n",
       "2            ANTIOQUIA         MEDELLÍN              SANTA ELENA    C  \n",
       "3            ANTIOQUIA         MEDELLÍN            PEDREGAL ALTO  IPM  \n",
       "4            ANTIOQUIA         MEDELLÍN                ALTAVISTA    C  \n",
       "5            ANTIOQUIA         MEDELLÍN              AGUAS FRÍAS   CP  \n",
       "6            ANTIOQUIA         MEDELLÍN                  LA LOMA   CP  \n",
       "7            ANTIOQUIA         MEDELLÍN  SAN JOSÉ DEL MANZANILLO   CP  \n",
       "8            ANTIOQUIA         MEDELLÍN             BARRO BLANCO   CP  \n",
       "9            ANTIOQUIA         MEDELLÍN                 EL CERRO   CP  \n",
       "10           ANTIOQUIA         MEDELLÍN                 EL PATIO   CP  \n",
       "11           ANTIOQUIA         MEDELLÍN                EL PLACER   CP  \n",
       "12           ANTIOQUIA         MEDELLÍN                  EL PLAN   CP  \n",
       "13           ANTIOQUIA         MEDELLÍN                EL TESORO   CP  \n",
       "14           ANTIOQUIA         MEDELLÍN                 LA ALDEA   CP  "
      ]
     },
     "execution_count": 664,
     "metadata": {},
     "output_type": "execute_result"
    }
   ],
   "source": [
    "column_types = {\n",
    "    \"Código Departamento\": \"object\",\n",
    "    \"Código Municipio\": \"object\",\n",
    "    \"Código Centro Poblado\": \"object\",\n",
    "    \"Nombre Departamento\": \"object\",\n",
    "    \"Nombre Municipio\": \"object\",\n",
    "    \"Nombre Centro Poblado\t\": \"object\",\n",
    "    \"Tipo\": \"object\"\n",
    "}\n",
    "url = \"https://raw.githubusercontent.com/sePerezAlbor/Data/refs/heads/main/Divipola.csv\"\n",
    "data2 = pd.read_csv(url, delimiter = \",\", na_values = [\" \"], dtype = column_types)\n",
    "data2.head(15)"
   ]
  },
  {
   "cell_type": "code",
   "execution_count": 665,
   "metadata": {},
   "outputs": [
    {
     "data": {
      "text/plain": [
       "(9205, 7)"
      ]
     },
     "execution_count": 665,
     "metadata": {},
     "output_type": "execute_result"
    }
   ],
   "source": [
    "data2.shape"
   ]
  },
  {
   "cell_type": "code",
   "execution_count": 666,
   "metadata": {},
   "outputs": [
    {
     "name": "stdout",
     "output_type": "stream",
     "text": [
      "<class 'pandas.core.frame.DataFrame'>\n",
      "RangeIndex: 9205 entries, 0 to 9204\n",
      "Data columns (total 7 columns):\n",
      " #   Column                 Non-Null Count  Dtype \n",
      "---  ------                 --------------  ----- \n",
      " 0   Código Departamento    9205 non-null   object\n",
      " 1   Código Municipio       9205 non-null   object\n",
      " 2   Código Centro Poblado  9205 non-null   object\n",
      " 3   Nombre Departamento    9205 non-null   object\n",
      " 4   Nombre Municipio       9205 non-null   object\n",
      " 5   Nombre Centro Poblado  9205 non-null   object\n",
      " 6   Tipo                   9205 non-null   object\n",
      "dtypes: object(7)\n",
      "memory usage: 503.5+ KB\n"
     ]
    }
   ],
   "source": [
    "data2.info()"
   ]
  },
  {
   "cell_type": "markdown",
   "metadata": {},
   "source": [
    "Nótese que se cuenta con un conjunto de datos bastante completo. "
   ]
  },
  {
   "cell_type": "markdown",
   "metadata": {},
   "source": [
    "## **Conjunto de datos final**"
   ]
  },
  {
   "cell_type": "code",
   "execution_count": 667,
   "metadata": {},
   "outputs": [
    {
     "data": {
      "text/html": [
       "<div>\n",
       "<style scoped>\n",
       "    .dataframe tbody tr th:only-of-type {\n",
       "        vertical-align: middle;\n",
       "    }\n",
       "\n",
       "    .dataframe tbody tr th {\n",
       "        vertical-align: top;\n",
       "    }\n",
       "\n",
       "    .dataframe thead th {\n",
       "        text-align: right;\n",
       "    }\n",
       "</style>\n",
       "<table border=\"1\" class=\"dataframe\">\n",
       "  <thead>\n",
       "    <tr style=\"text-align: right;\">\n",
       "      <th></th>\n",
       "      <th>sitio_def</th>\n",
       "      <th>año_def</th>\n",
       "      <th>mes_def</th>\n",
       "      <th>sexo</th>\n",
       "      <th>estado_civil</th>\n",
       "      <th>grupo_edad</th>\n",
       "      <th>nivel_edu</th>\n",
       "      <th>grupo_etnico</th>\n",
       "      <th>rec_etnico</th>\n",
       "      <th>seg_social</th>\n",
       "      <th>...</th>\n",
       "      <th>asistencia_med</th>\n",
       "      <th>causa_directa</th>\n",
       "      <th>causa_ant_1</th>\n",
       "      <th>causa_ant_2</th>\n",
       "      <th>causa_basica</th>\n",
       "      <th>causa_OPS</th>\n",
       "      <th>depto_res</th>\n",
       "      <th>region</th>\n",
       "      <th>Nombre_Departamento</th>\n",
       "      <th>Nombre_Municipio</th>\n",
       "    </tr>\n",
       "  </thead>\n",
       "  <tbody>\n",
       "    <tr>\n",
       "      <th>0</th>\n",
       "      <td>Hospital o Clínica</td>\n",
       "      <td>2014</td>\n",
       "      <td>Julio</td>\n",
       "      <td>Femenino</td>\n",
       "      <td>Soltero</td>\n",
       "      <td>15-19 años</td>\n",
       "      <td>Secundaria</td>\n",
       "      <td>Ninguno de los anteriores</td>\n",
       "      <td>NaN</td>\n",
       "      <td>Subsidiado</td>\n",
       "      <td>...</td>\n",
       "      <td>SI</td>\n",
       "      <td>J969</td>\n",
       "      <td>C782</td>\n",
       "      <td>C509</td>\n",
       "      <td>C509</td>\n",
       "      <td>Tumor Maligno</td>\n",
       "      <td>ANTIOQUIA</td>\n",
       "      <td>ANDINA</td>\n",
       "      <td>ANTIOQUIA</td>\n",
       "      <td>MEDELLÍN</td>\n",
       "    </tr>\n",
       "    <tr>\n",
       "      <th>1</th>\n",
       "      <td>Hospital o Clínica</td>\n",
       "      <td>1997</td>\n",
       "      <td>Agosto</td>\n",
       "      <td>Femenino</td>\n",
       "      <td>Sin información</td>\n",
       "      <td>15-19 años</td>\n",
       "      <td>Sin información</td>\n",
       "      <td>Sin información</td>\n",
       "      <td>NaN</td>\n",
       "      <td>Sin información</td>\n",
       "      <td>...</td>\n",
       "      <td>Sin información</td>\n",
       "      <td>NaN</td>\n",
       "      <td>NaN</td>\n",
       "      <td>NaN</td>\n",
       "      <td>C509</td>\n",
       "      <td>Tumor Maligno</td>\n",
       "      <td>ANTIOQUIA</td>\n",
       "      <td>ANDINA</td>\n",
       "      <td>ANTIOQUIA</td>\n",
       "      <td>APARTADÓ</td>\n",
       "    </tr>\n",
       "    <tr>\n",
       "      <th>2</th>\n",
       "      <td>Casa</td>\n",
       "      <td>1986</td>\n",
       "      <td>Abril</td>\n",
       "      <td>Femenino</td>\n",
       "      <td>Soltero</td>\n",
       "      <td>15-19 años</td>\n",
       "      <td>Sin información</td>\n",
       "      <td>Sin información</td>\n",
       "      <td>NaN</td>\n",
       "      <td>Sin información</td>\n",
       "      <td>...</td>\n",
       "      <td>Sin información</td>\n",
       "      <td>NaN</td>\n",
       "      <td>NaN</td>\n",
       "      <td>NaN</td>\n",
       "      <td>1749</td>\n",
       "      <td>Tumor Maligno</td>\n",
       "      <td>ANTIOQUIA</td>\n",
       "      <td>ANDINA</td>\n",
       "      <td>ANTIOQUIA</td>\n",
       "      <td>ENVIGADO</td>\n",
       "    </tr>\n",
       "    <tr>\n",
       "      <th>3</th>\n",
       "      <td>Hospital o Clínica</td>\n",
       "      <td>1989</td>\n",
       "      <td>Julio</td>\n",
       "      <td>Femenino</td>\n",
       "      <td>Casado</td>\n",
       "      <td>15-19 años</td>\n",
       "      <td>Sin información</td>\n",
       "      <td>Sin información</td>\n",
       "      <td>NaN</td>\n",
       "      <td>Sin información</td>\n",
       "      <td>...</td>\n",
       "      <td>Sin información</td>\n",
       "      <td>NaN</td>\n",
       "      <td>NaN</td>\n",
       "      <td>NaN</td>\n",
       "      <td>1749</td>\n",
       "      <td>Tumor Maligno</td>\n",
       "      <td>ATLÁNTICO</td>\n",
       "      <td>ATLANTICA</td>\n",
       "      <td>ATLÁNTICO</td>\n",
       "      <td>BARRANQUILLA</td>\n",
       "    </tr>\n",
       "    <tr>\n",
       "      <th>4</th>\n",
       "      <td>Hospital o Clínica</td>\n",
       "      <td>1998</td>\n",
       "      <td>Agosto</td>\n",
       "      <td>Femenino</td>\n",
       "      <td>Casado</td>\n",
       "      <td>15-19 años</td>\n",
       "      <td>Secundaria</td>\n",
       "      <td>Sin información</td>\n",
       "      <td>ATLÁNTICO</td>\n",
       "      <td>Sin información</td>\n",
       "      <td>...</td>\n",
       "      <td>SI</td>\n",
       "      <td>J969</td>\n",
       "      <td>C780</td>\n",
       "      <td>C509</td>\n",
       "      <td>C509</td>\n",
       "      <td>Tumor Maligno</td>\n",
       "      <td>ATLÁNTICO</td>\n",
       "      <td>ATLANTICA</td>\n",
       "      <td>ATLÁNTICO</td>\n",
       "      <td>BARRANQUILLA</td>\n",
       "    </tr>\n",
       "  </tbody>\n",
       "</table>\n",
       "<p>5 rows × 23 columns</p>\n",
       "</div>"
      ],
      "text/plain": [
       "            sitio_def  año_def mes_def      sexo     estado_civil  grupo_edad  \\\n",
       "0  Hospital o Clínica     2014   Julio  Femenino          Soltero  15-19 años   \n",
       "1  Hospital o Clínica     1997  Agosto  Femenino  Sin información  15-19 años   \n",
       "2                Casa     1986   Abril  Femenino          Soltero  15-19 años   \n",
       "3  Hospital o Clínica     1989   Julio  Femenino           Casado  15-19 años   \n",
       "4  Hospital o Clínica     1998  Agosto  Femenino           Casado  15-19 años   \n",
       "\n",
       "         nivel_edu               grupo_etnico rec_etnico       seg_social  \\\n",
       "0       Secundaria  Ninguno de los anteriores        NaN       Subsidiado   \n",
       "1  Sin información            Sin información        NaN  Sin información   \n",
       "2  Sin información            Sin información        NaN  Sin información   \n",
       "3  Sin información            Sin información        NaN  Sin información   \n",
       "4       Secundaria            Sin información  ATLÁNTICO  Sin información   \n",
       "\n",
       "   ...   asistencia_med causa_directa causa_ant_1 causa_ant_2 causa_basica  \\\n",
       "0  ...               SI          J969        C782        C509         C509   \n",
       "1  ...  Sin información           NaN         NaN         NaN         C509   \n",
       "2  ...  Sin información           NaN         NaN         NaN         1749   \n",
       "3  ...  Sin información           NaN         NaN         NaN         1749   \n",
       "4  ...               SI          J969        C780        C509         C509   \n",
       "\n",
       "       causa_OPS  depto_res     region Nombre_Departamento Nombre_Municipio  \n",
       "0  Tumor Maligno  ANTIOQUIA     ANDINA           ANTIOQUIA         MEDELLÍN  \n",
       "1  Tumor Maligno  ANTIOQUIA     ANDINA           ANTIOQUIA         APARTADÓ  \n",
       "2  Tumor Maligno  ANTIOQUIA     ANDINA           ANTIOQUIA         ENVIGADO  \n",
       "3  Tumor Maligno  ATLÁNTICO  ATLANTICA           ATLÁNTICO     BARRANQUILLA  \n",
       "4  Tumor Maligno  ATLÁNTICO  ATLANTICA           ATLÁNTICO     BARRANQUILLA  \n",
       "\n",
       "[5 rows x 23 columns]"
      ]
     },
     "execution_count": 667,
     "metadata": {},
     "output_type": "execute_result"
    }
   ],
   "source": [
    "departamento_dict = dict(zip(data2['Código Departamento'], data2['Nombre Departamento']))\n",
    "municipio_dict = dict(zip(data2['Código Municipio'], data2['Nombre Municipio']))\n",
    "data['Nombre_Departamento'] = data['depto_ocurr'].map(departamento_dict)\n",
    "data['Nombre_Municipio'] = data['municipio'].map(municipio_dict)\n",
    "data['depto_res'] = data['depto_res'].map(departamento_dict)\n",
    "data['rec_etnico'] = data['rec_etnico'].map(departamento_dict)\n",
    "data = data.drop(columns = ['munic_ocurr', 'municipio', 'depto_ocurr']) \n",
    "data.head()\n"
   ]
  },
  {
   "cell_type": "code",
   "execution_count": 668,
   "metadata": {},
   "outputs": [
    {
     "name": "stdout",
     "output_type": "stream",
     "text": [
      "<class 'pandas.core.frame.DataFrame'>\n",
      "RangeIndex: 46869 entries, 0 to 46868\n",
      "Data columns (total 23 columns):\n",
      " #   Column               Non-Null Count  Dtype \n",
      "---  ------               --------------  ----- \n",
      " 0   sitio_def            46869 non-null  object\n",
      " 1   año_def              46869 non-null  Int64 \n",
      " 2   mes_def              46869 non-null  object\n",
      " 3   sexo                 46869 non-null  object\n",
      " 4   estado_civil         46869 non-null  object\n",
      " 5   grupo_edad           46869 non-null  object\n",
      " 6   nivel_edu            46869 non-null  object\n",
      " 7   grupo_etnico         46869 non-null  object\n",
      " 8   rec_etnico           17066 non-null  object\n",
      " 9   seg_social           46869 non-null  object\n",
      " 10  ent_salud_cod        46869 non-null  object\n",
      " 11  prob_muerte          46869 non-null  object\n",
      " 12  cert_medica          46869 non-null  object\n",
      " 13  asistencia_med       46869 non-null  object\n",
      " 14  causa_directa        33877 non-null  object\n",
      " 15  causa_ant_1          29066 non-null  object\n",
      " 16  causa_ant_2          19737 non-null  object\n",
      " 17  causa_basica         46869 non-null  object\n",
      " 18  causa_OPS            46869 non-null  object\n",
      " 19  depto_res            46869 non-null  object\n",
      " 20  region               46869 non-null  object\n",
      " 21  Nombre_Departamento  46869 non-null  object\n",
      " 22  Nombre_Municipio     46867 non-null  object\n",
      "dtypes: Int64(1), object(22)\n",
      "memory usage: 8.3+ MB\n"
     ]
    }
   ],
   "source": [
    "data.info()"
   ]
  },
  {
   "cell_type": "code",
   "execution_count": 669,
   "metadata": {},
   "outputs": [
    {
     "ename": "KeyError",
     "evalue": "\"['depto_ocurr', 'municipio'] not in index\"",
     "output_type": "error",
     "traceback": [
      "\u001b[1;31m---------------------------------------------------------------------------\u001b[0m",
      "\u001b[1;31mKeyError\u001b[0m                                  Traceback (most recent call last)",
      "Cell \u001b[1;32mIn[669], line 7\u001b[0m\n\u001b[0;32m      1\u001b[0m columnas_ordenadas \u001b[38;5;241m=\u001b[39m [\n\u001b[0;32m      2\u001b[0m     \u001b[38;5;124m'\u001b[39m\u001b[38;5;124mNombre_Departamento\u001b[39m\u001b[38;5;124m'\u001b[39m, \u001b[38;5;124m'\u001b[39m\u001b[38;5;124mNombre_Municipio\u001b[39m\u001b[38;5;124m'\u001b[39m, \u001b[38;5;124m'\u001b[39m\u001b[38;5;124msitio_def\u001b[39m\u001b[38;5;124m'\u001b[39m, \u001b[38;5;124m'\u001b[39m\u001b[38;5;124maño_def\u001b[39m\u001b[38;5;124m'\u001b[39m, \n\u001b[0;32m      3\u001b[0m     \u001b[38;5;124m'\u001b[39m\u001b[38;5;124mmes_def\u001b[39m\u001b[38;5;124m'\u001b[39m, \u001b[38;5;124m'\u001b[39m\u001b[38;5;124msexo\u001b[39m\u001b[38;5;124m'\u001b[39m, \u001b[38;5;124m'\u001b[39m\u001b[38;5;124mestado_civil\u001b[39m\u001b[38;5;124m'\u001b[39m, \u001b[38;5;124m'\u001b[39m\u001b[38;5;124mgrupo_edad\u001b[39m\u001b[38;5;124m'\u001b[39m, \u001b[38;5;124m'\u001b[39m\u001b[38;5;124mnivel_edu\u001b[39m\u001b[38;5;124m'\u001b[39m, \u001b[38;5;124m'\u001b[39m\u001b[38;5;124mgrupo_etnico\u001b[39m\u001b[38;5;124m'\u001b[39m,\u001b[38;5;124m'\u001b[39m\u001b[38;5;124mrec_etnico\u001b[39m\u001b[38;5;124m'\u001b[39m,\n\u001b[0;32m      4\u001b[0m     \u001b[38;5;124m'\u001b[39m\u001b[38;5;124mdepto_res\u001b[39m\u001b[38;5;124m'\u001b[39m, \u001b[38;5;124m'\u001b[39m\u001b[38;5;124mseg_social\u001b[39m\u001b[38;5;124m'\u001b[39m, \u001b[38;5;124m'\u001b[39m\u001b[38;5;124ment_salud_cod\u001b[39m\u001b[38;5;124m'\u001b[39m, \u001b[38;5;124m'\u001b[39m\u001b[38;5;124mprob_muerte\u001b[39m\u001b[38;5;124m'\u001b[39m, \u001b[38;5;124m'\u001b[39m\u001b[38;5;124mcert_medica\u001b[39m\u001b[38;5;124m'\u001b[39m, \u001b[38;5;124m'\u001b[39m\u001b[38;5;124masistencia_med\u001b[39m\u001b[38;5;124m'\u001b[39m,\n\u001b[0;32m      5\u001b[0m     \u001b[38;5;124m'\u001b[39m\u001b[38;5;124mcausa_directa\u001b[39m\u001b[38;5;124m'\u001b[39m, \u001b[38;5;124m'\u001b[39m\u001b[38;5;124mcausa_ant_1\u001b[39m\u001b[38;5;124m'\u001b[39m, \u001b[38;5;124m'\u001b[39m\u001b[38;5;124mcausa_ant_2\u001b[39m\u001b[38;5;124m'\u001b[39m, \u001b[38;5;124m'\u001b[39m\u001b[38;5;124mcausa_basica\u001b[39m\u001b[38;5;124m'\u001b[39m, \u001b[38;5;124m'\u001b[39m\u001b[38;5;124mcausa_OPS\u001b[39m\u001b[38;5;124m'\u001b[39m, \u001b[38;5;124m'\u001b[39m\u001b[38;5;124mregion\u001b[39m\u001b[38;5;124m'\u001b[39m, \u001b[38;5;124m'\u001b[39m\u001b[38;5;124mdepto_ocurr\u001b[39m\u001b[38;5;124m'\u001b[39m, \u001b[38;5;124m'\u001b[39m\u001b[38;5;124mmunicipio\u001b[39m\u001b[38;5;124m'\u001b[39m\n\u001b[0;32m      6\u001b[0m ]\n\u001b[1;32m----> 7\u001b[0m data_analisis \u001b[38;5;241m=\u001b[39m \u001b[43mdata\u001b[49m\u001b[43m[\u001b[49m\u001b[43mcolumnas_ordenadas\u001b[49m\u001b[43m]\u001b[49m\n",
      "File \u001b[1;32mc:\\Users\\kamac\\miniconda3\\envs\\data_viz\\lib\\site-packages\\pandas\\core\\frame.py:4108\u001b[0m, in \u001b[0;36mDataFrame.__getitem__\u001b[1;34m(self, key)\u001b[0m\n\u001b[0;32m   4106\u001b[0m     \u001b[38;5;28;01mif\u001b[39;00m is_iterator(key):\n\u001b[0;32m   4107\u001b[0m         key \u001b[38;5;241m=\u001b[39m \u001b[38;5;28mlist\u001b[39m(key)\n\u001b[1;32m-> 4108\u001b[0m     indexer \u001b[38;5;241m=\u001b[39m \u001b[38;5;28;43mself\u001b[39;49m\u001b[38;5;241;43m.\u001b[39;49m\u001b[43mcolumns\u001b[49m\u001b[38;5;241;43m.\u001b[39;49m\u001b[43m_get_indexer_strict\u001b[49m\u001b[43m(\u001b[49m\u001b[43mkey\u001b[49m\u001b[43m,\u001b[49m\u001b[43m \u001b[49m\u001b[38;5;124;43m\"\u001b[39;49m\u001b[38;5;124;43mcolumns\u001b[39;49m\u001b[38;5;124;43m\"\u001b[39;49m\u001b[43m)\u001b[49m[\u001b[38;5;241m1\u001b[39m]\n\u001b[0;32m   4110\u001b[0m \u001b[38;5;66;03m# take() does not accept boolean indexers\u001b[39;00m\n\u001b[0;32m   4111\u001b[0m \u001b[38;5;28;01mif\u001b[39;00m \u001b[38;5;28mgetattr\u001b[39m(indexer, \u001b[38;5;124m\"\u001b[39m\u001b[38;5;124mdtype\u001b[39m\u001b[38;5;124m\"\u001b[39m, \u001b[38;5;28;01mNone\u001b[39;00m) \u001b[38;5;241m==\u001b[39m \u001b[38;5;28mbool\u001b[39m:\n",
      "File \u001b[1;32mc:\\Users\\kamac\\miniconda3\\envs\\data_viz\\lib\\site-packages\\pandas\\core\\indexes\\base.py:6200\u001b[0m, in \u001b[0;36mIndex._get_indexer_strict\u001b[1;34m(self, key, axis_name)\u001b[0m\n\u001b[0;32m   6197\u001b[0m \u001b[38;5;28;01melse\u001b[39;00m:\n\u001b[0;32m   6198\u001b[0m     keyarr, indexer, new_indexer \u001b[38;5;241m=\u001b[39m \u001b[38;5;28mself\u001b[39m\u001b[38;5;241m.\u001b[39m_reindex_non_unique(keyarr)\n\u001b[1;32m-> 6200\u001b[0m \u001b[38;5;28;43mself\u001b[39;49m\u001b[38;5;241;43m.\u001b[39;49m\u001b[43m_raise_if_missing\u001b[49m\u001b[43m(\u001b[49m\u001b[43mkeyarr\u001b[49m\u001b[43m,\u001b[49m\u001b[43m \u001b[49m\u001b[43mindexer\u001b[49m\u001b[43m,\u001b[49m\u001b[43m \u001b[49m\u001b[43maxis_name\u001b[49m\u001b[43m)\u001b[49m\n\u001b[0;32m   6202\u001b[0m keyarr \u001b[38;5;241m=\u001b[39m \u001b[38;5;28mself\u001b[39m\u001b[38;5;241m.\u001b[39mtake(indexer)\n\u001b[0;32m   6203\u001b[0m \u001b[38;5;28;01mif\u001b[39;00m \u001b[38;5;28misinstance\u001b[39m(key, Index):\n\u001b[0;32m   6204\u001b[0m     \u001b[38;5;66;03m# GH 42790 - Preserve name from an Index\u001b[39;00m\n",
      "File \u001b[1;32mc:\\Users\\kamac\\miniconda3\\envs\\data_viz\\lib\\site-packages\\pandas\\core\\indexes\\base.py:6252\u001b[0m, in \u001b[0;36mIndex._raise_if_missing\u001b[1;34m(self, key, indexer, axis_name)\u001b[0m\n\u001b[0;32m   6249\u001b[0m     \u001b[38;5;28;01mraise\u001b[39;00m \u001b[38;5;167;01mKeyError\u001b[39;00m(\u001b[38;5;124mf\u001b[39m\u001b[38;5;124m\"\u001b[39m\u001b[38;5;124mNone of [\u001b[39m\u001b[38;5;132;01m{\u001b[39;00mkey\u001b[38;5;132;01m}\u001b[39;00m\u001b[38;5;124m] are in the [\u001b[39m\u001b[38;5;132;01m{\u001b[39;00maxis_name\u001b[38;5;132;01m}\u001b[39;00m\u001b[38;5;124m]\u001b[39m\u001b[38;5;124m\"\u001b[39m)\n\u001b[0;32m   6251\u001b[0m not_found \u001b[38;5;241m=\u001b[39m \u001b[38;5;28mlist\u001b[39m(ensure_index(key)[missing_mask\u001b[38;5;241m.\u001b[39mnonzero()[\u001b[38;5;241m0\u001b[39m]]\u001b[38;5;241m.\u001b[39munique())\n\u001b[1;32m-> 6252\u001b[0m \u001b[38;5;28;01mraise\u001b[39;00m \u001b[38;5;167;01mKeyError\u001b[39;00m(\u001b[38;5;124mf\u001b[39m\u001b[38;5;124m\"\u001b[39m\u001b[38;5;132;01m{\u001b[39;00mnot_found\u001b[38;5;132;01m}\u001b[39;00m\u001b[38;5;124m not in index\u001b[39m\u001b[38;5;124m\"\u001b[39m)\n",
      "\u001b[1;31mKeyError\u001b[0m: \"['depto_ocurr', 'municipio'] not in index\""
     ]
    }
   ],
   "source": [
    "columnas_ordenadas = [\n",
    "    'Nombre_Departamento', 'Nombre_Municipio', 'sitio_def', 'año_def', \n",
    "    'mes_def', 'sexo', 'estado_civil', 'grupo_edad', 'nivel_edu', 'grupo_etnico','rec_etnico',\n",
    "    'depto_res', 'seg_social', 'ent_salud_cod', 'prob_muerte', 'cert_medica', 'asistencia_med',\n",
    "    'causa_directa', 'causa_ant_1', 'causa_ant_2', 'causa_basica', 'causa_OPS', 'region', 'depto_ocurr', 'municipio'\n",
    "]\n",
    "data_analisis = data[columnas_ordenadas]"
   ]
  },
  {
   "cell_type": "code",
   "execution_count": null,
   "metadata": {},
   "outputs": [
    {
     "data": {
      "text/html": [
       "<div>\n",
       "<style scoped>\n",
       "    .dataframe tbody tr th:only-of-type {\n",
       "        vertical-align: middle;\n",
       "    }\n",
       "\n",
       "    .dataframe tbody tr th {\n",
       "        vertical-align: top;\n",
       "    }\n",
       "\n",
       "    .dataframe thead th {\n",
       "        text-align: right;\n",
       "    }\n",
       "</style>\n",
       "<table border=\"1\" class=\"dataframe\">\n",
       "  <thead>\n",
       "    <tr style=\"text-align: right;\">\n",
       "      <th></th>\n",
       "      <th>Nombre_Departamento</th>\n",
       "      <th>Nombre_Municipio</th>\n",
       "      <th>sitio_def</th>\n",
       "      <th>año_def</th>\n",
       "      <th>mes_def</th>\n",
       "      <th>sexo</th>\n",
       "      <th>estado_civil</th>\n",
       "      <th>grupo_edad</th>\n",
       "      <th>nivel_edu</th>\n",
       "      <th>grupo_etnico</th>\n",
       "      <th>...</th>\n",
       "      <th>cert_medica</th>\n",
       "      <th>asistencia_med</th>\n",
       "      <th>causa_directa</th>\n",
       "      <th>causa_ant_1</th>\n",
       "      <th>causa_ant_2</th>\n",
       "      <th>causa_basica</th>\n",
       "      <th>causa_OPS</th>\n",
       "      <th>region</th>\n",
       "      <th>depto_ocurr</th>\n",
       "      <th>municipio</th>\n",
       "    </tr>\n",
       "  </thead>\n",
       "  <tbody>\n",
       "    <tr>\n",
       "      <th>0</th>\n",
       "      <td>ANTIOQUIA</td>\n",
       "      <td>MEDELLÍN</td>\n",
       "      <td>Hospital o Clínica</td>\n",
       "      <td>2014</td>\n",
       "      <td>Julio</td>\n",
       "      <td>Femenino</td>\n",
       "      <td>Soltero</td>\n",
       "      <td>15-19 años</td>\n",
       "      <td>Secundaria</td>\n",
       "      <td>Ninguno de los anteriores</td>\n",
       "      <td>...</td>\n",
       "      <td>Historia clínica</td>\n",
       "      <td>SI</td>\n",
       "      <td>J969</td>\n",
       "      <td>C782</td>\n",
       "      <td>C509</td>\n",
       "      <td>C509</td>\n",
       "      <td>Tumor Maligno</td>\n",
       "      <td>ANDINA</td>\n",
       "      <td>05</td>\n",
       "      <td>05001</td>\n",
       "    </tr>\n",
       "    <tr>\n",
       "      <th>1</th>\n",
       "      <td>ANTIOQUIA</td>\n",
       "      <td>APARTADÓ</td>\n",
       "      <td>Hospital o Clínica</td>\n",
       "      <td>1997</td>\n",
       "      <td>Agosto</td>\n",
       "      <td>Femenino</td>\n",
       "      <td>Sin información</td>\n",
       "      <td>15-19 años</td>\n",
       "      <td>Sin información</td>\n",
       "      <td>Sin información</td>\n",
       "      <td>...</td>\n",
       "      <td>Sin información</td>\n",
       "      <td>Sin información</td>\n",
       "      <td>NaN</td>\n",
       "      <td>NaN</td>\n",
       "      <td>NaN</td>\n",
       "      <td>C509</td>\n",
       "      <td>Tumor Maligno</td>\n",
       "      <td>ANDINA</td>\n",
       "      <td>05</td>\n",
       "      <td>05045</td>\n",
       "    </tr>\n",
       "    <tr>\n",
       "      <th>2</th>\n",
       "      <td>ANTIOQUIA</td>\n",
       "      <td>ENVIGADO</td>\n",
       "      <td>Casa</td>\n",
       "      <td>1986</td>\n",
       "      <td>Abril</td>\n",
       "      <td>Femenino</td>\n",
       "      <td>Soltero</td>\n",
       "      <td>15-19 años</td>\n",
       "      <td>Sin información</td>\n",
       "      <td>Sin información</td>\n",
       "      <td>...</td>\n",
       "      <td>Sin información</td>\n",
       "      <td>Sin información</td>\n",
       "      <td>NaN</td>\n",
       "      <td>NaN</td>\n",
       "      <td>NaN</td>\n",
       "      <td>1749</td>\n",
       "      <td>Tumor Maligno</td>\n",
       "      <td>ANDINA</td>\n",
       "      <td>05</td>\n",
       "      <td>05266</td>\n",
       "    </tr>\n",
       "    <tr>\n",
       "      <th>3</th>\n",
       "      <td>ATLÁNTICO</td>\n",
       "      <td>BARRANQUILLA</td>\n",
       "      <td>Hospital o Clínica</td>\n",
       "      <td>1989</td>\n",
       "      <td>Julio</td>\n",
       "      <td>Femenino</td>\n",
       "      <td>Casado</td>\n",
       "      <td>15-19 años</td>\n",
       "      <td>Sin información</td>\n",
       "      <td>Sin información</td>\n",
       "      <td>...</td>\n",
       "      <td>Sin información</td>\n",
       "      <td>Sin información</td>\n",
       "      <td>NaN</td>\n",
       "      <td>NaN</td>\n",
       "      <td>NaN</td>\n",
       "      <td>1749</td>\n",
       "      <td>Tumor Maligno</td>\n",
       "      <td>ATLANTICA</td>\n",
       "      <td>08</td>\n",
       "      <td>08001</td>\n",
       "    </tr>\n",
       "    <tr>\n",
       "      <th>4</th>\n",
       "      <td>ATLÁNTICO</td>\n",
       "      <td>BARRANQUILLA</td>\n",
       "      <td>Hospital o Clínica</td>\n",
       "      <td>1998</td>\n",
       "      <td>Agosto</td>\n",
       "      <td>Femenino</td>\n",
       "      <td>Casado</td>\n",
       "      <td>15-19 años</td>\n",
       "      <td>Secundaria</td>\n",
       "      <td>Sin información</td>\n",
       "      <td>...</td>\n",
       "      <td>Historia clínica</td>\n",
       "      <td>SI</td>\n",
       "      <td>J969</td>\n",
       "      <td>C780</td>\n",
       "      <td>C509</td>\n",
       "      <td>C509</td>\n",
       "      <td>Tumor Maligno</td>\n",
       "      <td>ATLANTICA</td>\n",
       "      <td>08</td>\n",
       "      <td>08001</td>\n",
       "    </tr>\n",
       "  </tbody>\n",
       "</table>\n",
       "<p>5 rows × 25 columns</p>\n",
       "</div>"
      ],
      "text/plain": [
       "  Nombre_Departamento Nombre_Municipio           sitio_def  año_def mes_def  \\\n",
       "0           ANTIOQUIA         MEDELLÍN  Hospital o Clínica     2014   Julio   \n",
       "1           ANTIOQUIA         APARTADÓ  Hospital o Clínica     1997  Agosto   \n",
       "2           ANTIOQUIA         ENVIGADO                Casa     1986   Abril   \n",
       "3           ATLÁNTICO     BARRANQUILLA  Hospital o Clínica     1989   Julio   \n",
       "4           ATLÁNTICO     BARRANQUILLA  Hospital o Clínica     1998  Agosto   \n",
       "\n",
       "       sexo     estado_civil  grupo_edad        nivel_edu  \\\n",
       "0  Femenino          Soltero  15-19 años       Secundaria   \n",
       "1  Femenino  Sin información  15-19 años  Sin información   \n",
       "2  Femenino          Soltero  15-19 años  Sin información   \n",
       "3  Femenino           Casado  15-19 años  Sin información   \n",
       "4  Femenino           Casado  15-19 años       Secundaria   \n",
       "\n",
       "                grupo_etnico  ...       cert_medica   asistencia_med  \\\n",
       "0  Ninguno de los anteriores  ...  Historia clínica               SI   \n",
       "1            Sin información  ...   Sin información  Sin información   \n",
       "2            Sin información  ...   Sin información  Sin información   \n",
       "3            Sin información  ...   Sin información  Sin información   \n",
       "4            Sin información  ...  Historia clínica               SI   \n",
       "\n",
       "  causa_directa causa_ant_1 causa_ant_2 causa_basica      causa_OPS  \\\n",
       "0          J969        C782        C509         C509  Tumor Maligno   \n",
       "1           NaN         NaN         NaN         C509  Tumor Maligno   \n",
       "2           NaN         NaN         NaN         1749  Tumor Maligno   \n",
       "3           NaN         NaN         NaN         1749  Tumor Maligno   \n",
       "4          J969        C780        C509         C509  Tumor Maligno   \n",
       "\n",
       "      region depto_ocurr municipio  \n",
       "0     ANDINA          05     05001  \n",
       "1     ANDINA          05     05045  \n",
       "2     ANDINA          05     05266  \n",
       "3  ATLANTICA          08     08001  \n",
       "4  ATLANTICA          08     08001  \n",
       "\n",
       "[5 rows x 25 columns]"
      ]
     },
     "execution_count": 504,
     "metadata": {},
     "output_type": "execute_result"
    }
   ],
   "source": [
    "data_analisis.head()"
   ]
  },
  {
   "cell_type": "code",
   "execution_count": null,
   "metadata": {},
   "outputs": [],
   "source": [
    "data_analisis.to_excel('C:\\\\Users\\\\kamac\\\\OneDrive\\\\Desktop\\\\SeminarioInvestigativoUN\\\\docs\\\\data_analisis.xlsx', index=False, engine='openpyxl')"
   ]
  },
  {
   "cell_type": "markdown",
   "metadata": {},
   "source": [
    "```{note}\n",
    "\n",
    "En el siguiente enlace se encuentra el diccionario de variables utilizado en este proyecto: [Diccionario de Variables](https://kmarcela11.github.io/ProyectoFinal_SeminarioInvestigativo/variables.html)\n",
    "Este diccionario incluye una descripción detallada de cada una de las variables presentes en el conjunto de datos, facilitando su comprensión y el análisis del proyecto.\n",
    "\n",
    "```"
   ]
  },
  {
   "cell_type": "markdown",
   "metadata": {},
   "source": [
    "## **Referencias**\n",
    "```{bibliography} references.bib\n",
    ":style: plain\n"
   ]
  }
 ],
 "metadata": {
  "kernelspec": {
   "display_name": "data_viz",
   "language": "python",
   "name": "python3"
  },
  "language_info": {
   "codemirror_mode": {
    "name": "ipython",
    "version": 3
   },
   "file_extension": ".py",
   "mimetype": "text/x-python",
   "name": "python",
   "nbconvert_exporter": "python",
   "pygments_lexer": "ipython3",
   "version": "3.9.19"
  }
 },
 "nbformat": 4,
 "nbformat_minor": 2
}
