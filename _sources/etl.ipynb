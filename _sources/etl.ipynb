{
 "cells": [
  {
   "cell_type": "markdown",
   "metadata": {},
   "source": [
    "# **ETL: Limpieza y preparación de los datos**"
   ]
  },
  {
   "cell_type": "markdown",
   "metadata": {},
   "source": [
    "## **Líbrerias y módulos necesarios**"
   ]
  },
  {
   "cell_type": "code",
   "execution_count": 68,
   "metadata": {},
   "outputs": [],
   "source": [
    "import warnings\n",
    "import numpy as np\n",
    "import pandas as pd\n",
    "import sweetviz as sv\n",
    "import plotly.express as px\n",
    "warnings.filterwarnings('ignore')\n",
    "from funciones import grafico_datos_faltantes"
   ]
  },
  {
   "cell_type": "markdown",
   "metadata": {},
   "source": [
    "## **Conjunto de datos 1: Cáncer de mama**"
   ]
  },
  {
   "cell_type": "markdown",
   "metadata": {},
   "source": [
    "```{note}\n",
    "La información utilizada para este estudio está basada en el Certificado de Defunción del Ministerio de Salud de Colombia \n",
    "{cite}`minsalud_defuncion` . En este caso, observaciones sobre casos de defunción relacionados con el cáncer de mama. \n",
    "\n",
    "```"
   ]
  },
  {
   "cell_type": "markdown",
   "metadata": {},
   "source": [
    "Inicialmente, se importa el primer conjunto de datos que contiene información detallada sobre la defunción de pacientes debido al cáncer de mama."
   ]
  },
  {
   "cell_type": "code",
   "execution_count": 69,
   "metadata": {},
   "outputs": [],
   "source": [
    "url = \"https://raw.githubusercontent.com/sePerezAlbor/Data/refs/heads/main/MAMA8923.csv\"\n",
    "data = pd.read_csv(url, delimiter=\",\", na_values=[\" \"], low_memory=False)"
   ]
  },
  {
   "cell_type": "markdown",
   "metadata": {},
   "source": [
    "Veamos las primeras cinco observaciones para realizar un análisis inicial del conjunto de datos."
   ]
  },
  {
   "cell_type": "code",
   "execution_count": 70,
   "metadata": {},
   "outputs": [
    {
     "data": {
      "text/html": [
       "<div>\n",
       "<style scoped>\n",
       "    .dataframe tbody tr th:only-of-type {\n",
       "        vertical-align: middle;\n",
       "    }\n",
       "\n",
       "    .dataframe tbody tr th {\n",
       "        vertical-align: top;\n",
       "    }\n",
       "\n",
       "    .dataframe thead th {\n",
       "        text-align: right;\n",
       "    }\n",
       "</style>\n",
       "<table border=\"1\" class=\"dataframe\">\n",
       "  <thead>\n",
       "    <tr style=\"text-align: right;\">\n",
       "      <th></th>\n",
       "      <th>COD_DPTO</th>\n",
       "      <th>COD_MUNIC</th>\n",
       "      <th>A_DEFUN</th>\n",
       "      <th>ANO</th>\n",
       "      <th>MES</th>\n",
       "      <th>SEXO</th>\n",
       "      <th>GRU_ED1</th>\n",
       "      <th>EST_CIVIL</th>\n",
       "      <th>CODPTORE</th>\n",
       "      <th>CODMUNRE</th>\n",
       "      <th>...</th>\n",
       "      <th>C_ANT22</th>\n",
       "      <th>C_ANT32</th>\n",
       "      <th>C_PAT2</th>\n",
       "      <th>IDPROFCER</th>\n",
       "      <th>CAUSA_667</th>\n",
       "      <th>P_PMAN_IRIS</th>\n",
       "      <th>CAUSA_MULT</th>\n",
       "      <th>TIPOFORMULARIO</th>\n",
       "      <th>Year</th>\n",
       "      <th>filter_$</th>\n",
       "    </tr>\n",
       "  </thead>\n",
       "  <tbody>\n",
       "    <tr>\n",
       "      <th>0</th>\n",
       "      <td>50</td>\n",
       "      <td>1.0</td>\n",
       "      <td>1</td>\n",
       "      <td>1985</td>\n",
       "      <td>1</td>\n",
       "      <td>2</td>\n",
       "      <td>16</td>\n",
       "      <td>2</td>\n",
       "      <td>50.0</td>\n",
       "      <td>1.0</td>\n",
       "      <td>...</td>\n",
       "      <td>NaN</td>\n",
       "      <td>NaN</td>\n",
       "      <td>NaN</td>\n",
       "      <td>NaN</td>\n",
       "      <td>NaN</td>\n",
       "      <td>NaN</td>\n",
       "      <td>NaN</td>\n",
       "      <td>NaN</td>\n",
       "      <td>1985</td>\n",
       "      <td>Selected</td>\n",
       "    </tr>\n",
       "    <tr>\n",
       "      <th>1</th>\n",
       "      <td>15</td>\n",
       "      <td>861.0</td>\n",
       "      <td>2</td>\n",
       "      <td>1985</td>\n",
       "      <td>1</td>\n",
       "      <td>2</td>\n",
       "      <td>24</td>\n",
       "      <td>1</td>\n",
       "      <td>15.0</td>\n",
       "      <td>861.0</td>\n",
       "      <td>...</td>\n",
       "      <td>NaN</td>\n",
       "      <td>NaN</td>\n",
       "      <td>NaN</td>\n",
       "      <td>NaN</td>\n",
       "      <td>NaN</td>\n",
       "      <td>NaN</td>\n",
       "      <td>NaN</td>\n",
       "      <td>NaN</td>\n",
       "      <td>1985</td>\n",
       "      <td>Selected</td>\n",
       "    </tr>\n",
       "    <tr>\n",
       "      <th>2</th>\n",
       "      <td>50</td>\n",
       "      <td>573.0</td>\n",
       "      <td>1</td>\n",
       "      <td>1985</td>\n",
       "      <td>1</td>\n",
       "      <td>2</td>\n",
       "      <td>17</td>\n",
       "      <td>2</td>\n",
       "      <td>50.0</td>\n",
       "      <td>573.0</td>\n",
       "      <td>...</td>\n",
       "      <td>NaN</td>\n",
       "      <td>NaN</td>\n",
       "      <td>NaN</td>\n",
       "      <td>NaN</td>\n",
       "      <td>NaN</td>\n",
       "      <td>NaN</td>\n",
       "      <td>NaN</td>\n",
       "      <td>NaN</td>\n",
       "      <td>1985</td>\n",
       "      <td>Selected</td>\n",
       "    </tr>\n",
       "    <tr>\n",
       "      <th>3</th>\n",
       "      <td>41</td>\n",
       "      <td>1.0</td>\n",
       "      <td>1</td>\n",
       "      <td>1985</td>\n",
       "      <td>1</td>\n",
       "      <td>2</td>\n",
       "      <td>14</td>\n",
       "      <td>2</td>\n",
       "      <td>41.0</td>\n",
       "      <td>1.0</td>\n",
       "      <td>...</td>\n",
       "      <td>NaN</td>\n",
       "      <td>NaN</td>\n",
       "      <td>NaN</td>\n",
       "      <td>NaN</td>\n",
       "      <td>NaN</td>\n",
       "      <td>NaN</td>\n",
       "      <td>NaN</td>\n",
       "      <td>NaN</td>\n",
       "      <td>1985</td>\n",
       "      <td>Selected</td>\n",
       "    </tr>\n",
       "    <tr>\n",
       "      <th>4</th>\n",
       "      <td>41</td>\n",
       "      <td>1.0</td>\n",
       "      <td>1</td>\n",
       "      <td>1985</td>\n",
       "      <td>1</td>\n",
       "      <td>2</td>\n",
       "      <td>22</td>\n",
       "      <td>2</td>\n",
       "      <td>41.0</td>\n",
       "      <td>1.0</td>\n",
       "      <td>...</td>\n",
       "      <td>NaN</td>\n",
       "      <td>NaN</td>\n",
       "      <td>NaN</td>\n",
       "      <td>NaN</td>\n",
       "      <td>NaN</td>\n",
       "      <td>NaN</td>\n",
       "      <td>NaN</td>\n",
       "      <td>NaN</td>\n",
       "      <td>1985</td>\n",
       "      <td>Selected</td>\n",
       "    </tr>\n",
       "  </tbody>\n",
       "</table>\n",
       "<p>5 rows × 61 columns</p>\n",
       "</div>"
      ],
      "text/plain": [
       "   COD_DPTO  COD_MUNIC  A_DEFUN   ANO  MES  SEXO  GRU_ED1  EST_CIVIL  \\\n",
       "0        50        1.0        1  1985    1     2       16          2   \n",
       "1        15      861.0        2  1985    1     2       24          1   \n",
       "2        50      573.0        1  1985    1     2       17          2   \n",
       "3        41        1.0        1  1985    1     2       14          2   \n",
       "4        41        1.0        1  1985    1     2       22          2   \n",
       "\n",
       "   CODPTORE  CODMUNRE  ...  C_ANT22 C_ANT32  C_PAT2  IDPROFCER CAUSA_667  \\\n",
       "0      50.0       1.0  ...      NaN     NaN     NaN        NaN       NaN   \n",
       "1      15.0     861.0  ...      NaN     NaN     NaN        NaN       NaN   \n",
       "2      50.0     573.0  ...      NaN     NaN     NaN        NaN       NaN   \n",
       "3      41.0       1.0  ...      NaN     NaN     NaN        NaN       NaN   \n",
       "4      41.0       1.0  ...      NaN     NaN     NaN        NaN       NaN   \n",
       "\n",
       "   P_PMAN_IRIS CAUSA_MULT TIPOFORMULARIO  Year  filter_$  \n",
       "0          NaN        NaN            NaN  1985  Selected  \n",
       "1          NaN        NaN            NaN  1985  Selected  \n",
       "2          NaN        NaN            NaN  1985  Selected  \n",
       "3          NaN        NaN            NaN  1985  Selected  \n",
       "4          NaN        NaN            NaN  1985  Selected  \n",
       "\n",
       "[5 rows x 61 columns]"
      ]
     },
     "execution_count": 70,
     "metadata": {},
     "output_type": "execute_result"
    }
   ],
   "source": [
    "data.head()"
   ]
  },
  {
   "cell_type": "markdown",
   "metadata": {},
   "source": [
    "Las primeras cinco observaciones muestran datos con valores faltantes en varias columnas, diferencias en la codificación de variables y posibles inconsistencias en los identificadores de municipios e instituciones de salud. "
   ]
  },
  {
   "cell_type": "code",
   "execution_count": 71,
   "metadata": {},
   "outputs": [
    {
     "data": {
      "text/plain": [
       "(78481, 61)"
      ]
     },
     "execution_count": 71,
     "metadata": {},
     "output_type": "execute_result"
    }
   ],
   "source": [
    "data.shape"
   ]
  },
  {
   "cell_type": "markdown",
   "metadata": {},
   "source": [
    "El conjunto de datos inicial cuenta con **61** columnas (variables) y **78481** filas (observaciones)."
   ]
  },
  {
   "cell_type": "code",
   "execution_count": 72,
   "metadata": {},
   "outputs": [
    {
     "name": "stdout",
     "output_type": "stream",
     "text": [
      "<class 'pandas.core.frame.DataFrame'>\n",
      "RangeIndex: 78481 entries, 0 to 78480\n",
      "Data columns (total 61 columns):\n",
      " #   Column          Non-Null Count  Dtype  \n",
      "---  ------          --------------  -----  \n",
      " 0   COD_DPTO        78481 non-null  int64  \n",
      " 1   COD_MUNIC       78481 non-null  float64\n",
      " 2   A_DEFUN         78481 non-null  int64  \n",
      " 3   ANO             78481 non-null  int64  \n",
      " 4   MES             78481 non-null  int64  \n",
      " 5   SEXO            78481 non-null  int64  \n",
      " 6   GRU_ED1         78481 non-null  int64  \n",
      " 7   EST_CIVIL       78481 non-null  int64  \n",
      " 8   CODPTORE        78439 non-null  float64\n",
      " 9   CODMUNRE        78439 non-null  float64\n",
      " 10  SIT_DEFUN       78481 non-null  int64  \n",
      " 11  C_BAS1          78481 non-null  object \n",
      " 12  CONS_EXP        78481 non-null  int64  \n",
      " 13  CAU_HOMOL       78481 non-null  int64  \n",
      " 14  NOMBRE_ARCHIVO  78481 non-null  object \n",
      " 15  GRU_ED2         72563 non-null  float64\n",
      " 16  AREA_RES        72477 non-null  object \n",
      " 17  perman_mun      5705 non-null   object \n",
      " 18  PMAN_MUER       48206 non-null  float64\n",
      " 19  tiem_per        1095 non-null   object \n",
      " 20  COD_INST        28277 non-null  object \n",
      " 21  NOM_INST        28437 non-null  object \n",
      " 22  NIVEL_EDU       65541 non-null  float64\n",
      " 23  CODPRES         60921 non-null  float64\n",
      " 24  SEG_SOCIAL      65541 non-null  float64\n",
      " 25  EST_CIVM        3157 non-null   object \n",
      " 26  MAN_MUER        6307 non-null   object \n",
      " 27  CODOCUR         3159 non-null   object \n",
      " 28  CODMUNOC        3159 non-null   object \n",
      " 29  C_MUERTE        20514 non-null  object \n",
      " 30  ASIS_MED        65541 non-null  float64\n",
      " 31  C_DIR1          46783 non-null  object \n",
      " 32  C_ANT1          40888 non-null  object \n",
      " 33  C_ANT2          29123 non-null  object \n",
      " 34  C_ANT3          12184 non-null  object \n",
      " 35  C_PAT1          12776 non-null  object \n",
      " 36  C_MCM1          3240 non-null   object \n",
      " 37  CAUSA_666       43461 non-null  float64\n",
      " 38  OTRSITIODE      3286 non-null   object \n",
      " 39  HORA            48245 non-null  float64\n",
      " 40  SIMUERTEPO      4095 non-null   object \n",
      " 41  OCUPACION       37327 non-null  object \n",
      " 42  IDPERTET        48303 non-null  float64\n",
      " 43  IDADMISALUD     47286 non-null  object \n",
      " 44  IDCLASADMI      25396 non-null  object \n",
      " 45  C_MUERTEB       41233 non-null  object \n",
      " 46  C_MUERTEC       7519 non-null   object \n",
      " 47  C_MUERTED       17545 non-null  object \n",
      " 48  C_MUERTEE       3506 non-null   object \n",
      " 49  C_DIR12         3694 non-null   object \n",
      " 50  C_ANT12         4374 non-null   object \n",
      " 51  C_ANT22         4104 non-null   object \n",
      " 52  C_ANT32         3475 non-null   object \n",
      " 53  C_PAT2          4555 non-null   object \n",
      " 54  IDPROFCER       48303 non-null  float64\n",
      " 55  CAUSA_667       22080 non-null  float64\n",
      " 56  P_PMAN_IRIS     18652 non-null  float64\n",
      " 57  CAUSA_MULT      18652 non-null  object \n",
      " 58  TIPOFORMULARIO  7572 non-null   float64\n",
      " 59  Year            78481 non-null  int64  \n",
      " 60  filter_$        78481 non-null  object \n",
      "dtypes: float64(16), int64(11), object(34)\n",
      "memory usage: 36.5+ MB\n"
     ]
    }
   ],
   "source": [
    "data.info()"
   ]
  },
  {
   "cell_type": "markdown",
   "metadata": {},
   "source": [
    "A primera vista, observamos que las variables tienen nombres poco descriptivos, lo que dificulta la comprensión de su significado. Además, muchas de ellas están representadas como valores numéricos de tipo *float64*, aunque en realidad corresponden a categorías. Por ello, procederemos a redefinir los tipos de datos en función del significado de cada variable. También identificamos una alta presencia de datos faltantes en algunas columnas lo que requerirá un tratamiento adecuado más adelante."
   ]
  },
  {
   "cell_type": "code",
   "execution_count": 73,
   "metadata": {},
   "outputs": [],
   "source": [
    "column_types = {\n",
    "    \"COD_DPTO\": \"object\", \"COD_MUNIC\": \"object\", \"A_DEFUN\": \"object\", \"ANO\": \"object\", \"MES\": \"object\", \"SEXO\": \"object\",\n",
    "    \"GRU_ED1\": \"object\", \"EST_CIVIL\": \"object\", \"CODPTORE\": \"object\", \"CODMUNRE\": \"object\", \"SIT_DEFUN\": \"object\", \"C_BAS1\": \"object\",\n",
    "    \"CONS_EXP\": \"object\", \"CAU_HOMOL\": \"object\", \"AREA_RES\": \"object\", \"PMAN_MUER\": \"object\", \"COD_INST\": \"object\", \"NOM_INST\": \"object\",\n",
    "    \"NIVEL_EDU\": \"object\", \"CODPRES\": \"object\", \"SEG_SOCIAL\": \"object\", \"MAN_MUER\": \"object\", \"CODOCUR\": \"object\", \"CODMUNOC\": \"object\",\n",
    "    \"C_MUERTE\": \"object\", \"ASIS_MED\": \"object\", \"C_DIR1\": \"object\", \"C_ANT1\": \"object\", \"C_ANT2\": \"object\", \"C_ANT3\": \"object\",\n",
    "    \"C_PAT1\": \"object\", \"C_MCM1\": \"object\", \"CAUSA_666\": \"object\", \"SIMUERTEPO\": \"object\", \"OCUPACION\": \"object\", \"IDPERTET\": \"object\",\n",
    "    \"IDADMISALUD\": \"object\", \"IDCLASADMI\": \"object\", \"C_DIR12\": \"object\", \"C_ANT12\": \"object\", \"C_ANT22\": \"object\", \"C_ANT32\": \"object\",\n",
    "    \"C_PAT2\": \"object\", \"IDPROFCER\": \"object\", \"Year\": \"object\", \"filter_$\": \"object\"\n",
    "}\n"
   ]
  },
  {
   "cell_type": "code",
   "execution_count": 74,
   "metadata": {},
   "outputs": [
    {
     "name": "stdout",
     "output_type": "stream",
     "text": [
      "<class 'pandas.core.frame.DataFrame'>\n",
      "RangeIndex: 78481 entries, 0 to 78480\n",
      "Data columns (total 61 columns):\n",
      " #   Column          Non-Null Count  Dtype  \n",
      "---  ------          --------------  -----  \n",
      " 0   COD_DPTO        78481 non-null  object \n",
      " 1   COD_MUNIC       78481 non-null  object \n",
      " 2   A_DEFUN         78481 non-null  object \n",
      " 3   ANO             78481 non-null  object \n",
      " 4   MES             78481 non-null  object \n",
      " 5   SEXO            78481 non-null  object \n",
      " 6   GRU_ED1         78481 non-null  object \n",
      " 7   EST_CIVIL       78481 non-null  object \n",
      " 8   CODPTORE        78439 non-null  object \n",
      " 9   CODMUNRE        78439 non-null  object \n",
      " 10  SIT_DEFUN       78481 non-null  object \n",
      " 11  C_BAS1          78481 non-null  object \n",
      " 12  CONS_EXP        78481 non-null  object \n",
      " 13  CAU_HOMOL       78481 non-null  object \n",
      " 14  NOMBRE_ARCHIVO  78481 non-null  object \n",
      " 15  GRU_ED2         72563 non-null  float64\n",
      " 16  AREA_RES        72477 non-null  object \n",
      " 17  perman_mun      5705 non-null   object \n",
      " 18  PMAN_MUER       48206 non-null  object \n",
      " 19  tiem_per        1095 non-null   object \n",
      " 20  COD_INST        28277 non-null  object \n",
      " 21  NOM_INST        28437 non-null  object \n",
      " 22  NIVEL_EDU       65541 non-null  object \n",
      " 23  CODPRES         60921 non-null  object \n",
      " 24  SEG_SOCIAL      65541 non-null  object \n",
      " 25  EST_CIVM        3157 non-null   object \n",
      " 26  MAN_MUER        6307 non-null   object \n",
      " 27  CODOCUR         3159 non-null   object \n",
      " 28  CODMUNOC        3159 non-null   object \n",
      " 29  C_MUERTE        20514 non-null  object \n",
      " 30  ASIS_MED        65541 non-null  object \n",
      " 31  C_DIR1          46783 non-null  object \n",
      " 32  C_ANT1          40888 non-null  object \n",
      " 33  C_ANT2          29123 non-null  object \n",
      " 34  C_ANT3          12184 non-null  object \n",
      " 35  C_PAT1          12776 non-null  object \n",
      " 36  C_MCM1          3240 non-null   object \n",
      " 37  CAUSA_666       43461 non-null  object \n",
      " 38  OTRSITIODE      3286 non-null   object \n",
      " 39  HORA            48245 non-null  float64\n",
      " 40  SIMUERTEPO      4095 non-null   object \n",
      " 41  OCUPACION       37327 non-null  object \n",
      " 42  IDPERTET        48303 non-null  object \n",
      " 43  IDADMISALUD     47286 non-null  object \n",
      " 44  IDCLASADMI      25396 non-null  object \n",
      " 45  C_MUERTEB       41233 non-null  object \n",
      " 46  C_MUERTEC       7519 non-null   object \n",
      " 47  C_MUERTED       17545 non-null  object \n",
      " 48  C_MUERTEE       3506 non-null   object \n",
      " 49  C_DIR12         3694 non-null   object \n",
      " 50  C_ANT12         4374 non-null   object \n",
      " 51  C_ANT22         4104 non-null   object \n",
      " 52  C_ANT32         3475 non-null   object \n",
      " 53  C_PAT2          4555 non-null   object \n",
      " 54  IDPROFCER       48303 non-null  object \n",
      " 55  CAUSA_667       22080 non-null  float64\n",
      " 56  P_PMAN_IRIS     18652 non-null  float64\n",
      " 57  CAUSA_MULT      18652 non-null  object \n",
      " 58  TIPOFORMULARIO  7572 non-null   float64\n",
      " 59  Year            78481 non-null  object \n",
      " 60  filter_$        78481 non-null  object \n",
      "dtypes: float64(5), object(56)\n",
      "memory usage: 36.5+ MB\n"
     ]
    }
   ],
   "source": [
    "data = pd.read_csv(url, delimiter=\",\", na_values=[\" \"], dtype = column_types)\n",
    "data.info()"
   ]
  },
  {
   "cell_type": "markdown",
   "metadata": {},
   "source": [
    "Nótese que el cambio se ha realizado exitosamente."
   ]
  },
  {
   "cell_type": "markdown",
   "metadata": {},
   "source": [
    "A continuación se eliminan columnas que no hacen parte del estudio."
   ]
  },
  {
   "cell_type": "code",
   "execution_count": 75,
   "metadata": {},
   "outputs": [],
   "source": [
    "data = data.drop(columns=[\n",
    "    \"NOMBRE_ARCHIVO\",\n",
    "    \"GRU_ED2\",\n",
    "    \"perman_mun\",\n",
    "    \"tiem_per\",\n",
    "    \"EST_CIVM\",\n",
    "    \"OTRSITIODE\",\n",
    "    \"HORA\",\n",
    "    \"C_MUERTEB\",\n",
    "    \"C_MUERTEC\",\n",
    "    \"C_MUERTED\",\n",
    "    \"C_MUERTEE\",\n",
    "    \"CAUSA_667\",\n",
    "    \"P_PMAN_IRIS\",\n",
    "    \"CAUSA_MULT\",\n",
    "    \"TIPOFORMULARIO\"\n",
    "])"
   ]
  },
  {
   "cell_type": "markdown",
   "metadata": {},
   "source": [
    "### **Datos Faltantes**"
   ]
  },
  {
   "cell_type": "markdown",
   "metadata": {},
   "source": [
    "Observemos a detalle los datos faltantes en este conjunto de datos."
   ]
  },
  {
   "cell_type": "code",
   "execution_count": 76,
   "metadata": {},
   "outputs": [
    {
     "data": {
      "text/plain": [
       "CODMUNOC       95.974822\n",
       "CODOCUR        95.974822\n",
       "C_MCM1         95.871612\n",
       "C_ANT32        95.572177\n",
       "C_DIR12        95.293128\n",
       "SIMUERTEPO     94.782177\n",
       "C_ANT22        94.770709\n",
       "C_ANT12        94.426677\n",
       "C_PAT2         94.196047\n",
       "MAN_MUER       91.963660\n",
       "C_ANT3         84.475223\n",
       "C_PAT1         83.720901\n",
       "C_MUERTE       73.861189\n",
       "IDCLASADMI     67.640575\n",
       "COD_INST       63.969623\n",
       "NOM_INST       63.765752\n",
       "C_ANT2         62.891655\n",
       "OCUPACION      52.438170\n",
       "C_ANT1         47.900766\n",
       "CAUSA_666      44.622265\n",
       "C_DIR1         40.389394\n",
       "IDADMISALUD    39.748474\n",
       "PMAN_MUER      38.576216\n",
       "IDPERTET       38.452619\n",
       "IDPROFCER      38.452619\n",
       "CODPRES        22.374842\n",
       "ASIS_MED       16.488067\n",
       "SEG_SOCIAL     16.488067\n",
       "NIVEL_EDU      16.488067\n",
       "AREA_RES        7.650259\n",
       "CODPTORE        0.053516\n",
       "CODMUNRE        0.053516\n",
       "dtype: float64"
      ]
     },
     "execution_count": 76,
     "metadata": {},
     "output_type": "execute_result"
    }
   ],
   "source": [
    "missing_percent = (data.isnull().sum() / len(data)) * 100\n",
    "missing_percent = missing_percent.sort_values(ascending=False)\n",
    "missing_percent[missing_percent > 0]"
   ]
  },
  {
   "cell_type": "code",
   "execution_count": 77,
   "metadata": {},
   "outputs": [
    {
     "name": "stdout",
     "output_type": "stream",
     "text": [
      "La cantidad de variables con datos faltantes es de:  32\n",
      "La cantidad de variables sin datos faltantes es de:  14\n",
      "La cantidad de variables con más del 70% de datos faltantes es de:  13\n",
      "La cantidad de variables con menos del 70% de datos faltantes es de:  33\n"
     ]
    }
   ],
   "source": [
    "missing_count = missing_percent[missing_percent > 0].count()\n",
    "print(\"La cantidad de variables con datos faltantes es de: \", missing_count)\n",
    "without_missing = missing_percent[missing_percent == 0].count()\n",
    "print(\"La cantidad de variables sin datos faltantes es de: \", without_missing)\n",
    "missing_above_70 = missing_percent[missing_percent > 70]\n",
    "print(\"La cantidad de variables con más del 70% de datos faltantes es de: \", missing_above_70.count())\n",
    "missing_below_70 = missing_percent[missing_percent <= 70]\n",
    "print(\"La cantidad de variables con menos del 70% de datos faltantes es de: \", missing_below_70.count())\n"
   ]
  },
  {
   "cell_type": "markdown",
   "metadata": {},
   "source": [
    "Veamos esto gráficamente:"
   ]
  },
  {
   "cell_type": "code",
   "execution_count": 78,
   "metadata": {},
   "outputs": [
    {
     "data": {
      "application/vnd.plotly.v1+json": {
       "config": {
        "plotlyServerURL": "https://plot.ly"
       },
       "data": [
        {
         "alignmentgroup": "True",
         "hovertemplate": "index=%{x}<br>Porcentaje de Datos Faltantes (%)=%{y}<br>text=%{text}<br>color=%{marker.color}<extra></extra>",
         "legendgroup": "",
         "marker": {
          "color": [
           95.9748219314229,
           95.9748219314229,
           95.8716122373568,
           95.57217670518979,
           95.2931282730852,
           94.78217657777041,
           94.7707088339853,
           94.4266765204317,
           94.1960474509754,
           91.96365999413871,
           84.47522330245538,
           83.72090060014526,
           73.8611893324499,
           67.64057542589926,
           63.96962322090697,
           63.765752220282614,
           62.8916553051057,
           52.43816974809189,
           47.900765790446094,
           44.622265261655684,
           40.38939361119252,
           39.7484741529797,
           38.57621589938966,
           38.45261910526114,
           38.45261910526114,
           22.374842318522955,
           16.488067175494706,
           16.488067175494706,
           16.488067175494706,
           7.650259298428919,
           0.05351613766389317,
           0.05351613766389317,
           0,
           0,
           0,
           0,
           0,
           0,
           0,
           0,
           0,
           0,
           0,
           0,
           0,
           0
          ],
          "coloraxis": "coloraxis",
          "pattern": {
           "shape": ""
          }
         },
         "name": "",
         "offsetgroup": "",
         "orientation": "v",
         "showlegend": false,
         "text": [
          95.97,
          95.97,
          95.87,
          95.57,
          95.29,
          94.78,
          94.77,
          94.43,
          94.2,
          91.96,
          84.48,
          83.72,
          73.86,
          67.64,
          63.97,
          63.77,
          62.89,
          52.44,
          47.9,
          44.62,
          40.39,
          39.75,
          38.58,
          38.45,
          38.45,
          22.37,
          16.49,
          16.49,
          16.49,
          7.65,
          0.05,
          0.05,
          0,
          0,
          0,
          0,
          0,
          0,
          0,
          0,
          0,
          0,
          0,
          0,
          0,
          0
         ],
         "textposition": "outside",
         "type": "bar",
         "x": [
          "CODMUNOC",
          "CODOCUR",
          "C_MCM1",
          "C_ANT32",
          "C_DIR12",
          "SIMUERTEPO",
          "C_ANT22",
          "C_ANT12",
          "C_PAT2",
          "MAN_MUER",
          "C_ANT3",
          "C_PAT1",
          "C_MUERTE",
          "IDCLASADMI",
          "COD_INST",
          "NOM_INST",
          "C_ANT2",
          "OCUPACION",
          "C_ANT1",
          "CAUSA_666",
          "C_DIR1",
          "IDADMISALUD",
          "PMAN_MUER",
          "IDPERTET",
          "IDPROFCER",
          "CODPRES",
          "ASIS_MED",
          "SEG_SOCIAL",
          "NIVEL_EDU",
          "AREA_RES",
          "CODPTORE",
          "CODMUNRE",
          "Year",
          "COD_DPTO",
          "COD_MUNIC",
          "CAU_HOMOL",
          "CONS_EXP",
          "C_BAS1",
          "SIT_DEFUN",
          "EST_CIVIL",
          "GRU_ED1",
          "SEXO",
          "MES",
          "ANO",
          "A_DEFUN",
          "filter_$"
         ],
         "xaxis": "x",
         "y": [
          95.9748219314229,
          95.9748219314229,
          95.8716122373568,
          95.57217670518979,
          95.2931282730852,
          94.78217657777041,
          94.7707088339853,
          94.4266765204317,
          94.1960474509754,
          91.96365999413871,
          84.47522330245538,
          83.72090060014526,
          73.8611893324499,
          67.64057542589926,
          63.96962322090697,
          63.765752220282614,
          62.8916553051057,
          52.43816974809189,
          47.900765790446094,
          44.622265261655684,
          40.38939361119252,
          39.7484741529797,
          38.57621589938966,
          38.45261910526114,
          38.45261910526114,
          22.374842318522955,
          16.488067175494706,
          16.488067175494706,
          16.488067175494706,
          7.650259298428919,
          0.05351613766389317,
          0.05351613766389317,
          0,
          0,
          0,
          0,
          0,
          0,
          0,
          0,
          0,
          0,
          0,
          0,
          0,
          0
         ],
         "yaxis": "y"
        }
       ],
       "layout": {
        "barmode": "relative",
        "coloraxis": {
         "colorbar": {
          "title": {
           "text": "color"
          }
         },
         "colorscale": [
          [
           0,
           "#F8BBD0"
          ],
          [
           0.25,
           "#F48FB1"
          ],
          [
           0.5,
           "#F06292"
          ],
          [
           0.75,
           "#EC407A"
          ],
          [
           1,
           "#D81B60"
          ]
         ]
        },
        "font": {
         "color": "black",
         "family": "Bahnschrift",
         "size": 14
        },
        "legend": {
         "tracegroupgap": 0
        },
        "paper_bgcolor": "white",
        "plot_bgcolor": "white",
        "template": {
         "data": {
          "bar": [
           {
            "error_x": {
             "color": "#2a3f5f"
            },
            "error_y": {
             "color": "#2a3f5f"
            },
            "marker": {
             "line": {
              "color": "#E5ECF6",
              "width": 0.5
             },
             "pattern": {
              "fillmode": "overlay",
              "size": 10,
              "solidity": 0.2
             }
            },
            "type": "bar"
           }
          ],
          "barpolar": [
           {
            "marker": {
             "line": {
              "color": "#E5ECF6",
              "width": 0.5
             },
             "pattern": {
              "fillmode": "overlay",
              "size": 10,
              "solidity": 0.2
             }
            },
            "type": "barpolar"
           }
          ],
          "carpet": [
           {
            "aaxis": {
             "endlinecolor": "#2a3f5f",
             "gridcolor": "white",
             "linecolor": "white",
             "minorgridcolor": "white",
             "startlinecolor": "#2a3f5f"
            },
            "baxis": {
             "endlinecolor": "#2a3f5f",
             "gridcolor": "white",
             "linecolor": "white",
             "minorgridcolor": "white",
             "startlinecolor": "#2a3f5f"
            },
            "type": "carpet"
           }
          ],
          "choropleth": [
           {
            "colorbar": {
             "outlinewidth": 0,
             "ticks": ""
            },
            "type": "choropleth"
           }
          ],
          "contour": [
           {
            "colorbar": {
             "outlinewidth": 0,
             "ticks": ""
            },
            "colorscale": [
             [
              0,
              "#0d0887"
             ],
             [
              0.1111111111111111,
              "#46039f"
             ],
             [
              0.2222222222222222,
              "#7201a8"
             ],
             [
              0.3333333333333333,
              "#9c179e"
             ],
             [
              0.4444444444444444,
              "#bd3786"
             ],
             [
              0.5555555555555556,
              "#d8576b"
             ],
             [
              0.6666666666666666,
              "#ed7953"
             ],
             [
              0.7777777777777778,
              "#fb9f3a"
             ],
             [
              0.8888888888888888,
              "#fdca26"
             ],
             [
              1,
              "#f0f921"
             ]
            ],
            "type": "contour"
           }
          ],
          "contourcarpet": [
           {
            "colorbar": {
             "outlinewidth": 0,
             "ticks": ""
            },
            "type": "contourcarpet"
           }
          ],
          "heatmap": [
           {
            "colorbar": {
             "outlinewidth": 0,
             "ticks": ""
            },
            "colorscale": [
             [
              0,
              "#0d0887"
             ],
             [
              0.1111111111111111,
              "#46039f"
             ],
             [
              0.2222222222222222,
              "#7201a8"
             ],
             [
              0.3333333333333333,
              "#9c179e"
             ],
             [
              0.4444444444444444,
              "#bd3786"
             ],
             [
              0.5555555555555556,
              "#d8576b"
             ],
             [
              0.6666666666666666,
              "#ed7953"
             ],
             [
              0.7777777777777778,
              "#fb9f3a"
             ],
             [
              0.8888888888888888,
              "#fdca26"
             ],
             [
              1,
              "#f0f921"
             ]
            ],
            "type": "heatmap"
           }
          ],
          "heatmapgl": [
           {
            "colorbar": {
             "outlinewidth": 0,
             "ticks": ""
            },
            "colorscale": [
             [
              0,
              "#0d0887"
             ],
             [
              0.1111111111111111,
              "#46039f"
             ],
             [
              0.2222222222222222,
              "#7201a8"
             ],
             [
              0.3333333333333333,
              "#9c179e"
             ],
             [
              0.4444444444444444,
              "#bd3786"
             ],
             [
              0.5555555555555556,
              "#d8576b"
             ],
             [
              0.6666666666666666,
              "#ed7953"
             ],
             [
              0.7777777777777778,
              "#fb9f3a"
             ],
             [
              0.8888888888888888,
              "#fdca26"
             ],
             [
              1,
              "#f0f921"
             ]
            ],
            "type": "heatmapgl"
           }
          ],
          "histogram": [
           {
            "marker": {
             "pattern": {
              "fillmode": "overlay",
              "size": 10,
              "solidity": 0.2
             }
            },
            "type": "histogram"
           }
          ],
          "histogram2d": [
           {
            "colorbar": {
             "outlinewidth": 0,
             "ticks": ""
            },
            "colorscale": [
             [
              0,
              "#0d0887"
             ],
             [
              0.1111111111111111,
              "#46039f"
             ],
             [
              0.2222222222222222,
              "#7201a8"
             ],
             [
              0.3333333333333333,
              "#9c179e"
             ],
             [
              0.4444444444444444,
              "#bd3786"
             ],
             [
              0.5555555555555556,
              "#d8576b"
             ],
             [
              0.6666666666666666,
              "#ed7953"
             ],
             [
              0.7777777777777778,
              "#fb9f3a"
             ],
             [
              0.8888888888888888,
              "#fdca26"
             ],
             [
              1,
              "#f0f921"
             ]
            ],
            "type": "histogram2d"
           }
          ],
          "histogram2dcontour": [
           {
            "colorbar": {
             "outlinewidth": 0,
             "ticks": ""
            },
            "colorscale": [
             [
              0,
              "#0d0887"
             ],
             [
              0.1111111111111111,
              "#46039f"
             ],
             [
              0.2222222222222222,
              "#7201a8"
             ],
             [
              0.3333333333333333,
              "#9c179e"
             ],
             [
              0.4444444444444444,
              "#bd3786"
             ],
             [
              0.5555555555555556,
              "#d8576b"
             ],
             [
              0.6666666666666666,
              "#ed7953"
             ],
             [
              0.7777777777777778,
              "#fb9f3a"
             ],
             [
              0.8888888888888888,
              "#fdca26"
             ],
             [
              1,
              "#f0f921"
             ]
            ],
            "type": "histogram2dcontour"
           }
          ],
          "mesh3d": [
           {
            "colorbar": {
             "outlinewidth": 0,
             "ticks": ""
            },
            "type": "mesh3d"
           }
          ],
          "parcoords": [
           {
            "line": {
             "colorbar": {
              "outlinewidth": 0,
              "ticks": ""
             }
            },
            "type": "parcoords"
           }
          ],
          "pie": [
           {
            "automargin": true,
            "type": "pie"
           }
          ],
          "scatter": [
           {
            "fillpattern": {
             "fillmode": "overlay",
             "size": 10,
             "solidity": 0.2
            },
            "type": "scatter"
           }
          ],
          "scatter3d": [
           {
            "line": {
             "colorbar": {
              "outlinewidth": 0,
              "ticks": ""
             }
            },
            "marker": {
             "colorbar": {
              "outlinewidth": 0,
              "ticks": ""
             }
            },
            "type": "scatter3d"
           }
          ],
          "scattercarpet": [
           {
            "marker": {
             "colorbar": {
              "outlinewidth": 0,
              "ticks": ""
             }
            },
            "type": "scattercarpet"
           }
          ],
          "scattergeo": [
           {
            "marker": {
             "colorbar": {
              "outlinewidth": 0,
              "ticks": ""
             }
            },
            "type": "scattergeo"
           }
          ],
          "scattergl": [
           {
            "marker": {
             "colorbar": {
              "outlinewidth": 0,
              "ticks": ""
             }
            },
            "type": "scattergl"
           }
          ],
          "scattermapbox": [
           {
            "marker": {
             "colorbar": {
              "outlinewidth": 0,
              "ticks": ""
             }
            },
            "type": "scattermapbox"
           }
          ],
          "scatterpolar": [
           {
            "marker": {
             "colorbar": {
              "outlinewidth": 0,
              "ticks": ""
             }
            },
            "type": "scatterpolar"
           }
          ],
          "scatterpolargl": [
           {
            "marker": {
             "colorbar": {
              "outlinewidth": 0,
              "ticks": ""
             }
            },
            "type": "scatterpolargl"
           }
          ],
          "scatterternary": [
           {
            "marker": {
             "colorbar": {
              "outlinewidth": 0,
              "ticks": ""
             }
            },
            "type": "scatterternary"
           }
          ],
          "surface": [
           {
            "colorbar": {
             "outlinewidth": 0,
             "ticks": ""
            },
            "colorscale": [
             [
              0,
              "#0d0887"
             ],
             [
              0.1111111111111111,
              "#46039f"
             ],
             [
              0.2222222222222222,
              "#7201a8"
             ],
             [
              0.3333333333333333,
              "#9c179e"
             ],
             [
              0.4444444444444444,
              "#bd3786"
             ],
             [
              0.5555555555555556,
              "#d8576b"
             ],
             [
              0.6666666666666666,
              "#ed7953"
             ],
             [
              0.7777777777777778,
              "#fb9f3a"
             ],
             [
              0.8888888888888888,
              "#fdca26"
             ],
             [
              1,
              "#f0f921"
             ]
            ],
            "type": "surface"
           }
          ],
          "table": [
           {
            "cells": {
             "fill": {
              "color": "#EBF0F8"
             },
             "line": {
              "color": "white"
             }
            },
            "header": {
             "fill": {
              "color": "#C8D4E3"
             },
             "line": {
              "color": "white"
             }
            },
            "type": "table"
           }
          ]
         },
         "layout": {
          "annotationdefaults": {
           "arrowcolor": "#2a3f5f",
           "arrowhead": 0,
           "arrowwidth": 1
          },
          "autotypenumbers": "strict",
          "coloraxis": {
           "colorbar": {
            "outlinewidth": 0,
            "ticks": ""
           }
          },
          "colorscale": {
           "diverging": [
            [
             0,
             "#8e0152"
            ],
            [
             0.1,
             "#c51b7d"
            ],
            [
             0.2,
             "#de77ae"
            ],
            [
             0.3,
             "#f1b6da"
            ],
            [
             0.4,
             "#fde0ef"
            ],
            [
             0.5,
             "#f7f7f7"
            ],
            [
             0.6,
             "#e6f5d0"
            ],
            [
             0.7,
             "#b8e186"
            ],
            [
             0.8,
             "#7fbc41"
            ],
            [
             0.9,
             "#4d9221"
            ],
            [
             1,
             "#276419"
            ]
           ],
           "sequential": [
            [
             0,
             "#0d0887"
            ],
            [
             0.1111111111111111,
             "#46039f"
            ],
            [
             0.2222222222222222,
             "#7201a8"
            ],
            [
             0.3333333333333333,
             "#9c179e"
            ],
            [
             0.4444444444444444,
             "#bd3786"
            ],
            [
             0.5555555555555556,
             "#d8576b"
            ],
            [
             0.6666666666666666,
             "#ed7953"
            ],
            [
             0.7777777777777778,
             "#fb9f3a"
            ],
            [
             0.8888888888888888,
             "#fdca26"
            ],
            [
             1,
             "#f0f921"
            ]
           ],
           "sequentialminus": [
            [
             0,
             "#0d0887"
            ],
            [
             0.1111111111111111,
             "#46039f"
            ],
            [
             0.2222222222222222,
             "#7201a8"
            ],
            [
             0.3333333333333333,
             "#9c179e"
            ],
            [
             0.4444444444444444,
             "#bd3786"
            ],
            [
             0.5555555555555556,
             "#d8576b"
            ],
            [
             0.6666666666666666,
             "#ed7953"
            ],
            [
             0.7777777777777778,
             "#fb9f3a"
            ],
            [
             0.8888888888888888,
             "#fdca26"
            ],
            [
             1,
             "#f0f921"
            ]
           ]
          },
          "colorway": [
           "#636efa",
           "#EF553B",
           "#00cc96",
           "#ab63fa",
           "#FFA15A",
           "#19d3f3",
           "#FF6692",
           "#B6E880",
           "#FF97FF",
           "#FECB52"
          ],
          "font": {
           "color": "#2a3f5f"
          },
          "geo": {
           "bgcolor": "white",
           "lakecolor": "white",
           "landcolor": "#E5ECF6",
           "showlakes": true,
           "showland": true,
           "subunitcolor": "white"
          },
          "hoverlabel": {
           "align": "left"
          },
          "hovermode": "closest",
          "mapbox": {
           "style": "light"
          },
          "paper_bgcolor": "white",
          "plot_bgcolor": "#E5ECF6",
          "polar": {
           "angularaxis": {
            "gridcolor": "white",
            "linecolor": "white",
            "ticks": ""
           },
           "bgcolor": "#E5ECF6",
           "radialaxis": {
            "gridcolor": "white",
            "linecolor": "white",
            "ticks": ""
           }
          },
          "scene": {
           "xaxis": {
            "backgroundcolor": "#E5ECF6",
            "gridcolor": "white",
            "gridwidth": 2,
            "linecolor": "white",
            "showbackground": true,
            "ticks": "",
            "zerolinecolor": "white"
           },
           "yaxis": {
            "backgroundcolor": "#E5ECF6",
            "gridcolor": "white",
            "gridwidth": 2,
            "linecolor": "white",
            "showbackground": true,
            "ticks": "",
            "zerolinecolor": "white"
           },
           "zaxis": {
            "backgroundcolor": "#E5ECF6",
            "gridcolor": "white",
            "gridwidth": 2,
            "linecolor": "white",
            "showbackground": true,
            "ticks": "",
            "zerolinecolor": "white"
           }
          },
          "shapedefaults": {
           "line": {
            "color": "#2a3f5f"
           }
          },
          "ternary": {
           "aaxis": {
            "gridcolor": "white",
            "linecolor": "white",
            "ticks": ""
           },
           "baxis": {
            "gridcolor": "white",
            "linecolor": "white",
            "ticks": ""
           },
           "bgcolor": "#E5ECF6",
           "caxis": {
            "gridcolor": "white",
            "linecolor": "white",
            "ticks": ""
           }
          },
          "title": {
           "x": 0.05
          },
          "xaxis": {
           "automargin": true,
           "gridcolor": "white",
           "linecolor": "white",
           "ticks": "",
           "title": {
            "standoff": 15
           },
           "zerolinecolor": "white",
           "zerolinewidth": 2
          },
          "yaxis": {
           "automargin": true,
           "gridcolor": "white",
           "linecolor": "white",
           "ticks": "",
           "title": {
            "standoff": 15
           },
           "zerolinecolor": "white",
           "zerolinewidth": 2
          }
         }
        },
        "title": {
         "font": {
          "color": "black",
          "family": "Bahnschrift",
          "size": 22
         },
         "text": "Porcentaje de Datos Faltantes por Variable"
        },
        "xaxis": {
         "anchor": "y",
         "domain": [
          0,
          1
         ],
         "tickangle": -45,
         "title": {
          "text": "Variables"
         }
        },
        "yaxis": {
         "anchor": "x",
         "domain": [
          0,
          1
         ],
         "range": [
          0,
          105.9748219314229
         ],
         "title": {
          "text": "Porcentaje de Datos Faltantes"
         }
        }
       }
      }
     },
     "metadata": {},
     "output_type": "display_data"
    }
   ],
   "source": [
    "grafico_datos_faltantes(data)"
   ]
  },
  {
   "cell_type": "markdown",
   "metadata": {},
   "source": [
    "Al observar el gráfico, se puede decir que algunas variables presentan un alto porcentaje de datos faltantes, con varias de ellas superando el 90%, como `codcur` y `codmunoc`, que tienen un 95.97% de datos ausentes. Otras variables también muestran valores significativos de ausencia, como `SIMUERTEPO` (94.78%). Sin embargo, a medida que avanzamos en la gráfica, notamos que ciertas variables tienen menor cantidad de datos faltantes, con algunas en torno al 22%. Finalmente, hay un conjunto de variables sin valores faltantes (0%), lo que indica que esos datos están completamente disponibles en el conjunto analizado."
   ]
  },
  {
   "cell_type": "markdown",
   "metadata": {},
   "source": [
    "### **Eliminación de variables**"
   ]
  },
  {
   "cell_type": "markdown",
   "metadata": {},
   "source": [
    "\n",
    "Para optimizar el análisis, eliminamos ciertas variables que no aportan valor significativo. La decisión se tomó con base en los siguientes criterios:  \n",
    "\n",
    "\n",
    "\n",
    "**1. Variables eliminadas por recomendación de expertos**  \n",
    "Los profesionales encargados del conjunto de datos recomendaron eliminar estas variables, ya que en este conjunto de datos NO son relevantes para el estudio y están representadas por otras variables:  \n",
    "(`CAU_HOMOL`, `filter_$`)  \n",
    "\n",
    "\n",
    "\n",
    "**2. Variables eliminadas por más del 75% de datos faltantes**  \n",
    "Estas variables tienen un porcentaje muy alto de valores nulos, lo que dificulta su uso sin introducir sesgos en el análisis:  \n",
    "**Observación:** Debido al alto porcentaje de datos faltantes, estas variables no pueden ser imputadas de manera confiable. Además, su eliminación no afecta el análisis, ya que no aportan información relevante o pueden derivarse de otras variables presentes en el conjunto de datos.\n",
    "\n",
    "| Variable      | Porcentaje de Datos Faltantes |\n",
    "|---------------|-------------------------------|\n",
    "| `CODMUNOC`    | 95.97%                        |\n",
    "| `CODOCUR`     | 95.97%                        |\n",
    "| `C_MCM1`      | 95.87%                        |\n",
    "| `C_ANT32`      | 95.57%                        |\n",
    "| `C_DIR12`     | 95.29%                        |\n",
    "| `SIMUERTEPO`  | 94.78%                        |\n",
    "| `C_ANT22`     | 94.77%                        |\n",
    "| `C_ANT12`     | 94.43%                        |\n",
    "| `C_PAT2`      | 94.20%                        |\n",
    "| `MAN_MUER`    | 91.96%                        |\n",
    "| `C_ANT3`      | 84.48%                        |\n",
    "| `C_PAT1`      | 83.72%                        |\n",
    "\n",
    "\n",
    "\n",
    "**3. Variables que no son relevantes para el estudio**\n",
    "Estas variables NO serán utilizadas en el enfoque de este estudio y, además, presentan una cantidad significativa de valores nulos:\n",
    "\n",
    "| Variable     | Motivo de Eliminación                                                                                               | Porcentaje de Valores Nulos |\n",
    "|--------------|----------------------------------------------------------------------------------------------------------------------|------------------------------|\n",
    "| `A_DEFUN`    | No aporta información clínica ni contextual relevante para el análisis del cáncer de mama.                          | 0%                           |\n",
    "| `ANO`        | Información redundante, ya que se cuenta con otra variable que representa el año.                                   | 0%                           |\n",
    "| `AREA_RES`   | No se considera determinante para el enfoque actual del análisis; además, puede introducir sesgo geográfico.        | 7.65%                        |\n",
    "| `C_ANT1`     | Causa antecedente 1. No aporta valor analítico específico para cáncer de mama y presenta alta cantidad de nulos.    | 47.9%                        |\n",
    "| `C_ANT2`     | Redundante con otras variables sobre antecedentes; además, presenta un porcentaje elevado de datos faltantes.       | 62.89%                       |\n",
    "| `C_DIR1`     | Causa directa. No se considera útil en el enfoque del estudio y tiene un número significativo de valores faltantes. | 40.39%                       |\n",
    "| `COD_INST`   | Código de institución sin aplicación directa en este análisis y con muchos valores faltantes.                       | 63.97%                       |\n",
    "| `CODPRES`    | Código sin utilidad práctica para el objetivo del estudio.                                                           | 22.37%                       |\n",
    "| `CONS_EXP`   | Certificación médica o código administrativo sin relevancia clínica ni analítica para el modelo.                    | 0%                           |\n",
    "| `IDCLASADMI` | Clasificación administrativa sin aporte directo al análisis y con alto número de valores faltantes.                  | 67.64%                       |\n",
    "| `IDPERTET`   | Redundante con la variable `CODPTORE`, que ya representa la pertenencia étnica; además, muchos valores nulos.       | 38.45%                       |\n",
    "| `IDPROFCER`  | Variable administrativa sin valor analítico para el objetivo del estudio.                                            | 38.45%                       |\n",
    "| `NOM_INST`   | Información redundante con `COD_INST`, además no es imputable ni generalizable.                                     | 63.77%                       |\n",
    "| `OCUPACION`  | Alto porcentaje de valores nulos; no se considera una variable relevante en la explicación de patrones de mortalidad por cáncer de mama. | 52.44%                        |\n"
   ]
  },
  {
   "cell_type": "code",
   "execution_count": 79,
   "metadata": {},
   "outputs": [],
   "source": [
    "data = data.drop(columns=[\n",
    "    # 1. Variables eliminadas por recomendación de expertos\n",
    "    'CAU_HOMOL', 'filter_$',\n",
    "\n",
    "    # 2. Variables eliminadas por más del 75% de datos faltantes\n",
    "    'CODMUNOC', 'CODOCUR', 'C_MCM1', 'C_ANT32', 'C_DIR12',\n",
    "    'SIMUERTEPO', 'C_ANT22', 'C_ANT12', 'C_PAT2', 'MAN_MUER',\n",
    "    'C_ANT3', 'C_PAT1',\n",
    "\n",
    "    # 3. Variables no relevantes para el estudio\n",
    "    'A_DEFUN', 'ANO', 'AREA_RES', 'C_ANT2', 'COD_INST',\n",
    "    'CODPRES', 'CONS_EXP', 'IDCLASADMI', 'IDPERTET', 'IDPROFCER',\n",
    "    'NOM_INST', 'OCUPACION', 'C_ANT1', 'C_DIR1'\n",
    "])"
   ]
  },
  {
   "cell_type": "code",
   "execution_count": 80,
   "metadata": {},
   "outputs": [
    {
     "data": {
      "text/plain": [
       "(78481, 18)"
      ]
     },
     "execution_count": 80,
     "metadata": {},
     "output_type": "execute_result"
    }
   ],
   "source": [
    "data.shape"
   ]
  },
  {
   "cell_type": "markdown",
   "metadata": {},
   "source": [
    "Nótese que la eliminación se realizó de forma exitosa y ahora el conjunto de datos cuenta con solo **18** variables."
   ]
  },
  {
   "cell_type": "markdown",
   "metadata": {},
   "source": [
    "### **Renombrado de variables**"
   ]
  },
  {
   "cell_type": "code",
   "execution_count": 81,
   "metadata": {},
   "outputs": [],
   "source": [
    "data = data.rename(columns={\n",
    "    'COD_DPTO': 'depto_ocurr',       # Departamento donde ocurrió la defunción (DIVIPOLA)\n",
    "    'COD_MUNIC': 'munic_ocurr',      # Municipio donde ocurrió la defunción (DIVIPOLA)\n",
    "    'CODMUNRE': 'munic_res',        # Municipio de residencia del fallecido (DIVIPOLA)\n",
    "    'MES': 'mes_def',                # Mes de la defunción\n",
    "    'SEXO': 'sexo',                  # Sexo del fallecido\n",
    "    'GRU_ED1': 'grupo_edad',         # Grupo de edad del fallecido\n",
    "    'EST_CIVIL': 'estado_civil',     # Estado civil del fallecido\n",
    "    'CODPTORE': 'depto_res',      # Departamento de residencia del fallecido (DIVIPOLA)\n",
    "    'SIT_DEFUN': 'sitio_def',        # Sitio donde ocurrió la defunción\n",
    "    'C_BAS1': 'causa_basica',        # Código de la causa básica de la defunción\n",
    "    'PMAN_MUER': 'prob_muerte',      # Probable manera de muerte\n",
    "    'NIVEL_EDU': 'nivel_edu',        # Nivel educativo del fallecido\n",
    "    'SEG_SOCIAL': 'seg_social',      # Régimen de seguridad social\n",
    "    'C_MUERTE': 'cert_medica',       # Cómo se determinó la causa de muerte\n",
    "    'ASIS_MED': 'asistencia_med',    # Recibió asistencia médica antes de fallecer\n",
    "    'CAUSA_666': 'causa_ops',        # Causa agrupada según la lista OPS 6/67\n",
    "    'IDADMISALUD': 'ent_salud_cod',  # Código de la Entidad Administradora en Salud\n",
    "    'Year': 'año_def'                # Año en que ocurrió la defunción\n",
    "})\n"
   ]
  },
  {
   "cell_type": "code",
   "execution_count": 82,
   "metadata": {},
   "outputs": [
    {
     "data": {
      "text/html": [
       "<div>\n",
       "<style scoped>\n",
       "    .dataframe tbody tr th:only-of-type {\n",
       "        vertical-align: middle;\n",
       "    }\n",
       "\n",
       "    .dataframe tbody tr th {\n",
       "        vertical-align: top;\n",
       "    }\n",
       "\n",
       "    .dataframe thead th {\n",
       "        text-align: right;\n",
       "    }\n",
       "</style>\n",
       "<table border=\"1\" class=\"dataframe\">\n",
       "  <thead>\n",
       "    <tr style=\"text-align: right;\">\n",
       "      <th></th>\n",
       "      <th>depto_ocurr</th>\n",
       "      <th>munic_ocurr</th>\n",
       "      <th>mes_def</th>\n",
       "      <th>sexo</th>\n",
       "      <th>grupo_edad</th>\n",
       "      <th>estado_civil</th>\n",
       "      <th>depto_res</th>\n",
       "      <th>munic_res</th>\n",
       "      <th>sitio_def</th>\n",
       "      <th>causa_basica</th>\n",
       "      <th>prob_muerte</th>\n",
       "      <th>nivel_edu</th>\n",
       "      <th>seg_social</th>\n",
       "      <th>cert_medica</th>\n",
       "      <th>asistencia_med</th>\n",
       "      <th>causa_ops</th>\n",
       "      <th>ent_salud_cod</th>\n",
       "      <th>año_def</th>\n",
       "    </tr>\n",
       "  </thead>\n",
       "  <tbody>\n",
       "    <tr>\n",
       "      <th>0</th>\n",
       "      <td>50</td>\n",
       "      <td>001</td>\n",
       "      <td>01</td>\n",
       "      <td>2</td>\n",
       "      <td>16</td>\n",
       "      <td>2</td>\n",
       "      <td>50</td>\n",
       "      <td>001</td>\n",
       "      <td>2</td>\n",
       "      <td>1749</td>\n",
       "      <td>NaN</td>\n",
       "      <td>NaN</td>\n",
       "      <td>NaN</td>\n",
       "      <td>NaN</td>\n",
       "      <td>NaN</td>\n",
       "      <td>NaN</td>\n",
       "      <td>NaN</td>\n",
       "      <td>1985</td>\n",
       "    </tr>\n",
       "    <tr>\n",
       "      <th>1</th>\n",
       "      <td>15</td>\n",
       "      <td>861</td>\n",
       "      <td>01</td>\n",
       "      <td>2</td>\n",
       "      <td>24</td>\n",
       "      <td>1</td>\n",
       "      <td>15</td>\n",
       "      <td>861</td>\n",
       "      <td>2</td>\n",
       "      <td>1749</td>\n",
       "      <td>NaN</td>\n",
       "      <td>NaN</td>\n",
       "      <td>NaN</td>\n",
       "      <td>NaN</td>\n",
       "      <td>NaN</td>\n",
       "      <td>NaN</td>\n",
       "      <td>NaN</td>\n",
       "      <td>1985</td>\n",
       "    </tr>\n",
       "    <tr>\n",
       "      <th>2</th>\n",
       "      <td>50</td>\n",
       "      <td>573</td>\n",
       "      <td>01</td>\n",
       "      <td>2</td>\n",
       "      <td>17</td>\n",
       "      <td>2</td>\n",
       "      <td>50</td>\n",
       "      <td>573</td>\n",
       "      <td>2</td>\n",
       "      <td>1749</td>\n",
       "      <td>NaN</td>\n",
       "      <td>NaN</td>\n",
       "      <td>NaN</td>\n",
       "      <td>NaN</td>\n",
       "      <td>NaN</td>\n",
       "      <td>NaN</td>\n",
       "      <td>NaN</td>\n",
       "      <td>1985</td>\n",
       "    </tr>\n",
       "    <tr>\n",
       "      <th>3</th>\n",
       "      <td>41</td>\n",
       "      <td>001</td>\n",
       "      <td>01</td>\n",
       "      <td>2</td>\n",
       "      <td>14</td>\n",
       "      <td>2</td>\n",
       "      <td>41</td>\n",
       "      <td>001</td>\n",
       "      <td>1</td>\n",
       "      <td>1749</td>\n",
       "      <td>NaN</td>\n",
       "      <td>NaN</td>\n",
       "      <td>NaN</td>\n",
       "      <td>NaN</td>\n",
       "      <td>NaN</td>\n",
       "      <td>NaN</td>\n",
       "      <td>NaN</td>\n",
       "      <td>1985</td>\n",
       "    </tr>\n",
       "    <tr>\n",
       "      <th>4</th>\n",
       "      <td>41</td>\n",
       "      <td>001</td>\n",
       "      <td>01</td>\n",
       "      <td>2</td>\n",
       "      <td>22</td>\n",
       "      <td>2</td>\n",
       "      <td>41</td>\n",
       "      <td>001</td>\n",
       "      <td>2</td>\n",
       "      <td>1749</td>\n",
       "      <td>NaN</td>\n",
       "      <td>NaN</td>\n",
       "      <td>NaN</td>\n",
       "      <td>NaN</td>\n",
       "      <td>NaN</td>\n",
       "      <td>NaN</td>\n",
       "      <td>NaN</td>\n",
       "      <td>1985</td>\n",
       "    </tr>\n",
       "  </tbody>\n",
       "</table>\n",
       "</div>"
      ],
      "text/plain": [
       "  depto_ocurr munic_ocurr mes_def sexo grupo_edad estado_civil depto_res  \\\n",
       "0          50         001      01    2         16            2        50   \n",
       "1          15         861      01    2         24            1        15   \n",
       "2          50         573      01    2         17            2        50   \n",
       "3          41         001      01    2         14            2        41   \n",
       "4          41         001      01    2         22            2        41   \n",
       "\n",
       "  munic_res sitio_def causa_basica prob_muerte nivel_edu seg_social  \\\n",
       "0       001         2         1749         NaN       NaN        NaN   \n",
       "1       861         2         1749         NaN       NaN        NaN   \n",
       "2       573         2         1749         NaN       NaN        NaN   \n",
       "3       001         1         1749         NaN       NaN        NaN   \n",
       "4       001         2         1749         NaN       NaN        NaN   \n",
       "\n",
       "  cert_medica asistencia_med causa_ops ent_salud_cod año_def  \n",
       "0         NaN            NaN       NaN           NaN    1985  \n",
       "1         NaN            NaN       NaN           NaN    1985  \n",
       "2         NaN            NaN       NaN           NaN    1985  \n",
       "3         NaN            NaN       NaN           NaN    1985  \n",
       "4         NaN            NaN       NaN           NaN    1985  "
      ]
     },
     "execution_count": 82,
     "metadata": {},
     "output_type": "execute_result"
    }
   ],
   "source": [
    "data.head()"
   ]
  },
  {
   "cell_type": "markdown",
   "metadata": {},
   "source": [
    "Ahora los nombres de cada variable son más legibles y ordenados. Lo que facilita el análisis de estos datos. [Diccionario de Variables](https://kmarcela11.github.io/ProyectoFinal_SeminarioInvestigativo/variables.html)"
   ]
  },
  {
   "cell_type": "code",
   "execution_count": 83,
   "metadata": {},
   "outputs": [
    {
     "data": {
      "application/vnd.plotly.v1+json": {
       "config": {
        "plotlyServerURL": "https://plot.ly"
       },
       "data": [
        {
         "alignmentgroup": "True",
         "hovertemplate": "index=%{x}<br>Porcentaje de Datos Faltantes (%)=%{y}<br>text=%{text}<br>color=%{marker.color}<extra></extra>",
         "legendgroup": "",
         "marker": {
          "color": [
           73.8611893324499,
           44.622265261655684,
           39.7484741529797,
           38.57621589938966,
           16.488067175494706,
           16.488067175494706,
           16.488067175494706,
           0.05351613766389317,
           0.05351613766389317,
           0,
           0,
           0,
           0,
           0,
           0,
           0,
           0,
           0
          ],
          "coloraxis": "coloraxis",
          "pattern": {
           "shape": ""
          }
         },
         "name": "",
         "offsetgroup": "",
         "orientation": "v",
         "showlegend": false,
         "text": [
          73.86,
          44.62,
          39.75,
          38.58,
          16.49,
          16.49,
          16.49,
          0.05,
          0.05,
          0,
          0,
          0,
          0,
          0,
          0,
          0,
          0,
          0
         ],
         "textposition": "outside",
         "type": "bar",
         "x": [
          "cert_medica",
          "causa_ops",
          "ent_salud_cod",
          "prob_muerte",
          "asistencia_med",
          "seg_social",
          "nivel_edu",
          "depto_res",
          "munic_res",
          "depto_ocurr",
          "causa_basica",
          "munic_ocurr",
          "sitio_def",
          "estado_civil",
          "grupo_edad",
          "sexo",
          "mes_def",
          "año_def"
         ],
         "xaxis": "x",
         "y": [
          73.8611893324499,
          44.622265261655684,
          39.7484741529797,
          38.57621589938966,
          16.488067175494706,
          16.488067175494706,
          16.488067175494706,
          0.05351613766389317,
          0.05351613766389317,
          0,
          0,
          0,
          0,
          0,
          0,
          0,
          0,
          0
         ],
         "yaxis": "y"
        }
       ],
       "layout": {
        "barmode": "relative",
        "coloraxis": {
         "colorbar": {
          "title": {
           "text": "color"
          }
         },
         "colorscale": [
          [
           0,
           "#F8BBD0"
          ],
          [
           0.25,
           "#F48FB1"
          ],
          [
           0.5,
           "#F06292"
          ],
          [
           0.75,
           "#EC407A"
          ],
          [
           1,
           "#D81B60"
          ]
         ]
        },
        "font": {
         "color": "black",
         "family": "Bahnschrift",
         "size": 14
        },
        "legend": {
         "tracegroupgap": 0
        },
        "paper_bgcolor": "white",
        "plot_bgcolor": "white",
        "template": {
         "data": {
          "bar": [
           {
            "error_x": {
             "color": "#2a3f5f"
            },
            "error_y": {
             "color": "#2a3f5f"
            },
            "marker": {
             "line": {
              "color": "#E5ECF6",
              "width": 0.5
             },
             "pattern": {
              "fillmode": "overlay",
              "size": 10,
              "solidity": 0.2
             }
            },
            "type": "bar"
           }
          ],
          "barpolar": [
           {
            "marker": {
             "line": {
              "color": "#E5ECF6",
              "width": 0.5
             },
             "pattern": {
              "fillmode": "overlay",
              "size": 10,
              "solidity": 0.2
             }
            },
            "type": "barpolar"
           }
          ],
          "carpet": [
           {
            "aaxis": {
             "endlinecolor": "#2a3f5f",
             "gridcolor": "white",
             "linecolor": "white",
             "minorgridcolor": "white",
             "startlinecolor": "#2a3f5f"
            },
            "baxis": {
             "endlinecolor": "#2a3f5f",
             "gridcolor": "white",
             "linecolor": "white",
             "minorgridcolor": "white",
             "startlinecolor": "#2a3f5f"
            },
            "type": "carpet"
           }
          ],
          "choropleth": [
           {
            "colorbar": {
             "outlinewidth": 0,
             "ticks": ""
            },
            "type": "choropleth"
           }
          ],
          "contour": [
           {
            "colorbar": {
             "outlinewidth": 0,
             "ticks": ""
            },
            "colorscale": [
             [
              0,
              "#0d0887"
             ],
             [
              0.1111111111111111,
              "#46039f"
             ],
             [
              0.2222222222222222,
              "#7201a8"
             ],
             [
              0.3333333333333333,
              "#9c179e"
             ],
             [
              0.4444444444444444,
              "#bd3786"
             ],
             [
              0.5555555555555556,
              "#d8576b"
             ],
             [
              0.6666666666666666,
              "#ed7953"
             ],
             [
              0.7777777777777778,
              "#fb9f3a"
             ],
             [
              0.8888888888888888,
              "#fdca26"
             ],
             [
              1,
              "#f0f921"
             ]
            ],
            "type": "contour"
           }
          ],
          "contourcarpet": [
           {
            "colorbar": {
             "outlinewidth": 0,
             "ticks": ""
            },
            "type": "contourcarpet"
           }
          ],
          "heatmap": [
           {
            "colorbar": {
             "outlinewidth": 0,
             "ticks": ""
            },
            "colorscale": [
             [
              0,
              "#0d0887"
             ],
             [
              0.1111111111111111,
              "#46039f"
             ],
             [
              0.2222222222222222,
              "#7201a8"
             ],
             [
              0.3333333333333333,
              "#9c179e"
             ],
             [
              0.4444444444444444,
              "#bd3786"
             ],
             [
              0.5555555555555556,
              "#d8576b"
             ],
             [
              0.6666666666666666,
              "#ed7953"
             ],
             [
              0.7777777777777778,
              "#fb9f3a"
             ],
             [
              0.8888888888888888,
              "#fdca26"
             ],
             [
              1,
              "#f0f921"
             ]
            ],
            "type": "heatmap"
           }
          ],
          "heatmapgl": [
           {
            "colorbar": {
             "outlinewidth": 0,
             "ticks": ""
            },
            "colorscale": [
             [
              0,
              "#0d0887"
             ],
             [
              0.1111111111111111,
              "#46039f"
             ],
             [
              0.2222222222222222,
              "#7201a8"
             ],
             [
              0.3333333333333333,
              "#9c179e"
             ],
             [
              0.4444444444444444,
              "#bd3786"
             ],
             [
              0.5555555555555556,
              "#d8576b"
             ],
             [
              0.6666666666666666,
              "#ed7953"
             ],
             [
              0.7777777777777778,
              "#fb9f3a"
             ],
             [
              0.8888888888888888,
              "#fdca26"
             ],
             [
              1,
              "#f0f921"
             ]
            ],
            "type": "heatmapgl"
           }
          ],
          "histogram": [
           {
            "marker": {
             "pattern": {
              "fillmode": "overlay",
              "size": 10,
              "solidity": 0.2
             }
            },
            "type": "histogram"
           }
          ],
          "histogram2d": [
           {
            "colorbar": {
             "outlinewidth": 0,
             "ticks": ""
            },
            "colorscale": [
             [
              0,
              "#0d0887"
             ],
             [
              0.1111111111111111,
              "#46039f"
             ],
             [
              0.2222222222222222,
              "#7201a8"
             ],
             [
              0.3333333333333333,
              "#9c179e"
             ],
             [
              0.4444444444444444,
              "#bd3786"
             ],
             [
              0.5555555555555556,
              "#d8576b"
             ],
             [
              0.6666666666666666,
              "#ed7953"
             ],
             [
              0.7777777777777778,
              "#fb9f3a"
             ],
             [
              0.8888888888888888,
              "#fdca26"
             ],
             [
              1,
              "#f0f921"
             ]
            ],
            "type": "histogram2d"
           }
          ],
          "histogram2dcontour": [
           {
            "colorbar": {
             "outlinewidth": 0,
             "ticks": ""
            },
            "colorscale": [
             [
              0,
              "#0d0887"
             ],
             [
              0.1111111111111111,
              "#46039f"
             ],
             [
              0.2222222222222222,
              "#7201a8"
             ],
             [
              0.3333333333333333,
              "#9c179e"
             ],
             [
              0.4444444444444444,
              "#bd3786"
             ],
             [
              0.5555555555555556,
              "#d8576b"
             ],
             [
              0.6666666666666666,
              "#ed7953"
             ],
             [
              0.7777777777777778,
              "#fb9f3a"
             ],
             [
              0.8888888888888888,
              "#fdca26"
             ],
             [
              1,
              "#f0f921"
             ]
            ],
            "type": "histogram2dcontour"
           }
          ],
          "mesh3d": [
           {
            "colorbar": {
             "outlinewidth": 0,
             "ticks": ""
            },
            "type": "mesh3d"
           }
          ],
          "parcoords": [
           {
            "line": {
             "colorbar": {
              "outlinewidth": 0,
              "ticks": ""
             }
            },
            "type": "parcoords"
           }
          ],
          "pie": [
           {
            "automargin": true,
            "type": "pie"
           }
          ],
          "scatter": [
           {
            "fillpattern": {
             "fillmode": "overlay",
             "size": 10,
             "solidity": 0.2
            },
            "type": "scatter"
           }
          ],
          "scatter3d": [
           {
            "line": {
             "colorbar": {
              "outlinewidth": 0,
              "ticks": ""
             }
            },
            "marker": {
             "colorbar": {
              "outlinewidth": 0,
              "ticks": ""
             }
            },
            "type": "scatter3d"
           }
          ],
          "scattercarpet": [
           {
            "marker": {
             "colorbar": {
              "outlinewidth": 0,
              "ticks": ""
             }
            },
            "type": "scattercarpet"
           }
          ],
          "scattergeo": [
           {
            "marker": {
             "colorbar": {
              "outlinewidth": 0,
              "ticks": ""
             }
            },
            "type": "scattergeo"
           }
          ],
          "scattergl": [
           {
            "marker": {
             "colorbar": {
              "outlinewidth": 0,
              "ticks": ""
             }
            },
            "type": "scattergl"
           }
          ],
          "scattermapbox": [
           {
            "marker": {
             "colorbar": {
              "outlinewidth": 0,
              "ticks": ""
             }
            },
            "type": "scattermapbox"
           }
          ],
          "scatterpolar": [
           {
            "marker": {
             "colorbar": {
              "outlinewidth": 0,
              "ticks": ""
             }
            },
            "type": "scatterpolar"
           }
          ],
          "scatterpolargl": [
           {
            "marker": {
             "colorbar": {
              "outlinewidth": 0,
              "ticks": ""
             }
            },
            "type": "scatterpolargl"
           }
          ],
          "scatterternary": [
           {
            "marker": {
             "colorbar": {
              "outlinewidth": 0,
              "ticks": ""
             }
            },
            "type": "scatterternary"
           }
          ],
          "surface": [
           {
            "colorbar": {
             "outlinewidth": 0,
             "ticks": ""
            },
            "colorscale": [
             [
              0,
              "#0d0887"
             ],
             [
              0.1111111111111111,
              "#46039f"
             ],
             [
              0.2222222222222222,
              "#7201a8"
             ],
             [
              0.3333333333333333,
              "#9c179e"
             ],
             [
              0.4444444444444444,
              "#bd3786"
             ],
             [
              0.5555555555555556,
              "#d8576b"
             ],
             [
              0.6666666666666666,
              "#ed7953"
             ],
             [
              0.7777777777777778,
              "#fb9f3a"
             ],
             [
              0.8888888888888888,
              "#fdca26"
             ],
             [
              1,
              "#f0f921"
             ]
            ],
            "type": "surface"
           }
          ],
          "table": [
           {
            "cells": {
             "fill": {
              "color": "#EBF0F8"
             },
             "line": {
              "color": "white"
             }
            },
            "header": {
             "fill": {
              "color": "#C8D4E3"
             },
             "line": {
              "color": "white"
             }
            },
            "type": "table"
           }
          ]
         },
         "layout": {
          "annotationdefaults": {
           "arrowcolor": "#2a3f5f",
           "arrowhead": 0,
           "arrowwidth": 1
          },
          "autotypenumbers": "strict",
          "coloraxis": {
           "colorbar": {
            "outlinewidth": 0,
            "ticks": ""
           }
          },
          "colorscale": {
           "diverging": [
            [
             0,
             "#8e0152"
            ],
            [
             0.1,
             "#c51b7d"
            ],
            [
             0.2,
             "#de77ae"
            ],
            [
             0.3,
             "#f1b6da"
            ],
            [
             0.4,
             "#fde0ef"
            ],
            [
             0.5,
             "#f7f7f7"
            ],
            [
             0.6,
             "#e6f5d0"
            ],
            [
             0.7,
             "#b8e186"
            ],
            [
             0.8,
             "#7fbc41"
            ],
            [
             0.9,
             "#4d9221"
            ],
            [
             1,
             "#276419"
            ]
           ],
           "sequential": [
            [
             0,
             "#0d0887"
            ],
            [
             0.1111111111111111,
             "#46039f"
            ],
            [
             0.2222222222222222,
             "#7201a8"
            ],
            [
             0.3333333333333333,
             "#9c179e"
            ],
            [
             0.4444444444444444,
             "#bd3786"
            ],
            [
             0.5555555555555556,
             "#d8576b"
            ],
            [
             0.6666666666666666,
             "#ed7953"
            ],
            [
             0.7777777777777778,
             "#fb9f3a"
            ],
            [
             0.8888888888888888,
             "#fdca26"
            ],
            [
             1,
             "#f0f921"
            ]
           ],
           "sequentialminus": [
            [
             0,
             "#0d0887"
            ],
            [
             0.1111111111111111,
             "#46039f"
            ],
            [
             0.2222222222222222,
             "#7201a8"
            ],
            [
             0.3333333333333333,
             "#9c179e"
            ],
            [
             0.4444444444444444,
             "#bd3786"
            ],
            [
             0.5555555555555556,
             "#d8576b"
            ],
            [
             0.6666666666666666,
             "#ed7953"
            ],
            [
             0.7777777777777778,
             "#fb9f3a"
            ],
            [
             0.8888888888888888,
             "#fdca26"
            ],
            [
             1,
             "#f0f921"
            ]
           ]
          },
          "colorway": [
           "#636efa",
           "#EF553B",
           "#00cc96",
           "#ab63fa",
           "#FFA15A",
           "#19d3f3",
           "#FF6692",
           "#B6E880",
           "#FF97FF",
           "#FECB52"
          ],
          "font": {
           "color": "#2a3f5f"
          },
          "geo": {
           "bgcolor": "white",
           "lakecolor": "white",
           "landcolor": "#E5ECF6",
           "showlakes": true,
           "showland": true,
           "subunitcolor": "white"
          },
          "hoverlabel": {
           "align": "left"
          },
          "hovermode": "closest",
          "mapbox": {
           "style": "light"
          },
          "paper_bgcolor": "white",
          "plot_bgcolor": "#E5ECF6",
          "polar": {
           "angularaxis": {
            "gridcolor": "white",
            "linecolor": "white",
            "ticks": ""
           },
           "bgcolor": "#E5ECF6",
           "radialaxis": {
            "gridcolor": "white",
            "linecolor": "white",
            "ticks": ""
           }
          },
          "scene": {
           "xaxis": {
            "backgroundcolor": "#E5ECF6",
            "gridcolor": "white",
            "gridwidth": 2,
            "linecolor": "white",
            "showbackground": true,
            "ticks": "",
            "zerolinecolor": "white"
           },
           "yaxis": {
            "backgroundcolor": "#E5ECF6",
            "gridcolor": "white",
            "gridwidth": 2,
            "linecolor": "white",
            "showbackground": true,
            "ticks": "",
            "zerolinecolor": "white"
           },
           "zaxis": {
            "backgroundcolor": "#E5ECF6",
            "gridcolor": "white",
            "gridwidth": 2,
            "linecolor": "white",
            "showbackground": true,
            "ticks": "",
            "zerolinecolor": "white"
           }
          },
          "shapedefaults": {
           "line": {
            "color": "#2a3f5f"
           }
          },
          "ternary": {
           "aaxis": {
            "gridcolor": "white",
            "linecolor": "white",
            "ticks": ""
           },
           "baxis": {
            "gridcolor": "white",
            "linecolor": "white",
            "ticks": ""
           },
           "bgcolor": "#E5ECF6",
           "caxis": {
            "gridcolor": "white",
            "linecolor": "white",
            "ticks": ""
           }
          },
          "title": {
           "x": 0.05
          },
          "xaxis": {
           "automargin": true,
           "gridcolor": "white",
           "linecolor": "white",
           "ticks": "",
           "title": {
            "standoff": 15
           },
           "zerolinecolor": "white",
           "zerolinewidth": 2
          },
          "yaxis": {
           "automargin": true,
           "gridcolor": "white",
           "linecolor": "white",
           "ticks": "",
           "title": {
            "standoff": 15
           },
           "zerolinecolor": "white",
           "zerolinewidth": 2
          }
         }
        },
        "title": {
         "font": {
          "color": "black",
          "family": "Bahnschrift",
          "size": 22
         },
         "text": "Porcentaje de Datos Faltantes por Variable"
        },
        "xaxis": {
         "anchor": "y",
         "domain": [
          0,
          1
         ],
         "tickangle": -45,
         "title": {
          "text": "Variables"
         }
        },
        "yaxis": {
         "anchor": "x",
         "domain": [
          0,
          1
         ],
         "range": [
          0,
          83.8611893324499
         ],
         "title": {
          "text": "Porcentaje de Datos Faltantes"
         }
        }
       }
      }
     },
     "metadata": {},
     "output_type": "display_data"
    }
   ],
   "source": [
    "grafico_datos_faltantes(data)"
   ]
  },
  {
   "cell_type": "markdown",
   "metadata": {},
   "source": [
    "### **Re-estructuración e imputación por variables**"
   ]
  },
  {
   "cell_type": "markdown",
   "metadata": {},
   "source": [
    "En esta sección, se llevarán a cabo ajustes para mejorar la claridad y usabilidad de los datos. Primero, se renombrarán las variables con nombres más legibles y comprensibles, facilitando su interpretación. Además, las categorías etiquetadas como **\"Sin información\"** en algunas variables serán convertidas a **NaN**, lo que permitirá un análisis más estructurado, evitando sesgos y facilitando la imputación de datos en etapas posteriores. Estas transformaciones contribuirán a una mejor comprensión y optimización del conjunto de datos para su análisis.\n"
   ]
  },
  {
   "cell_type": "markdown",
   "metadata": {},
   "source": [
    "#### **Variable: sexo**"
   ]
  },
  {
   "cell_type": "markdown",
   "metadata": {},
   "source": [
    "Aunque el cáncer de mama también puede afectar a los hombres, en este caso únicamente se cuenta con datos de mujeres que han fallecido a causa de esta enfermedad.\n"
   ]
  },
  {
   "cell_type": "code",
   "execution_count": 84,
   "metadata": {},
   "outputs": [
    {
     "data": {
      "text/plain": [
       "sexo\n",
       "2    78481\n",
       "Name: count, dtype: int64"
      ]
     },
     "execution_count": 84,
     "metadata": {},
     "output_type": "execute_result"
    }
   ],
   "source": [
    "data['sexo'].value_counts(dropna=False)"
   ]
  },
  {
   "cell_type": "code",
   "execution_count": 85,
   "metadata": {},
   "outputs": [
    {
     "data": {
      "text/plain": [
       "sexo\n",
       "Femenino    78481\n",
       "Name: count, dtype: int64"
      ]
     },
     "execution_count": 85,
     "metadata": {},
     "output_type": "execute_result"
    }
   ],
   "source": [
    "data['sexo'] = data['sexo'].astype(str)\n",
    "data['sexo'].replace('2', 'Femenino', inplace=True)\n",
    "data['sexo'].value_counts(dropna=False)"
   ]
  },
  {
   "cell_type": "markdown",
   "metadata": {},
   "source": [
    "#### **Variable: Mes de defunción**"
   ]
  },
  {
   "cell_type": "markdown",
   "metadata": {},
   "source": [
    "En cuanto a la variable relacionada con el mes de defunción, no se cuenta con valores faltantes. En este caso, solo se recodifican las categorías para un mejor entendimiento de cada mes."
   ]
  },
  {
   "cell_type": "code",
   "execution_count": 86,
   "metadata": {},
   "outputs": [
    {
     "data": {
      "text/plain": [
       "mes_def\n",
       "Diciembre     6782\n",
       "Mayo          6765\n",
       "Octubre       6724\n",
       "Julio         6672\n",
       "Agosto        6642\n",
       "Junio         6540\n",
       "Marzo         6493\n",
       "Enero         6431\n",
       "Septiembre    6426\n",
       "Noviembre     6415\n",
       "Abril         6379\n",
       "Febrero       6212\n",
       "Name: count, dtype: int64"
      ]
     },
     "execution_count": 86,
     "metadata": {},
     "output_type": "execute_result"
    }
   ],
   "source": [
    "mes_dict_str = {\n",
    "    \"01\": \"Enero\", \"02\": \"Febrero\", \"03\": \"Marzo\", \"04\": \"Abril\",\n",
    "    \"05\": \"Mayo\", \"06\": \"Junio\", \"07\": \"Julio\", \"08\": \"Agosto\",\n",
    "    \"09\": \"Septiembre\", \"10\": \"Octubre\", \"11\": \"Noviembre\", \"12\": \"Diciembre\"\n",
    "}\n",
    "data['mes_def'] = data['mes_def'].astype(str).str.zfill(2).replace(mes_dict_str)\n",
    "data['mes_def'].value_counts(dropna=False)\n"
   ]
  },
  {
   "cell_type": "markdown",
   "metadata": {},
   "source": [
    "#### **Variable: Estado civil**"
   ]
  },
  {
   "cell_type": "markdown",
   "metadata": {},
   "source": [
    "Veamos que ocurre con la variable de estado civil."
   ]
  },
  {
   "cell_type": "code",
   "execution_count": 87,
   "metadata": {},
   "outputs": [],
   "source": [
    "data['estado_civil'].value_counts(dropna=False)\n",
    "data['estado_civil'] = data['estado_civil'].astype(str)"
   ]
  },
  {
   "cell_type": "code",
   "execution_count": 88,
   "metadata": {},
   "outputs": [],
   "source": [
    "data['estado_civil'] = data['estado_civil'].replace(['5', '6', '9'], np.nan)\n",
    "\n",
    "estado_civil_dict = {\n",
    "    \"1\": \"Soltero\",\n",
    "    \"2\": \"Casado\",\n",
    "    \"3\": \"Viudo\",\n",
    "    \"4\": \"Unión Libre, Divorciado/Otro\"\n",
    "}\n",
    "\n",
    "data['estado_civil'] = data['estado_civil'].replace(estado_civil_dict)\n"
   ]
  },
  {
   "cell_type": "code",
   "execution_count": 89,
   "metadata": {},
   "outputs": [
    {
     "data": {
      "text/plain": [
       "estado_civil\n",
       "NaN                             23529\n",
       "Casado                          17136\n",
       "Soltero                         14058\n",
       "Unión Libre, Divorciado/Otro    12878\n",
       "Viudo                           10880\n",
       "Name: count, dtype: int64"
      ]
     },
     "execution_count": 89,
     "metadata": {},
     "output_type": "execute_result"
    }
   ],
   "source": [
    "data['estado_civil'].value_counts(dropna=False)"
   ]
  },
  {
   "cell_type": "markdown",
   "metadata": {},
   "source": [
    "Se identificaron **23,529** datos faltantes. Dado que se trata de una variable difícil de imputar o estimar con precisión, se optó por asignar los valores faltantes en función de las proporciones observadas en las demás categorías, con el fin de no alterar la distribución general de la variable.\n"
   ]
  },
  {
   "cell_type": "code",
   "execution_count": 90,
   "metadata": {},
   "outputs": [],
   "source": [
    "proporciones = data['estado_civil'].value_counts(normalize=True)\n",
    "proporciones = proporciones[~proporciones.index.isna()]  # Excluir NaN si aparece\n",
    "num_nan = data['estado_civil'].isna().sum()"
   ]
  },
  {
   "cell_type": "code",
   "execution_count": 91,
   "metadata": {},
   "outputs": [],
   "source": [
    "valores_imputados = np.random.choice(\n",
    "    proporciones.index,         # categorías (ej. Casado, Soltero, etc.)\n",
    "    size=num_nan,               # cuántos valores imputar\n",
    "    p=proporciones.values       # probabilidades según proporción\n",
    ")"
   ]
  },
  {
   "cell_type": "code",
   "execution_count": 92,
   "metadata": {},
   "outputs": [
    {
     "data": {
      "text/plain": [
       "estado_civil\n",
       "Casado                          24447\n",
       "Soltero                         20104\n",
       "Unión Libre, Divorciado/Otro    18371\n",
       "Viudo                           15559\n",
       "Name: count, dtype: int64"
      ]
     },
     "execution_count": 92,
     "metadata": {},
     "output_type": "execute_result"
    }
   ],
   "source": [
    "data.loc[data['estado_civil'].isna(), 'estado_civil'] = valores_imputados\n",
    "data['estado_civil'].value_counts(dropna=False)"
   ]
  },
  {
   "cell_type": "markdown",
   "metadata": {},
   "source": [
    "#### **Variable: Sitio de defunción**"
   ]
  },
  {
   "cell_type": "code",
   "execution_count": 93,
   "metadata": {},
   "outputs": [
    {
     "data": {
      "text/plain": [
       "sitio_def\n",
       "1    43365\n",
       "2    27522\n",
       "3     6844\n",
       "4      695\n",
       "6       41\n",
       "5       13\n",
       "9        1\n",
       "Name: count, dtype: int64"
      ]
     },
     "execution_count": 93,
     "metadata": {},
     "output_type": "execute_result"
    }
   ],
   "source": [
    "data['sitio_def'].value_counts(dropna = False)"
   ]
  },
  {
   "cell_type": "code",
   "execution_count": 94,
   "metadata": {},
   "outputs": [],
   "source": [
    "data['sitio_def'] = data['sitio_def'].astype(str)\n",
    "data['sitio_def'] = data['sitio_def'].replace( ['4','5', '6', '9'], np.nan)\n",
    "\n",
    "sitio_def_dict = {\"1\": \"Hospital o Clínica\", \"2\": \"Casa\", \"3\": \"Otro Sitio\"}\n",
    "data['sitio_def'] = data['sitio_def'].replace(sitio_def_dict)\n",
    "\n",
    "data.loc[data['sitio_def'].isna(), 'sitio_def'] = \"Otro Sitio\""
   ]
  },
  {
   "cell_type": "code",
   "execution_count": 95,
   "metadata": {},
   "outputs": [
    {
     "data": {
      "text/plain": [
       "sitio_def\n",
       "Hospital o Clínica    43365\n",
       "Casa                  27522\n",
       "Otro Sitio             7594\n",
       "Name: count, dtype: int64"
      ]
     },
     "execution_count": 95,
     "metadata": {},
     "output_type": "execute_result"
    }
   ],
   "source": [
    "data['sitio_def'].value_counts()"
   ]
  },
  {
   "cell_type": "markdown",
   "metadata": {},
   "source": [
    "#### **Variable: Nivel educativo**"
   ]
  },
  {
   "cell_type": "code",
   "execution_count": 96,
   "metadata": {},
   "outputs": [],
   "source": [
    "data['nivel_edu'] = data['nivel_edu'].replace(\n",
    "    ['6', '7', '8', '9', '99', '10', '11', '12', '13'], pd.NA)\n",
    "\n",
    "nivel_edu_dict = {\n",
    "    \"1\": \"Preescolar\", \"2\": \"Primaria\", \"3\": \"Secundaria\",\n",
    "    \"4\": \"Superior\", \"5\": \"Ninguno\"}\n",
    "\n",
    "data['nivel_edu'] = data['nivel_edu'].replace(nivel_edu_dict)\n",
    "\n",
    "data['nivel_edu'].fillna(\"No especificado\", inplace=True)\n",
    "\n"
   ]
  },
  {
   "cell_type": "code",
   "execution_count": 97,
   "metadata": {},
   "outputs": [
    {
     "data": {
      "text/plain": [
       "nivel_edu\n",
       "No especificado    25840\n",
       "Primaria           25365\n",
       "Secundaria         15637\n",
       "Superior            7268\n",
       "Ninguno             3838\n",
       "Preescolar           533\n",
       "Name: count, dtype: int64"
      ]
     },
     "execution_count": 97,
     "metadata": {},
     "output_type": "execute_result"
    }
   ],
   "source": [
    "data['nivel_edu'].value_counts(dropna = False)"
   ]
  },
  {
   "cell_type": "markdown",
   "metadata": {},
   "source": [
    "En este caso, a los datos faltantes se les asocio la categoría **No especificado**, dado que no resulta coherente imputar estos datos de manera estadística."
   ]
  },
  {
   "cell_type": "markdown",
   "metadata": {},
   "source": [
    "#### **Variable: Causa agrupada con base en la Lista 6/67 de la OP**"
   ]
  },
  {
   "cell_type": "code",
   "execution_count": 98,
   "metadata": {},
   "outputs": [
    {
     "data": {
      "text/plain": [
       "causa_ops\n",
       "208      37004\n",
       "NaN      35020\n",
       "208.0     6457\n",
       "Name: count, dtype: int64"
      ]
     },
     "execution_count": 98,
     "metadata": {},
     "output_type": "execute_result"
    }
   ],
   "source": [
    "data['causa_ops'].value_counts(dropna = False)"
   ]
  },
  {
   "cell_type": "code",
   "execution_count": 99,
   "metadata": {},
   "outputs": [
    {
     "data": {
      "text/plain": [
       "causa_ops\n",
       "Tumor Maligno    78481\n",
       "Name: count, dtype: int64"
      ]
     },
     "execution_count": 99,
     "metadata": {},
     "output_type": "execute_result"
    }
   ],
   "source": [
    "data['causa_ops'] = data['causa_ops'].replace([208, '208.0', '208'], \"Tumor Maligno\")\n",
    "\n",
    "data['causa_ops'].fillna(\"Tumor Maligno\", inplace=True)\n",
    "\n",
    "data['causa_ops'].value_counts(dropna=False)"
   ]
  },
  {
   "cell_type": "code",
   "execution_count": 100,
   "metadata": {},
   "outputs": [],
   "source": [
    "data.drop('causa_ops', axis=1, inplace=True)"
   ]
  },
  {
   "cell_type": "markdown",
   "metadata": {},
   "source": [
    "En este caso, al imputar los datos faltantes, se observó que, tratándose de defunciones por cáncer de mama, la causa agrupada corresponde en todos los casos a \"tumor maligno de mama\". Por lo tanto, todas las observaciones terminan teniendo la misma causa, lo que lleva a la decisión de eliminar esta variable por no aportar variabilidad al análisis.\n"
   ]
  },
  {
   "cell_type": "markdown",
   "metadata": {},
   "source": [
    "#### **Variable: Asistencia médica**"
   ]
  },
  {
   "cell_type": "code",
   "execution_count": 101,
   "metadata": {},
   "outputs": [
    {
     "data": {
      "text/plain": [
       "asistencia_med\n",
       "SI          58251\n",
       "NO          20136\n",
       "Ignorado       94\n",
       "Name: count, dtype: int64"
      ]
     },
     "execution_count": 101,
     "metadata": {},
     "output_type": "execute_result"
    }
   ],
   "source": [
    "data['asistencia_med'] = data['asistencia_med'].replace('9', '2')\n",
    "\n",
    "asistencia_med_dict = {'1': \"SI\", '2': \"NO\", '3': \"Ignorado\"}\n",
    "\n",
    "data['asistencia_med'] = data['asistencia_med'].map(asistencia_med_dict)\n",
    "\n",
    "data['asistencia_med'].fillna('NO', inplace=True)\n",
    "data['asistencia_med'].value_counts(dropna=False)\n"
   ]
  },
  {
   "cell_type": "markdown",
   "metadata": {},
   "source": [
    "#### **Variable: Probable manera de muerte**"
   ]
  },
  {
   "cell_type": "code",
   "execution_count": 102,
   "metadata": {},
   "outputs": [
    {
     "data": {
      "text/plain": [
       "prob_muerte\n",
       "1      48200\n",
       "NaN    30275\n",
       "3          6\n",
       "Name: count, dtype: int64"
      ]
     },
     "execution_count": 102,
     "metadata": {},
     "output_type": "execute_result"
    }
   ],
   "source": [
    "data['prob_muerte'].value_counts(dropna=False)"
   ]
  },
  {
   "cell_type": "code",
   "execution_count": 103,
   "metadata": {},
   "outputs": [],
   "source": [
    "data.drop('prob_muerte', axis=1, inplace=True)"
   ]
  },
  {
   "cell_type": "markdown",
   "metadata": {},
   "source": [
    "Se decide eliminar esta variable debido a la alta cantidad de datos faltantes (**30,275**), lo que representa una proporción significativa del total. Además, las categorías existentes están altamente desbalanceadas: la mayoría de los registros corresponden a una sola categoría, mientras que las demás tienen una representación mínima. En este contexto, no tendría sentido realizar un análisis sobre esta variable, ya que podría conducir a interpretaciones sesgadas o no representativas.\n"
   ]
  },
  {
   "cell_type": "markdown",
   "metadata": {},
   "source": [
    "#### **Variable: Grupo de edad**"
   ]
  },
  {
   "cell_type": "code",
   "execution_count": 104,
   "metadata": {},
   "outputs": [],
   "source": [
    "data['grupo_edad'] = data['grupo_edad'].astype(str)\n",
    "\n",
    "data['grupo_edad'] = data['grupo_edad'].replace(['7', '8', '9', '26', '27', '28'], '25')\n"
   ]
  },
  {
   "cell_type": "code",
   "execution_count": 105,
   "metadata": {},
   "outputs": [],
   "source": [
    "grupo_edad_dict = {\n",
    "    \"10\": \"15-19 años\", \"11\": \"20-24 años\", \"12\": \"25-29 años\",\n",
    "    \"13\": \"30-34 años\", \"14\": \"35-39 años\", \"15\": \"40-44 años\",\n",
    "    \"16\": \"45-49 años\", \"17\": \"50-54 años\", \"18\": \"55-59 años\",\n",
    "    \"19\": \"60-64 años\", \"20\": \"65-69 años\", \"21\": \"70-74 años\",\n",
    "    \"22\": \"75-79 años\", \"23\": \"80-84 años\", \"24\": \"85+ años\",\n",
    "    \"25\": \"Edad desconocida\"\n",
    "}\n",
    "\n",
    "data['grupo_edad'] = data['grupo_edad'].astype(str).replace(grupo_edad_dict)\n"
   ]
  },
  {
   "cell_type": "code",
   "execution_count": 106,
   "metadata": {},
   "outputs": [
    {
     "data": {
      "text/plain": [
       "grupo_edad\n",
       "55-59 años          9373\n",
       "60-64 años          9309\n",
       "50-54 años          8708\n",
       "65-69 años          8291\n",
       "70-74 años          7473\n",
       "45-49 años          6927\n",
       "75-79 años          6151\n",
       "80-84 años          4969\n",
       "40-44 años          4880\n",
       "85+ años            4554\n",
       "Edad desconocida    3260\n",
       "35-39 años          2778\n",
       "30-34 años          1334\n",
       "25-29 años           363\n",
       "20-24 años            91\n",
       "15-19 años            20\n",
       "Name: count, dtype: int64"
      ]
     },
     "execution_count": 106,
     "metadata": {},
     "output_type": "execute_result"
    }
   ],
   "source": [
    "data['grupo_edad'].value_counts(dropna = False)"
   ]
  },
  {
   "cell_type": "markdown",
   "metadata": {},
   "source": [
    "#### **Variable: Seguridad social**"
   ]
  },
  {
   "cell_type": "code",
   "execution_count": 107,
   "metadata": {},
   "outputs": [
    {
     "data": {
      "text/plain": [
       "seg_social\n",
       "Contributivo    33467\n",
       "Subsidiado      24760\n",
       "Otro            15287\n",
       "Vinculado        3916\n",
       "Particular        927\n",
       "Ignorado          124\n",
       "Name: count, dtype: int64"
      ]
     },
     "execution_count": 107,
     "metadata": {},
     "output_type": "execute_result"
    }
   ],
   "source": [
    "data['seg_social'].replace('9', np.nan, inplace=True)\n",
    "\n",
    "seg_social_dict = {\n",
    "    \"1\": \"Contributivo\", \"2\": \"Subsidiado\", \"3\": \"Vinculado\",\n",
    "    \"4\": \"Particular\", \"5\": \"Otro\", \"6\": \"Ignorado\"\n",
    "}\n",
    "data['seg_social'] = data['seg_social'].astype(str).replace(seg_social_dict)\n",
    "\n",
    "data['seg_social'].replace('nan', np.nan, inplace=True)\n",
    "\n",
    "data['seg_social'].fillna(\"Otro\", inplace=True)\n",
    "\n",
    "data['seg_social'].value_counts(dropna = False)"
   ]
  },
  {
   "cell_type": "markdown",
   "metadata": {},
   "source": [
    "#### **Variable: cert_medica - ¿Cómo se determino la muerte?**"
   ]
  },
  {
   "cell_type": "code",
   "execution_count": 108,
   "metadata": {},
   "outputs": [
    {
     "data": {
      "text/plain": [
       "cert_medica\n",
       "NaN    57967\n",
       "2      13906\n",
       "\"       3145\n",
       "4       2439\n",
       "9        769\n",
       "1        214\n",
       "3         41\n",
       "Name: count, dtype: int64"
      ]
     },
     "execution_count": 108,
     "metadata": {},
     "output_type": "execute_result"
    }
   ],
   "source": [
    "data['cert_medica'].value_counts(dropna = False)"
   ]
  },
  {
   "cell_type": "code",
   "execution_count": 109,
   "metadata": {},
   "outputs": [],
   "source": [
    "data.drop('cert_medica', axis=1, inplace=True)"
   ]
  },
  {
   "cell_type": "markdown",
   "metadata": {},
   "source": [
    "Se decide eliminar esta variable debido a la elevada cantidad de datos faltantes. Además, las categorías presentes son numerosas y están poco representadas, lo que dificulta una imputación adecuada y podría comprometer la calidad del análisis.\n"
   ]
  },
  {
   "cell_type": "markdown",
   "metadata": {},
   "source": [
    "#### **Variable: Código de la entidad administradora en salud a la que pertenecía el fallecido**"
   ]
  },
  {
   "cell_type": "code",
   "execution_count": 110,
   "metadata": {},
   "outputs": [
    {
     "data": {
      "text/plain": [
       "ent_salud_cod\n",
       "NaN    31195\n",
       "1      24180\n",
       "2      20012\n",
       "5       2221\n",
       "9        515\n",
       "4        203\n",
       "3        114\n",
       "\"         41\n",
       "Name: count, dtype: int64"
      ]
     },
     "execution_count": 110,
     "metadata": {},
     "output_type": "execute_result"
    }
   ],
   "source": [
    "data['ent_salud_cod'].value_counts(dropna = False)\n"
   ]
  },
  {
   "cell_type": "code",
   "execution_count": 111,
   "metadata": {},
   "outputs": [],
   "source": [
    "data['ent_salud_cod'].replace('9', np.nan, inplace = True)"
   ]
  },
  {
   "cell_type": "code",
   "execution_count": 112,
   "metadata": {},
   "outputs": [],
   "source": [
    "ent_salud_dict = {\n",
    "    \"1\": \"EPS\", \"2\": \"EPS - Subsidiado\", \"3\": \"EAPB\",\n",
    "    \"4\": \"ESE\", \"5\": \"EESS\"}\n",
    "data['ent_salud_cod'] = data['ent_salud_cod'].astype(str).replace(ent_salud_dict)"
   ]
  },
  {
   "cell_type": "code",
   "execution_count": 113,
   "metadata": {},
   "outputs": [],
   "source": [
    "data.drop('ent_salud_cod', axis=1, inplace=True)"
   ]
  },
  {
   "cell_type": "markdown",
   "metadata": {},
   "source": [
    "#### **Variable: Causa básica**"
   ]
  },
  {
   "cell_type": "markdown",
   "metadata": {},
   "source": [
    "En esta variable se utilizan los códigos CIE-10 y CIE-9 para asociar las distintas causas de muerte relacionadas con la enfermedad del cáncer de mama. Estos códigos permiten identificar y clasificar de manera estandarizada las causas médicas registradas en los certificados de defunción.\n"
   ]
  },
  {
   "cell_type": "code",
   "execution_count": 114,
   "metadata": {},
   "outputs": [
    {
     "data": {
      "text/plain": [
       "causa_basica\n",
       "C509    66638\n",
       "1749    11563\n",
       "C500       49\n",
       "C504       44\n",
       "C501       33\n",
       "C508       33\n",
       "1740       30\n",
       "C503       21\n",
       "C502       15\n",
       "1748       14\n",
       "C506       13\n",
       "C505       12\n",
       "1741       10\n",
       "1744        2\n",
       "1745        1\n",
       "1743        1\n",
       "1742        1\n",
       "1746        1\n",
       "Name: count, dtype: int64"
      ]
     },
     "execution_count": 114,
     "metadata": {},
     "output_type": "execute_result"
    }
   ],
   "source": [
    "data['causa_basica'].value_counts(dropna = False)"
   ]
  },
  {
   "cell_type": "code",
   "execution_count": 115,
   "metadata": {},
   "outputs": [],
   "source": [
    "cie_dict = {\n",
    "    'C500': 'Cuadrante superior interno',\n",
    "    'C501': 'Cuadrante superior externo',\n",
    "    'C502': 'Cuadrante inferior interno',\n",
    "    'C503': 'Cuadrante inferior externo',\n",
    "    'C504': 'Cuadrante superior interno',\n",
    "    'C505': 'Región central',\n",
    "    'C506': 'Prolongación axilar',\n",
    "    'C508': 'Otras partes especificadas',\n",
    "    'C509': 'Parte no especificada',\n",
    "    '1740': 'Cuadrante superior interno',\n",
    "    '1741': 'Cuadrante superior externo',\n",
    "    '1742': 'Cuadrante inferior interno',\n",
    "    '1743': 'Cuadrante inferior externo',\n",
    "    '1744': 'Región central',\n",
    "    '1745': 'Prolongación axilar',\n",
    "    '1746': 'Otras partes especificadas',\n",
    "    '1748': 'Múltiples localizaciones',\n",
    "    '1749': 'Parte no especificada',\n",
    "}\n",
    "\n",
    "data['causa_basica'] = data['causa_basica'].map(cie_dict)\n"
   ]
  },
  {
   "cell_type": "code",
   "execution_count": 116,
   "metadata": {},
   "outputs": [
    {
     "data": {
      "text/plain": [
       "causa_basica\n",
       "Parte no especificada         78201\n",
       "Cuadrante superior interno      123\n",
       "Cuadrante superior externo       43\n",
       "Otras partes especificadas       34\n",
       "Cuadrante inferior externo       22\n",
       "Cuadrante inferior interno       16\n",
       "Múltiples localizaciones         14\n",
       "Prolongación axilar              14\n",
       "Región central                   14\n",
       "Name: count, dtype: int64"
      ]
     },
     "execution_count": 116,
     "metadata": {},
     "output_type": "execute_result"
    }
   ],
   "source": [
    "data['causa_basica'].value_counts(dropna = False)"
   ]
  },
  {
   "cell_type": "markdown",
   "metadata": {},
   "source": [
    "## **Conjunto de datos 2: DIVIPOLA**"
   ]
  },
  {
   "cell_type": "markdown",
   "metadata": {},
   "source": [
    "\n",
    "Este conjunto de datos proporciona los códigos oficiales utilizados para identificar departamentos, municipios y otras divisiones territoriales. Estos códigos sirven como referencia en el Conjunto de Datos 1 para estandarizar la información geográfica y facilitar su análisis."
   ]
  },
  {
   "cell_type": "code",
   "execution_count": 117,
   "metadata": {},
   "outputs": [
    {
     "data": {
      "text/html": [
       "<div>\n",
       "<style scoped>\n",
       "    .dataframe tbody tr th:only-of-type {\n",
       "        vertical-align: middle;\n",
       "    }\n",
       "\n",
       "    .dataframe tbody tr th {\n",
       "        vertical-align: top;\n",
       "    }\n",
       "\n",
       "    .dataframe thead th {\n",
       "        text-align: right;\n",
       "    }\n",
       "</style>\n",
       "<table border=\"1\" class=\"dataframe\">\n",
       "  <thead>\n",
       "    <tr style=\"text-align: right;\">\n",
       "      <th></th>\n",
       "      <th>Código Departamento</th>\n",
       "      <th>Código Municipio</th>\n",
       "      <th>Código Centro Poblado</th>\n",
       "      <th>Nombre Departamento</th>\n",
       "      <th>Nombre Municipio</th>\n",
       "      <th>Nombre Centro Poblado</th>\n",
       "      <th>Tipo</th>\n",
       "    </tr>\n",
       "  </thead>\n",
       "  <tbody>\n",
       "    <tr>\n",
       "      <th>0</th>\n",
       "      <td>05</td>\n",
       "      <td>05001</td>\n",
       "      <td>05001000</td>\n",
       "      <td>ANTIOQUIA</td>\n",
       "      <td>MEDELLÍN</td>\n",
       "      <td>MEDELLÍN</td>\n",
       "      <td>CM</td>\n",
       "    </tr>\n",
       "    <tr>\n",
       "      <th>1</th>\n",
       "      <td>05</td>\n",
       "      <td>05001</td>\n",
       "      <td>05001001</td>\n",
       "      <td>ANTIOQUIA</td>\n",
       "      <td>MEDELLÍN</td>\n",
       "      <td>PALMITAS</td>\n",
       "      <td>C</td>\n",
       "    </tr>\n",
       "    <tr>\n",
       "      <th>2</th>\n",
       "      <td>05</td>\n",
       "      <td>05001</td>\n",
       "      <td>05001004</td>\n",
       "      <td>ANTIOQUIA</td>\n",
       "      <td>MEDELLÍN</td>\n",
       "      <td>SANTA ELENA</td>\n",
       "      <td>C</td>\n",
       "    </tr>\n",
       "    <tr>\n",
       "      <th>3</th>\n",
       "      <td>05</td>\n",
       "      <td>05001</td>\n",
       "      <td>05001005</td>\n",
       "      <td>ANTIOQUIA</td>\n",
       "      <td>MEDELLÍN</td>\n",
       "      <td>PEDREGAL ALTO</td>\n",
       "      <td>IPM</td>\n",
       "    </tr>\n",
       "    <tr>\n",
       "      <th>4</th>\n",
       "      <td>05</td>\n",
       "      <td>05001</td>\n",
       "      <td>05001009</td>\n",
       "      <td>ANTIOQUIA</td>\n",
       "      <td>MEDELLÍN</td>\n",
       "      <td>ALTAVISTA</td>\n",
       "      <td>C</td>\n",
       "    </tr>\n",
       "  </tbody>\n",
       "</table>\n",
       "</div>"
      ],
      "text/plain": [
       "  Código Departamento Código Municipio Código Centro Poblado  \\\n",
       "0                  05            05001              05001000   \n",
       "1                  05            05001              05001001   \n",
       "2                  05            05001              05001004   \n",
       "3                  05            05001              05001005   \n",
       "4                  05            05001              05001009   \n",
       "\n",
       "  Nombre Departamento Nombre Municipio Nombre Centro Poblado Tipo  \n",
       "0           ANTIOQUIA         MEDELLÍN              MEDELLÍN   CM  \n",
       "1           ANTIOQUIA         MEDELLÍN              PALMITAS    C  \n",
       "2           ANTIOQUIA         MEDELLÍN           SANTA ELENA    C  \n",
       "3           ANTIOQUIA         MEDELLÍN         PEDREGAL ALTO  IPM  \n",
       "4           ANTIOQUIA         MEDELLÍN             ALTAVISTA    C  "
      ]
     },
     "execution_count": 117,
     "metadata": {},
     "output_type": "execute_result"
    }
   ],
   "source": [
    "column_types = {\n",
    "    \"Código Departamento\": \"object\",\n",
    "    \"Código Municipio\": \"object\",\n",
    "    \"Código Centro Poblado\": \"object\",\n",
    "    \"Nombre Departamento\": \"object\",\n",
    "    \"Nombre Municipio\": \"object\",\n",
    "    \"Nombre Centro Poblado\t\": \"object\",\n",
    "    \"Tipo\": \"object\"\n",
    "}\n",
    "url = \"https://raw.githubusercontent.com/sePerezAlbor/Data/refs/heads/main/Divipola.csv\"\n",
    "data2 = pd.read_csv(url, delimiter = \",\", na_values = [\" \"], dtype = column_types)\n",
    "data2.head()"
   ]
  },
  {
   "cell_type": "code",
   "execution_count": 118,
   "metadata": {},
   "outputs": [
    {
     "data": {
      "text/plain": [
       "(9205, 7)"
      ]
     },
     "execution_count": 118,
     "metadata": {},
     "output_type": "execute_result"
    }
   ],
   "source": [
    "data2.shape"
   ]
  },
  {
   "cell_type": "code",
   "execution_count": 119,
   "metadata": {},
   "outputs": [
    {
     "name": "stdout",
     "output_type": "stream",
     "text": [
      "<class 'pandas.core.frame.DataFrame'>\n",
      "RangeIndex: 9205 entries, 0 to 9204\n",
      "Data columns (total 7 columns):\n",
      " #   Column                 Non-Null Count  Dtype \n",
      "---  ------                 --------------  ----- \n",
      " 0   Código Departamento    9205 non-null   object\n",
      " 1   Código Municipio       9205 non-null   object\n",
      " 2   Código Centro Poblado  9205 non-null   object\n",
      " 3   Nombre Departamento    9205 non-null   object\n",
      " 4   Nombre Municipio       9205 non-null   object\n",
      " 5   Nombre Centro Poblado  9205 non-null   object\n",
      " 6   Tipo                   9205 non-null   object\n",
      "dtypes: object(7)\n",
      "memory usage: 503.5+ KB\n"
     ]
    }
   ],
   "source": [
    "data2.info()"
   ]
  },
  {
   "cell_type": "markdown",
   "metadata": {},
   "source": [
    "Nótese que se cuenta con un conjunto de datos bastante completo. "
   ]
  },
  {
   "cell_type": "markdown",
   "metadata": {},
   "source": [
    "### **Creación variable región**"
   ]
  },
  {
   "cell_type": "markdown",
   "metadata": {},
   "source": [
    "Teniendo en cuenta los códigos del conjunto de datos inicial y los códigos proporcionados por el DANE en el conjunto de datos DIVIPOLA, se procede a clasificar los departamentos en sus respectivas regiones. Esto permite realizar análisis más globales a nivel nacional, facilitando la interpretación de los datos en un contexto geográfico más amplio.\n"
   ]
  },
  {
   "cell_type": "code",
   "execution_count": 120,
   "metadata": {},
   "outputs": [],
   "source": [
    "condiciones = [\n",
    "    data['depto_ocurr'].isin(['91', '18', '94', '95', '86', '97']),\n",
    "    data['depto_ocurr'].isin(['5', '11', '15', '17', '25', '41', '54', '63', '66', '68', '73']),\n",
    "    data['depto_ocurr'].isin(['8', '13', '20', '23', '44', '47', '70', '88']),\n",
    "    data['depto_ocurr'].isin(['81', '85', '50', '99']),\n",
    "    data['depto_ocurr'].isin(['19', '27', '52', '76'])\n",
    "]\n",
    "\n",
    "regiones = ['Amazonía', 'Andina', 'Caribe', 'Orinoquía', 'Pacífica']\n",
    "\n",
    "data['region_Def'] = np.select(condiciones, regiones, default='Otra')\n"
   ]
  },
  {
   "cell_type": "code",
   "execution_count": 121,
   "metadata": {},
   "outputs": [
    {
     "data": {
      "text/plain": [
       "region_Def\n",
       "Andina       48416\n",
       "Caribe       14026\n",
       "Pacífica     13947\n",
       "Orinoquía     1582\n",
       "Amazonía       510\n",
       "Name: count, dtype: int64"
      ]
     },
     "execution_count": 121,
     "metadata": {},
     "output_type": "execute_result"
    }
   ],
   "source": [
    "data['region_Def'].value_counts(dropna=False)"
   ]
  },
  {
   "cell_type": "markdown",
   "metadata": {},
   "source": [
    "## **Conjunto de datos final**"
   ]
  },
  {
   "cell_type": "markdown",
   "metadata": {},
   "source": [
    "Tras analizar los dos conjuntos de datos previamente, procederemos a reemplazar los códigos de departamentos y municipios utilizando el conjunto de datos ``DIVIPOLA``. El objetivo de este proceso es mejorar la claridad y comprensión de la información, asignando a cada código su departamento y municipio correspondiente. Esto permitirá un análisis más preciso, estructurado y fácil de interpretar en el conjunto de datos general.  \n"
   ]
  },
  {
   "cell_type": "markdown",
   "metadata": {},
   "source": [
    "Antes de asociar los dos conjuntos de datos, se realizó una corrección de errores de digitación y otros detalles presentes en las columnas de departamento y municipio. Esta limpieza previa fue necesaria para garantizar una correcta unión entre las bases y evitar inconsistencias durante el análisis.\n"
   ]
  },
  {
   "cell_type": "code",
   "execution_count": 122,
   "metadata": {},
   "outputs": [],
   "source": [
    "data['depto_ocurr'] = data['depto_ocurr'].astype(str)\n",
    "# data_prueba = data[data['Nombre_Departamento'].isna()]\n",
    "# data_prueba['depto_ocurr'].value_counts(dropna=False)\n",
    "data['depto_ocurr'].replace(['5'], '05', inplace=True)\n",
    "data['depto_ocurr'].replace(['8'], '08', inplace=True)"
   ]
  },
  {
   "cell_type": "code",
   "execution_count": 123,
   "metadata": {},
   "outputs": [],
   "source": [
    "def extraer_codigo_municipio(codigos_raw):\n",
    "    codigos_municipio = []\n",
    "\n",
    "    for codigo in codigos_raw:\n",
    "        try:\n",
    "            # Convertimos a número entero (quita \".0\" si viene de float)\n",
    "            codigo_int = int(float(codigo))\n",
    "            # Nos quedamos con los últimos 3 dígitos, rellenando con ceros si hace falta\n",
    "            ultimos_3 = str(codigo_int)[-3:].zfill(3)\n",
    "            codigos_municipio.append(ultimos_3)\n",
    "        except:\n",
    "            continue  # Ignora valores no válidos\n",
    "\n",
    "    return codigos_municipio\n",
    "\n",
    "codigos_raw = data['munic_ocurr']\n",
    "data['munic_ocurr'] = extraer_codigo_municipio(codigos_raw)"
   ]
  },
  {
   "cell_type": "markdown",
   "metadata": {},
   "source": [
    "Se realizó la unión de los códigos de departamento y municipio, ya que en el primer conjunto de datos estos se encontraban por separado. Para poder hacer el cruce con el conjunto de datos DIVIPOLA, fue necesario construir el código completo, tal como se requiere para realizar la unión (merge) entre ambos conjuntos.\n"
   ]
  },
  {
   "cell_type": "code",
   "execution_count": 124,
   "metadata": {},
   "outputs": [],
   "source": [
    "data[\"municipio\"] = data[\"depto_ocurr\"].astype(str) + data[\"munic_ocurr\"].astype(str).str.zfill(3)\n",
    "data['municipio_res'] = data['depto_res'].astype(str) + data['munic_res'].astype(str).str.zfill(3)"
   ]
  },
  {
   "cell_type": "markdown",
   "metadata": {},
   "source": [
    "A continuación se realiza el mapeo de los códigos y la asignación de los nombres de departamentos y los municipios correspondientes a cada observación."
   ]
  },
  {
   "cell_type": "code",
   "execution_count": 125,
   "metadata": {},
   "outputs": [
    {
     "data": {
      "text/html": [
       "<div>\n",
       "<style scoped>\n",
       "    .dataframe tbody tr th:only-of-type {\n",
       "        vertical-align: middle;\n",
       "    }\n",
       "\n",
       "    .dataframe tbody tr th {\n",
       "        vertical-align: top;\n",
       "    }\n",
       "\n",
       "    .dataframe thead th {\n",
       "        text-align: right;\n",
       "    }\n",
       "</style>\n",
       "<table border=\"1\" class=\"dataframe\">\n",
       "  <thead>\n",
       "    <tr style=\"text-align: right;\">\n",
       "      <th></th>\n",
       "      <th>depto_ocurr</th>\n",
       "      <th>munic_ocurr</th>\n",
       "      <th>mes_def</th>\n",
       "      <th>sexo</th>\n",
       "      <th>grupo_edad</th>\n",
       "      <th>estado_civil</th>\n",
       "      <th>depto_res</th>\n",
       "      <th>munic_res</th>\n",
       "      <th>sitio_def</th>\n",
       "      <th>causa_basica</th>\n",
       "      <th>...</th>\n",
       "      <th>seg_social</th>\n",
       "      <th>asistencia_med</th>\n",
       "      <th>año_def</th>\n",
       "      <th>region_Def</th>\n",
       "      <th>municipio</th>\n",
       "      <th>municipio_res</th>\n",
       "      <th>Nombre_Departamento_Def</th>\n",
       "      <th>Nombre_Municipio_Def</th>\n",
       "      <th>Nombre_Departamento_Res</th>\n",
       "      <th>Nombre_Municipio_Res</th>\n",
       "    </tr>\n",
       "  </thead>\n",
       "  <tbody>\n",
       "    <tr>\n",
       "      <th>0</th>\n",
       "      <td>50</td>\n",
       "      <td>001</td>\n",
       "      <td>Enero</td>\n",
       "      <td>Femenino</td>\n",
       "      <td>45-49 años</td>\n",
       "      <td>Casado</td>\n",
       "      <td>50</td>\n",
       "      <td>001</td>\n",
       "      <td>Casa</td>\n",
       "      <td>Parte no especificada</td>\n",
       "      <td>...</td>\n",
       "      <td>Otro</td>\n",
       "      <td>NO</td>\n",
       "      <td>1985</td>\n",
       "      <td>Orinoquía</td>\n",
       "      <td>50001</td>\n",
       "      <td>50001</td>\n",
       "      <td>META</td>\n",
       "      <td>VILLAVICENCIO</td>\n",
       "      <td>META</td>\n",
       "      <td>VILLAVICENCIO</td>\n",
       "    </tr>\n",
       "    <tr>\n",
       "      <th>1</th>\n",
       "      <td>15</td>\n",
       "      <td>861</td>\n",
       "      <td>Enero</td>\n",
       "      <td>Femenino</td>\n",
       "      <td>85+ años</td>\n",
       "      <td>Soltero</td>\n",
       "      <td>15</td>\n",
       "      <td>861</td>\n",
       "      <td>Casa</td>\n",
       "      <td>Parte no especificada</td>\n",
       "      <td>...</td>\n",
       "      <td>Otro</td>\n",
       "      <td>NO</td>\n",
       "      <td>1985</td>\n",
       "      <td>Andina</td>\n",
       "      <td>15861</td>\n",
       "      <td>15861</td>\n",
       "      <td>BOYACÁ</td>\n",
       "      <td>VENTAQUEMADA</td>\n",
       "      <td>BOYACÁ</td>\n",
       "      <td>VENTAQUEMADA</td>\n",
       "    </tr>\n",
       "    <tr>\n",
       "      <th>2</th>\n",
       "      <td>50</td>\n",
       "      <td>573</td>\n",
       "      <td>Enero</td>\n",
       "      <td>Femenino</td>\n",
       "      <td>50-54 años</td>\n",
       "      <td>Casado</td>\n",
       "      <td>50</td>\n",
       "      <td>573</td>\n",
       "      <td>Casa</td>\n",
       "      <td>Parte no especificada</td>\n",
       "      <td>...</td>\n",
       "      <td>Otro</td>\n",
       "      <td>NO</td>\n",
       "      <td>1985</td>\n",
       "      <td>Orinoquía</td>\n",
       "      <td>50573</td>\n",
       "      <td>50573</td>\n",
       "      <td>META</td>\n",
       "      <td>PUERTO LÓPEZ</td>\n",
       "      <td>META</td>\n",
       "      <td>PUERTO LÓPEZ</td>\n",
       "    </tr>\n",
       "    <tr>\n",
       "      <th>3</th>\n",
       "      <td>41</td>\n",
       "      <td>001</td>\n",
       "      <td>Enero</td>\n",
       "      <td>Femenino</td>\n",
       "      <td>35-39 años</td>\n",
       "      <td>Casado</td>\n",
       "      <td>41</td>\n",
       "      <td>001</td>\n",
       "      <td>Hospital o Clínica</td>\n",
       "      <td>Parte no especificada</td>\n",
       "      <td>...</td>\n",
       "      <td>Otro</td>\n",
       "      <td>NO</td>\n",
       "      <td>1985</td>\n",
       "      <td>Andina</td>\n",
       "      <td>41001</td>\n",
       "      <td>41001</td>\n",
       "      <td>HUILA</td>\n",
       "      <td>NEIVA</td>\n",
       "      <td>HUILA</td>\n",
       "      <td>NEIVA</td>\n",
       "    </tr>\n",
       "    <tr>\n",
       "      <th>4</th>\n",
       "      <td>41</td>\n",
       "      <td>001</td>\n",
       "      <td>Enero</td>\n",
       "      <td>Femenino</td>\n",
       "      <td>75-79 años</td>\n",
       "      <td>Casado</td>\n",
       "      <td>41</td>\n",
       "      <td>001</td>\n",
       "      <td>Casa</td>\n",
       "      <td>Parte no especificada</td>\n",
       "      <td>...</td>\n",
       "      <td>Otro</td>\n",
       "      <td>NO</td>\n",
       "      <td>1985</td>\n",
       "      <td>Andina</td>\n",
       "      <td>41001</td>\n",
       "      <td>41001</td>\n",
       "      <td>HUILA</td>\n",
       "      <td>NEIVA</td>\n",
       "      <td>HUILA</td>\n",
       "      <td>NEIVA</td>\n",
       "    </tr>\n",
       "  </tbody>\n",
       "</table>\n",
       "<p>5 rows × 21 columns</p>\n",
       "</div>"
      ],
      "text/plain": [
       "  depto_ocurr munic_ocurr mes_def      sexo  grupo_edad estado_civil  \\\n",
       "0          50         001   Enero  Femenino  45-49 años       Casado   \n",
       "1          15         861   Enero  Femenino    85+ años      Soltero   \n",
       "2          50         573   Enero  Femenino  50-54 años       Casado   \n",
       "3          41         001   Enero  Femenino  35-39 años       Casado   \n",
       "4          41         001   Enero  Femenino  75-79 años       Casado   \n",
       "\n",
       "  depto_res munic_res           sitio_def           causa_basica  ...  \\\n",
       "0        50       001                Casa  Parte no especificada  ...   \n",
       "1        15       861                Casa  Parte no especificada  ...   \n",
       "2        50       573                Casa  Parte no especificada  ...   \n",
       "3        41       001  Hospital o Clínica  Parte no especificada  ...   \n",
       "4        41       001                Casa  Parte no especificada  ...   \n",
       "\n",
       "  seg_social asistencia_med año_def region_Def municipio municipio_res  \\\n",
       "0       Otro             NO    1985  Orinoquía     50001         50001   \n",
       "1       Otro             NO    1985     Andina     15861         15861   \n",
       "2       Otro             NO    1985  Orinoquía     50573         50573   \n",
       "3       Otro             NO    1985     Andina     41001         41001   \n",
       "4       Otro             NO    1985     Andina     41001         41001   \n",
       "\n",
       "  Nombre_Departamento_Def Nombre_Municipio_Def Nombre_Departamento_Res  \\\n",
       "0                    META        VILLAVICENCIO                    META   \n",
       "1                  BOYACÁ         VENTAQUEMADA                  BOYACÁ   \n",
       "2                    META         PUERTO LÓPEZ                    META   \n",
       "3                   HUILA                NEIVA                   HUILA   \n",
       "4                   HUILA                NEIVA                   HUILA   \n",
       "\n",
       "  Nombre_Municipio_Res  \n",
       "0        VILLAVICENCIO  \n",
       "1         VENTAQUEMADA  \n",
       "2         PUERTO LÓPEZ  \n",
       "3                NEIVA  \n",
       "4                NEIVA  \n",
       "\n",
       "[5 rows x 21 columns]"
      ]
     },
     "execution_count": 125,
     "metadata": {},
     "output_type": "execute_result"
    }
   ],
   "source": [
    "departamento_dict = dict(zip(data2['Código Departamento'], data2['Nombre Departamento']))\n",
    "municipio_dict = dict(zip(data2['Código Municipio'], data2['Nombre Municipio']))\n",
    "data['Nombre_Departamento_Def'] = data['depto_ocurr'].map(departamento_dict)\n",
    "data['Nombre_Municipio_Def'] = data['municipio'].map(municipio_dict)\n",
    "data['Nombre_Departamento_Res'] = data['depto_res'].map(departamento_dict)\n",
    "data['Nombre_Municipio_Res'] = data['municipio_res'].map(municipio_dict)\n",
    "data.head()\n"
   ]
  },
  {
   "cell_type": "code",
   "execution_count": 126,
   "metadata": {},
   "outputs": [
    {
     "name": "stdout",
     "output_type": "stream",
     "text": [
      "<class 'pandas.core.frame.DataFrame'>\n",
      "RangeIndex: 78481 entries, 0 to 78480\n",
      "Data columns (total 21 columns):\n",
      " #   Column                   Non-Null Count  Dtype \n",
      "---  ------                   --------------  ----- \n",
      " 0   depto_ocurr              78481 non-null  object\n",
      " 1   munic_ocurr              78481 non-null  object\n",
      " 2   mes_def                  78481 non-null  object\n",
      " 3   sexo                     78481 non-null  object\n",
      " 4   grupo_edad               78481 non-null  object\n",
      " 5   estado_civil             78481 non-null  object\n",
      " 6   depto_res                78439 non-null  object\n",
      " 7   munic_res                78439 non-null  object\n",
      " 8   sitio_def                78481 non-null  object\n",
      " 9   causa_basica             78481 non-null  object\n",
      " 10  nivel_edu                78481 non-null  object\n",
      " 11  seg_social               78481 non-null  object\n",
      " 12  asistencia_med           78481 non-null  object\n",
      " 13  año_def                  78481 non-null  object\n",
      " 14  region_Def               78481 non-null  object\n",
      " 15  municipio                78481 non-null  object\n",
      " 16  municipio_res            78481 non-null  object\n",
      " 17  Nombre_Departamento_Def  78481 non-null  object\n",
      " 18  Nombre_Municipio_Def     78479 non-null  object\n",
      " 19  Nombre_Departamento_Res  77472 non-null  object\n",
      " 20  Nombre_Municipio_Res     66719 non-null  object\n",
      "dtypes: object(21)\n",
      "memory usage: 12.6+ MB\n"
     ]
    }
   ],
   "source": [
    "data.info()"
   ]
  },
  {
   "cell_type": "markdown",
   "metadata": {},
   "source": [
    "Vemos que en la columna de `Nombre_Municipio` hay dos datos faltantes. Veamos a que se debe esto."
   ]
  },
  {
   "cell_type": "code",
   "execution_count": 127,
   "metadata": {},
   "outputs": [
    {
     "data": {
      "text/html": [
       "<div>\n",
       "<style scoped>\n",
       "    .dataframe tbody tr th:only-of-type {\n",
       "        vertical-align: middle;\n",
       "    }\n",
       "\n",
       "    .dataframe tbody tr th {\n",
       "        vertical-align: top;\n",
       "    }\n",
       "\n",
       "    .dataframe thead th {\n",
       "        text-align: right;\n",
       "    }\n",
       "</style>\n",
       "<table border=\"1\" class=\"dataframe\">\n",
       "  <thead>\n",
       "    <tr style=\"text-align: right;\">\n",
       "      <th></th>\n",
       "      <th>depto_ocurr</th>\n",
       "      <th>munic_ocurr</th>\n",
       "      <th>mes_def</th>\n",
       "      <th>sexo</th>\n",
       "      <th>grupo_edad</th>\n",
       "      <th>estado_civil</th>\n",
       "      <th>depto_res</th>\n",
       "      <th>munic_res</th>\n",
       "      <th>sitio_def</th>\n",
       "      <th>causa_basica</th>\n",
       "      <th>...</th>\n",
       "      <th>seg_social</th>\n",
       "      <th>asistencia_med</th>\n",
       "      <th>año_def</th>\n",
       "      <th>region_Def</th>\n",
       "      <th>municipio</th>\n",
       "      <th>municipio_res</th>\n",
       "      <th>Nombre_Departamento_Def</th>\n",
       "      <th>Nombre_Municipio_Def</th>\n",
       "      <th>Nombre_Departamento_Res</th>\n",
       "      <th>Nombre_Municipio_Res</th>\n",
       "    </tr>\n",
       "  </thead>\n",
       "  <tbody>\n",
       "    <tr>\n",
       "      <th>2285</th>\n",
       "      <td>99</td>\n",
       "      <td>496</td>\n",
       "      <td>Junio</td>\n",
       "      <td>Femenino</td>\n",
       "      <td>30-34 años</td>\n",
       "      <td>Unión Libre, Divorciado/Otro</td>\n",
       "      <td>85</td>\n",
       "      <td>325</td>\n",
       "      <td>Hospital o Clínica</td>\n",
       "      <td>Parte no especificada</td>\n",
       "      <td>...</td>\n",
       "      <td>Otro</td>\n",
       "      <td>NO</td>\n",
       "      <td>1988</td>\n",
       "      <td>Orinoquía</td>\n",
       "      <td>99496</td>\n",
       "      <td>85325</td>\n",
       "      <td>VICHADA</td>\n",
       "      <td>NaN</td>\n",
       "      <td>CASANARE</td>\n",
       "      <td>SAN LUIS DE PALENQUE</td>\n",
       "    </tr>\n",
       "    <tr>\n",
       "      <th>3126</th>\n",
       "      <td>18</td>\n",
       "      <td>765</td>\n",
       "      <td>Abril</td>\n",
       "      <td>Femenino</td>\n",
       "      <td>35-39 años</td>\n",
       "      <td>Soltero</td>\n",
       "      <td>18</td>\n",
       "      <td>765</td>\n",
       "      <td>Casa</td>\n",
       "      <td>Parte no especificada</td>\n",
       "      <td>...</td>\n",
       "      <td>Otro</td>\n",
       "      <td>NO</td>\n",
       "      <td>1989</td>\n",
       "      <td>Amazonía</td>\n",
       "      <td>18765</td>\n",
       "      <td>18765</td>\n",
       "      <td>CAQUETÁ</td>\n",
       "      <td>NaN</td>\n",
       "      <td>CAQUETÁ</td>\n",
       "      <td>NaN</td>\n",
       "    </tr>\n",
       "  </tbody>\n",
       "</table>\n",
       "<p>2 rows × 21 columns</p>\n",
       "</div>"
      ],
      "text/plain": [
       "     depto_ocurr munic_ocurr mes_def      sexo  grupo_edad  \\\n",
       "2285          99         496   Junio  Femenino  30-34 años   \n",
       "3126          18         765   Abril  Femenino  35-39 años   \n",
       "\n",
       "                      estado_civil depto_res munic_res           sitio_def  \\\n",
       "2285  Unión Libre, Divorciado/Otro        85       325  Hospital o Clínica   \n",
       "3126                       Soltero        18       765                Casa   \n",
       "\n",
       "               causa_basica  ... seg_social asistencia_med año_def region_Def  \\\n",
       "2285  Parte no especificada  ...       Otro             NO    1988  Orinoquía   \n",
       "3126  Parte no especificada  ...       Otro             NO    1989   Amazonía   \n",
       "\n",
       "     municipio municipio_res Nombre_Departamento_Def Nombre_Municipio_Def  \\\n",
       "2285     99496         85325                 VICHADA                  NaN   \n",
       "3126     18765         18765                 CAQUETÁ                  NaN   \n",
       "\n",
       "     Nombre_Departamento_Res  Nombre_Municipio_Res  \n",
       "2285                CASANARE  SAN LUIS DE PALENQUE  \n",
       "3126                 CAQUETÁ                   NaN  \n",
       "\n",
       "[2 rows x 21 columns]"
      ]
     },
     "execution_count": 127,
     "metadata": {},
     "output_type": "execute_result"
    }
   ],
   "source": [
    "data[data['Nombre_Municipio_Def'].isna()]"
   ]
  },
  {
   "cell_type": "markdown",
   "metadata": {},
   "source": [
    "Al analizar las observaciones, se identificaron dos códigos de municipio que estaban mal digitados o eran erróneos. Dado que no es posible corregirlos con certeza y representan una proporción mínima del total, se decidió eliminar estas dos observaciones del conjunto de datos.\n"
   ]
  },
  {
   "cell_type": "code",
   "execution_count": 128,
   "metadata": {},
   "outputs": [
    {
     "name": "stdout",
     "output_type": "stream",
     "text": [
      "<class 'pandas.core.frame.DataFrame'>\n",
      "Index: 78479 entries, 0 to 78480\n",
      "Data columns (total 21 columns):\n",
      " #   Column                   Non-Null Count  Dtype \n",
      "---  ------                   --------------  ----- \n",
      " 0   depto_ocurr              78479 non-null  object\n",
      " 1   munic_ocurr              78479 non-null  object\n",
      " 2   mes_def                  78479 non-null  object\n",
      " 3   sexo                     78479 non-null  object\n",
      " 4   grupo_edad               78479 non-null  object\n",
      " 5   estado_civil             78479 non-null  object\n",
      " 6   depto_res                78437 non-null  object\n",
      " 7   munic_res                78437 non-null  object\n",
      " 8   sitio_def                78479 non-null  object\n",
      " 9   causa_basica             78479 non-null  object\n",
      " 10  nivel_edu                78479 non-null  object\n",
      " 11  seg_social               78479 non-null  object\n",
      " 12  asistencia_med           78479 non-null  object\n",
      " 13  año_def                  78479 non-null  object\n",
      " 14  region_Def               78479 non-null  object\n",
      " 15  municipio                78479 non-null  object\n",
      " 16  municipio_res            78479 non-null  object\n",
      " 17  Nombre_Departamento_Def  78479 non-null  object\n",
      " 18  Nombre_Municipio_Def     78479 non-null  object\n",
      " 19  Nombre_Departamento_Res  77470 non-null  object\n",
      " 20  Nombre_Municipio_Res     66718 non-null  object\n",
      "dtypes: object(21)\n",
      "memory usage: 13.2+ MB\n"
     ]
    }
   ],
   "source": [
    "# Convertimos los códigos malos a una lista\n",
    "codigos_erroneos = ['99496', '18765']\n",
    "\n",
    "# Filtramos el DataFrame para excluirlos\n",
    "data = data[~data['municipio'].isin(codigos_erroneos)]\n",
    "data.info()"
   ]
  },
  {
   "cell_type": "markdown",
   "metadata": {},
   "source": [
    "Ahora si se cuenta con un conjunto de datos completo y sin datos nulos."
   ]
  },
  {
   "cell_type": "markdown",
   "metadata": {},
   "source": [
    "Vamos a organizar las columnas para una mejor representación visual."
   ]
  },
  {
   "cell_type": "code",
   "execution_count": 138,
   "metadata": {},
   "outputs": [],
   "source": [
    "columnas_ordenadas = [\n",
    "    'region_Def', 'Nombre_Departamento_Def', 'Nombre_Municipio_Def', 'Nombre_Departamento_Res', 'Nombre_Municipio_Res', 'sitio_def', 'año_def', \n",
    "    'mes_def', 'sexo', 'estado_civil', 'grupo_edad', 'nivel_edu', 'seg_social',  'asistencia_med','municipio' ,    'municipio_res' ,           \n",
    "  'causa_basica']\n",
    "data_new = data[columnas_ordenadas]"
   ]
  },
  {
   "cell_type": "code",
   "execution_count": 139,
   "metadata": {},
   "outputs": [],
   "source": [
    "data_new['Nombre_Departamento_Res'] = data_new['Nombre_Departamento_Res'].fillna(data_new['Nombre_Departamento_Def'])\n",
    "capitales = {\"AMAZONAS\": \"LETICIA\",\"ANTIOQUIA\": \"MEDELLÍN\",\"ARAUCA\": \"ARAUCA\",  \"ATLÁNTICO\": \"BARRANQUILLA\", \"BOLÍVAR\": \"CARTAGENA DE INDIAS\",\n",
    "\"BOYACÁ\": \"TUNJA\",\"CALDAS\": \"MANIZALES\",\"CAQUETÁ\": \"FLORENCIA\",\"CASANARE\": \"YOPAL\", \"CAUCA\": \"POPAYÁN\",\"CESAR\": \"VALLEDUPAR\", \"CHOCÓ\": \"QUIBDÓ\",\n",
    "\"CÓRDOBA\": \"MONTERÍA\",\"CUNDINAMARCA\": \"BOGOTA DC\", \"GUAINÍA\": \"INÍRIDA\", \"BOGOTA DC\":\"BOGOTA DC\", \"GUAVIARE\": \"SAN JOSÉ DEL GUAVIARE\", \n",
    "\"HUILA\": \"NEIVA\", \"LA GUAJIRA\": \"RIOHACHA\", \"MAGDALENA\": \"SANTA MARTA\",\"META\": \"VILLAVICENCIO\", \"NARIÑO\": \"PASTO\",\"NORTE DE SANTANDER\": \"CÚCUTA\", \n",
    "\"PUTUMAYO\": \"MOCOA\",\"QUINDIO\": \"ARMENIA\",\"RISARALDA\": \"PEREIRA\",\"SAN ANDRÉS\": \"SAN ANDRÉS\",\"SANTANDER\": \"BUCARAMANGA\",\"SUCRE\": \"SINCELEJO\",\n",
    "\"TOLIMA\": \"IBAGUÉ\",\"VALLE DEL CAUCA\": \"CALI\", \"VAUPÉS\": \"MITÚ\",\"VICHADA\": \"PUERTO CARREÑO\",\n",
    "\"ARCHIPIÉLAGO DE SAN ANDRÉS Y PROVIDENCIA Y SANTA CATALINA\": \"SAN ANDRÉS\"\n",
    "}\n",
    "data_new['Nombre_Municipio_Res'] = data_new['Nombre_Municipio_Res'].fillna(data_new['Nombre_Departamento_Res'].map(capitales))"
   ]
  },
  {
   "cell_type": "code",
   "execution_count": 140,
   "metadata": {},
   "outputs": [
    {
     "data": {
      "text/html": [
       "<div>\n",
       "<style scoped>\n",
       "    .dataframe tbody tr th:only-of-type {\n",
       "        vertical-align: middle;\n",
       "    }\n",
       "\n",
       "    .dataframe tbody tr th {\n",
       "        vertical-align: top;\n",
       "    }\n",
       "\n",
       "    .dataframe thead th {\n",
       "        text-align: right;\n",
       "    }\n",
       "</style>\n",
       "<table border=\"1\" class=\"dataframe\">\n",
       "  <thead>\n",
       "    <tr style=\"text-align: right;\">\n",
       "      <th></th>\n",
       "      <th>region_Def</th>\n",
       "      <th>Nombre_Departamento_Def</th>\n",
       "      <th>Nombre_Municipio_Def</th>\n",
       "      <th>Nombre_Departamento_Res</th>\n",
       "      <th>Nombre_Municipio_Res</th>\n",
       "      <th>sitio_def</th>\n",
       "      <th>año_def</th>\n",
       "      <th>mes_def</th>\n",
       "      <th>sexo</th>\n",
       "      <th>estado_civil</th>\n",
       "      <th>grupo_edad</th>\n",
       "      <th>nivel_edu</th>\n",
       "      <th>seg_social</th>\n",
       "      <th>asistencia_med</th>\n",
       "      <th>municipio</th>\n",
       "      <th>municipio_res</th>\n",
       "      <th>causa_basica</th>\n",
       "    </tr>\n",
       "  </thead>\n",
       "  <tbody>\n",
       "    <tr>\n",
       "      <th>0</th>\n",
       "      <td>Orinoquía</td>\n",
       "      <td>META</td>\n",
       "      <td>VILLAVICENCIO</td>\n",
       "      <td>META</td>\n",
       "      <td>VILLAVICENCIO</td>\n",
       "      <td>Casa</td>\n",
       "      <td>1985</td>\n",
       "      <td>Enero</td>\n",
       "      <td>Femenino</td>\n",
       "      <td>Casado</td>\n",
       "      <td>45-49 años</td>\n",
       "      <td>No especificado</td>\n",
       "      <td>Otro</td>\n",
       "      <td>NO</td>\n",
       "      <td>50001</td>\n",
       "      <td>50001</td>\n",
       "      <td>Parte no especificada</td>\n",
       "    </tr>\n",
       "    <tr>\n",
       "      <th>1</th>\n",
       "      <td>Andina</td>\n",
       "      <td>BOYACÁ</td>\n",
       "      <td>VENTAQUEMADA</td>\n",
       "      <td>BOYACÁ</td>\n",
       "      <td>VENTAQUEMADA</td>\n",
       "      <td>Casa</td>\n",
       "      <td>1985</td>\n",
       "      <td>Enero</td>\n",
       "      <td>Femenino</td>\n",
       "      <td>Soltero</td>\n",
       "      <td>85+ años</td>\n",
       "      <td>No especificado</td>\n",
       "      <td>Otro</td>\n",
       "      <td>NO</td>\n",
       "      <td>15861</td>\n",
       "      <td>15861</td>\n",
       "      <td>Parte no especificada</td>\n",
       "    </tr>\n",
       "    <tr>\n",
       "      <th>2</th>\n",
       "      <td>Orinoquía</td>\n",
       "      <td>META</td>\n",
       "      <td>PUERTO LÓPEZ</td>\n",
       "      <td>META</td>\n",
       "      <td>PUERTO LÓPEZ</td>\n",
       "      <td>Casa</td>\n",
       "      <td>1985</td>\n",
       "      <td>Enero</td>\n",
       "      <td>Femenino</td>\n",
       "      <td>Casado</td>\n",
       "      <td>50-54 años</td>\n",
       "      <td>No especificado</td>\n",
       "      <td>Otro</td>\n",
       "      <td>NO</td>\n",
       "      <td>50573</td>\n",
       "      <td>50573</td>\n",
       "      <td>Parte no especificada</td>\n",
       "    </tr>\n",
       "    <tr>\n",
       "      <th>3</th>\n",
       "      <td>Andina</td>\n",
       "      <td>HUILA</td>\n",
       "      <td>NEIVA</td>\n",
       "      <td>HUILA</td>\n",
       "      <td>NEIVA</td>\n",
       "      <td>Hospital o Clínica</td>\n",
       "      <td>1985</td>\n",
       "      <td>Enero</td>\n",
       "      <td>Femenino</td>\n",
       "      <td>Casado</td>\n",
       "      <td>35-39 años</td>\n",
       "      <td>No especificado</td>\n",
       "      <td>Otro</td>\n",
       "      <td>NO</td>\n",
       "      <td>41001</td>\n",
       "      <td>41001</td>\n",
       "      <td>Parte no especificada</td>\n",
       "    </tr>\n",
       "    <tr>\n",
       "      <th>4</th>\n",
       "      <td>Andina</td>\n",
       "      <td>HUILA</td>\n",
       "      <td>NEIVA</td>\n",
       "      <td>HUILA</td>\n",
       "      <td>NEIVA</td>\n",
       "      <td>Casa</td>\n",
       "      <td>1985</td>\n",
       "      <td>Enero</td>\n",
       "      <td>Femenino</td>\n",
       "      <td>Casado</td>\n",
       "      <td>75-79 años</td>\n",
       "      <td>No especificado</td>\n",
       "      <td>Otro</td>\n",
       "      <td>NO</td>\n",
       "      <td>41001</td>\n",
       "      <td>41001</td>\n",
       "      <td>Parte no especificada</td>\n",
       "    </tr>\n",
       "  </tbody>\n",
       "</table>\n",
       "</div>"
      ],
      "text/plain": [
       "  region_Def Nombre_Departamento_Def Nombre_Municipio_Def  \\\n",
       "0  Orinoquía                    META        VILLAVICENCIO   \n",
       "1     Andina                  BOYACÁ         VENTAQUEMADA   \n",
       "2  Orinoquía                    META         PUERTO LÓPEZ   \n",
       "3     Andina                   HUILA                NEIVA   \n",
       "4     Andina                   HUILA                NEIVA   \n",
       "\n",
       "  Nombre_Departamento_Res Nombre_Municipio_Res           sitio_def año_def  \\\n",
       "0                    META        VILLAVICENCIO                Casa    1985   \n",
       "1                  BOYACÁ         VENTAQUEMADA                Casa    1985   \n",
       "2                    META         PUERTO LÓPEZ                Casa    1985   \n",
       "3                   HUILA                NEIVA  Hospital o Clínica    1985   \n",
       "4                   HUILA                NEIVA                Casa    1985   \n",
       "\n",
       "  mes_def      sexo estado_civil  grupo_edad        nivel_edu seg_social  \\\n",
       "0   Enero  Femenino       Casado  45-49 años  No especificado       Otro   \n",
       "1   Enero  Femenino      Soltero    85+ años  No especificado       Otro   \n",
       "2   Enero  Femenino       Casado  50-54 años  No especificado       Otro   \n",
       "3   Enero  Femenino       Casado  35-39 años  No especificado       Otro   \n",
       "4   Enero  Femenino       Casado  75-79 años  No especificado       Otro   \n",
       "\n",
       "  asistencia_med municipio municipio_res           causa_basica  \n",
       "0             NO     50001         50001  Parte no especificada  \n",
       "1             NO     15861         15861  Parte no especificada  \n",
       "2             NO     50573         50573  Parte no especificada  \n",
       "3             NO     41001         41001  Parte no especificada  \n",
       "4             NO     41001         41001  Parte no especificada  "
      ]
     },
     "execution_count": 140,
     "metadata": {},
     "output_type": "execute_result"
    }
   ],
   "source": [
    "data_new.head()"
   ]
  },
  {
   "cell_type": "markdown",
   "metadata": {},
   "source": [
    "Finalmente, obtenemos un conjunto de datos más claro, comprensible y estructurado, lo que facilita su interpretación y lo deja listo para el análisis exploratorio.  \n"
   ]
  },
  {
   "cell_type": "code",
   "execution_count": 141,
   "metadata": {},
   "outputs": [
    {
     "data": {
      "application/vnd.plotly.v1+json": {
       "config": {
        "plotlyServerURL": "https://plot.ly"
       },
       "data": [
        {
         "alignmentgroup": "True",
         "hovertemplate": "index=%{x}<br>Porcentaje de Datos Faltantes (%)=%{y}<br>text=%{text}<br>color=%{marker.color}<extra></extra>",
         "legendgroup": "",
         "marker": {
          "color": [
           0,
           0,
           0,
           0,
           0,
           0,
           0,
           0,
           0,
           0,
           0,
           0,
           0,
           0,
           0,
           0,
           0
          ],
          "coloraxis": "coloraxis",
          "pattern": {
           "shape": ""
          }
         },
         "name": "",
         "offsetgroup": "",
         "orientation": "v",
         "showlegend": false,
         "text": [
          0,
          0,
          0,
          0,
          0,
          0,
          0,
          0,
          0,
          0,
          0,
          0,
          0,
          0,
          0,
          0,
          0
         ],
         "textposition": "outside",
         "type": "bar",
         "x": [
          "region_Def",
          "estado_civil",
          "municipio_res",
          "municipio",
          "asistencia_med",
          "seg_social",
          "nivel_edu",
          "grupo_edad",
          "sexo",
          "Nombre_Departamento_Def",
          "mes_def",
          "año_def",
          "sitio_def",
          "Nombre_Municipio_Res",
          "Nombre_Departamento_Res",
          "Nombre_Municipio_Def",
          "causa_basica"
         ],
         "xaxis": "x",
         "y": [
          0,
          0,
          0,
          0,
          0,
          0,
          0,
          0,
          0,
          0,
          0,
          0,
          0,
          0,
          0,
          0,
          0
         ],
         "yaxis": "y"
        }
       ],
       "layout": {
        "barmode": "relative",
        "coloraxis": {
         "colorbar": {
          "title": {
           "text": "color"
          }
         },
         "colorscale": [
          [
           0,
           "#F8BBD0"
          ],
          [
           0.25,
           "#F48FB1"
          ],
          [
           0.5,
           "#F06292"
          ],
          [
           0.75,
           "#EC407A"
          ],
          [
           1,
           "#D81B60"
          ]
         ]
        },
        "font": {
         "color": "black",
         "family": "Bahnschrift",
         "size": 14
        },
        "legend": {
         "tracegroupgap": 0
        },
        "paper_bgcolor": "white",
        "plot_bgcolor": "white",
        "template": {
         "data": {
          "bar": [
           {
            "error_x": {
             "color": "#2a3f5f"
            },
            "error_y": {
             "color": "#2a3f5f"
            },
            "marker": {
             "line": {
              "color": "#E5ECF6",
              "width": 0.5
             },
             "pattern": {
              "fillmode": "overlay",
              "size": 10,
              "solidity": 0.2
             }
            },
            "type": "bar"
           }
          ],
          "barpolar": [
           {
            "marker": {
             "line": {
              "color": "#E5ECF6",
              "width": 0.5
             },
             "pattern": {
              "fillmode": "overlay",
              "size": 10,
              "solidity": 0.2
             }
            },
            "type": "barpolar"
           }
          ],
          "carpet": [
           {
            "aaxis": {
             "endlinecolor": "#2a3f5f",
             "gridcolor": "white",
             "linecolor": "white",
             "minorgridcolor": "white",
             "startlinecolor": "#2a3f5f"
            },
            "baxis": {
             "endlinecolor": "#2a3f5f",
             "gridcolor": "white",
             "linecolor": "white",
             "minorgridcolor": "white",
             "startlinecolor": "#2a3f5f"
            },
            "type": "carpet"
           }
          ],
          "choropleth": [
           {
            "colorbar": {
             "outlinewidth": 0,
             "ticks": ""
            },
            "type": "choropleth"
           }
          ],
          "contour": [
           {
            "colorbar": {
             "outlinewidth": 0,
             "ticks": ""
            },
            "colorscale": [
             [
              0,
              "#0d0887"
             ],
             [
              0.1111111111111111,
              "#46039f"
             ],
             [
              0.2222222222222222,
              "#7201a8"
             ],
             [
              0.3333333333333333,
              "#9c179e"
             ],
             [
              0.4444444444444444,
              "#bd3786"
             ],
             [
              0.5555555555555556,
              "#d8576b"
             ],
             [
              0.6666666666666666,
              "#ed7953"
             ],
             [
              0.7777777777777778,
              "#fb9f3a"
             ],
             [
              0.8888888888888888,
              "#fdca26"
             ],
             [
              1,
              "#f0f921"
             ]
            ],
            "type": "contour"
           }
          ],
          "contourcarpet": [
           {
            "colorbar": {
             "outlinewidth": 0,
             "ticks": ""
            },
            "type": "contourcarpet"
           }
          ],
          "heatmap": [
           {
            "colorbar": {
             "outlinewidth": 0,
             "ticks": ""
            },
            "colorscale": [
             [
              0,
              "#0d0887"
             ],
             [
              0.1111111111111111,
              "#46039f"
             ],
             [
              0.2222222222222222,
              "#7201a8"
             ],
             [
              0.3333333333333333,
              "#9c179e"
             ],
             [
              0.4444444444444444,
              "#bd3786"
             ],
             [
              0.5555555555555556,
              "#d8576b"
             ],
             [
              0.6666666666666666,
              "#ed7953"
             ],
             [
              0.7777777777777778,
              "#fb9f3a"
             ],
             [
              0.8888888888888888,
              "#fdca26"
             ],
             [
              1,
              "#f0f921"
             ]
            ],
            "type": "heatmap"
           }
          ],
          "heatmapgl": [
           {
            "colorbar": {
             "outlinewidth": 0,
             "ticks": ""
            },
            "colorscale": [
             [
              0,
              "#0d0887"
             ],
             [
              0.1111111111111111,
              "#46039f"
             ],
             [
              0.2222222222222222,
              "#7201a8"
             ],
             [
              0.3333333333333333,
              "#9c179e"
             ],
             [
              0.4444444444444444,
              "#bd3786"
             ],
             [
              0.5555555555555556,
              "#d8576b"
             ],
             [
              0.6666666666666666,
              "#ed7953"
             ],
             [
              0.7777777777777778,
              "#fb9f3a"
             ],
             [
              0.8888888888888888,
              "#fdca26"
             ],
             [
              1,
              "#f0f921"
             ]
            ],
            "type": "heatmapgl"
           }
          ],
          "histogram": [
           {
            "marker": {
             "pattern": {
              "fillmode": "overlay",
              "size": 10,
              "solidity": 0.2
             }
            },
            "type": "histogram"
           }
          ],
          "histogram2d": [
           {
            "colorbar": {
             "outlinewidth": 0,
             "ticks": ""
            },
            "colorscale": [
             [
              0,
              "#0d0887"
             ],
             [
              0.1111111111111111,
              "#46039f"
             ],
             [
              0.2222222222222222,
              "#7201a8"
             ],
             [
              0.3333333333333333,
              "#9c179e"
             ],
             [
              0.4444444444444444,
              "#bd3786"
             ],
             [
              0.5555555555555556,
              "#d8576b"
             ],
             [
              0.6666666666666666,
              "#ed7953"
             ],
             [
              0.7777777777777778,
              "#fb9f3a"
             ],
             [
              0.8888888888888888,
              "#fdca26"
             ],
             [
              1,
              "#f0f921"
             ]
            ],
            "type": "histogram2d"
           }
          ],
          "histogram2dcontour": [
           {
            "colorbar": {
             "outlinewidth": 0,
             "ticks": ""
            },
            "colorscale": [
             [
              0,
              "#0d0887"
             ],
             [
              0.1111111111111111,
              "#46039f"
             ],
             [
              0.2222222222222222,
              "#7201a8"
             ],
             [
              0.3333333333333333,
              "#9c179e"
             ],
             [
              0.4444444444444444,
              "#bd3786"
             ],
             [
              0.5555555555555556,
              "#d8576b"
             ],
             [
              0.6666666666666666,
              "#ed7953"
             ],
             [
              0.7777777777777778,
              "#fb9f3a"
             ],
             [
              0.8888888888888888,
              "#fdca26"
             ],
             [
              1,
              "#f0f921"
             ]
            ],
            "type": "histogram2dcontour"
           }
          ],
          "mesh3d": [
           {
            "colorbar": {
             "outlinewidth": 0,
             "ticks": ""
            },
            "type": "mesh3d"
           }
          ],
          "parcoords": [
           {
            "line": {
             "colorbar": {
              "outlinewidth": 0,
              "ticks": ""
             }
            },
            "type": "parcoords"
           }
          ],
          "pie": [
           {
            "automargin": true,
            "type": "pie"
           }
          ],
          "scatter": [
           {
            "fillpattern": {
             "fillmode": "overlay",
             "size": 10,
             "solidity": 0.2
            },
            "type": "scatter"
           }
          ],
          "scatter3d": [
           {
            "line": {
             "colorbar": {
              "outlinewidth": 0,
              "ticks": ""
             }
            },
            "marker": {
             "colorbar": {
              "outlinewidth": 0,
              "ticks": ""
             }
            },
            "type": "scatter3d"
           }
          ],
          "scattercarpet": [
           {
            "marker": {
             "colorbar": {
              "outlinewidth": 0,
              "ticks": ""
             }
            },
            "type": "scattercarpet"
           }
          ],
          "scattergeo": [
           {
            "marker": {
             "colorbar": {
              "outlinewidth": 0,
              "ticks": ""
             }
            },
            "type": "scattergeo"
           }
          ],
          "scattergl": [
           {
            "marker": {
             "colorbar": {
              "outlinewidth": 0,
              "ticks": ""
             }
            },
            "type": "scattergl"
           }
          ],
          "scattermapbox": [
           {
            "marker": {
             "colorbar": {
              "outlinewidth": 0,
              "ticks": ""
             }
            },
            "type": "scattermapbox"
           }
          ],
          "scatterpolar": [
           {
            "marker": {
             "colorbar": {
              "outlinewidth": 0,
              "ticks": ""
             }
            },
            "type": "scatterpolar"
           }
          ],
          "scatterpolargl": [
           {
            "marker": {
             "colorbar": {
              "outlinewidth": 0,
              "ticks": ""
             }
            },
            "type": "scatterpolargl"
           }
          ],
          "scatterternary": [
           {
            "marker": {
             "colorbar": {
              "outlinewidth": 0,
              "ticks": ""
             }
            },
            "type": "scatterternary"
           }
          ],
          "surface": [
           {
            "colorbar": {
             "outlinewidth": 0,
             "ticks": ""
            },
            "colorscale": [
             [
              0,
              "#0d0887"
             ],
             [
              0.1111111111111111,
              "#46039f"
             ],
             [
              0.2222222222222222,
              "#7201a8"
             ],
             [
              0.3333333333333333,
              "#9c179e"
             ],
             [
              0.4444444444444444,
              "#bd3786"
             ],
             [
              0.5555555555555556,
              "#d8576b"
             ],
             [
              0.6666666666666666,
              "#ed7953"
             ],
             [
              0.7777777777777778,
              "#fb9f3a"
             ],
             [
              0.8888888888888888,
              "#fdca26"
             ],
             [
              1,
              "#f0f921"
             ]
            ],
            "type": "surface"
           }
          ],
          "table": [
           {
            "cells": {
             "fill": {
              "color": "#EBF0F8"
             },
             "line": {
              "color": "white"
             }
            },
            "header": {
             "fill": {
              "color": "#C8D4E3"
             },
             "line": {
              "color": "white"
             }
            },
            "type": "table"
           }
          ]
         },
         "layout": {
          "annotationdefaults": {
           "arrowcolor": "#2a3f5f",
           "arrowhead": 0,
           "arrowwidth": 1
          },
          "autotypenumbers": "strict",
          "coloraxis": {
           "colorbar": {
            "outlinewidth": 0,
            "ticks": ""
           }
          },
          "colorscale": {
           "diverging": [
            [
             0,
             "#8e0152"
            ],
            [
             0.1,
             "#c51b7d"
            ],
            [
             0.2,
             "#de77ae"
            ],
            [
             0.3,
             "#f1b6da"
            ],
            [
             0.4,
             "#fde0ef"
            ],
            [
             0.5,
             "#f7f7f7"
            ],
            [
             0.6,
             "#e6f5d0"
            ],
            [
             0.7,
             "#b8e186"
            ],
            [
             0.8,
             "#7fbc41"
            ],
            [
             0.9,
             "#4d9221"
            ],
            [
             1,
             "#276419"
            ]
           ],
           "sequential": [
            [
             0,
             "#0d0887"
            ],
            [
             0.1111111111111111,
             "#46039f"
            ],
            [
             0.2222222222222222,
             "#7201a8"
            ],
            [
             0.3333333333333333,
             "#9c179e"
            ],
            [
             0.4444444444444444,
             "#bd3786"
            ],
            [
             0.5555555555555556,
             "#d8576b"
            ],
            [
             0.6666666666666666,
             "#ed7953"
            ],
            [
             0.7777777777777778,
             "#fb9f3a"
            ],
            [
             0.8888888888888888,
             "#fdca26"
            ],
            [
             1,
             "#f0f921"
            ]
           ],
           "sequentialminus": [
            [
             0,
             "#0d0887"
            ],
            [
             0.1111111111111111,
             "#46039f"
            ],
            [
             0.2222222222222222,
             "#7201a8"
            ],
            [
             0.3333333333333333,
             "#9c179e"
            ],
            [
             0.4444444444444444,
             "#bd3786"
            ],
            [
             0.5555555555555556,
             "#d8576b"
            ],
            [
             0.6666666666666666,
             "#ed7953"
            ],
            [
             0.7777777777777778,
             "#fb9f3a"
            ],
            [
             0.8888888888888888,
             "#fdca26"
            ],
            [
             1,
             "#f0f921"
            ]
           ]
          },
          "colorway": [
           "#636efa",
           "#EF553B",
           "#00cc96",
           "#ab63fa",
           "#FFA15A",
           "#19d3f3",
           "#FF6692",
           "#B6E880",
           "#FF97FF",
           "#FECB52"
          ],
          "font": {
           "color": "#2a3f5f"
          },
          "geo": {
           "bgcolor": "white",
           "lakecolor": "white",
           "landcolor": "#E5ECF6",
           "showlakes": true,
           "showland": true,
           "subunitcolor": "white"
          },
          "hoverlabel": {
           "align": "left"
          },
          "hovermode": "closest",
          "mapbox": {
           "style": "light"
          },
          "paper_bgcolor": "white",
          "plot_bgcolor": "#E5ECF6",
          "polar": {
           "angularaxis": {
            "gridcolor": "white",
            "linecolor": "white",
            "ticks": ""
           },
           "bgcolor": "#E5ECF6",
           "radialaxis": {
            "gridcolor": "white",
            "linecolor": "white",
            "ticks": ""
           }
          },
          "scene": {
           "xaxis": {
            "backgroundcolor": "#E5ECF6",
            "gridcolor": "white",
            "gridwidth": 2,
            "linecolor": "white",
            "showbackground": true,
            "ticks": "",
            "zerolinecolor": "white"
           },
           "yaxis": {
            "backgroundcolor": "#E5ECF6",
            "gridcolor": "white",
            "gridwidth": 2,
            "linecolor": "white",
            "showbackground": true,
            "ticks": "",
            "zerolinecolor": "white"
           },
           "zaxis": {
            "backgroundcolor": "#E5ECF6",
            "gridcolor": "white",
            "gridwidth": 2,
            "linecolor": "white",
            "showbackground": true,
            "ticks": "",
            "zerolinecolor": "white"
           }
          },
          "shapedefaults": {
           "line": {
            "color": "#2a3f5f"
           }
          },
          "ternary": {
           "aaxis": {
            "gridcolor": "white",
            "linecolor": "white",
            "ticks": ""
           },
           "baxis": {
            "gridcolor": "white",
            "linecolor": "white",
            "ticks": ""
           },
           "bgcolor": "#E5ECF6",
           "caxis": {
            "gridcolor": "white",
            "linecolor": "white",
            "ticks": ""
           }
          },
          "title": {
           "x": 0.05
          },
          "xaxis": {
           "automargin": true,
           "gridcolor": "white",
           "linecolor": "white",
           "ticks": "",
           "title": {
            "standoff": 15
           },
           "zerolinecolor": "white",
           "zerolinewidth": 2
          },
          "yaxis": {
           "automargin": true,
           "gridcolor": "white",
           "linecolor": "white",
           "ticks": "",
           "title": {
            "standoff": 15
           },
           "zerolinecolor": "white",
           "zerolinewidth": 2
          }
         }
        },
        "title": {
         "font": {
          "color": "black",
          "family": "Bahnschrift",
          "size": 22
         },
         "text": "Porcentaje de Datos Faltantes por Variable"
        },
        "xaxis": {
         "anchor": "y",
         "domain": [
          0,
          1
         ],
         "tickangle": -45,
         "title": {
          "text": "Variables"
         }
        },
        "yaxis": {
         "anchor": "x",
         "domain": [
          0,
          1
         ],
         "range": [
          0,
          10
         ],
         "title": {
          "text": "Porcentaje de Datos Faltantes"
         }
        }
       }
      }
     },
     "metadata": {},
     "output_type": "display_data"
    }
   ],
   "source": [
    "grafico_datos_faltantes(data_new)"
   ]
  },
  {
   "cell_type": "markdown",
   "metadata": {},
   "source": [
    "El conjunto de datos evidentemente no tiene datos faltantes y esta listo para su análisis. "
   ]
  },
  {
   "cell_type": "code",
   "execution_count": 142,
   "metadata": {},
   "outputs": [
    {
     "data": {
      "text/plain": [
       "(78479, 17)"
      ]
     },
     "execution_count": 142,
     "metadata": {},
     "output_type": "execute_result"
    }
   ],
   "source": [
    "data_new.shape"
   ]
  },
  {
   "cell_type": "markdown",
   "metadata": {},
   "source": [
    "Finalmente, el conjunto de datos asociado a las defunciones relacionadas con cáncer de mama cuenta con **78479** observaciones y **15** variables."
   ]
  },
  {
   "cell_type": "code",
   "execution_count": 143,
   "metadata": {},
   "outputs": [],
   "source": [
    "data_new.to_excel('C:\\\\Users\\\\kamac\\\\OneDrive\\\\Desktop\\\\SeminarioInvestigativoUN\\\\data_to_eda.xlsx', index = False, engine = 'openpyxl')"
   ]
  },
  {
   "cell_type": "markdown",
   "metadata": {},
   "source": [
    "```{note}\n",
    "\n",
    "En el siguiente enlace se encuentra el diccionario de variables utilizado en este proyecto: [Diccionario de Variables](https://kmarcela11.github.io/ProyectoFinal_SeminarioInvestigativo/variables.html)\n",
    "Este diccionario incluye una descripción detallada de cada una de las variables presentes en el conjunto de datos, facilitando su comprensión y el análisis del proyecto.\n",
    "\n",
    "```"
   ]
  },
  {
   "cell_type": "markdown",
   "metadata": {},
   "source": [
    "## **Referencias**\n",
    "```{bibliography} references.bib\n",
    ":style: plain\n"
   ]
  }
 ],
 "metadata": {
  "kernelspec": {
   "display_name": "data_viz",
   "language": "python",
   "name": "python3"
  },
  "language_info": {
   "codemirror_mode": {
    "name": "ipython",
    "version": 3
   },
   "file_extension": ".py",
   "mimetype": "text/x-python",
   "name": "python",
   "nbconvert_exporter": "python",
   "pygments_lexer": "ipython3",
   "version": "3.9.19"
  }
 },
 "nbformat": 4,
 "nbformat_minor": 4
}
