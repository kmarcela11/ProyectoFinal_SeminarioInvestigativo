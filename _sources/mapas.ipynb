{
 "cells": [
  {
   "cell_type": "markdown",
   "id": "45b769a2",
   "metadata": {},
   "source": [
    "# **Mapas**"
   ]
  },
  {
   "cell_type": "markdown",
   "id": "d1c75826",
   "metadata": {},
   "source": [
    "## **Librerías y modulos necesarios**"
   ]
  },
  {
   "cell_type": "code",
   "execution_count": 1,
   "id": "0426faf0",
   "metadata": {},
   "outputs": [],
   "source": [
    "import folium\n",
    "import warnings\n",
    "import unidecode\n",
    "import pandas as pd\n",
    "import geopandas as gpd\n",
    "from funciones import *\n",
    "warnings.filterwarnings('ignore')\n",
    "from folium.features import GeoJsonTooltip"
   ]
  },
  {
   "cell_type": "markdown",
   "id": "c7f0bd68",
   "metadata": {},
   "source": [
    "# **Mapas por departamento**"
   ]
  },
  {
   "cell_type": "code",
   "execution_count": 2,
   "id": "a16dc3a9",
   "metadata": {},
   "outputs": [],
   "source": [
    "def get_color_smr_dep(smr):\n",
    "    if pd.isna(smr):\n",
    "        return \"#CCCCCC\"\n",
    "    elif smr >= 500:\n",
    "        return \"#590D22\"\n",
    "    elif smr >= 200:\n",
    "        return \"#800F2F\"\n",
    "    elif smr >= 150:\n",
    "        return \"#A4133C\"\n",
    "    elif smr >= 105:\n",
    "        return \"#C9184A\"\n",
    "    elif smr >= 95:\n",
    "        return \"#FF4D6D\"\n",
    "    elif smr >= 70:\n",
    "        return \"#FF758F\"\n",
    "    elif smr >= 50:\n",
    "        return \"#FFB3C1\"\n",
    "    else:\n",
    "        return \"#FFCCD5\""
   ]
  },
  {
   "cell_type": "code",
   "execution_count": 3,
   "id": "149843e9",
   "metadata": {},
   "outputs": [],
   "source": [
    "def get_color_tae_dep(tae):\n",
    "    if pd.isna(tae):\n",
    "        return \"#CCCCCC\"  \n",
    "    elif tae >= 50:\n",
    "        return \"#590D22\"  \n",
    "    elif tae >= 40:\n",
    "        return \"#A4133C\"\n",
    "    elif tae >= 30:\n",
    "        return \"#C9184A\"\n",
    "    elif tae >= 20:\n",
    "        return \"#FF4D6D\"\n",
    "    elif tae >= 10:\n",
    "        return \"#FF8FA3\"\n",
    "    else:\n",
    "        return \"#FFCCD5\""
   ]
  },
  {
   "cell_type": "markdown",
   "id": "a0a74db5",
   "metadata": {},
   "source": [
    "## **Data**"
   ]
  },
  {
   "cell_type": "code",
   "execution_count": 4,
   "id": "789a191e",
   "metadata": {},
   "outputs": [],
   "source": [
    "quinquenio1 = pd.read_excel('../data_mapas/quinquenio1.xlsx')\n",
    "quinquenio2 = pd.read_excel('../data_mapas/quinquenio2.xlsx')\n",
    "quinquenio3 = pd.read_excel('../data_mapas/quinquenio3.xlsx')\n",
    "total = pd.read_excel('../data_mapas/tasas_final.xlsx')\n",
    "departamentos= gpd.read_file('../map_files/MGN_ANM_DPTOS.shp')"
   ]
  },
  {
   "cell_type": "markdown",
   "id": "80d783e6",
   "metadata": {},
   "source": [
    "### **Correción de la data**"
   ]
  },
  {
   "cell_type": "code",
   "execution_count": 5,
   "id": "2fb96257",
   "metadata": {},
   "outputs": [],
   "source": [
    "reemplazos = {\n",
    "    'CHOCÓ': 'CHOCO',\n",
    "    'CÓRDOBA': 'CORDOBA',\n",
    "    'ATLÁNTICO': 'ATLANTICO',\n",
    "    'BOLÍVAR': 'BOLIVAR',\n",
    "    'BOYACÁ': 'BOYACA',\n",
    "    'CAQUETÁ': 'CAQUETA',\n",
    "    'ARCHIPIÉLAGO DE SAN ANDRÉS': 'SAN ANDRES PROVIDENCIA Y SANTA CATALINA',\n",
    "}\n",
    "quinquenio1['DPNOM'] = quinquenio1['DPNOM'].replace(reemplazos)\n",
    "quinquenio2['DPNOM'] = quinquenio2['DPNOM'].replace(reemplazos)\n",
    "quinquenio3['DPNOM'] = quinquenio3['DPNOM'].replace(reemplazos)\n",
    "total['DPNOM'] = total['DPNOM'].replace(reemplazos)"
   ]
  },
  {
   "cell_type": "code",
   "execution_count": 6,
   "id": "c145c9f9",
   "metadata": {},
   "outputs": [],
   "source": [
    "departamentos['DPTO_CNMBR'] = departamentos['DPTO_CNMBR'].apply(lambda x: unidecode.unidecode(x).upper())\n",
    "departamentos['DPTO_CNMBR'] = departamentos['DPTO_CNMBR'].str.replace('BOLAVAR', 'BOLIVAR')\n",
    "departamentos['DPTO_CNMBR'] = departamentos['DPTO_CNMBR'].str.replace('NARIAO', 'NARIÑO')\n",
    "departamentos['DPTO_CNMBR'] = departamentos['DPTO_CNMBR'].str.replace('CHOCA', 'CHOCO')\n",
    "departamentos['DPTO_CNMBR'] = departamentos['DPTO_CNMBR'].str.replace('VAUPAS', 'VAUPES')\n",
    "departamentos['DPTO_CNMBR'] = departamentos['DPTO_CNMBR'].str.replace('GUAINAA', 'GUAINIA')\n",
    "departamentos['DPTO_CNMBR'] = departamentos['DPTO_CNMBR'].str.replace('CARDOBA', 'CORDOBA')\n",
    "departamentos['DPTO_CNMBR'] = departamentos['DPTO_CNMBR'].str.replace( 'ARCHIPIALAGO DE SAN ANDRAS, PROVIDENCIA Y SANTA CATALINA',\n",
    "                                                                      'SAN ANDRES PROVIDENCIA Y SANTA CATALINA')"
   ]
  },
  {
   "cell_type": "code",
   "execution_count": 7,
   "id": "54a0fcad",
   "metadata": {},
   "outputs": [],
   "source": [
    "reemplazos_departamentos = {\n",
    "    'GUAINIA': 'GRUPO AMAZONA',\n",
    "    'VICHADA': 'GRUPO AMAZONA',\n",
    "    'AMAZONAS': 'GRUPO AMAZONA',\n",
    "    'VAUPES': 'GRUPO AMAZONA',\n",
    "    'GUAVIARE': 'GRUPO AMAZONA',\n",
    "    'NARINO': 'NARIÑO', \n",
    "    'BOGOTA, D.C.': 'CUNDINAMARCA'\n",
    "}\n",
    "departamentos['NEW_DEPTO'] = departamentos['DPTO_CNMBR'].replace(reemplazos_departamentos)"
   ]
  },
  {
   "cell_type": "code",
   "execution_count": 8,
   "id": "41b130b6",
   "metadata": {},
   "outputs": [],
   "source": [
    "departamentos_initial = departamentos.copy()"
   ]
  },
  {
   "cell_type": "markdown",
   "id": "b8d82cd4",
   "metadata": {},
   "source": [
    "## **SMR**"
   ]
  },
  {
   "cell_type": "markdown",
   "id": "b2305606",
   "metadata": {},
   "source": [
    "### **Quinquenio 1: (2009 - 2013)**"
   ]
  },
  {
   "cell_type": "code",
   "execution_count": 9,
   "id": "5efec288",
   "metadata": {},
   "outputs": [],
   "source": [
    "departamentos = departamentos_initial.merge(quinquenio1, left_on='NEW_DEPTO', right_on='DPNOM', how='left')\n",
    "crear_mapa_SMR(departamentos, 'NEW_DEPTO' ,get_color_smr_dep, 'SMR_DEP_Q1.html' )"
   ]
  },
  {
   "cell_type": "markdown",
   "id": "1908445b",
   "metadata": {},
   "source": [
    "### **Quinquenio 2: (2013 - 2018)**"
   ]
  },
  {
   "cell_type": "code",
   "execution_count": 10,
   "id": "a4a3ad82",
   "metadata": {},
   "outputs": [],
   "source": [
    "departamentos = departamentos_initial.merge(quinquenio2, left_on='NEW_DEPTO', right_on='DPNOM', how='left')\n",
    "crear_mapa_SMR(departamentos, 'NEW_DEPTO' ,get_color_smr_dep, 'SMR_DEP_Q2.html' )"
   ]
  },
  {
   "cell_type": "markdown",
   "id": "7cfa67d2",
   "metadata": {},
   "source": [
    "### **Quinquenio 3: (2019 - 2023)**"
   ]
  },
  {
   "cell_type": "code",
   "execution_count": 11,
   "id": "7e33ab15",
   "metadata": {},
   "outputs": [],
   "source": [
    "departamentos = departamentos_initial.merge(quinquenio3, left_on='NEW_DEPTO', right_on='DPNOM', how='left')\n",
    "crear_mapa_SMR(departamentos, 'NEW_DEPTO' ,get_color_smr_dep, 'SMR_DEP_Q3.html' )"
   ]
  },
  {
   "cell_type": "markdown",
   "id": "6415c714",
   "metadata": {},
   "source": [
    "### **Total: (2009 - 2023)**"
   ]
  },
  {
   "cell_type": "code",
   "execution_count": 12,
   "id": "993d4493",
   "metadata": {},
   "outputs": [],
   "source": [
    "departamentos = departamentos_initial.merge(total, left_on='NEW_DEPTO', right_on='DPNOM', how='left')\n",
    "crear_mapa_SMR(departamentos, 'NEW_DEPTO' ,get_color_smr_dep, 'SMR_DEP_TOTAL.html' )"
   ]
  },
  {
   "cell_type": "markdown",
   "id": "3bbf01a0",
   "metadata": {},
   "source": [
    "<div style=\"text-align: center;\">\n",
    "    <img src=\"https://github.com/kmarcela11/ProyectoFinal_SeminarioInvestigativo/blob/main/SMR%20DEP.PNG?raw=true\" alt= \" \" width=\"600\"/>\n",
    "</div>\n"
   ]
  },
  {
   "cell_type": "markdown",
   "id": "95aa8962",
   "metadata": {},
   "source": [
    "## **TAE**"
   ]
  },
  {
   "cell_type": "markdown",
   "id": "1c0917f6",
   "metadata": {},
   "source": [
    "### **Quinquenio 1: (2009 - 2013)**"
   ]
  },
  {
   "cell_type": "code",
   "execution_count": 13,
   "id": "ae69044c",
   "metadata": {},
   "outputs": [],
   "source": [
    "departamentos = departamentos_initial.merge(quinquenio1, left_on='NEW_DEPTO', right_on='DPNOM', how='left')\n",
    "crear_mapa_TAE(departamentos, 'NEW_DEPTO' ,get_color_tae_dep, 'TAE_DEP_Q1.html' )"
   ]
  },
  {
   "cell_type": "markdown",
   "id": "f6cc77d2",
   "metadata": {},
   "source": [
    "### **Quinquenio 2: (2013 - 2018)**"
   ]
  },
  {
   "cell_type": "code",
   "execution_count": 14,
   "id": "b9b41e60",
   "metadata": {},
   "outputs": [],
   "source": [
    "departamentos = departamentos_initial.merge(quinquenio2, left_on='NEW_DEPTO', right_on='DPNOM', how='left')\n",
    "crear_mapa_TAE(departamentos, 'NEW_DEPTO' ,get_color_tae_dep, 'TAE_DEP_Q2.html' )"
   ]
  },
  {
   "cell_type": "markdown",
   "id": "420da7f2",
   "metadata": {},
   "source": [
    "### **Quinquenio 3: (2019 - 2023)**"
   ]
  },
  {
   "cell_type": "code",
   "execution_count": 15,
   "id": "8f45683c",
   "metadata": {},
   "outputs": [],
   "source": [
    "departamentos = departamentos_initial.merge(quinquenio3, left_on='NEW_DEPTO', right_on='DPNOM', how='left')\n",
    "crear_mapa_TAE(departamentos, 'NEW_DEPTO' ,get_color_tae_dep, 'TAE_DEP_Q3.html' )"
   ]
  },
  {
   "cell_type": "markdown",
   "id": "3d51d081",
   "metadata": {},
   "source": [
    "### **Total: (2009 - 2023)**"
   ]
  },
  {
   "cell_type": "code",
   "execution_count": 16,
   "id": "be7b123b",
   "metadata": {},
   "outputs": [],
   "source": [
    "departamentos = departamentos_initial.merge(total, left_on='NEW_DEPTO', right_on='DPNOM', how='left')\n",
    "crear_mapa_TAE(departamentos, 'NEW_DEPTO' ,get_color_tae_dep, 'TAE_DEP_TOTAL.html' )"
   ]
  },
  {
   "cell_type": "markdown",
   "id": "eb08c409",
   "metadata": {},
   "source": [
    "<div style=\"text-align: center;\">\n",
    "    <img src=\"https://github.com/kmarcela11/ProyectoFinal_SeminarioInvestigativo/blob/main/TAE%20DEP.PNG?raw=true\" alt= \" \" width=\"600\"/>\n",
    "</div>"
   ]
  },
  {
   "cell_type": "markdown",
   "id": "1acba445",
   "metadata": {},
   "source": [
    "# **Mapas por municipio**"
   ]
  },
  {
   "cell_type": "code",
   "execution_count": 24,
   "id": "15133f3e",
   "metadata": {},
   "outputs": [],
   "source": [
    "def get_color_smr_mun(smr):\n",
    "    if pd.isna(smr):\n",
    "        return \"#CCCCCC\"  \n",
    "    elif smr > 800:\n",
    "        return \"#590D22\"\n",
    "    elif smr > 600:\n",
    "        return \"#800F2F\"\n",
    "    elif smr > 400:\n",
    "        return \"#A4133C\"\n",
    "    elif smr > 200:\n",
    "        return \"#C9184A\"\n",
    "    elif smr > 100:\n",
    "        return \"#FF4D6D\"\n",
    "    elif smr > 50:\n",
    "        return \"#FF8FA3\"\n",
    "    else:\n",
    "        return \"#FFCCD5\"\n"
   ]
  },
  {
   "cell_type": "markdown",
   "id": "b018a951",
   "metadata": {},
   "source": [
    "## **Data**"
   ]
  },
  {
   "cell_type": "code",
   "execution_count": 25,
   "id": "efbd5c67",
   "metadata": {},
   "outputs": [],
   "source": [
    "quinquenio1_municipal = pd.read_excel('../data_mapas/qui1_mun.xlsx')\n",
    "quinquenio2_municipal = pd.read_excel('../data_mapas/qui2_mun.xlsx')\n",
    "quinquenio3_municipal = pd.read_excel('../data_mapas/qui3_mun.xlsx')"
   ]
  },
  {
   "cell_type": "code",
   "execution_count": 26,
   "id": "59b39c07",
   "metadata": {},
   "outputs": [],
   "source": [
    "municipios = gpd.read_file('../map_mun/mun.shp')\n",
    "municipios = municipios.to_crs(epsg=4326)"
   ]
  },
  {
   "cell_type": "markdown",
   "id": "b6892256",
   "metadata": {},
   "source": [
    "### **Correción de la data**"
   ]
  },
  {
   "cell_type": "code",
   "execution_count": 27,
   "id": "2a77a87e",
   "metadata": {},
   "outputs": [],
   "source": [
    "quinquenio1_municipal['MPIO'] = quinquenio1_municipal['MPIO'].astype(str).str.zfill(5)\n",
    "quinquenio2_municipal['MPIO'] = quinquenio2_municipal['MPIO'].astype(str).str.zfill(5)\n",
    "quinquenio3_municipal['MPIO'] = quinquenio3_municipal['MPIO'].astype(str).str.zfill(5)\n",
    "municipios['MpCodigo'] = municipios['MpCodigo'].astype(str)"
   ]
  },
  {
   "cell_type": "markdown",
   "id": "69e6353a",
   "metadata": {},
   "source": [
    "## **SMR**"
   ]
  },
  {
   "cell_type": "markdown",
   "id": "7ce1032b",
   "metadata": {},
   "source": [
    "### **Quinquenio 1: (2009 - 2013)**"
   ]
  },
  {
   "cell_type": "code",
   "execution_count": 28,
   "id": "7c3a0613",
   "metadata": {},
   "outputs": [],
   "source": [
    "tasas_geoq1 = quinquenio1_municipal.merge(municipios, left_on='MPIO', right_on='MpCodigo',how='left')\n",
    "tasas_geoq1 = tasas_geoq1[~tasas_geoq1['geometry'].isna()]\n",
    "tasas_geoq1 = gpd.GeoDataFrame(tasas_geoq1, geometry='geometry')\n",
    "tasas_geoq1.set_crs(epsg=4326, inplace=True)  \n",
    "crear_mapa_smr_mun(tasas_geoq1, 'DPMP', get_color_smr_mun, 'SMR_MUN_Q1.html')"
   ]
  },
  {
   "cell_type": "markdown",
   "id": "1f3eb167",
   "metadata": {},
   "source": [
    "### **Quinquenio 2: (2013 - 2018)**"
   ]
  },
  {
   "cell_type": "code",
   "execution_count": 29,
   "id": "b8774442",
   "metadata": {},
   "outputs": [],
   "source": [
    "tasas_geoq2 = quinquenio2_municipal.merge(municipios, left_on='MPIO', right_on='MpCodigo',how='left')\n",
    "tasas_geoq2 = tasas_geoq2[~tasas_geoq2['geometry'].isna()]\n",
    "tasas_geoq2 = gpd.GeoDataFrame(tasas_geoq2, geometry='geometry')\n",
    "tasas_geoq2.set_crs(epsg=4326, inplace=True)\n",
    "crear_mapa_smr_mun(tasas_geoq2, 'DPMP', get_color_smr_mun, 'SMR_MUN_Q2.html')"
   ]
  },
  {
   "cell_type": "markdown",
   "id": "c5fe15df",
   "metadata": {},
   "source": [
    "### **Quinquenio 3: (2019 - 2023)**"
   ]
  },
  {
   "cell_type": "code",
   "execution_count": 30,
   "id": "e3187b52",
   "metadata": {},
   "outputs": [],
   "source": [
    "tasas_geoq3 = quinquenio3_municipal.merge(municipios, left_on='MPIO', right_on='MpCodigo',how='left')\n",
    "tasas_geoq3 = tasas_geoq3[~tasas_geoq3['geometry'].isna()]\n",
    "tasas_geoq3 = gpd.GeoDataFrame(tasas_geoq3, geometry='geometry')\n",
    "tasas_geoq3.set_crs(epsg=4326, inplace=True)\n",
    "crear_mapa_smr_mun(tasas_geoq3, 'DPMP', get_color_smr_mun, 'SMR_MUN_Q3.html')"
   ]
  },
  {
   "cell_type": "markdown",
   "id": "9576cee9",
   "metadata": {},
   "source": [
    "<div style=\"text-align: center;\">\n",
    "    <img src=\"https://github.com/kmarcela11/ProyectoFinal_SeminarioInvestigativo/blob/main/SMR%20MUN.PNG?raw=true\" alt= \" \" width=\"600\"/>\n",
    "</div>"
   ]
  }
 ],
 "metadata": {
  "kernelspec": {
   "display_name": "data_viz",
   "language": "python",
   "name": "python3"
  },
  "language_info": {
   "codemirror_mode": {
    "name": "ipython",
    "version": 3
   },
   "file_extension": ".py",
   "mimetype": "text/x-python",
   "name": "python",
   "nbconvert_exporter": "python",
   "pygments_lexer": "ipython3",
   "version": "3.9.19"
  }
 },
 "nbformat": 4,
 "nbformat_minor": 5
}
