{
 "cells": [
  {
   "cell_type": "markdown",
   "metadata": {},
   "source": [
    "# **Diccionario de variable**"
   ]
  },
  {
   "cell_type": "markdown",
   "metadata": {},
   "source": [
    "|      **Variable**     \t|                              **Descripción**                             \t|                                                                                               **Categorías**                                                                                              \t|\n",
    "|:---------------------:\t|:------------------------------------------------------------------------:\t|:---------------------------------------------------------------------------------------------------------------------------------------------------------------------------------------------------------:\t|\n",
    "|        `region`       \t|  Región geográfica del país donde ocurrió la defunción.                  \t|                                                                               Andina<br>Atlántica<br>Pacífica<br>Orinoquía<br>Amazonía                                                                             \t|\n",
    "| `Nombre_Departamento` \t|  Nombre del departamento donde ocurrió la defunción.                     \t|                                                                                          Departamentos de Colombia                                                                                        \t|\n",
    "|   `Nombre_Municipio`  \t|  Nombre del municipio donde ocurrió la defunción.                        \t|                                                                                           Municipios de Colombia                                                                                          \t|\n",
    "|       `sitio_def`     \t|  Sitio donde ocurrió la defunción.                                       \t|                                                                       Hospital o Clínica<br> Casa<br> Otro Sitio                                                                      \t|\n",
    "|        `año_def`      \t|  Año en que ocurrió la defunción.                                        \t|                                                                                             1999, 2004, 2012...                                                                                           \t|\n",
    "|        `mes_def`      \t|  Mes en que ocurrió la defunción.                                        \t|                                                   Enero, Febrero, Marzo, Abril, Mayo, Junio, Julio,<br> Agosto, Septiembre, Octubre, Noviembre, Diciembre                                                 \t|\n",
    "|         `sexo`        \t|  Sexo de la persona fallecida.                                           \t|                                                                                   Femenino<br>Masculino                                                                                  \t|\n",
    "|     `estado_civil`    \t|  Estado civil de la persona fallecida.                                   \t|                                                           Soltero <br> Casado <br> Unión Libre,  Divorciado/Otro<br> Viudo                                                          \t|\n",
    "|      `grupo_edad`     \t|  Rango de edad de la persona fallecida.                                  \t|             15-19 años, 20-24 años, 25-29 años, 30-34 años, 35-39 años,<br> 40-44 años, 45-49 años, 50-54 años, 55-59 años, 60-64 años,<br> 65-69 años, 70-74 años, 75-79 años, 80-84 años             \t|\n",
    "|       `nivel_edu`     \t|  Nivel educativo de la persona fallecida.                                \t|                                                            Secundaria<br>Primaria<br>Superior<br>Ninguno<br>Preescolar     <br>No especificado                                                       \t|\n",
    "|      `seg_social`     \t|  Tipo de régimen de seguridad social.                                    \t|                                                     Subsidiado<br>Contributivo<br>Particular<br>Vinculado<br>Otro<br>Ignorado                                                   \t|\n",
    "|    `asistencia_med`   \t|  Asistencia médica durante la defunción.                                 \t|                                                                                 SI<br>NO<br>Ignorado                                                                                \t\n",
    "|     `causa_basica`    \t|  Causa básica de la defunción (código CIE-10).                           \t|                                                                                                Código CIE-10                                                                                              \t|\n",
    "\n"
   ]
  }
 ],
 "metadata": {
  "language_info": {
   "name": "python"
  }
 },
 "nbformat": 4,
 "nbformat_minor": 2
}
