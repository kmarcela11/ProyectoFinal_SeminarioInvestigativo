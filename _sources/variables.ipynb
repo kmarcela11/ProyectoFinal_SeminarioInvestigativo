{
 "cells": [
  {
   "cell_type": "markdown",
   "metadata": {},
   "source": [
    "# **Diccionarios de variables**"
   ]
  },
  {
   "cell_type": "markdown",
   "metadata": {},
   "source": [
    "## **Conjunto de datos 1**"
   ]
  },
  {
   "cell_type": "markdown",
   "metadata": {},
   "source": [
    "\n",
    "\n",
    "| **Nombre**         | **Descripción** | **Tipo de Variable** | **Ejemplos de Categorías / Valores** |\n",
    "|-------------------|----------------|----------------------|----------------------------------|\n",
    "| `depto_ocurr`     | Departamento donde ocurrió la defunción (DIVIPOLA) | Categórica (`object`) | `'05'` (Antioquia), `'11'` (Bogotá) |\n",
    "| `munic_ocurr`     | Municipio donde ocurrió la defunción (DIVIPOLA) | Categórica (`object`) | `'05001'` (Medellín), `'11001'` (Bogotá) |\n",
    "| `sitio_def`       | Sitio de la defunción | Categórica (`object`) | `'1'` (Hospital o Clínica), `'2'` (Casa), `'3'` (Otro Sitio), `'4'` (Sin información) |\n",
    "| `año_def`         | Año en que ocurrió la defunción | Numérica (`Int64\"`) | `2018`, `2019` |\n",
    "| `mes_def`         | Mes en que ocurrió la defunción | Numérica (`Int64\"`) | `'01'` (Enero), `'02'` (Febrero), ..., `'12'` (Diciembre) |\n",
    "| `sexo`            | Sexo del fallecido | Categórica (`object`) | `'1'` (Masculino), `'2'` (Femenino), `'3'` (Indeterminado) |\n",
    "| `estado_civil`    | Estado conyugal del fallecido | Categórica (`object`) | `'1'` (Soltero), `'2'` (Casado), `'3'` (Viudo), `'4'` (Unión Libre), `'5'` (Divorciado u otro), `'9'` (Sin información) |\n",
    "| `grupo_edad`      | Agrupación de edades del fallecido | Categórica (`object`) | `'10'` (15-19 años), `'11'` (20-24 años), `'12'` (25-29 años), `'13'` (30-34 años), `'14'` (35-39 años), `'15'` (40-44 años), `'16'` (45-49 años), `'17'` (50-54 años), `'18'` (55-59 años), `'19'` (60-64 años), `'20'` (65-69 años), `'21'` (70-74 años), `'22'` (75-79 años), `'23'` (80-84 años), `'24'` (85 y más años), `'25'` (Edad desconocida) |\n",
    "| `nivel_edu`       | Nivel educativo del fallecido | Categórica (`object`) | `'1'` (Preescolar), `'2'` (Primaria), `'3'` (Secundaria), `'4'` (Superior), `'5'` (Ninguno), `'9'` (Sin información) |\n",
    "| `grupo_etnico`    | Pertenencia étnica del fallecido | Categórica (`object`) | `'1'` (Indígena), `'2'` (Rom - Gitano), `'3'` (Raizal de San Andrés y Providencia), `'4'` (Palenquero de San Basilio), `'5'` (Afrocolombiano/a), `'6'` (Ninguno de los anteriores), `'9'` (Sin información) |\n",
    "| `depto_res`       | Departamento de residencia habitual del fallecido | Categórica (`object`) | `'05'` (Antioquia), `'11'` (Bogotá) |\n",
    "| `seg_social`      | Régimen de seguridad social del fallecido | Categórica (`object`) | `'1'` (Contributivo), `'2'` (Subsidiado), `'3'` (Vinculado), `'4'` (Particular), `'5'` (Otro), `'6'` (Ignorado), `'9'` (Sin información) |\n",
    "| `ent_salud_cod`   | Código de la Entidad Administradora en Salud | Categórica (`object`) | `'1'` (EPS), `'2'` (EPS-S), `'3'` (Entidad Adaptada de Salud), `'4'` (Entidad Especial de Salud), `'5'` (Entidad Exceptuada de Salud), `'9'` (Sin información) |\n",
    "| `prob_muerte`     | Probable manera de muerte | Categórica (`object`) | `'1'` (Natural), `'2'` (Violenta), `'3'` (En estudio) |\n",
    "| `cert_medica`     | Cómo se determinó la causa de muerte | Categórica (`object`) | `'1'` (Necropsia), `'2'` (Historia clínica), `'3'` (Pruebas de laboratorio), `'4'` (Interrogatorio a familiares o testigos), `'9'` (Sin información) |\n",
    "| `asistencia_med`  | Recibió asistencia médica antes de fallecer | Categórica (`object`) | `'1'` (Sí), `'2'` (No), `'3'` (Ignorado), `'4'` (Sin información) |\n",
    "| `causa_directa`   | Causa directa de la defunción | Categórica (`object`) | Código `CIE-10` |\n",
    "| `causa_ant_1`     | Primera causa antecedente | Categórica (`object`) | Código `CIE-10` |\n",
    "| `causa_ant_2`     | Segunda causa antecedente | Categórica (`object`) | Código `CIE-10` |\n",
    "| `causa_basica`    | Código de la causa básica de la defunción | Categórica (`object`) | Código `CIE-10` |\n",
    "| `causa_OPS`       | Causa agrupada según la lista OPS 6/67 | Categórica (`object`) | `'208'` (Tumor maligno de la mama) |\n",
    "| `region`          | Región del país donde ocurrió la defunción | Categórica (`object`) | `'1'` (Andina), `'2'` (Atlántica), `'3'` (Pacífica), `'4'` (Orinoquía), `'5'` (Pacífica) |\n"
   ]
  },
  {
   "cell_type": "markdown",
   "metadata": {},
   "source": [
    "`````{admonition} Sobre DIVIPOLA\n",
    ":class: tip\n",
    "- Código de Departamento: Son los primeros dos dígitos de `depto_ocurr` y `depto_res`, siguiendo el estándar DIVIPOLA del DANE.\n",
    "- Código de Municipio: Son los cinco dígitos de `munic_ocurr`, donde los primeros dos corresponden al departamento y los tres restantes al municipio.\n",
    "Se puede consultar la base DIVIPOLA en la página oficial del DANE: [https://www.dane.gov.co](https://www.dane.gov.co).\n",
    "\n",
    "`````"
   ]
  },
  {
   "cell_type": "markdown",
   "metadata": {},
   "source": [
    "## **Conjunto de datos 2**"
   ]
  },
  {
   "cell_type": "markdown",
   "metadata": {},
   "source": []
  }
 ],
 "metadata": {
  "language_info": {
   "name": "python"
  }
 },
 "nbformat": 4,
 "nbformat_minor": 2
}
