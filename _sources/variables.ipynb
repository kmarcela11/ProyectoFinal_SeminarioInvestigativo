{
 "cells": [
  {
   "cell_type": "markdown",
   "metadata": {},
   "source": [
    "# **Diccionario de variable**"
   ]
  },
  {
   "cell_type": "markdown",
   "metadata": {},
   "source": [
    "|      **Variable**     \t|                              **Descripción**                             \t|                                                                                               **Categorías**                                                                                              \t|\n",
    "|:---------------------:\t|:------------------------------------------------------------------------:\t|:---------------------------------------------------------------------------------------------------------------------------------------------------------------------------------------------------------:\t|\n",
    "| `Nombre_Departamento` \t|  Nombre del departamento donde ocurrió la defunción.                     \t|                                                                                          Departamentos de Colombia                                                                                        \t|\n",
    "|   `Nombre_Municipio`  \t|  Nombre del municipio donde ocurrió la defunción.                        \t|                                                                                           Municipios de Colombia                                                                                          \t|\n",
    "|       `sitio_def`     \t|  Sitio donde ocurrió la defunción.                                       \t|                                                                       Hospital o Clínica<br> Casa<br> Sin información<br> Otro Sitio                                                                      \t|\n",
    "|        `año_def`      \t|  Año en que ocurrió la defunción.                                        \t|                                                                                             1999, 2004, 2012...                                                                                           \t|\n",
    "|        `mes_def`      \t|  Mes en que ocurrió la defunción.                                        \t|                                                   Enero, Febrero, Marzo, Abril, Mayo, Junio, Julio,<br> Agosto, Septiembre, Octubre, Noviembre, Diciembre                                                 \t|\n",
    "|         `sexo`        \t|  Sexo de la persona.                                                     \t|                                                                                                  Femenino                                                                                                 \t|\n",
    "|     `estado_civil`    \t|  Estado civil de la persona.                                             \t|                                                           Soltero<br> Sin información <br> Casado <br> Unión Libre<br> Divorciado/Otro<br> Viudo                                                          \t|\n",
    "|      `grupo_edad`     \t|  Rango de edad de la persona.                                            \t|             15-19 años, 20-24 años, 25-29 años, 30-34 años, 35-39 años,<br> 40-44 años, 45-49 años, 50-54 años, 55-59 años, 60-64 años, <br> 65-69 años, 70-74 años, 75-79 años, 80-84 años \\|            \t|\n",
    "|       `nivel_edu`     \t|  Nivel educativo de la persona.                                          \t|                                                            Secundaria<br> Sin información<br> Primaria <br> Superior<br> Ninguno<br> Preescolar                                                           \t|\n",
    "|     `grupo_etnico`    \t|  Grupo étnico de la persona.                                             \t|                      Indígena<br>Rom - Gitano<br>Raizal de San Andrés y Providencia<br>Palenquero de San Basilio<br>Afrocolombiano/a<br>Ninguno de los anteriores<br>Sin información                      \t|\n",
    "|      `seg_social`     \t|  Tipo de régimen de seguridad social.                                    \t|                                                     Subsidiado<br> Sin información<br> Contributivo<br> Particular<br> Vinculado <br> Otro<br> Ignorado                                                   \t|\n",
    "|    `ent_salud_cod`    \t|  Código de la entidad de salud.                                          \t| EPS Subsidiado<br>EPS (Entidad Promotora de Salud) <br>EESS (Establecimientoo de Salud) <br>ESE (Empresa Social del Estado) <br>EAPB (Entidad Administradora de Planes de Beneficios) <br>Sin información \t|\n",
    "|      `prob_muerte`    \t|  Tipo de causa de muerte.                                                \t|                                                                                         Natural<br> Sin información                                                                                       \t|\n",
    "|     `cert_medica`     \t|  Tipo de certificación médica de la defunción.                           \t|                                          Historia clínica<br> Sin información<br> Interrogatorio a familiares o testigos<br> Necropsia<br> Pruebas de laboratorio                                         \t|\n",
    "|    `asistencia_med`   \t|  Asistencia médica durante la defunción.                                 \t|                                                                                 SI<br> NO<br> Sin información<br> Ignorado                                                                                \t|\n",
    "|     `causa_directa`   \t|  Causa directa de la defunción                                           \t|                                                                                                Código CIE-10                                                                                              \t|\n",
    "|      `causa_ant_1`    \t|  Primera causa asociada de la defunción.                                 \t|                                                                                                Código CIE-10                                                                                              \t|\n",
    "|      `causa_ant_2`    \t|  Segunda causa asociada de la defunción.                                 \t|                                                                                                Código CIE-10                                                                                              \t|\n",
    "|     `causa_basica`    \t|  Causa básica de la defunción.                                           \t|                                                                                                Código CIE-10                                                                                              \t|\n",
    "|       `causa_OPS`     \t|  Causa según clasificación OPS (Organización Panamericana de la Salud).  \t|                                                                                      Tumor maligno de cáncer de mama                                                                                      \t|\n",
    "|        `region`       \t|  Región geográfica del país.                                             \t|                                                                               ANDINA<br> ATLANTICA<br> PACIFICA<br> ORINOQUIA                                                                             \t|"
   ]
  }
 ],
 "metadata": {
  "language_info": {
   "name": "python"
  }
 },
 "nbformat": 4,
 "nbformat_minor": 2
}
