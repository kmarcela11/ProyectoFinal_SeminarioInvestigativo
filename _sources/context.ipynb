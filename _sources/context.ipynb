{
 "cells": [
  {
   "cell_type": "markdown",
   "metadata": {},
   "source": [
    "# **Contextualización**"
   ]
  },
  {
   "cell_type": "markdown",
   "metadata": {},
   "source": [
    "## **Acerca del proyecto**"
   ]
  },
  {
   "cell_type": "markdown",
   "metadata": {},
   "source": [
    "El cáncer de mama es una de las principales causas de morbilidad y mortalidad a nivel mundial, afectando especialmente a las mujeres. Se trata de una enfermedad caracterizada por el crecimiento descontrolado de células en los tejidos mamarios, lo que puede derivar en la formación de tumores malignos y, en casos avanzados, en metástasis a otros órganos, comprometiendo la vida de las pacientes.\n",
    "\n",
    "A pesar de los avances en investigación, diagnóstico y tratamiento, el cáncer de mama sigue siendo un grave problema de salud pública que requiere atención continua. Factores como la genética, el estilo de vida, las condiciones sociodemográficas y el acceso limitado a la detección temprana influyen directamente en la prevalencia y mortalidad de esta enfermedad, generando disparidades en la atención y los desenlaces clínicos de las pacientes.\n",
    "\n",
    "Este proyecto tiene como objetivo analizar, a partir de datos estadísticos, la distribución del cáncer de mama a nivel nacional en Colombia, identificando las regiones con mayor incidencia y explorando los factores que influyen en la mortalidad de esta enfermedad. Se abordarán variables sociodemográficas clave, así como las principales causas de defunción asociadas, con el fin de comprender mejor el impacto de esta patología en la población.\n",
    "\n",
    "Como resultado final, se desarrollará un dashboard interactivo, que permitirá al público visualizar y analizar la información de manera accesible y dinámica. A través de esta herramienta, se busca generar conciencia sobre la magnitud del problema, evidenciar las áreas más afectadas y fomentar iniciativas que contribuyan a la prevención, el diagnóstico oportuno y la mejora en la calidad de vida de las pacientes.\n",
    "\n"
   ]
  },
  {
   "cell_type": "markdown",
   "metadata": {},
   "source": [
    "<div style=\"text-align: center;\">\n",
    "    <img src=\"https://github.com/kmarcela11/ProyectoFinal_DeepLearning/blob/main/Imagen.jpg?raw=true\" alt= \" \" width=\"600\"/>\n",
    "</div>\n"
   ]
  },
  {
   "cell_type": "markdown",
   "metadata": {},
   "source": [
    "`````{admonition} ¿Qué es morbilidad?\n",
    ":class: tip\n",
    "La **morbilidad** es un indicador epidemiológico que mide la cantidad de personas afectadas por una enfermedad en una población y período determinados. En el caso del cáncer de mama, se refiere a la frecuencia con la que esta enfermedad es diagnosticada, especialmente en mujeres. Puede expresarse en términos de prevalencia (casos totales) o incidencia (casos nuevos en un tiempo determinado), lo que permite evaluar el impacto de la enfermedad y la necesidad de estrategias de prevención y tratamiento.\n",
    "`````"
   ]
  },
  {
   "cell_type": "markdown",
   "metadata": {},
   "source": [
    "## **Sobre los datos**"
   ]
  },
  {
   "cell_type": "markdown",
   "metadata": {},
   "source": [
    "Los datos de este proyecto han sido extraídos del **Departamento Administrativo Nacional de Estadística (DANE)**, con información proveniente de las **actas de defunción** registradas oficialmente por el **Ministerio de Salud y Protección Social de Colombia** {cite}`minsalud_defuncion`. Estos registros abarcan un amplio período histórico, desde el año **1885 hasta 2014**, permitiendo analizar la evolución de la mortalidad por cáncer de mama en el país a lo largo de varios años\n",
    "\n",
    "Cada acta de defunción proporciona información detallada sobre las causas de fallecimiento, lo que permite identificar los casos específicos relacionados con el cáncer de mama. Además, los datos incluyen variables sociodemográficas clave, como edad, sexo, región geográfica y acceso a los servicios de salud, facilitando un análisis profundo sobre los factores que han influido en la mortalidad por esta enfermedad en diferentes contextos históricos y sociales.  \n",
    "\n",
    "El uso de esta información oficial garantiza la **fiabilidad y precisión** del análisis, permitiendo identificar tendencias a lo largo del tiempo y evaluar el impacto de los avances en la detección, tratamiento y prevención del cáncer de mama en Colombia. A través del procesamiento y visualización de estos datos, se busca desarrollar una herramienta informativa que contribuya a la toma de decisiones en políticas de salud, la concientización pública y el desarrollo de estrategias de prevención y atención más efectivas.  "
   ]
  },
  {
   "cell_type": "markdown",
   "metadata": {},
   "source": [
    "<div style=\"text-align: center;\">\n",
    "    <img src=\"https://github.com/kmarcela11/ProyectoFinal_SeminarioInvestigativo/blob/main/image.png?raw=true\" alt= \" \" width=\"600\"/>\n",
    "</div>"
   ]
  }
 ],
 "metadata": {
  "language_info": {
   "name": "python"
  }
 },
 "nbformat": 4,
 "nbformat_minor": 2
}
